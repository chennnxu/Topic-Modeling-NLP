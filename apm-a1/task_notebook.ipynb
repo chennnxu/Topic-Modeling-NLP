{
 "cells": [
  {
   "cell_type": "markdown",
   "metadata": {},
   "source": [
    "# Group Info"
   ]
  },
  {
   "cell_type": "markdown",
   "metadata": {},
   "source": [
    "**Group:** GroupXY\n",
    "\n",
    "**List of Members:**\n",
    "- Member 1 (matriculation number)\n",
    "- Member 2 (matriculation number)"
   ]
  },
  {
   "cell_type": "markdown",
   "metadata": {},
   "source": [
    "# Setup"
   ]
  },
  {
   "cell_type": "code",
   "execution_count": null,
   "metadata": {
    "collapsed": false,
    "jupyter": {
     "outputs_hidden": false
    }
   },
   "outputs": [],
   "source": [
    "from datetime import datetime, timedelta, time\n",
    "import matplotlib.pyplot as plt\n",
    "import numpy as np\n",
    "import pandas as pd\n",
    "import pm4py\n",
    "from pm4py.objects.log.importer.xes import importer as xes_importer\n",
    "from pm4py.objects.conversion.log import converter as log_converter\n",
    "\n",
    "from sklearn.model_selection import ParameterGrid\n",
    "import plotly.graph_objects as go\n",
    "import time\n",
    "\n",
    "def load_log_without_warnings(path) -> pd.DataFrame:\n",
    "    return log_converter.to_data_frame.apply(xes_importer.apply(path))"
   ]
  },
  {
   "cell_type": "code",
   "execution_count": null,
   "metadata": {
    "collapsed": false,
    "jupyter": {
     "outputs_hidden": false
    }
   },
   "outputs": [],
   "source": [
    "log = load_log_without_warnings('udonya.xes')"
   ]
  },
  {
   "cell_type": "markdown",
   "metadata": {},
   "source": [
    "# Process Overview"
   ]
  },
  {
   "cell_type": "code",
   "execution_count": null,
   "metadata": {
    "collapsed": false,
    "jupyter": {
     "outputs_hidden": false
    }
   },
   "outputs": [],
   "source": []
  },
  {
   "cell_type": "markdown",
   "metadata": {},
   "source": [
    "# Visual Analytics"
   ]
  },
  {
   "cell_type": "code",
   "execution_count": null,
   "metadata": {
    "collapsed": false,
    "jupyter": {
     "outputs_hidden": false
    }
   },
   "outputs": [],
   "source": []
  },
  {
   "cell_type": "markdown",
   "metadata": {},
   "source": [
    "# Process Discovery"
   ]
  },
  {
   "cell_type": "code",
   "execution_count": null,
   "metadata": {
    "collapsed": false,
    "jupyter": {
     "outputs_hidden": false
    }
   },
   "outputs": [],
   "source": []
  },
  {
   "cell_type": "markdown",
   "metadata": {},
   "source": [
    "# Conformance Checking"
   ]
  },
  {
   "cell_type": "code",
   "execution_count": null,
   "metadata": {
    "collapsed": false,
    "jupyter": {
     "outputs_hidden": false
    }
   },
   "outputs": [],
   "source": []
  },
  {
   "cell_type": "markdown",
   "metadata": {},
   "source": [
    "# Diving Into Some Details"
   ]
  },
  {
   "cell_type": "code",
   "execution_count": null,
   "metadata": {},
   "outputs": [],
   "source": []
  },
  {
   "cell_type": "markdown",
   "metadata": {},
   "source": [
    "# Technical Questions"
   ]
  },
  {
   "cell_type": "markdown",
   "metadata": {},
   "source": [
    "## Conformance Checking\n",
    "\n",
    "In the following, you find the implementation of the method described in the report.\n",
    "\n",
    "Parts that require you to implement something a marked by **TODO**.\n",
    "\n",
    "Your manipulation functions should satisfy the invariant that the structure of the input and output dataframe  have the same columns. More precisely, your output dataframe might have more columns, but it requires at least the columns contained in the input dataframe.\n"
   ]
  },
  {
   "cell_type": "code",
   "execution_count": null,
   "metadata": {
    "collapsed": false,
    "jupyter": {
     "outputs_hidden": false
    }
   },
   "outputs": [],
   "source": [
    "df = pd.read_csv('./input-logs/align-data.csv')"
   ]
  },
  {
   "cell_type": "code",
   "execution_count": null,
   "metadata": {},
   "outputs": [],
   "source": [
    "df = pm4py.format_dataframe(df)"
   ]
  },
  {
   "cell_type": "code",
   "execution_count": null,
   "metadata": {},
   "outputs": [],
   "source": [
    "tree = pm4py.read_ptml('./input-models/cc-technical-ground-truth-model.ptml')"
   ]
  },
  {
   "cell_type": "code",
   "execution_count": null,
   "metadata": {},
   "outputs": [],
   "source": [
    "net, im, fm = pm4py.convert_to_petri_net(tree)"
   ]
  },
  {
   "cell_type": "markdown",
   "metadata": {},
   "source": [
    "## Manipulation Functions"
   ]
  },
  {
   "cell_type": "code",
   "execution_count": null,
   "metadata": {},
   "outputs": [],
   "source": [
    "def swap_events(df: pd.DataFrame, target_nbr_swaps: int) -> pd.DataFrame:\n",
    "    \"\"\"\n",
    "    Perform target_nbr_swaps of event swaps in a \n",
    "    copy of the provided dataframe. \n",
    "    Swaps are executed within a case.\n",
    "    \"\"\"\n",
    "\n",
    "    # Create a working compy\n",
    "    df = df.copy()\n",
    "    \n",
    "    # TODO \n",
    "    # It is up to you how you sample events as long as it is reasonable.\n",
    "    # The should be some randomness regarding the affected cases as well as the affected events.\n",
    "    # Only swap events that have the same case id.\n",
    "\n",
    "    return df\n"
   ]
  },
  {
   "cell_type": "code",
   "execution_count": null,
   "metadata": {},
   "outputs": [],
   "source": [
    "def drop_events(df: pd.DataFrame, nbr_drop: int) -> pd.DataFrame:\n",
    "    \"\"\"\n",
    "    Drops the given number of events \n",
    "    (selected uniformly at random)\n",
    "    \"\"\"\n",
    "    \n",
    "    # TODO\n",
    "    return df"
   ]
  },
  {
   "cell_type": "markdown",
   "metadata": {},
   "source": [
    "## Grid Search"
   ]
  },
  {
   "cell_type": "code",
   "execution_count": null,
   "metadata": {},
   "outputs": [],
   "source": [
    "# Create a parameter grid\n",
    "param_grid = {'frac_swaps': [0.0, 0.05, 0.1, 0.15], 'frac_drop': [0.0, 0.05, 0.1, 0.15]}\n",
    "grid = ParameterGrid(param_grid)"
   ]
  },
  {
   "cell_type": "code",
   "execution_count": null,
   "metadata": {
    "tags": []
   },
   "outputs": [],
   "source": [
    "l_res = []\n",
    "nbr_events = len(df.index)\n",
    "# Start timer - outer loop\n",
    "start_time_outer_loop = time.time()\n",
    "for config in grid:\n",
    "    print(f'Creating log for {config}')\n",
    "    # Calculate nbr of transformations\n",
    "    nbr_swaps = int(config['frac_swaps'] * nbr_events)\n",
    "    nbr_drop = int(config['frac_drop'] * nbr_events)\n",
    "    # Swap first; dropping will invalidate the intra-case indexing\n",
    "    df_tmp = swap_events(df, nbr_swaps)\n",
    "    df_tmp = drop_events(df_tmp, nbr_drop)\n",
    "    print(f'Running alignments for {config}')\n",
    "    # Start timer\n",
    "    start_time = time.time()\n",
    "    \n",
    "    # Calculate alignments\n",
    "    alignments_diagnostics = pm4py.conformance_diagnostics_alignments(df_tmp, net, im, fm)\n",
    "    assert alignments_diagnostics is not None\n",
    "    # Sleep a random number of seconds (between 1 and 3)\n",
    "    #time.sleep(randint(1,2))\n",
    "\n",
    "    # End timer\n",
    "    end_time = time.time()\n",
    "\n",
    "    # Calculate elapsed time\n",
    "    elapsed_time = end_time - start_time\n",
    "    \n",
    "    res = {**config, 'time': elapsed_time}\n",
    "    \n",
    "    l_res.append(res)\n",
    "    print(config)\n",
    "    \n",
    "# End timer - outer loop\n",
    "end_time_outer_loop = time.time()\n",
    "print(f'Grid search took {end_time_outer_loop - start_time_outer_loop}s')"
   ]
  },
  {
   "cell_type": "markdown",
   "metadata": {},
   "source": [
    "## Visualize Result as Heatmap"
   ]
  },
  {
   "cell_type": "code",
   "execution_count": null,
   "metadata": {},
   "outputs": [],
   "source": [
    "df_res = pd.DataFrame(l_res)"
   ]
  },
  {
   "cell_type": "code",
   "execution_count": null,
   "metadata": {},
   "outputs": [],
   "source": [
    "df_pivot = df_res.pivot(index='frac_drop', columns='frac_swaps', values='time')"
   ]
  },
  {
   "cell_type": "code",
   "execution_count": null,
   "metadata": {},
   "outputs": [],
   "source": [
    "fig = go.Figure(data=go.Heatmap(\n",
    "    x=df_pivot.columns,\n",
    "    y=df_pivot.index,\n",
    "    z=df_pivot.values))\n",
    "fig.update_layout(\n",
    "    title=\"Alignment Time under Systematic Deviations\",\n",
    "    xaxis_title=\"Fraction of swapped events\",\n",
    "    yaxis_title=\"Fraction of dropped events\",\n",
    "    legend_title=\"Time in s\",\n",
    "    font=dict(\n",
    "        family=\"Courier New, monospace\",\n",
    "        size=18,\n",
    "        color=\"RebeccaPurple\"\n",
    "    ),\n",
    "    width=800,\n",
    "    height=600\n",
    ")\n",
    "fig.show()"
   ]
  },
  {
   "cell_type": "code",
   "execution_count": null,
   "metadata": {},
   "outputs": [],
   "source": [
    "fig.write_image(\"submission-figures/alignment-times.svg\")"
   ]
  }
 ],
 "metadata": {
  "kernelspec": {
   "display_name": "Python 3 (ipykernel)",
   "language": "python",
   "name": "python3"
  },
  "language_info": {
   "codemirror_mode": {
    "name": "ipython",
    "version": 3
   },
   "file_extension": ".py",
   "mimetype": "text/x-python",
   "name": "python",
   "nbconvert_exporter": "python",
   "pygments_lexer": "ipython3",
   "version": "3.11.2"
  }
 },
 "nbformat": 4,
 "nbformat_minor": 4
}
