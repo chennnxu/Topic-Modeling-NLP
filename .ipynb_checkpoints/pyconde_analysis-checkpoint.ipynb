{
 "cells": [
  {
   "cell_type": "markdown",
   "id": "3b1e5e3a-5ddc-443f-aad3-044be9d6b27e",
   "metadata": {},
   "source": [
    "## Part 1: Session Data\n"
   ]
  },
  {
   "cell_type": "code",
   "execution_count": null,
   "id": "3b6ea534-7610-46f4-b2e4-d2cb59bb20b0",
   "metadata": {},
   "outputs": [],
   "source": [
    "# The pakages I need:\n",
    "\n",
    "# !pip install pyLDAvis -qq\n",
    "# !pip install -qq -U gensim\n",
    "# !pip install spacy -qq\n",
    "# !pip install matplotlib -qq\n",
    "# !pip install seaborn -qq\n",
    "# !python -m spacy download en_core_web_md -qq"
   ]
  },
  {
   "cell_type": "code",
   "execution_count": 9,
   "id": "f4b18cf1-7cdf-4d83-acac-711aeb01e980",
   "metadata": {},
   "outputs": [],
   "source": [
    "# import packages\n",
    "import pandas as pd\n",
    "import matplotlib.pyplot as plt\n",
    "import seaborn as sns\n",
    "sns.set()\n",
    "import spacy\n",
    "import pyLDAvis.gensim_models\n",
    "pyLDAvis.enable_notebook()\n",
    "import en_core_web_md\n",
    "from gensim.corpora.dictionary import Dictionary\n",
    "from gensim.models import LdaMulticore\n",
    "from gensim.models import CoherenceModel\n",
    "\n",
    "import warnings\n",
    "warnings.filterwarnings(\"ignore\")"
   ]
  },
  {
   "cell_type": "code",
   "execution_count": 2,
   "id": "6afcf20b-c6aa-40fc-859e-04cc4b214492",
   "metadata": {},
   "outputs": [
    {
     "data": {
      "text/html": [
       "<div>\n",
       "<style scoped>\n",
       "    .dataframe tbody tr th:only-of-type {\n",
       "        vertical-align: middle;\n",
       "    }\n",
       "\n",
       "    .dataframe tbody tr th {\n",
       "        vertical-align: top;\n",
       "    }\n",
       "\n",
       "    .dataframe thead th {\n",
       "        text-align: right;\n",
       "    }\n",
       "</style>\n",
       "<table border=\"1\" class=\"dataframe\">\n",
       "  <thead>\n",
       "    <tr style=\"text-align: right;\">\n",
       "      <th></th>\n",
       "      <th>schedule</th>\n",
       "    </tr>\n",
       "  </thead>\n",
       "  <tbody>\n",
       "    <tr>\n",
       "      <th>base_url</th>\n",
       "      <td>https://pretalx.com/pyconde-pydata-berlin-2023...</td>\n",
       "    </tr>\n",
       "    <tr>\n",
       "      <th>conference</th>\n",
       "      <td>{'acronym': 'pyconde-pydata-berlin-2023', 'tit...</td>\n",
       "    </tr>\n",
       "    <tr>\n",
       "      <th>version</th>\n",
       "      <td>1.3</td>\n",
       "    </tr>\n",
       "  </tbody>\n",
       "</table>\n",
       "</div>"
      ],
      "text/plain": [
       "                                                     schedule\n",
       "base_url    https://pretalx.com/pyconde-pydata-berlin-2023...\n",
       "conference  {'acronym': 'pyconde-pydata-berlin-2023', 'tit...\n",
       "version                                                   1.3"
      ]
     },
     "execution_count": 2,
     "metadata": {},
     "output_type": "execute_result"
    }
   ],
   "source": [
    "data = pd.read_json('schedule.json')\n",
    "data"
   ]
  },
  {
   "cell_type": "code",
   "execution_count": 4,
   "id": "169184e5-a270-42f8-8973-9255c88bc964",
   "metadata": {},
   "outputs": [
    {
     "data": {
      "text/html": [
       "<div>\n",
       "<style scoped>\n",
       "    .dataframe tbody tr th:only-of-type {\n",
       "        vertical-align: middle;\n",
       "    }\n",
       "\n",
       "    .dataframe tbody tr th {\n",
       "        vertical-align: top;\n",
       "    }\n",
       "\n",
       "    .dataframe thead th {\n",
       "        text-align: right;\n",
       "    }\n",
       "</style>\n",
       "<table border=\"1\" class=\"dataframe\">\n",
       "  <thead>\n",
       "    <tr style=\"text-align: right;\">\n",
       "      <th></th>\n",
       "      <th>day</th>\n",
       "      <th>room</th>\n",
       "      <th>id</th>\n",
       "      <th>title</th>\n",
       "      <th>track</th>\n",
       "      <th>abstract</th>\n",
       "    </tr>\n",
       "  </thead>\n",
       "  <tbody>\n",
       "  </tbody>\n",
       "</table>\n",
       "</div>"
      ],
      "text/plain": [
       "Empty DataFrame\n",
       "Columns: [day, room, id, title, track, abstract]\n",
       "Index: []"
      ]
     },
     "execution_count": 4,
     "metadata": {},
     "output_type": "execute_result"
    }
   ],
   "source": [
    "# Create a new dataframe with columns day, room, id, title, absract\n",
    "df = pd.DataFrame(columns = ['day', 'room', 'id', 'title', 'track', 'abstract'])\n",
    "df"
   ]
  },
  {
   "cell_type": "code",
   "execution_count": 5,
   "id": "870e44f6-aec0-43d2-b5db-04741fa97d9f",
   "metadata": {
    "scrolled": true
   },
   "outputs": [],
   "source": [
    "# Interate over the 3 days\n",
    "for i in range(3):\n",
    "    temp_df = {}\n",
    "    # Get day\n",
    "    temp_df['day'] = i\n",
    "    day = data['schedule'].conference['days'][i]['rooms']\n",
    "    # Get rooms\n",
    "    rooms = ['Kuppelsaal', 'B09', 'B07-B08', 'B05-B06', 'A1', 'A03-A04', 'A05-A06']\n",
    "    # Get sessions of each room\n",
    "    for room in rooms:\n",
    "        temp_df['room'] = room\n",
    "        number_sessions_room = len(day[room])\n",
    "        \n",
    "        for session in range(number_sessions_room):\n",
    "            temp_df['id'] = day[room][session]['id']\n",
    "            temp_df['title'] = day[room][session]['title']\n",
    "            temp_df['track'] = day[room][session]['track']\n",
    "            temp_df['abstract'] = day[room][session]['abstract']\n",
    "            \n",
    "            temp = pd.DataFrame([temp_df])\n",
    "            df = pd.concat([df,temp], ignore_index=True)"
   ]
  },
  {
   "cell_type": "code",
   "execution_count": 6,
   "id": "18520cb6-c3db-4439-8ff0-9f849d20d4ff",
   "metadata": {},
   "outputs": [
    {
     "data": {
      "text/html": [
       "<div>\n",
       "<style scoped>\n",
       "    .dataframe tbody tr th:only-of-type {\n",
       "        vertical-align: middle;\n",
       "    }\n",
       "\n",
       "    .dataframe tbody tr th {\n",
       "        vertical-align: top;\n",
       "    }\n",
       "\n",
       "    .dataframe thead th {\n",
       "        text-align: right;\n",
       "    }\n",
       "</style>\n",
       "<table border=\"1\" class=\"dataframe\">\n",
       "  <thead>\n",
       "    <tr style=\"text-align: right;\">\n",
       "      <th></th>\n",
       "      <th>day</th>\n",
       "      <th>room</th>\n",
       "      <th>id</th>\n",
       "      <th>title</th>\n",
       "      <th>track</th>\n",
       "      <th>abstract</th>\n",
       "    </tr>\n",
       "  </thead>\n",
       "  <tbody>\n",
       "    <tr>\n",
       "      <th>0</th>\n",
       "      <td>0</td>\n",
       "      <td>Kuppelsaal</td>\n",
       "      <td>26497</td>\n",
       "      <td>Pandas 2.0 and beyond</td>\n",
       "      <td>PyData: PyData &amp; Scientific Libraries Stack</td>\n",
       "      <td>Pandas has reached a 2.0 milestone in 2023. Bu...</td>\n",
       "    </tr>\n",
       "    <tr>\n",
       "      <th>1</th>\n",
       "      <td>0</td>\n",
       "      <td>Kuppelsaal</td>\n",
       "      <td>25390</td>\n",
       "      <td>An unbiased evaluation of environment manageme...</td>\n",
       "      <td>PyCon: Programming &amp; Software Engineering</td>\n",
       "      <td>Python packaging is quickly evolving and new t...</td>\n",
       "    </tr>\n",
       "    <tr>\n",
       "      <th>2</th>\n",
       "      <td>0</td>\n",
       "      <td>Kuppelsaal</td>\n",
       "      <td>28265</td>\n",
       "      <td>Keynote - A journey through 4 industries with ...</td>\n",
       "      <td>Plenary</td>\n",
       "      <td>In this keynote, I will share the lessons lear...</td>\n",
       "    </tr>\n",
       "    <tr>\n",
       "      <th>3</th>\n",
       "      <td>0</td>\n",
       "      <td>Kuppelsaal</td>\n",
       "      <td>26247</td>\n",
       "      <td>Raised by Pandas, striving for more: An opinio...</td>\n",
       "      <td>PyData: Data Handling</td>\n",
       "      <td>Pandas is the de-facto standard for data manip...</td>\n",
       "    </tr>\n",
       "    <tr>\n",
       "      <th>4</th>\n",
       "      <td>0</td>\n",
       "      <td>Kuppelsaal</td>\n",
       "      <td>25254</td>\n",
       "      <td>Polars - make the switch to lightning-fast dat...</td>\n",
       "      <td>PyData: Data Handling</td>\n",
       "      <td>In this talk, we will report on our experience...</td>\n",
       "    </tr>\n",
       "    <tr>\n",
       "      <th>...</th>\n",
       "      <td>...</td>\n",
       "      <td>...</td>\n",
       "      <td>...</td>\n",
       "      <td>...</td>\n",
       "      <td>...</td>\n",
       "      <td>...</td>\n",
       "    </tr>\n",
       "    <tr>\n",
       "      <th>110</th>\n",
       "      <td>2</td>\n",
       "      <td>A03-A04</td>\n",
       "      <td>25857</td>\n",
       "      <td>Most of you don't need Spark. Large-scale data...</td>\n",
       "      <td>PyData: Data Handling</td>\n",
       "      <td>The Python data ecosystem has matured during t...</td>\n",
       "    </tr>\n",
       "    <tr>\n",
       "      <th>111</th>\n",
       "      <td>2</td>\n",
       "      <td>A03-A04</td>\n",
       "      <td>30171</td>\n",
       "      <td>Contributing to an open-source content library...</td>\n",
       "      <td>PyData: Natural Language Processing</td>\n",
       "      <td>Bricks is an open-source content library for n...</td>\n",
       "    </tr>\n",
       "    <tr>\n",
       "      <th>112</th>\n",
       "      <td>2</td>\n",
       "      <td>A05-A06</td>\n",
       "      <td>26268</td>\n",
       "      <td>Building Hexagonal Python Services</td>\n",
       "      <td>PyCon: Programming &amp; Software Engineering</td>\n",
       "      <td>The importance of enterprise architecture patt...</td>\n",
       "    </tr>\n",
       "    <tr>\n",
       "      <th>113</th>\n",
       "      <td>2</td>\n",
       "      <td>A05-A06</td>\n",
       "      <td>26277</td>\n",
       "      <td>Workshop on Privilege and Ethics in Data</td>\n",
       "      <td>General: Ethics &amp; Privacy</td>\n",
       "      <td>Data-driven products are becoming more and mor...</td>\n",
       "    </tr>\n",
       "    <tr>\n",
       "      <th>114</th>\n",
       "      <td>2</td>\n",
       "      <td>A05-A06</td>\n",
       "      <td>26494</td>\n",
       "      <td>The Battle of Giants: Causality vs NLP =&gt; From...</td>\n",
       "      <td>PyData: Natural Language Processing</td>\n",
       "      <td>With an average of 3.2 new papers published on...</td>\n",
       "    </tr>\n",
       "  </tbody>\n",
       "</table>\n",
       "<p>115 rows × 6 columns</p>\n",
       "</div>"
      ],
      "text/plain": [
       "    day        room     id                                              title  \\\n",
       "0     0  Kuppelsaal  26497                              Pandas 2.0 and beyond   \n",
       "1     0  Kuppelsaal  25390  An unbiased evaluation of environment manageme...   \n",
       "2     0  Kuppelsaal  28265  Keynote - A journey through 4 industries with ...   \n",
       "3     0  Kuppelsaal  26247  Raised by Pandas, striving for more: An opinio...   \n",
       "4     0  Kuppelsaal  25254  Polars - make the switch to lightning-fast dat...   \n",
       "..   ..         ...    ...                                                ...   \n",
       "110   2     A03-A04  25857  Most of you don't need Spark. Large-scale data...   \n",
       "111   2     A03-A04  30171  Contributing to an open-source content library...   \n",
       "112   2     A05-A06  26268                 Building Hexagonal Python Services   \n",
       "113   2     A05-A06  26277           Workshop on Privilege and Ethics in Data   \n",
       "114   2     A05-A06  26494  The Battle of Giants: Causality vs NLP => From...   \n",
       "\n",
       "                                           track  \\\n",
       "0    PyData: PyData & Scientific Libraries Stack   \n",
       "1      PyCon: Programming & Software Engineering   \n",
       "2                                        Plenary   \n",
       "3                          PyData: Data Handling   \n",
       "4                          PyData: Data Handling   \n",
       "..                                           ...   \n",
       "110                        PyData: Data Handling   \n",
       "111          PyData: Natural Language Processing   \n",
       "112    PyCon: Programming & Software Engineering   \n",
       "113                    General: Ethics & Privacy   \n",
       "114          PyData: Natural Language Processing   \n",
       "\n",
       "                                              abstract  \n",
       "0    Pandas has reached a 2.0 milestone in 2023. Bu...  \n",
       "1    Python packaging is quickly evolving and new t...  \n",
       "2    In this keynote, I will share the lessons lear...  \n",
       "3    Pandas is the de-facto standard for data manip...  \n",
       "4    In this talk, we will report on our experience...  \n",
       "..                                                 ...  \n",
       "110  The Python data ecosystem has matured during t...  \n",
       "111  Bricks is an open-source content library for n...  \n",
       "112  The importance of enterprise architecture patt...  \n",
       "113  Data-driven products are becoming more and mor...  \n",
       "114  With an average of 3.2 new papers published on...  \n",
       "\n",
       "[115 rows x 6 columns]"
      ]
     },
     "execution_count": 6,
     "metadata": {},
     "output_type": "execute_result"
    }
   ],
   "source": [
    "df"
   ]
  },
  {
   "cell_type": "code",
   "execution_count": 7,
   "id": "8a919cd0-afa4-4dd0-93d9-30ce25767921",
   "metadata": {},
   "outputs": [
    {
     "data": {
      "text/plain": [
       "track\n",
       "PyData: Natural Language Processing                                15\n",
       "PyCon: Programming & Software Engineering                          15\n",
       "Sponsor                                                            12\n",
       "PyData: PyData & Scientific Libraries Stack                        10\n",
       "PyData: Machine Learning & Stats                                   10\n",
       "PyData: Data Handling                                               9\n",
       "PyCon: DevOps & MLOps                                               8\n",
       "PyCon: Python Language                                              4\n",
       "Plenary                                                             4\n",
       "PyData: Deep Learning                                               4\n",
       "General: Ethics & Privacy                                           3\n",
       "PyCon: Libraries                                                    3\n",
       "PyData: Jupyter                                                     3\n",
       "PyCon: Testing                                                      3\n",
       "General: Others                                                     2\n",
       "General: Python & PyData Friends                                    2\n",
       "PyData: Computer Vision                                             2\n",
       "General: Community, Diversity, Career, Life and everything else     2\n",
       "PyData: Visualisation                                               1\n",
       "PyCon: Django                                                       1\n",
       "PyCon: Web                                                          1\n",
       "General: Infrastructure - Hardware & Cloud                          1\n",
       "Name: count, dtype: int64"
      ]
     },
     "execution_count": 7,
     "metadata": {},
     "output_type": "execute_result"
    }
   ],
   "source": [
    "# tracks and their frequency\n",
    "df.track.value_counts()"
   ]
  },
  {
   "cell_type": "code",
   "execution_count": 8,
   "id": "5f42b972-bcda-497a-859f-3569dcffc4c7",
   "metadata": {},
   "outputs": [
    {
     "data": {
      "text/plain": [
       "22"
      ]
     },
     "execution_count": 8,
     "metadata": {},
     "output_type": "execute_result"
    }
   ],
   "source": [
    "df.track.nunique()"
   ]
  },
  {
   "cell_type": "markdown",
   "id": "2e6a6e8a-6743-449b-b345-8dfa5005c97b",
   "metadata": {},
   "source": [
    "## Part 2: Topic Modeling"
   ]
  },
  {
   "cell_type": "markdown",
   "id": "88cdc50e-fe11-4c9f-be3d-75fec79d8609",
   "metadata": {},
   "source": [
    "<div>\n",
    "<img src=\"pipeline.svg\" width=\"700\"/>\n",
    "</div>"
   ]
  },
  {
   "cell_type": "code",
   "execution_count": 26,
   "id": "3cf39486-961e-49a6-a6ae-d11d686590b9",
   "metadata": {},
   "outputs": [],
   "source": [
    "# Create a spaCy object, en_core_web_md is spaCy's pre-trained model, as shown in image above 'nlp'\n",
    "nlp = en_core_web_md.load()"
   ]
  },
  {
   "cell_type": "markdown",
   "id": "37ba43e8-e178-47d9-a425-a867938add65",
   "metadata": {},
   "source": [
    "### Data"
   ]
  },
  {
   "cell_type": "code",
   "execution_count": 14,
   "id": "e53405dd-8ae4-4648-9ee8-2e14af0e1b5a",
   "metadata": {},
   "outputs": [
    {
     "data": {
      "text/html": [
       "<span class=\"tex2jax_ignore\"><div class=\"entities\" style=\"line-height: 2.5; direction: ltr\">\n",
       "<mark class=\"entity\" style=\"background: #aa9cfc; padding: 0.45em 0.6em; margin: 0 0.25em; line-height: 1; border-radius: 0.35em;\">\n",
       "    Pandas\n",
       "    <span style=\"font-size: 0.8em; font-weight: bold; line-height: 1; border-radius: 0.35em; vertical-align: middle; margin-left: 0.5rem\">PERSON</span>\n",
       "</mark>\n",
       " has reached a 2.0 milestone in \n",
       "<mark class=\"entity\" style=\"background: #bfe1d9; padding: 0.45em 0.6em; margin: 0 0.25em; line-height: 1; border-radius: 0.35em;\">\n",
       "    2023\n",
       "    <span style=\"font-size: 0.8em; font-weight: bold; line-height: 1; border-radius: 0.35em; vertical-align: middle; margin-left: 0.5rem\">DATE</span>\n",
       "</mark>\n",
       ". But what does that mean? And what is coming after 2.0? This talk will give an overview of what happened in the latest releases of pandas and highlight some topics and major new features the pandas project is working on.</div></span>"
      ],
      "text/plain": [
       "<IPython.core.display.HTML object>"
      ]
     },
     "metadata": {},
     "output_type": "display_data"
    }
   ],
   "source": [
    "# Name Entity Recognition\n",
    "# Call nlp on an abstract, the text will run through a processing pipeline, as shown in image above.\n",
    "doc = nlp(df.abstract[0])\n",
    "spacy.displacy.render(doc, style='ent', jupyter=True)"
   ]
  },
  {
   "cell_type": "code",
   "execution_count": 31,
   "id": "f0d871fb-8768-46da-9c09-29452a6f1bca",
   "metadata": {},
   "outputs": [],
   "source": [
    "# Remove the tags I don't want\n",
    "# from spacy.glossary import GLOSSARY \n",
    "# lookup_dict = GLOSSARY\n",
    "# lookup_dict.keys()\n",
    "remove_tags = ['ADV','ADP','CCONJ','DET','PRON','PUNCT','PART','NUM','SPACE','SYM']"
   ]
  },
  {
   "cell_type": "code",
   "execution_count": 32,
   "id": "1ec1049c-86d9-4ab5-9df0-a4f1e933164b",
   "metadata": {},
   "outputs": [],
   "source": [
    "tokens = []\n",
    "for abstract in nlp.pipe(df.abstract):\n",
    "    # tokenizer, remove unwanted tags, stopwords, lemmatization\n",
    "    abstract_token = [token.lemma_ for token in abstract if token.pos_ not in remove_tags and not token.is_stop and token.is_alpha] \n",
    "    tokens.append(abstract_token)"
   ]
  },
  {
   "cell_type": "code",
   "execution_count": 33,
   "id": "1524265d-1a95-4041-b6b5-93419737b05a",
   "metadata": {
    "scrolled": true
   },
   "outputs": [
    {
     "data": {
      "text/plain": [
       "['panda',\n",
       " 'reach',\n",
       " 'milestone',\n",
       " 'mean',\n",
       " 'come',\n",
       " 'talk',\n",
       " 'overview',\n",
       " 'happen',\n",
       " 'late',\n",
       " 'release',\n",
       " 'panda',\n",
       " 'highlight',\n",
       " 'topic',\n",
       " 'major',\n",
       " 'new',\n",
       " 'feature',\n",
       " 'panda',\n",
       " 'project',\n",
       " 'work']"
      ]
     },
     "execution_count": 33,
     "metadata": {},
     "output_type": "execute_result"
    }
   ],
   "source": [
    "tokens[0]"
   ]
  },
  {
   "cell_type": "code",
   "execution_count": 34,
   "id": "990da0f4-2b30-49fd-abf5-4886c7dcf930",
   "metadata": {
    "scrolled": true
   },
   "outputs": [
    {
     "data": {
      "text/html": [
       "<div>\n",
       "<style scoped>\n",
       "    .dataframe tbody tr th:only-of-type {\n",
       "        vertical-align: middle;\n",
       "    }\n",
       "\n",
       "    .dataframe tbody tr th {\n",
       "        vertical-align: top;\n",
       "    }\n",
       "\n",
       "    .dataframe thead th {\n",
       "        text-align: right;\n",
       "    }\n",
       "</style>\n",
       "<table border=\"1\" class=\"dataframe\">\n",
       "  <thead>\n",
       "    <tr style=\"text-align: right;\">\n",
       "      <th></th>\n",
       "      <th>day</th>\n",
       "      <th>room</th>\n",
       "      <th>id</th>\n",
       "      <th>title</th>\n",
       "      <th>track</th>\n",
       "      <th>abstract</th>\n",
       "      <th>tokens</th>\n",
       "    </tr>\n",
       "  </thead>\n",
       "  <tbody>\n",
       "    <tr>\n",
       "      <th>0</th>\n",
       "      <td>0</td>\n",
       "      <td>Kuppelsaal</td>\n",
       "      <td>26497</td>\n",
       "      <td>Pandas 2.0 and beyond</td>\n",
       "      <td>PyData: PyData &amp; Scientific Libraries Stack</td>\n",
       "      <td>Pandas has reached a 2.0 milestone in 2023. Bu...</td>\n",
       "      <td>[panda, reach, milestone, mean, come, talk, ov...</td>\n",
       "    </tr>\n",
       "    <tr>\n",
       "      <th>1</th>\n",
       "      <td>0</td>\n",
       "      <td>Kuppelsaal</td>\n",
       "      <td>25390</td>\n",
       "      <td>An unbiased evaluation of environment manageme...</td>\n",
       "      <td>PyCon: Programming &amp; Software Engineering</td>\n",
       "      <td>Python packaging is quickly evolving and new t...</td>\n",
       "      <td>[Python, packaging, evolve, new, tool, pop, re...</td>\n",
       "    </tr>\n",
       "    <tr>\n",
       "      <th>2</th>\n",
       "      <td>0</td>\n",
       "      <td>Kuppelsaal</td>\n",
       "      <td>28265</td>\n",
       "      <td>Keynote - A journey through 4 industries with ...</td>\n",
       "      <td>Plenary</td>\n",
       "      <td>In this keynote, I will share the lessons lear...</td>\n",
       "      <td>[keynote, share, lesson, learn, Python, indust...</td>\n",
       "    </tr>\n",
       "    <tr>\n",
       "      <th>3</th>\n",
       "      <td>0</td>\n",
       "      <td>Kuppelsaal</td>\n",
       "      <td>26247</td>\n",
       "      <td>Raised by Pandas, striving for more: An opinio...</td>\n",
       "      <td>PyData: Data Handling</td>\n",
       "      <td>Pandas is the de-facto standard for data manip...</td>\n",
       "      <td>[panda, de, facto, standard, data, manipulatio...</td>\n",
       "    </tr>\n",
       "    <tr>\n",
       "      <th>4</th>\n",
       "      <td>0</td>\n",
       "      <td>Kuppelsaal</td>\n",
       "      <td>25254</td>\n",
       "      <td>Polars - make the switch to lightning-fast dat...</td>\n",
       "      <td>PyData: Data Handling</td>\n",
       "      <td>In this talk, we will report on our experience...</td>\n",
       "      <td>[talk, report, experience, switch, Pandas, Pol...</td>\n",
       "    </tr>\n",
       "    <tr>\n",
       "      <th>...</th>\n",
       "      <td>...</td>\n",
       "      <td>...</td>\n",
       "      <td>...</td>\n",
       "      <td>...</td>\n",
       "      <td>...</td>\n",
       "      <td>...</td>\n",
       "      <td>...</td>\n",
       "    </tr>\n",
       "    <tr>\n",
       "      <th>110</th>\n",
       "      <td>2</td>\n",
       "      <td>A03-A04</td>\n",
       "      <td>25857</td>\n",
       "      <td>Most of you don't need Spark. Large-scale data...</td>\n",
       "      <td>PyData: Data Handling</td>\n",
       "      <td>The Python data ecosystem has matured during t...</td>\n",
       "      <td>[Python, data, ecosystem, mature, decade, reas...</td>\n",
       "    </tr>\n",
       "    <tr>\n",
       "      <th>111</th>\n",
       "      <td>2</td>\n",
       "      <td>A03-A04</td>\n",
       "      <td>30171</td>\n",
       "      <td>Contributing to an open-source content library...</td>\n",
       "      <td>PyData: Natural Language Processing</td>\n",
       "      <td>Bricks is an open-source content library for n...</td>\n",
       "      <td>[brick, open, source, content, library, natura...</td>\n",
       "    </tr>\n",
       "    <tr>\n",
       "      <th>112</th>\n",
       "      <td>2</td>\n",
       "      <td>A05-A06</td>\n",
       "      <td>26268</td>\n",
       "      <td>Building Hexagonal Python Services</td>\n",
       "      <td>PyCon: Programming &amp; Software Engineering</td>\n",
       "      <td>The importance of enterprise architecture patt...</td>\n",
       "      <td>[importance, enterprise, architecture, pattern...</td>\n",
       "    </tr>\n",
       "    <tr>\n",
       "      <th>113</th>\n",
       "      <td>2</td>\n",
       "      <td>A05-A06</td>\n",
       "      <td>26277</td>\n",
       "      <td>Workshop on Privilege and Ethics in Data</td>\n",
       "      <td>General: Ethics &amp; Privacy</td>\n",
       "      <td>Data-driven products are becoming more and mor...</td>\n",
       "      <td>[data, drive, product, ubiquitous, human, buil...</td>\n",
       "    </tr>\n",
       "    <tr>\n",
       "      <th>114</th>\n",
       "      <td>2</td>\n",
       "      <td>A05-A06</td>\n",
       "      <td>26494</td>\n",
       "      <td>The Battle of Giants: Causality vs NLP =&gt; From...</td>\n",
       "      <td>PyData: Natural Language Processing</td>\n",
       "      <td>With an average of 3.2 new papers published on...</td>\n",
       "      <td>[average, new, paper, publish, Arxiv, day, cau...</td>\n",
       "    </tr>\n",
       "  </tbody>\n",
       "</table>\n",
       "<p>115 rows × 7 columns</p>\n",
       "</div>"
      ],
      "text/plain": [
       "    day        room     id                                              title  \\\n",
       "0     0  Kuppelsaal  26497                              Pandas 2.0 and beyond   \n",
       "1     0  Kuppelsaal  25390  An unbiased evaluation of environment manageme...   \n",
       "2     0  Kuppelsaal  28265  Keynote - A journey through 4 industries with ...   \n",
       "3     0  Kuppelsaal  26247  Raised by Pandas, striving for more: An opinio...   \n",
       "4     0  Kuppelsaal  25254  Polars - make the switch to lightning-fast dat...   \n",
       "..   ..         ...    ...                                                ...   \n",
       "110   2     A03-A04  25857  Most of you don't need Spark. Large-scale data...   \n",
       "111   2     A03-A04  30171  Contributing to an open-source content library...   \n",
       "112   2     A05-A06  26268                 Building Hexagonal Python Services   \n",
       "113   2     A05-A06  26277           Workshop on Privilege and Ethics in Data   \n",
       "114   2     A05-A06  26494  The Battle of Giants: Causality vs NLP => From...   \n",
       "\n",
       "                                           track  \\\n",
       "0    PyData: PyData & Scientific Libraries Stack   \n",
       "1      PyCon: Programming & Software Engineering   \n",
       "2                                        Plenary   \n",
       "3                          PyData: Data Handling   \n",
       "4                          PyData: Data Handling   \n",
       "..                                           ...   \n",
       "110                        PyData: Data Handling   \n",
       "111          PyData: Natural Language Processing   \n",
       "112    PyCon: Programming & Software Engineering   \n",
       "113                    General: Ethics & Privacy   \n",
       "114          PyData: Natural Language Processing   \n",
       "\n",
       "                                              abstract  \\\n",
       "0    Pandas has reached a 2.0 milestone in 2023. Bu...   \n",
       "1    Python packaging is quickly evolving and new t...   \n",
       "2    In this keynote, I will share the lessons lear...   \n",
       "3    Pandas is the de-facto standard for data manip...   \n",
       "4    In this talk, we will report on our experience...   \n",
       "..                                                 ...   \n",
       "110  The Python data ecosystem has matured during t...   \n",
       "111  Bricks is an open-source content library for n...   \n",
       "112  The importance of enterprise architecture patt...   \n",
       "113  Data-driven products are becoming more and mor...   \n",
       "114  With an average of 3.2 new papers published on...   \n",
       "\n",
       "                                                tokens  \n",
       "0    [panda, reach, milestone, mean, come, talk, ov...  \n",
       "1    [Python, packaging, evolve, new, tool, pop, re...  \n",
       "2    [keynote, share, lesson, learn, Python, indust...  \n",
       "3    [panda, de, facto, standard, data, manipulatio...  \n",
       "4    [talk, report, experience, switch, Pandas, Pol...  \n",
       "..                                                 ...  \n",
       "110  [Python, data, ecosystem, mature, decade, reas...  \n",
       "111  [brick, open, source, content, library, natura...  \n",
       "112  [importance, enterprise, architecture, pattern...  \n",
       "113  [data, drive, product, ubiquitous, human, buil...  \n",
       "114  [average, new, paper, publish, Arxiv, day, cau...  \n",
       "\n",
       "[115 rows x 7 columns]"
      ]
     },
     "execution_count": 34,
     "metadata": {},
     "output_type": "execute_result"
    }
   ],
   "source": [
    "# Create a new column named 'tokens'\n",
    "df['tokens'] = tokens\n",
    "df"
   ]
  },
  {
   "cell_type": "code",
   "execution_count": 35,
   "id": "05f6b08d-c4dc-4244-8c7f-25d53cc5f058",
   "metadata": {},
   "outputs": [
    {
     "name": "stdout",
     "output_type": "stream",
     "text": [
      "Dictionary<1822 unique tokens: ['come', 'feature', 'happen', 'highlight', 'late']...>\n"
     ]
    }
   ],
   "source": [
    "# Inputs of LDA: Dictionary- unique id for each token\n",
    "dictionary = Dictionary(df['tokens'])\n",
    "print(dictionary)"
   ]
  },
  {
   "cell_type": "code",
   "execution_count": 39,
   "id": "68712475-0355-410e-a72f-e85a83f68ac6",
   "metadata": {
    "scrolled": true
   },
   "outputs": [
    {
     "name": "stdout",
     "output_type": "stream",
     "text": [
      "{'come': 0, 'feature': 1, 'happen': 2, 'highlight': 3, 'late': 4, 'major': 5, 'mean': 6, 'milestone': 7, 'new': 8, 'overview': 9, 'panda': 10, 'project': 11, 'reach': 12, 'release': 13, 'talk': 14, 'topic': 15, 'work': 16, 'Python': 17, 'available': 18, 'basis': 19, 'compare': 20, 'environment': 21, 'evolve': 22, 'exist': 23, 'jungle': 24, 'light': 25, 'lot': 26, 'management': 27, 'packaging': 28, 'pop': 29, 'post': 30, 'predefine': 31, 'regular': 32, 'shed': 33, 'structured': 34, 'tool': 35, 'unbiased': 36, 'Game': 37, 'Quill': 38, 'Studios': 39, 'application': 40, 'build': 41, 'company': 42, 'data': 43, 'day': 44, 'develop': 45, 'engineer': 46, 'game': 47, 'gaming': 48, 'hope': 49, 'industry': 50, 'inspiration': 51, 'interesting': 52, 'keynote': 53, 'learn': 54, 'learning': 55, 'lesson': 56, 'machine': 57, 'pleasure': 58, 'problem': 59, 'scientist': 60, 'share': 61, 'solve': 62, 'type': 63, 'use': 64, 'versatility': 65, 'Apache': 66, 'Arrow': 67, 'Pandas': 68, 'Polars': 69, 'Rust': 70, 'aim': 71, 'benchmark': 72, 'codebase': 73, 'datum': 74, 'de': 75, 'drawback': 76, 'efficiency': 77, 'expectation': 78, 'explain': 79, 'facto': 80, 'fast': 81, 'flexibility': 82, 'flexible': 83, 'handling': 84, 'high': 85, 'inconsistent': 86, 'insight': 87, 'interoperability': 88, 'issue': 89, 'kind': 90, 'know': 91, 'lack': 92, 'language': 93, 'long': 94, 'love': 95, 'lover': 96, 'manipulation': 97, 'meet': 98, 'memory': 99, 'migrate': 100, 'missing': 101, 'multicore': 102, 'multiple': 103, 'open': 104, 'performance': 105, 'present': 106, 'python': 107, 'query': 108, 'scenario': 109, 'shine': 110, 'source': 111, 'stable': 112, 'standard': 113, 'stay': 114, 'support': 115, 'syntax': 116, 'time': 117, 'win': 118, 'ML': 119, 'ability': 120, 'analysis': 121, 'analyst': 122, 'base': 123, 'dataframe': 124, 'dataset': 125, 'discuss': 126, 'efficient': 127, 'experience': 128, 'feel': 129, 'fit': 130, 'handle': 131, 'improvement': 132, 'interested': 133, 'large': 134, 'library': 135, 'polars': 136, 'popular': 137, 'practice': 138, 'processing': 139, 'provide': 140, 'real': 141, 'report': 142, 'significant': 143, 'speed': 144, 'switch': 145, 'task': 146, 'unique': 147, 'world': 148, 'write': 149, 'Celery': 150, 'TDD': 151, 'able': 152, 'api': 153, 'apply': 154, 'attendee': 155, 'code': 156, 'core': 157, 'create': 158, 'drive': 159, 'end': 160, 'ensure': 161, 'explore': 162, 'fastapi': 163, 'framework': 164, 'functionality': 165, 'help': 166, 'improve': 167, 'maintainability': 168, 'manner': 169, 'offload': 170, 'perform': 171, 'queue': 172, 'reliability': 173, 'reliable': 174, 'run': 175, 'scalable': 176, 'set': 177, 'start': 178, 'strong': 179, 'test': 180, 'testing': 181, 'understanding': 182, 'unit': 183, 'web': 184, 'IIoT': 185, 'IoT': 186, 'Pythonistas': 187, 'StreamPipes': 188, 'access': 189, 'addition': 190, 'address': 191, 'allow': 192, 'appeal': 193, 'basic': 194, 'case': 195, 'challenge': 196, 'client': 197, 'collect': 198, 'cumbersome': 199, 'deep': 200, 'demo': 201, 'derive': 202, 'discussion': 203, 'enthusiast': 204, 'extract': 205, 'fashioned': 206, 'follow': 207, 'general': 208, 'give': 209, 'industrial': 210, 'introduction': 211, 'live': 212, 'mess': 213, 'model': 214, 'myriad': 215, 'offer': 216, 'old': 217, 'particular': 218, 'pitfall': 219, 'protocol': 220, 'pythonic': 221, 'training': 222, 'visualization': 223, 'want': 224, 'way': 225, 'ASHA': 226, 'BO': 227, 'Bayesian': 228, 'HPO': 229, 'Halving': 230, 'Hyperparameter': 231, 'Learning': 232, 'Machine': 233, 'Optimization': 234, 'Successive': 235, 'activity': 236, 'agnostic': 237, 'algorithm': 238, 'automatic': 239, 'awslab': 240, 'big': 241, 'comparison': 242, 'computational': 243, 'cost': 244, 'creation': 245, 'describe': 246, 'employ': 247, 'example': 248, 'experimental': 249, 'extensive': 250, 'final': 251, 'fundamental': 252, 'gain': 253, 'heuristic': 254, 'include': 255, 'incur': 256, 'lead': 257, 'low': 258, 'lower': 259, 'observe': 260, 'optimal': 261, 'pipeline': 262, 'practical': 263, 'practitioner': 264, 'predictive': 265, 'presented': 266, 'public': 267, 'range': 268, 'resource': 269, 'result': 270, 'simple': 271, 'step': 272, 'syne': 273, 'technique': 274, 'term': 275, 'train': 276, 'try': 277, 'tune': 278, 'unreliable': 279, 'useful': 280, 'user': 281, 'wait': 282, 'wide': 283, 'year': 284, 'Boosting': 285, 'Cyclic': 286, 'GitHub': 287, 'accurate': 288, 'boost': 289, 'boosting': 290, 'cardinality': 291, 'categorical': 292, 'cyclic': 293, 'deliver': 294, 'demonstrate': 295, 'dependency': 296, 'engineering': 297, 'explainable': 298, 'facilitate': 299, 'family': 300, 'find': 301, 'heterogeneous': 302, 'hyperparameter': 303, 'ideal': 304, 'implementation': 305, 'individual': 306, 'inexpensive': 307, 'infamous': 308, 'information': 309, 'inner': 310, 'iteration': 311, 'level': 312, 'little': 313, 'make': 314, 'method': 315, 'minimal': 316, 'miss': 317, 'modeling': 318, 'pre': 319, 'prediction': 320, 'presentation': 321, 'process': 322, 'pure': 323, 'purpose': 324, 'rapid': 325, 'require': 326, 'robust': 327, 'sample': 328, 'shelf': 329, 'supervised': 330, 'tuning': 331, 'unavoidable': 332, 'usage': 333, 'variable': 334, 'working': 335, 'complementary': 336, 'database': 337, 'evaluate': 338, 'evaluation': 339, 'sensor': 340, 'series': 341, 'service': 342, 'show': 343, 'stream': 344, 'Alicia': 345, 'Chat': 346, 'Shopify': 347, 'ai': 348, 'architecture': 349, 'behavior': 350, 'behaviour': 351, 'building': 352, 'business': 353, 'catch': 354, 'critical': 355, 'different': 356, 'dive': 357, 'drift': 358, 'erroneous': 359, 'importance': 360, 'iterate': 361, 'look': 362, 'metric': 363, 'modern': 364, 'observability': 365, 'part': 366, 'platform': 367, 'prevalent': 368, 'prototype': 369, 'quality': 370, 'sure': 371, 'team': 372, 'technology': 373, 'track': 374, 'unexpected': 375, 'Delivery': 376, 'Hero': 377, 'Logistics': 378, 'account': 379, 'answer': 380, 'consider': 381, 'department': 382, 'discover': 383, 'expect': 384, 'focusse': 385, 'get': 386, 'hand': 387, 'invest': 388, 'journey': 389, 'maintain': 390, 'need': 391, 'ongoing': 392, 'question': 393, 'structure': 394, 'Snowflake': 395, 'Snowpark': 396, 'b': 397, 'collaborate': 398, 'compliance': 399, 'concept': 400, 'developer': 401, 'dynamic': 402, 'elasticity': 403, 'organization': 404, 'repository': 405, 'sandbox': 406, 'scalability': 407, 'scale': 408, 'secure': 409, 'security': 410, 'snowflakedb': 411, 'snowpark': 412, 'CPython': 413, 'PyScript': 414, 'WASM': 415, 'WebAssembly': 416, 'browser': 417, 'cpu': 418, 'etc': 419, 'explosion': 420, 'possible': 421, 'powerful': 422, 'recent': 423, 'see': 424, 'thank': 425, 'underlie': 426, 'virtual': 427, 'MLOps': 428, 'absence': 429, 'balance': 430, 'boundary': 431, 'circle': 432, 'constraint': 433, 'deploy': 434, 'deployment': 435, 'development': 436, 'factor': 437, 'latency': 438, 'lie': 439, 'list': 440, 'manage': 441, 'operational': 442, 'production': 443, 'reproducible': 444, 'square': 445, 'take': 446, 'vulnerability': 447, 'ChatGPT': 448, 'GPT': 449, 'Haystack': 450, 'LLM': 451, 'LLMs': 452, 'Models': 453, 'NLP': 454, 'chain': 455, 'component': 456, 'knowledge': 457, 'llm': 458, 'miraculous': 459, 'outdated': 460, 'overcome': 461, 'product': 462, 'store': 463, 'unsolved': 464, 'walk': 465, 'wrong': 466, 'PyTorch': 467, 'bug': 468, 'cause': 469, 'choose': 470, 'complex': 471, 'correct': 472, 'culprit': 473, 'custom': 474, 'determine': 475, 'equip': 476, 'focus': 477, 'function': 478, 'future': 479, 'generate': 480, 'hour': 481, 'identify': 482, 'leverage': 483, 'loop': 484, 'loss': 485, 'prevent': 486, 'problematic': 487, 'pyt': 488, 'pytorch': 489, 'reason': 490, 'refactor': 491, 'right': 492, 'scratch': 493, 'session': 494, 'synthetic': 495, 'toolbox': 496, 'tricky': 497, 'visitor': 498, 'AutoGluon': 499, 'AutoML': 500, 'achieve': 501, 'art': 502, 'automate': 503, 'classification': 504, 'competition': 505, 'competitive': 506, 'current': 507, 'cutting': 508, 'edge': 509, 'emphasize': 510, 'enable': 511, 'experimentation': 512, 'expertise': 513, 'forecasting': 514, 'hood': 515, 'human': 516, 'image': 517, 'intervention': 518, 'introduce': 519, 'intuitive': 520, 'manual': 521, 'multimodal': 522, 'peek': 523, 'promise': 524, 'raw': 525, 'regression': 526, 'state': 527, 'tabular': 528, 'toolkit': 529, 'transform': 530, 'unified': 531, 'usability': 532, 'variety': 533, 'anomaly': 534, 'common': 535, 'delay': 536, 'digital': 537, 'divergent': 538, 'domain': 539, 'easy': 540, 'expert': 541, 'forecast': 542, 'hard': 543, 'imagine': 544, 'impact': 545, 'irregular': 546, 'logistic': 547, 'market': 548, 'marketing': 549, 'master': 550, 'noise': 551, 'organise': 552, 'outlier': 553, 'pricing': 554, 'professional': 555, 'propagation': 556, 'reduce': 557, 'resolve': 558, 'stabilise': 559, 'stock': 560, 'understand': 561, 'value': 562, 'BI': 563, 'BigQuery': 564, 'ELT': 565, 'Formula': 566, 'Google': 567, 'Grand': 568, 'Prix': 569, 'analytic': 570, 'approach': 571, 'cloud': 572, 'complement': 573, 'compose': 574, 'compute': 575, 'engine': 576, 'integration': 577, 'specific': 578, 'stack': 579, 'stem': 580, 'transformation': 581, 'tutorial': 582, 'BHAD': 583, 'accuracy': 584, 'additional': 585, 'anomalous': 586, 'assign': 587, 'bayesian': 588, 'bhad': 589, 'bin': 590, 'crucial': 591, 'detection': 592, 'detector': 593, 'distribution': 594, 'expensive': 595, 'explanation': 596, 'histogram': 597, 'indicate': 598, 'interpretability': 599, 'number': 600, 'outli': 601, 'parameter': 602, 'pattern': 603, 'prior': 604, 'prominent': 605, 'propose': 606, 'score': 607, 'simulated': 608, 'size': 609, 'soa': 610, 'straightforward': 611, 'study': 612, 'suitable': 613, 'treat': 614, 'unknown': 615, 'Airflow': 616, 'Argo': 617, 'DVC': 618, 'Jupyter': 619, 'Kubeflow': 620, 'LineaPy': 621, 'check': 622, 'contribute': 623, 'creator': 624, 'cure': 625, 'dvc': 626, 'everyday': 627, 'expedite': 628, 'favorite': 629, 'generation': 630, 'go': 631, 'good': 632, 'grade': 633, 'messy': 634, 'news': 635, 'nightmare': 636, 'notebook': 637, 'orchestration': 638, 'package': 639, 'place': 640, 'plugin': 641, 'science': 642, 'solution': 643, 'universe': 644, 'welcome': 645, 'workflow': 646, 'OpenAI': 647, 'add': 648, 'annotation': 649, 'benefit': 650, 'control': 651, 'decision': 652, 'gather': 653, 'initial': 654, 'maker': 655, 'normal': 656, 'replace': 657, 'runtime': 658, 'shot': 659, 'alert': 660, 'avoid': 661, 'batch': 662, 'dashboard': 663, 'depth': 664, 'essential': 665, 'face': 666, 'fatigue': 667, 'integrate': 668, 'lifecycle': 669, 'monitor': 670, 'monitoring': 671, 'prioritize': 672, 'proper': 673, 'risk': 674, 'setup': 675, 'similar': 676, 'single': 677, 'standardize': 678, 'Mamray': 679, 'consume': 680, 'important': 681, 'profile': 682, 'profiling': 683, 'Scala': 684, 'Serialization': 685, 'Typeclasses': 686, 'abstract': 687, 'construct': 688, 'contrast': 689, 'difference': 690, 'effectiveness': 691, 'elegant': 692, 'expressiveness': 693, 'informed': 694, 'mechanism': 695, 'modular': 696, 'similarity': 697, 'specify': 698, 'strength': 699, 'suited': 700, 'system': 701, 'trait': 702, 'typing': 703, 'weakness': 704, 'well': 705, 'coach': 706, 'material': 707, 'programming': 708, 'student': 709, 'teach': 710, 'text': 711, 'tutor': 712, 'baseline': 713, 'clustering': 714, 'cover': 715, 'entity': 716, 'establish': 717, 'measure': 718, 'name': 719, 'natural': 720, 'nlp': 721, 'paradigm': 722, 'recognition': 723, 'role': 724, 'search': 725, 'transfer': 726, 'weak': 727, 'DoWhy': 728, 'audience': 729, 'bit': 730, 'causal': 731, 'close': 732, 'dowhy': 733, 'govern': 734, 'lay': 735, 'pywhy': 736, 'root': 737, 'space': 738, 'typical': 739, 'zoom': 740, 'C': 741, 'Julia': 742, 'alien': 743, 'incorporate': 744, 'optimization': 745, 'today': 746, 'PyG': 747, 'analyze': 748, 'capture': 749, 'complexity': 750, 'diversity': 751, 'graph': 752, 'implement': 753, 'participant': 754, 'prepare': 755, 'table': 756, 'workshop': 757, 'AI': 758, 'Data': 759, 'PyData': 760, 'Scientist': 761, 'attend': 762, 'conference': 763, 'hype': 764, 'title': 765, 'ask': 766, 'aware': 767, 'bias': 768, 'detect': 769, 'ethic': 770, 'ethical': 771, 'lens': 772, 'mitigate': 773, 'point': 774, 'potential': 775, 'requirement': 776, 'stage': 777, 'starting': 778, 'strategy': 779, 'universal': 780, 'attractive': 781, 'bottleneck': 782, 'expressive': 783, 'lightning': 784, 'option': 785, 'portion': 786, 'program': 787, 'rust': 788, 'sensitive': 789, 'FastAPI': 790, 'OpenAPI': 791, 'community': 792, 'dark': 793, 'documentation': 794, 'educational': 795, 'exchange': 796, 'fastAPI': 797, 'great': 798, 'job': 799, 'obstacle': 800, 'people': 801, 'rest': 802, 'spot': 803, 'thrive': 804, 'view': 805, 'wish': 806, 'Components': 807, 'DBMS': 808, 'DBMSs': 809, 'Database': 810, 'Management': 811, 'Systems': 812, 'approximate': 813, 'backbone': 814, 'call': 815, 'central': 816, 'dbms': 817, 'direction': 818, 'estimation': 819, 'execute': 820, 'idea': 821, 'involve': 822, 'non': 823, 'occur': 824, 'optimizer': 825, 'outline': 826, 'overhead': 827, 'physical': 828, 'play': 829, 'relational': 830, 'render': 831, 'scheduler': 832, 'schema': 833, 'second': 834, 'tackle': 835, 'trivial': 836, 'vision': 837, 'volume': 838, 'workload': 839, 'JAX': 840, 'TPU': 841, 'TensorFlow': 842, 'alternative': 843, 'appealing': 844, 'complicated': 845, 'deepmind': 846, 'ecosystem': 847, 'getting': 848, 'idiosyncrasy': 849, 'native': 850, 'parallelization': 851, 'practise': 852, 'promising': 853, 'tip': 854, 'vectorization': 855, 'adjust': 856, 'experiment': 857, 'identification': 858, 'quantify': 859, 'quasi': 860, 'relationship': 861, 'PyLadies': 862, 'advocate': 863, 'chapter': 864, 'combat': 865, 'gap': 866, 'gender': 867, 'leadership': 868, 'panel': 869, 'pay': 870, 'representation': 871, 'design': 872, 'past': 873, 'software': 874, 'special': 875, 'Framework': 876, 'HayStack': 877, 'QA': 878, 'bot': 879, 'combination': 880, 'conversation': 881, 'document': 882, 'fine': 883, 'fuel': 884, 'innovation': 885, 'internal': 886, 'neural': 887, 'organizational': 888, 'read': 889, 'satisfy': 890, 'scieneer': 891, 'sentence': 892, 'slack': 893, 'technical': 894, 'transformer': 895, 'vector': 896, 'weaviate': 897, 'Dask': 898, 'NumPy': 899, 'actual': 900, 'change': 901, 'cluster': 902, 'computing': 903, 'course': 904, 'debugging': 905, 'diagnostic': 906, 'difficult': 907, 'distribute': 908, 'ease': 909, 'event': 910, 'fail': 911, 'hell': 912, 'hundred': 913, 'insightful': 914, 'key': 915, 'life': 916, 'logging': 917, 'move': 918, 'network': 919, 'operate': 920, 'parallel': 921, 'react': 922, 'relevant': 923, 'sanity': 924, 'slow': 925, 'storage': 926, 'success': 927, 'thing': 928, 'tooling': 929, 'wild': 930, 'worker': 931, 'Prodigy': 932, 'adaptable': 933, 'certain': 934, 'customizability': 935, 'filter': 936, 'info': 937, 'internet': 938, 'overwhelming': 939, 'page': 940, 'personal': 941, 'personalized': 942, 'power': 943, 'sacrifice': 944, 'scriptable': 945, 'spaCy': 946, 'summary': 947, 'think': 948, 'Auto': 949, 'Cases': 950, 'Cloud': 951, 'Computer': 952, 'DHL': 953, 'Deep': 954, 'Deutsche': 955, 'Driven': 956, 'Group': 957, 'Kubernetes': 958, 'Networks': 959, 'Neural': 960, 'Platforms': 961, 'Post': 962, 'Solvers': 963, 'TSP': 964, 'Tooling': 965, 'Use': 966, 'Vision': 967, 'agile': 968, 'area': 969, 'buzzword': 970, 'challenging': 971, 'combine': 972, 'fancy': 973, 'fill': 974, 'german': 975, 'international': 976, 'mode': 977, 'motivated': 978, 'nice': 979, 'operation': 980, 'organize': 981, 'passion': 982, 'plane': 983, 'rusty': 984, 'scene': 985, 'self': 986, 'skill': 987, 'slide': 988, 'small': 989, 'timeserie': 990, 'truck': 991, 'van': 992, 'yellow': 993, 'young': 994, 'enabler': 995, 'examine': 996, 'field': 997, 'infrastructure': 998, 'optimize': 999, 'streamline': 1000, 'successful': 1001, 'Connect': 1002, 'DataFrame': 1003, 'Notebooks': 1004, 'SQL': 1005, 'Spark': 1006, 'analyzer': 1007, 'bring': 1008, 'capability': 1009, 'connect': 1010, 'connectivity': 1011, 'decade': 1012, 'decoupled': 1013, 'device': 1014, 'driver': 1015, 'embed': 1016, 'extension': 1017, 'home': 1018, 'ide': 1019, 'interactive': 1020, 'logical': 1021, 'monolithic': 1022, 'outlook': 1023, 'participate': 1024, 'phone': 1025, 'plan': 1026, 'remote': 1027, 'researcher': 1028, 'separation': 1029, 'server': 1030, 'smart': 1031, 'ten': 1032, 'thousand': 1033, 'unresolved': 1034, 'Common': 1035, 'Crawl': 1036, 'Feedback': 1037, 'Human': 1038, 'Label': 1039, 'RLHF': 1040, 'Reinforcement': 1041, 'Studio': 1042, 'beg': 1043, 'direct': 1044, 'feedback': 1045, 'fraction': 1046, 'generalization': 1047, 'generative': 1048, 'massive': 1049, 'preference': 1050, 'rely': 1051, 'response': 1052, 'saying': 1053, 'toxicity': 1054, 'truthfulness': 1055, 'unsupervise': 1056, 'Javascript': 1057, 'adapt': 1058, 'fledged': 1059, 'impose': 1060, 'installation': 1061, 'intensive': 1062, 'limitation': 1063, 'load': 1064, 'local': 1065, 'main': 1066, 'module': 1067, 'operating': 1068, 'ubiquitous': 1069, 'unprecedented': 1070, 'Carl': 1071, 'Zeiss': 1072, 'aspect': 1073, 'background': 1074, 'board': 1075, 'chip': 1076, 'computer': 1077, 'consistent': 1078, 'culture': 1079, 'division': 1080, 'effort': 1081, 'energy': 1082, 'limit': 1083, 'mission': 1084, 'research': 1085, 'semiconductor': 1086, 'story': 1087, 'tell': 1088, 'coil': 1089, 'comprehensive': 1090, 'feeling': 1091, 'gut': 1092, 'scheduling': 1093, 'theory': 1094, 'turning': 1095, 'assess': 1096, 'communicate': 1097, 'compelling': 1098, 'elevate': 1099, 'grasp': 1100, 'ingredient': 1101, 'intricacy': 1102, 'join': 1103, 'let': 1104, 'opportunity': 1105, 'pass': 1106, 'ready': 1107, 'showcase': 1108, 'stakeholder': 1109, 'FastKafka': 1110, 'Kafka': 1111, 'decorator': 1112, 'define': 1113, 'interest': 1114, 'message': 1115, 'motivation': 1116, 'produce': 1117, 'receive': 1118, 'send': 1119, 'climate': 1120, 'policy': 1121, 'Ecosystem': 1122, 'inclue': 1123, 'increase': 1124, 'phase': 1125, 'principle': 1126, 'recommend': 1127, 'stake': 1128, 'Rasa': 1129, 'advance': 1130, 'assistant': 1131, 'availability': 1132, 'chat': 1133, 'chatbot': 1134, 'chit': 1135, 'concrete': 1136, 'convincing': 1137, 'depend': 1138, 'despite': 1139, 'diagnosis': 1140, 'e': 1141, 'fun': 1142, 'intelligent': 1143, 'interaction': 1144, 'medical': 1145, 'mobility': 1146, 'shopping': 1147, 'sophisticated': 1148, 'witty': 1149, 'RNN': 1150, 'annoying': 1151, 'article': 1152, 'bert': 1153, 'bet': 1154, 'blog': 1155, 'cement': 1156, 'choice': 1157, 'collection': 1158, 'deal': 1159, 'detail': 1160, 'download': 1161, 'dumb': 1162, 'enjoy': 1163, 'equal': 1164, 'feed': 1165, 'got': 1166, 'headache': 1167, 'hub': 1168, 'input': 1169, 'length': 1170, 'mediocre': 1171, 'minor': 1172, 'pretraine': 1173, 'rant': 1174, 'sequence': 1175, 'short': 1176, 'spoiler': 1177, 'token': 1178, 'turn': 1179, 'tweet': 1180, 'unsatisfying': 1181, 'workaround': 1182, 'Numpy': 1183, 'augment': 1184, 'like': 1185, 'minimize': 1186, 'orient': 1187, 'plain': 1188, 'pragmatism': 1189, 'recommendation': 1190, 'substantial': 1191, 'up': 1192, 'vectorized': 1193, 'action': 1194, 'conda': 1195, 'contract': 1196, 'en': 1197, 'encourage': 1198, 'extend': 1199, 'friendly': 1200, 'illustrate': 1201, 'manager': 1202, 'modify': 1203, 'retrofit': 1204, 'Matplotlib': 1205, 'continuous': 1206, 'convey': 1207, 'delve': 1208, 'effective': 1209, 'informative': 1210, 'static': 1211, 'valuable': 1212, 'visualisation': 1213, 'Berlin': 1214, 'Council': 1215, 'Tech': 1216, 'Workers': 1217, 'agreement': 1218, 'defend': 1219, 'employee': 1220, 'layoff': 1221, 'legal': 1222, 'mass': 1223, 'member': 1224, 'redundant': 1225, 'situation': 1226, 'termination': 1227, 'Marketing': 1228, 'PyMC': 1229, 'acquisition': 1230, 'budget': 1231, 'campaign': 1232, 'causalpy': 1233, 'customer': 1234, 'emphasis': 1235, 'estimate': 1236, 'inference': 1237, 'interplay': 1238, 'lifetime': 1239, 'medium': 1240, 'mix': 1241, 'pymc': 1242, 'BLE': 1243, 'Bluetooth': 1244, 'Bluez': 1245, 'Energy': 1246, 'Linux': 1247, 'Low': 1248, 'Stack': 1249, 'advantage': 1250, 'ble': 1251, 'communication': 1252, 'debug': 1253, 'fitness': 1254, 'health': 1255, 'lightbulb': 1256, 'private': 1257, 'property': 1258, 'robot': 1259, 'side': 1260, 'wireless': 1261, 'Django': 1262, 'GeoDjango': 1263, 'geographic': 1264, 'geospatial': 1265, 'keep': 1266, 'map': 1267, 'mind': 1268, 'content': 1269, 'detoxification': 1270, 'detoxified': 1271, 'exponential': 1272, 'fight': 1273, 'global': 1274, 'growth': 1275, 'hate': 1276, 'monolingual': 1277, 'multilingual': 1278, 'offensive': 1279, 'possibility': 1280, 'proactive': 1281, 'reuse': 1282, 'speech': 1283, 'spread': 1284, 'style': 1285, 'suggestion': 1286, 'toxic': 1287, 'uncontrolled': 1288, 'version': 1289, 'Authorities': 1290, 'BERT': 1291, 'DistilBERT': 1292, 'Inspectorate': 1293, 'LPAs': 1294, 'Lab': 1295, 'Language': 1296, 'Large': 1297, 'Local': 1298, 'Plan': 1299, 'Planning': 1300, 'React': 1301, 'RoBERTa': 1302, 'UK': 1303, 'Voilà': 1304, 'aid': 1305, 'analyse': 1306, 'average': 1307, 'consultation': 1308, 'distributed': 1309, 'encounter': 1310, 'historical': 1311, 'inform': 1312, 'investigate': 1313, 'legality': 1314, 'lpa': 1315, 'prototyping': 1316, 'reduction': 1317, 'round': 1318, 'simulation': 1319, 'soundness': 1320, 'suggest': 1321, 'xlnet': 1322, 'CD': 1323, 'CI': 1324, 'confidence': 1325, 'ship': 1326, 'FAQ': 1327, 'african': 1328, 'child': 1329, 'constrain': 1330, 'folk': 1331, 'helped': 1332, 'helpline': 1333, 'hint': 1334, 'maternal': 1335, 'parent': 1336, 'pregnant': 1337, 'setting': 1338, 'sized': 1339, 'south': 1340, 'ESDA': 1341, 'Fiona': 1342, 'Folium': 1343, 'GDAL': 1344, 'Geopandas': 1345, 'Leaflet': 1346, 'Libpysal': 1347, 'OSMnx': 1348, 'Pydeck': 1349, 'Pyproj': 1350, 'Rasterio': 1351, 'Shapely': 1352, 'Whitebox': 1353, 'beginner': 1354, 'expand': 1355, 'intermediate': 1356, 'reprojecte': 1357, 'spatial': 1358, 'accept': 1359, 'adopt': 1360, 'adrenaline': 1361, 'break': 1362, 'continue': 1363, 'contribution': 1364, 'contributor': 1365, 'cv': 1366, 'dedicate': 1367, 'excited': 1368, 'finish': 1369, 'group': 1370, 'guide': 1371, 'meeting': 1372, 'rush': 1373, 'scientific': 1374, 'wrangle': 1375, 'advanced': 1376, 'caching': 1377, 'callable': 1378, 'class': 1379, 'closure': 1380, 'comfortable': 1381, 'concern': 1382, 'cross': 1383, 'instance': 1384, 'log': 1385, 'metaclasse': 1386, 'modularity': 1387, 'permission': 1388, 'return': 1389, 'usable': 1390, 'Pydantic': 1391, 'colleague': 1392, 'criticism': 1393, 'ensemble': 1394, 'listen': 1395, 'supportive': 1396, 'typo': 1397, 'validation': 1398, 'adipisce': 1399, 'aliqua': 1400, 'consectetur': 1401, 'dolore': 1402, 'eiusmod': 1403, 'elit': 1404, 'et': 1405, 'incididunt': 1406, 'joy': 1407, 'labore': 1408, 'magna': 1409, 'meaningful': 1410, 'perfect': 1411, 'random': 1412, 'randomly': 1413, 'sed': 1414, 'tempor': 1415, 'uncertain': 1416, 'ut': 1417, 'People': 1418, 'algorithmic': 1419, 'beautiful': 1420, 'beginning': 1421, 'correspond': 1422, 'notch': 1423, 'numerical': 1424, 'safety': 1425, 'sketch': 1426, 'struggle': 1427, 'worry': 1428, 'Synthetic': 1429, 'Vault': 1430, 'administration': 1431, 'bad': 1432, 'copy': 1433, 'dormant': 1434, 'exact': 1435, 'huge': 1436, 'identifiable': 1437, 'listener': 1438, 'multi': 1439, 'owner': 1440, 'protection': 1441, 'recreate': 1442, 'statistical': 1443, 'synthesize': 1444, 'DocArray': 1445, 'SQLModel': 1446, 'beartype': 1447, 'center': 1448, 'eat': 1449, 'infiltrate': 1450, 'mypy': 1451, 'clean': 1452, 'coding': 1453, 'complain': 1454, 'maintainer': 1455, 'rewrite': 1456, 'tox': 1457, 'comment': 1458, 'disagree': 1459, 'land': 1460, 'maximum': 1461, 'pr': 1462, 'war': 1463, 'career': 1464, 'demographic': 1465, 'initiative': 1466, 'male': 1467, 'participation': 1468, 'remain': 1469, 'underrepresented': 1470, 'white': 1471, 'Amazon': 1472, 'DataFrames': 1473, 'Netflix': 1474, 'PySpark': 1475, 'amount': 1476, 'foundational': 1477, 'giant': 1478, 'introductory': 1479, 'tech': 1480, 'disk': 1481, 'lightgbm': 1482, 'pickle': 1483, 'pickled': 1484, 'scikit': 1485, 'shrink': 1486, 'generator': 1487, 'Streamlit': 1488, 'Wasm': 1489, 'app': 1490, 'convenience': 1491, 'perspective': 1492, 'port': 1493, 'stlite': 1494, 'Natural': 1495, 'detour': 1496, 'file': 1497, 'lightweight': 1498, 'microservice': 1499, 'necessary': 1500, 'running': 1501, 'shortcut': 1502, 'slim': 1503, 'speak': 1504, 'trick': 1505, 'ES': 1506, 'XLA': 1507, 'accelerator': 1508, 'asynchronous': 1509, 'auto': 1510, 'black': 1511, 'box': 1512, 'compilation': 1513, 'evolution': 1514, 'evosax': 1515, 'have': 1516, 'neuroevolution': 1517, 'roberttlange': 1518, 'throughput': 1519, 'tired': 1520, 'DAG': 1521, 'ETL': 1522, 'Modern': 1523, 'Powered': 1524, 'advent': 1525, 'begin': 1526, 'dbt': 1527, 'demand': 1528, 'demystify': 1529, 'etl': 1530, 'grow': 1531, 'hearted': 1532, 'lexicon': 1533, 'lineage': 1534, 'making': 1535, 'maturity': 1536, 'mesh': 1537, 'modelling': 1538, 'nuance': 1539, 'path': 1540, 'prescriptive': 1541, 'revenue': 1542, 'reverse': 1543, 'revolution': 1544, 'say': 1545, 'serve': 1546, 'shift': 1547, 'tax': 1548, 'trend': 1549, 'trodden': 1550, 'Monorepos': 1551, 'linter': 1552, 'styling': 1553, 'adherence': 1554, 'artificial': 1555, 'authority': 1556, 'consumer': 1557, 'contemporary': 1558, 'deviate': 1559, 'fair': 1560, 'fairness': 1561, 'guarantee': 1562, 'guideline': 1563, 'impartial': 1564, 'influence': 1565, 'intelligence': 1566, 'misunderstood': 1567, 'ought': 1568, 'prejudicial': 1569, 'responsible': 1570, 'uphold': 1571, 'word': 1572, 'LangChain': 1573, 'Twitter': 1574, 'agent': 1575, 'chatgpt': 1576, 'joke': 1577, 'prompt': 1578, 'abstraction': 1579, 'asynchronicity': 1580, 'awake': 1581, 'commerce': 1582, 'connected': 1583, 'economy': 1584, 'error': 1585, 'external': 1586, 'import': 1587, 'island': 1588, 'isolate': 1589, 'item': 1590, 'masse': 1591, 'pesky': 1592, 'route': 1593, 'ruler': 1594, 'sea': 1595, 'succeed': 1596, 'trade': 1597, 'treacherous': 1598, 'Differential': 1599, 'Privacy': 1600, 'PyDP': 1601, 'assimilate': 1602, 'claim': 1603, 'cybersecurity': 1604, 'era': 1605, 'hot': 1606, 'leak': 1607, 'misuse': 1608, 'preserve': 1609, 'privacy': 1610, 'Asynchronicity': 1611, 'IO': 1612, 'POST': 1613, 'completion': 1614, 'enhance': 1615, 'execution': 1616, 'failure': 1617, 'heavy': 1618, 'improved': 1619, 'notify': 1620, 'numerous': 1621, 'primary': 1622, 'respond': 1623, 'responsiveness': 1624, 'thread': 1625, 'website': 1626, 'Code': 1627, 'Conduct': 1628, 'Foundation': 1629, 'Software': 1630, 'spectrum': 1631, 'true': 1632, 'unbalanced': 1633, 'vote': 1634, 'CNN': 1635, 'DINO': 1636, 'Milvus': 1637, 'SSL': 1638, 'classical': 1639, 'distance': 1640, 'embedding': 1641, 'evolutionary': 1642, 'extractor': 1643, 'index': 1644, 'label': 1645, 'retrieval': 1646, 'supervise': 1647, 'vit': 1648, 'Analysis': 1649, 'Geometric': 1650, 'TDA': 1651, 'Topological': 1652, 'academic': 1653, 'bench': 1654, 'bubble': 1655, 'couple': 1656, 'element': 1657, 'emerge': 1658, 'encode': 1659, 'euclidean': 1660, 'extent': 1661, 'geometric': 1662, 'geometry': 1663, 'intersection': 1664, 'movement': 1665, 'originate': 1666, 'review': 1667, 'school': 1668, 'shape': 1669, 'tda': 1670, 'topology': 1671, 'Classic': 1672, 'JupyterLab': 1673, 'Notebook': 1674, 'decide': 1675, 'interface': 1676, 'popularity': 1677, 'unchanged': 1678, 'Dynamic': 1679, 'Pricing': 1680, 'brief': 1681, 'criterion': 1682, 'fulfil': 1683, 'price': 1684, 'purchase': 1685, 'ride': 1686, 'strike': 1687, 'accelerated': 1688, 'interchange': 1689, 'Zarr': 1690, 'array': 1691, 'chunked': 1692, 'compressed': 1693, 'dimensional': 1694, 'format': 1695, 'interoperate': 1696, 'n': 1697, 'spec': 1698, 'systematic': 1699, 'zarr': 1700, 'Mutation': 1701, 'coverage': 1702, 'mutant': 1703, 'penguin': 1704, 'target': 1705, 'Magic': 1706, 'commodity': 1707, 'compound': 1708, 'compression': 1709, 'counterpart': 1710, 'dense': 1711, 'distillation': 1712, 'drop': 1713, 'forget': 1714, 'gpu': 1715, 'hardware': 1716, 'magnitude': 1717, 'noticeable': 1718, 'order': 1719, 'pruning': 1720, 'quantization': 1721, 'sparsity': 1722, 'specialized': 1723, 'speedup': 1724, 'unstructured': 1725, 'Answering': 1726, 'Question': 1727, 'haystack': 1728, 'sustainability': 1729, 'anchor': 1730, 'hinge': 1731, 'output': 1732, 'robustness': 1733, 'sound': 1734, 'Engineers': 1735, 'Feast': 1736, 'MLflow': 1737, 'SaaS': 1738, 'Scientists': 1739, 'Terraform': 1740, 'accessible': 1741, 'associate': 1742, 'eliminate': 1743, 'entire': 1744, 'innovative': 1745, 'lock': 1746, 'maintainable': 1747, 'maintenance': 1748, 'novel': 1749, 'vendor': 1750, 'catalog': 1751, 'host': 1752, 'migration': 1753, 'overall': 1754, 'DevOps': 1755, 'Discover': 1756, 'IfC': 1757, 'Infrastructure': 1758, 'automation': 1759, 'empower': 1760, 'revolutionize': 1761, 'strategic': 1762, 'sustainable': 1763, 'template': 1764, 'Application': 1765, 'Security': 1766, 'age': 1767, 'bore': 1768, 'devs': 1769, 'ignore': 1770, 'myth': 1771, 'piece': 1772, 'scary': 1773, 'transition': 1774, 'writing': 1775, 'JupyterLite': 1776, 'asset': 1777, 'instal': 1778, 'jupyter': 1779, 'multimedia': 1780, 'mature': 1781, 'planner': 1782, 'put': 1783, 'warming': 1784, 'block': 1785, 'brick': 1786, 'enrich': 1787, 'intimidating': 1788, 'programmer': 1789, 'Dependency': 1790, 'Injection': 1791, 'Ports': 1792, 'Repository': 1793, 'Unit': 1794, 'Work': 1795, 'applicable': 1796, 'enterprise': 1797, 'famous': 1798, 'matter': 1799, 'testable': 1800, 'tie': 1801, 'varied': 1802, 'Products': 1803, 'amplify': 1804, 'biased': 1805, 'confirm': 1806, 'consequence': 1807, 'original': 1808, 'reflect': 1809, 'unchecked': 1810, 'Arxiv': 1811, 'Microsoft': 1812, 'attract': 1813, 'exciting': 1814, 'explode': 1815, 'institution': 1816, 'paper': 1817, 'posit': 1818, 'publish': 1819, 'talent': 1820, 'translate': 1821}\n"
     ]
    }
   ],
   "source": [
    "print(dictionary.token2id)"
   ]
  },
  {
   "cell_type": "code",
   "execution_count": 40,
   "id": "d9808355-c2ef-4f1c-8d75-b33fae040d46",
   "metadata": {},
   "outputs": [],
   "source": [
    "# Filter out low and high frequency tokens, and limit the vocabulary to a max of 1000 words\n",
    "dictionary.filter_extremes(no_below=5, no_above=0.5, keep_n=1000)"
   ]
  },
  {
   "cell_type": "code",
   "execution_count": 44,
   "id": "48a5ce0a-6f8a-4143-a47e-0cfa178416d9",
   "metadata": {},
   "outputs": [
    {
     "data": {
      "text/plain": [
       "[[(0, 1), (1, 1), (2, 1), (3, 1), (4, 1), (5, 3), (6, 1), (7, 1), (8, 1)],\n",
       " [(1, 1), (3, 1), (4, 1), (9, 1), (10, 1), (11, 1), (12, 1), (13, 1), (14, 3)],\n",
       " [(9, 3),\n",
       "  (13, 1),\n",
       "  (15, 2),\n",
       "  (16, 1),\n",
       "  (17, 1),\n",
       "  (18, 2),\n",
       "  (19, 1),\n",
       "  (20, 2),\n",
       "  (21, 1),\n",
       "  (22, 2),\n",
       "  (23, 1),\n",
       "  (24, 1),\n",
       "  (25, 1),\n",
       "  (26, 1),\n",
       "  (27, 1),\n",
       "  (28, 2)]]"
      ]
     },
     "execution_count": 44,
     "metadata": {},
     "output_type": "execute_result"
    }
   ],
   "source": [
    "# Build Bag of Word, use function doc2bow() to count the frequency of each word,\n",
    "# format = list of `(token_id, token_count)` tuples.\n",
    "BoW = [dictionary.doc2bow(abstract) for abstract in df['tokens']]\n",
    "BoW[:3]"
   ]
  },
  {
   "cell_type": "markdown",
   "id": "69aa6a86-46b4-411d-9899-ac8c9dc6bb9d",
   "metadata": {
    "scrolled": true
   },
   "source": [
    "### Build Model"
   ]
  },
  {
   "cell_type": "code",
   "execution_count": 48,
   "id": "c6df36db-f6d3-4aa8-8c0d-52b67daa1367",
   "metadata": {},
   "outputs": [],
   "source": [
    "# lda_model = LdaMulticore(corpus=BoW, id2word=dictionary, iterations=50,\n",
    "#                         num_topics=10, workers=4, passes=10)"
   ]
  },
  {
   "cell_type": "markdown",
   "id": "e0eb72dd-c14f-4d73-872b-6a41dbbc680f",
   "metadata": {},
   "source": [
    "Get the optimal number of topics<br>\n",
    "Metric - coherence score: the degree of semantic similarity between high scoring words in each topic"
   ]
  },
  {
   "cell_type": "code",
   "execution_count": null,
   "id": "0df87baa-aa2a-47b1-9dad-e98faca292b6",
   "metadata": {},
   "outputs": [],
   "source": [
    "# Iterate different number of topics and save the score in the lists\n",
    "topics = []\n",
    "score = []\n",
    "for i in range(1,20,1):\n",
    "    lda_model = LdaMulticore(corpus=BoW, id2word=dictionary, iterations=10, num_topics=i, workers = 4, passes=10, random_state=100)\n",
    "    cm = CoherenceModel(model=lda_model, corpus=BoW, dictionary=dictionary, coherence='u_mass')\n",
    "    topics.append(i)\n",
    "    score.append(cm.get_coherence())\n",
    "_=plt.plot(topics, score)\n",
    "_=plt.xlabel('Number of Topics')\n",
    "_=plt.ylabel('Coherence Score(C_umass)')\n",
    "plt.show()"
   ]
  },
  {
   "cell_type": "code",
   "execution_count": null,
   "id": "10b2f9b9-b1fa-4270-83ea-1f546ade391c",
   "metadata": {},
   "outputs": [],
   "source": [
    "topics = []\n",
    "score = []\n",
    "for i in range(1,20,1):\n",
    "    lda_model = LdaMulticore(corpus=BoW, id2word=dictionary, iterations=10, num_topics=i, workers = 4, passes=10, random_state=100)\n",
    "    cm = CoherenceModel(model=lda_model, texts = df['tokens'], corpus=BoW, dictionary=dictionary, coherence='c_v')\n",
    "    topics.append(i)\n",
    "    score.append(cm.get_coherence())\n",
    "_=plt.plot(topics, score)\n",
    "_=plt.xlabel('Number of Topics')\n",
    "_=plt.ylabel('Coherence Score(C_v)')\n",
    "plt.show()"
   ]
  },
  {
   "cell_type": "code",
   "execution_count": null,
   "id": "25148676-37fa-4ae3-8842-1d0df8d7b050",
   "metadata": {},
   "outputs": [],
   "source": [
    "# choose 6\n",
    "lda_model = LdaMulticore(corpus=BoW, id2word=dictionary, iterations=100, num_topics=6, workers = 4, passes=100)"
   ]
  },
  {
   "cell_type": "code",
   "execution_count": 46,
   "id": "452f1616-1f4c-4e2d-9623-1b19c67a7698",
   "metadata": {},
   "outputs": [
    {
     "data": {
      "text/plain": [
       "[(0,\n",
       "  '0.054*\"machine\" + 0.043*\"model\" + 0.041*\"learning\" + 0.039*\"learn\" + 0.025*\"ML\" + 0.021*\"approach\" + 0.020*\"production\" + 0.017*\"tool\" + 0.016*\"programming\" + 0.015*\"base\"'),\n",
       " (1,\n",
       "  '0.031*\"process\" + 0.031*\"platform\" + 0.031*\"ML\" + 0.031*\"learn\" + 0.021*\"code\" + 0.021*\"tool\" + 0.021*\"challenge\" + 0.021*\"present\" + 0.021*\"text\" + 0.021*\"build\"'),\n",
       " (2,\n",
       "  '0.047*\"datum\" + 0.045*\"Python\" + 0.041*\"new\" + 0.029*\"panda\" + 0.022*\"user\" + 0.021*\"processing\" + 0.020*\"provide\" + 0.019*\"large\" + 0.018*\"project\" + 0.018*\"Jupyter\"'),\n",
       " (3,\n",
       "  '0.060*\"problem\" + 0.048*\"Python\" + 0.036*\"write\" + 0.036*\"code\" + 0.036*\"solve\" + 0.036*\"ML\" + 0.025*\"performance\" + 0.025*\"high\" + 0.025*\"user\" + 0.025*\"leverage\"'),\n",
       " (4,\n",
       "  '0.045*\"use\" + 0.042*\"model\" + 0.028*\"provide\" + 0.024*\"case\" + 0.022*\"answer\" + 0.021*\"question\" + 0.019*\"algorithm\" + 0.019*\"change\" + 0.018*\"task\" + 0.018*\"tutorial\"'),\n",
       " (5,\n",
       "  '0.091*\"test\" + 0.069*\"use\" + 0.052*\"year\" + 0.043*\"code\" + 0.032*\"application\" + 0.028*\"python\" + 0.027*\"write\" + 0.019*\"work\" + 0.019*\"speed\" + 0.019*\"developer\"'),\n",
       " (6,\n",
       "  '0.089*\"datum\" + 0.023*\"use\" + 0.018*\"case\" + 0.016*\"machine\" + 0.015*\"insight\" + 0.015*\"software\" + 0.014*\"real\" + 0.014*\"learning\" + 0.013*\"library\" + 0.013*\"open\"'),\n",
       " (7,\n",
       "  '0.079*\"model\" + 0.032*\"datum\" + 0.019*\"large\" + 0.019*\"time\" + 0.017*\"train\" + 0.017*\"performance\" + 0.016*\"task\" + 0.016*\"build\" + 0.015*\"technique\" + 0.015*\"learn\"'),\n",
       " (8,\n",
       "  '0.058*\"datum\" + 0.032*\"application\" + 0.031*\"source\" + 0.030*\"tool\" + 0.030*\"use\" + 0.029*\"open\" + 0.028*\"Python\" + 0.023*\"project\" + 0.023*\"build\" + 0.023*\"library\"'),\n",
       " (9,\n",
       "  '0.060*\"Python\" + 0.050*\"code\" + 0.032*\"application\" + 0.032*\"datum\" + 0.030*\"learn\" + 0.026*\"performance\" + 0.021*\"build\" + 0.020*\"problem\" + 0.019*\"data\" + 0.016*\"production\"')]"
      ]
     },
     "execution_count": 46,
     "metadata": {},
     "output_type": "execute_result"
    }
   ],
   "source": [
    "lda_model.print_topics(-1)"
   ]
  },
  {
   "cell_type": "code",
   "execution_count": null,
   "id": "7d2f1665-2cf5-4272-b3fe-518d57cf5ae3",
   "metadata": {},
   "outputs": [],
   "source": [
    "df['abstract'][0]"
   ]
  },
  {
   "cell_type": "code",
   "execution_count": null,
   "id": "d3accf21-3733-4ba0-9c93-26076332cd25",
   "metadata": {},
   "outputs": [],
   "source": [
    "lda_model[corpus][0]"
   ]
  },
  {
   "cell_type": "code",
   "execution_count": 47,
   "id": "02e3ab19-adaa-4541-9040-1516f54e811d",
   "metadata": {},
   "outputs": [
    {
     "data": {
      "text/html": [
       "\n",
       "<link rel=\"stylesheet\" type=\"text/css\" href=\"https://cdn.jsdelivr.net/gh/bmabey/pyLDAvis@3.4.0/pyLDAvis/js/ldavis.v1.0.0.css\">\n",
       "\n",
       "\n",
       "<div id=\"ldavis_el609953838807688282925666\" style=\"background-color:white;\"></div>\n",
       "<script type=\"text/javascript\">\n",
       "\n",
       "var ldavis_el609953838807688282925666_data = {\"mdsDat\": {\"x\": [0.0022108618510620973, -0.12528091340108782, 0.10239574405755811, -0.06134722669682368, -0.14157624298011354, 0.08809845024966159, -0.0535760595574475, 0.1455986617708666, -0.043099624129003325, 0.08657634883532755], \"y\": [-0.06467314751013614, -0.0010837280383298926, -0.17501913335065403, -0.04460248168591268, 0.017543273733243648, 0.021006976750857307, 0.09069856813645714, 0.1423958702983689, 0.009540558449813476, 0.004193243216292294], \"topics\": [1, 2, 3, 4, 5, 6, 7, 8, 9, 10], \"cluster\": [1, 1, 1, 1, 1, 1, 1, 1, 1, 1], \"Freq\": [16.12516582009535, 16.06048435033413, 15.222416774282054, 13.977251481851644, 13.037271961209882, 11.664356377092982, 6.103366971258117, 2.9809974308305747, 2.609784018536991, 2.218904814508272]}, \"tinfo\": {\"Term\": [\"model\", \"Python\", \"use\", \"code\", \"test\", \"problem\", \"datum\", \"ML\", \"machine\", \"application\", \"learn\", \"year\", \"write\", \"performance\", \"solve\", \"user\", \"build\", \"provide\", \"platform\", \"panda\", \"library\", \"tool\", \"process\", \"tutorial\", \"project\", \"introduce\", \"new\", \"community\", \"python\", \"high\", \"method\", \"product\", \"number\", \"bias\", \"power\", \"addition\", \"deep\", \"recent\", \"allow\", \"creation\", \"source\", \"open\", \"pitfall\", \"day\", \"project\", \"integration\", \"algorithm\", \"tool\", \"application\", \"Apache\", \"make\", \"address\", \"want\", \"library\", \"improvement\", \"past\", \"highlight\", \"developer\", \"build\", \"understanding\", \"introduce\", \"data\", \"datum\", \"use\", \"work\", \"Python\", \"learn\", \"feature\", \"new\", \"example\", \"language\", \"discuss\", \"model\", \"case\", \"learning\", \"create\", \"machine\", \"query\", \"enable\", \"train\", \"human\", \"deploy\", \"complex\", \"database\", \"technique\", \"decision\", \"information\", \"model\", \"focus\", \"web\", \"set\", \"art\", \"generate\", \"prediction\", \"potential\", \"time\", \"show\", \"go\", \"way\", \"large\", \"state\", \"domain\", \"cost\", \"result\", \"future\", \"study\", \"classification\", \"issue\", \"task\", \"framework\", \"performance\", \"discuss\", \"build\", \"language\", \"datum\", \"present\", \"learning\", \"learn\", \"challenge\", \"source\", \"use\", \"new\", \"open\", \"machine\", \"panda\", \"memory\", \"Jupyter\", \"computing\", \"user\", \"significant\", \"scientist\", \"support\", \"processing\", \"community\", \"offer\", \"PyData\", \"new\", \"standard\", \"ease\", \"highlight\", \"require\", \"text\", \"lot\", \"tutorial\", \"functionality\", \"efficient\", \"workshop\", \"solve\", \"Rust\", \"provide\", \"version\", \"experience\", \"environment\", \"bring\", \"large\", \"Python\", \"project\", \"datum\", \"work\", \"feature\", \"tool\", \"data\", \"performance\", \"package\", \"value\", \"combine\", \"software\", \"journey\", \"implementation\", \"life\", \"choose\", \"common\", \"Data\", \"insight\", \"engineering\", \"good\", \"design\", \"practice\", \"role\", \"real\", \"business\", \"study\", \"modern\", \"end\", \"share\", \"technical\", \"gain\", \"hand\", \"cover\", \"workflow\", \"datum\", \"start\", \"pitfall\", \"team\", \"case\", \"know\", \"development\", \"time\", \"use\", \"create\", \"machine\", \"learning\", \"library\", \"open\", \"project\", \"learn\", \"model\", \"source\", \"approach\", \"lifecycle\", \"programming\", \"benefit\", \"type\", \"machine\", \"metric\", \"cloud\", \"production\", \"approach\", \"component\", \"quality\", \"learning\", \"dive\", \"ensure\", \"ML\", \"manage\", \"scale\", \"multiple\", \"single\", \"business\", \"MLOps\", \"allow\", \"base\", \"system\", \"cover\", \"classification\", \"idea\", \"deploy\", \"prediction\", \"architecture\", \"learn\", \"leverage\", \"model\", \"help\", \"cost\", \"tool\", \"challenge\", \"run\", \"work\", \"explore\", \"Python\", \"application\", \"present\", \"open\", \"use\", \"attendee\", \"reason\", \"automate\", \"Rust\", \"future\", \"code\", \"idea\", \"change\", \"gain\", \"level\", \"team\", \"concept\", \"pipeline\", \"avoid\", \"science\", \"decision\", \"production\", \"go\", \"life\", \"fast\", \"find\", \"problem\", \"implement\", \"speed\", \"Python\", \"performance\", \"core\", \"workflow\", \"write\", \"world\", \"application\", \"explore\", \"build\", \"data\", \"learn\", \"datum\", \"work\", \"language\", \"look\", \"real\", \"create\", \"developer\", \"question\", \"answer\", \"change\", \"nlp\", \"face\", \"algorithm\", \"tune\", \"think\", \"NLP\", \"improve\", \"cost\", \"provide\", \"tutorial\", \"ensure\", \"train\", \"practical\", \"database\", \"simple\", \"help\", \"creation\", \"number\", \"low\", \"addition\", \"technical\", \"single\", \"topic\", \"implement\", \"ease\", \"case\", \"significant\", \"search\", \"big\", \"use\", \"web\", \"design\", \"task\", \"want\", \"model\", \"lot\", \"experience\", \"performance\", \"code\", \"application\", \"work\", \"problem\", \"environment\", \"year\", \"test\", \"year\", \"discover\", \"quality\", \"manage\", \"python\", \"avoid\", \"speed\", \"come\", \"version\", \"write\", \"tune\", \"start\", \"make\", \"developer\", \"business\", \"way\", \"community\", \"use\", \"well\", \"PyData\", \"code\", \"change\", \"overview\", \"Data\", \"know\", \"high\", \"application\", \"example\", \"need\", \"base\", \"science\", \"project\", \"work\", \"create\", \"library\", \"look\", \"Python\", \"data\", \"time\", \"discover\", \"platform\", \"choose\", \"evaluate\", \"classification\", \"develop\", \"team\", \"text\", \"tune\", \"think\", \"aim\", \"process\", \"implementation\", \"ML\", \"present\", \"show\", \"journey\", \"understanding\", \"require\", \"question\", \"information\", \"step\", \"challenge\", \"hand\", \"answer\", \"database\", \"system\", \"service\", \"help\", \"programming\", \"learn\", \"build\", \"code\", \"tool\", \"model\", \"Python\", \"tutorial\", \"use\", \"work\", \"provide\", \"introduce\", \"practical\", \"machine\", \"application\", \"want\", \"need\", \"problem\", \"solve\", \"hand\", \"write\", \"organization\", \"leverage\", \"today\", \"analysis\", \"high\", \"api\", \"introduce\", \"user\", \"ML\", \"handle\", \"deep\", \"session\", \"speed\", \"dive\", \"core\", \"scale\", \"easy\", \"want\", \"allow\", \"lot\", \"code\", \"example\", \"experience\", \"performance\", \"library\", \"tutorial\", \"Python\", \"world\", \"learn\", \"know\", \"process\", \"use\"], \"Freq\": [79.0, 71.0, 56.0, 38.0, 14.0, 21.0, 120.0, 22.0, 40.0, 41.0, 54.0, 13.0, 15.0, 30.0, 13.0, 14.0, 33.0, 22.0, 13.0, 14.0, 31.0, 38.0, 20.0, 16.0, 29.0, 13.0, 35.0, 14.0, 10.0, 12.0, 3.8203432022501236, 5.360498254740096, 2.8787003548810035, 4.750439016678576, 5.173293359840512, 2.7620286271135646, 4.057613299021311, 3.6289479103043956, 6.26151709556891, 2.6006283099283007, 15.786136893028358, 14.63794612273414, 2.752894679241598, 3.546951419965554, 11.770750244448601, 2.264862487487097, 4.7559750827722365, 15.030692553142572, 16.088135424680672, 4.347240560827221, 3.78711604968882, 2.412435499872198, 4.316769282356975, 11.34379880084347, 1.9592431591013688, 1.9541273953731138, 1.9572087553571595, 4.746342851539669, 11.392056761000342, 2.8140724652110736, 4.632950300613651, 9.184926632303718, 29.082035466456833, 14.990019910779177, 8.672952287502746, 13.927286022871447, 10.747074663699395, 5.553441241460024, 6.802094448520464, 4.197655007435693, 5.0851465423154245, 4.709397396772697, 6.465947489581006, 4.667756714468949, 4.595484816661332, 4.408574074961014, 4.545468952091038, 6.632441550823319, 5.680077148748019, 8.505863201448095, 3.8327739037464035, 4.775643456091377, 4.694147509679019, 5.457380187596974, 7.433001540852553, 2.897593852220561, 4.708336918665268, 39.520935866429895, 4.529045650247566, 5.670450950103101, 3.83553875182093, 2.5165208413072264, 2.457601770475127, 3.2936136243723646, 2.800837677124627, 9.451377897360324, 3.4390839446115775, 3.8388466950529527, 5.275143349903107, 9.530477890522114, 2.5140771459866396, 2.8757801510961842, 4.218710550709974, 3.523658672319861, 2.4038400076459245, 2.3647408825165357, 1.9649336504391905, 3.6099178799913396, 8.169561539358822, 4.777124158926437, 8.504913949363209, 6.408001654784322, 8.002935659897071, 6.1072205585662545, 16.084341583407962, 4.403554804091375, 6.371310593089116, 7.3483010535451925, 4.558657843843606, 5.4368874280392, 5.894721303571489, 4.37301804455397, 4.339823099713109, 4.301920088103832, 13.584988880398573, 6.713202685885633, 8.71578258556513, 6.447875862508991, 10.451959796621102, 3.9477005604000435, 4.504338317412296, 6.366441207125014, 9.82830318388501, 8.611258104927753, 6.323899279077929, 4.664340714387362, 19.341466586138587, 3.625619968997779, 2.9004018093971724, 2.880951693223763, 4.191791737446926, 5.480360885441297, 6.431480947583452, 7.777539796047662, 2.604297823243949, 2.989990658069033, 2.989438819103664, 6.185997811930322, 4.910626444631725, 9.391098388998554, 2.6571763573191616, 5.647131476958825, 5.43578200940524, 4.332407810832978, 9.126000247689161, 21.25834501155387, 8.734732294164743, 22.069857320467495, 8.543641497236626, 5.6461443474175725, 8.034781516374885, 5.664479086674177, 5.070175009241671, 4.621962661314916, 3.799819507479859, 3.794376743405164, 6.428885747937355, 4.568310068226475, 3.826751602893782, 2.892766882993565, 2.753142371600667, 3.708941521282646, 4.817615578728539, 6.481128500149071, 4.434871750513768, 5.506439995948829, 3.820564598494283, 3.827990787356159, 2.6423454173639485, 6.213652337795343, 2.881638747091236, 2.442889618356019, 3.8242156728981542, 4.761210998948871, 3.6146017636399956, 1.960032292266384, 2.2619921977088344, 3.4232132297867945, 3.454831282801334, 2.786708785792314, 38.87990907267096, 3.5447392433464464, 2.0796456162984835, 3.4991991130141593, 7.79273451831605, 5.309263331595697, 4.56274569625557, 5.707514193375483, 10.023688935355093, 5.54074315131168, 7.1595254456290265, 6.172062031931949, 5.754995996450587, 5.721861898329966, 4.776008247759676, 5.212168344384587, 5.658071260294171, 4.180379257878703, 3.8300751466971947, 4.798139143964129, 6.397770672516803, 5.518384741275855, 3.774049074646978, 21.883982839571043, 3.4775469060717854, 5.161925532356191, 8.289762673791392, 8.411662530144145, 4.80556916634981, 2.924577008658519, 16.692490725844163, 4.171615579062724, 2.9246046098815692, 10.149099025307372, 2.7889149178237957, 4.374722770815792, 2.336835430735973, 2.3054723122238894, 2.9221983881899267, 2.9166322045580104, 5.033611983584309, 6.126266893848058, 3.8457192422361683, 3.8768201491292773, 1.9819897590678939, 2.921809324374606, 2.863286980480314, 2.53019182877349, 3.3492360039925235, 15.680112649474891, 3.5356675198360694, 17.284533179276202, 3.3219463344739832, 3.493093578528881, 7.014108251815938, 4.117371235691702, 3.6698484080502696, 4.315457273443354, 3.5457249517967373, 4.694139626006635, 4.134671531059834, 3.4890668247551546, 3.5541270665723, 3.514079204322601, 3.826855536225686, 4.081479414982408, 2.807753142407773, 5.675316997415773, 3.125609122890936, 18.321413606358924, 3.830935899646727, 3.8217921238822825, 2.5112788142685005, 2.877057753151881, 4.118511875969654, 4.442860512325809, 4.08061036725992, 1.9629599363285055, 5.306616481788417, 1.9599312931757467, 5.903259521164392, 3.258655627077246, 1.9393559371520397, 2.8972363038122255, 4.066169425949955, 7.188338554177604, 3.372833072130558, 2.8958483307466865, 21.778330513035765, 9.284533756323073, 3.059316917739961, 2.5298953455210635, 4.3688341545554294, 5.266168382477324, 11.67843987825809, 4.634389632047927, 7.597879576807016, 6.994572372334499, 10.77836691527926, 11.542455728909426, 5.885322430297433, 4.7683616771329245, 3.7547337088864507, 3.5947744644673665, 3.9006271672794313, 3.3191713203912383, 3.930880941535816, 4.1501468895010944, 3.662021779479362, 2.9433497689533987, 1.6986767068812296, 3.672780918045981, 1.8819328885969073, 1.8825283371053652, 2.5610679323893106, 3.1723588404916723, 2.7718349326335407, 5.4016918592557435, 3.4122467067177644, 1.3271456895972267, 2.3285895413606164, 2.255447259191633, 1.8828807562433971, 2.045009667292896, 1.8562139027827183, 0.984772178557051, 0.9863266460960751, 0.9835748208176148, 0.9828383869533345, 0.9861901743957122, 0.9909665954053679, 0.9838939628095142, 1.8060760409327659, 0.9905230181276642, 4.57077815889766, 0.9871368915025751, 1.1287848696470824, 1.8817509263297565, 8.560557879027222, 1.9717648985940677, 1.5291712437682723, 3.504058706909815, 1.8814181548684306, 8.001545721511377, 1.8840734233212775, 1.9479943958896007, 3.091090739452957, 3.2904173046653327, 2.6148298170579807, 2.3265672467086747, 1.9953192768547692, 1.8829257157918955, 1.8817682729272087, 8.491441858469754, 4.843857108512642, 1.7635247401885976, 1.783201282537374, 1.7831865855180713, 2.6324018011948067, 1.289375295794443, 1.7840365919521048, 1.7637979318415213, 1.1660039337543484, 2.509514662714214, 0.9340241062047164, 1.567721885012116, 1.3465662392729298, 1.7832201293033036, 0.9340305901838206, 1.6208023315507576, 1.7571884229018617, 6.434803223427136, 0.9340463246397802, 0.9341806726868193, 3.9758978331353694, 0.9340394083954023, 0.9340370741629248, 0.934034221212119, 1.5782878315481053, 0.9347315515515122, 3.016100860975051, 0.9340458923745065, 0.9340392354892929, 1.0734465152907364, 0.9953447392011971, 1.6087075491950522, 1.7843007924873373, 1.2300538032353698, 1.1750146762889309, 0.9746580793610408, 1.0397143488520892, 0.9805387890493881, 0.9381838813857537, 1.724729762335412, 2.5460846630539096, 0.9034197442163941, 0.9034180034073082, 0.9034138406029719, 0.9033467816094831, 1.7247261293425369, 1.7247340008271, 0.9034961884414773, 0.9034204254025583, 0.9033635085141796, 2.546095864781942, 0.9034148245385423, 2.5460437918840633, 1.7247444456816163, 0.904995706250732, 0.9034144461017845, 0.9034240583954335, 0.9034156570994095, 0.9035586305065205, 0.9034419206104034, 0.9033400454351936, 1.7248714490575465, 0.9034295835720979, 0.9036019993589687, 0.9035506076472544, 0.9034239070207304, 0.9034185332187691, 0.9033377748146466, 0.9041397579918555, 2.5459617467949642, 1.7247308219583342, 1.7258968612965826, 1.725794077873154, 1.7246242541673271, 0.9071060966744878, 0.9070088384277236, 0.905802760480496, 0.9048461480440347, 0.9043219374470784, 0.9042505642745503, 0.9042420116038232, 0.9040945726429698, 0.903903083643504, 0.9035260849453465, 0.9034872573339924, 4.135121434033968, 2.512650307218366, 1.704199739943719, 2.5198671782923747, 0.8878419407069335, 1.7050552263015486, 0.8988939569943898, 0.8872618136183346, 1.7124455885159748, 1.7042140259352518, 1.7020595439689412, 1.7073599042328944, 2.51054241560282, 0.8930508577548135, 0.8907450858511433, 0.8858702808214558, 0.8940528077015117, 0.8897729305624618, 0.8965734486399942, 0.8928105699512829, 0.894909709788232, 0.8948179448155928, 0.8931830997034625, 0.889737666042822, 2.5194257282837462, 0.8939418660375357, 0.8940667075851654, 1.7133287459384854, 1.7035441287647235, 0.894665947013788, 3.336276587282356, 0.8953870034783195, 0.8967788580317644, 0.8937998426892786, 0.8934941739515254, 0.8934645079961351], \"Total\": [79.0, 71.0, 56.0, 38.0, 14.0, 21.0, 120.0, 22.0, 40.0, 41.0, 54.0, 13.0, 15.0, 30.0, 13.0, 14.0, 33.0, 22.0, 13.0, 14.0, 31.0, 38.0, 20.0, 16.0, 29.0, 13.0, 35.0, 14.0, 10.0, 12.0, 5.571199713788785, 8.370067336964285, 5.541974490777011, 9.350248361539848, 10.262485754084217, 5.54288447307193, 8.30046525691479, 7.486504486509789, 12.970902560977631, 5.531954824419669, 34.552104004404576, 33.60924433110786, 6.505911126569836, 8.423898057462331, 29.02104809194261, 5.610705779745133, 11.954943010438447, 38.353629138280056, 41.535547041817196, 11.303175241420023, 10.154187666328024, 6.507585325091903, 11.859699549172104, 31.51928463242155, 5.62253861263589, 5.63465086500633, 5.6601048956599005, 13.856562189663595, 33.38937687920121, 8.270469173331655, 13.685296087630155, 29.9733029936486, 120.14769299022151, 56.78689012834994, 35.39745703329992, 71.00788720239228, 54.72294207430705, 19.666741870749664, 35.1614311372896, 13.73798239694288, 23.302033316773034, 21.55858071833516, 79.11259586625486, 25.977397649311754, 36.59284229505133, 23.287621205085237, 40.142639518319356, 7.462319542604013, 7.458540256713505, 12.045344322286027, 6.516663838460914, 8.421810300422655, 8.3750760094781, 10.08591656376191, 13.967281130666148, 5.583997846529672, 9.17239988658407, 79.11259586625486, 9.361313154586307, 12.080591966866002, 8.376245631334744, 5.578958592020107, 5.578146102696196, 7.476475503391071, 6.52664589656572, 22.14299514847324, 8.249790431035294, 9.329583624288835, 12.912855568091972, 24.5904420193256, 6.523124399067193, 7.489364740504763, 11.115395699301985, 9.342665843626225, 6.516012102402014, 6.514578081440466, 5.486603992478433, 10.249638619279885, 24.284459202857782, 14.026731350376904, 30.647229568887095, 21.55858071833516, 33.38937687920121, 23.302033316773034, 120.14769299022151, 15.713634472025344, 36.59284229505133, 54.72294207430705, 18.444137418708888, 34.552104004404576, 56.78689012834994, 35.1614311372896, 33.60924433110786, 40.142639518319356, 14.411744125383837, 7.652901879613921, 10.520790293121175, 8.592039507000818, 14.966508428422914, 5.658573469449158, 6.647701280860545, 10.441214333079873, 16.997378073535835, 14.977819952915116, 11.380825875711677, 8.434883875661628, 35.1614311372896, 6.618128607139192, 5.628564348923103, 5.6601048956599005, 8.391319875562399, 11.100622421264147, 13.057154007917095, 16.651098203503718, 5.614746575710083, 6.605441529094248, 6.606025384374125, 13.758701172529136, 11.337798695114293, 22.382988734935598, 6.479793343701218, 13.976815245408924, 14.091889141395058, 11.325169716957028, 24.5904420193256, 71.00788720239228, 29.02104809194261, 120.14769299022151, 35.39745703329992, 19.666741870749664, 38.353629138280056, 29.9733029936486, 30.647229568887095, 6.507170590128001, 5.573115520117329, 6.546610427236512, 11.209384366663175, 8.267203688813701, 7.3269882059537945, 5.574317621647813, 5.45465941776124, 7.458929309605367, 10.164396148248525, 13.995053831091077, 10.241652929463946, 13.062153620965926, 9.252500314120041, 9.398624873756777, 6.568052337199513, 15.855730629059709, 7.386174223840763, 6.514578081440466, 10.296108342291468, 13.076536312362807, 10.264238828333891, 5.566878444708119, 6.468296842085652, 9.926207534219252, 10.24718524730592, 8.438902115141437, 120.14769299022151, 11.024873897683717, 6.505911126569836, 10.965746848214636, 25.977397649311754, 17.34978491202509, 14.920101817820322, 22.14299514847324, 56.78689012834994, 23.287621205085237, 40.142639518319356, 36.59284229505133, 31.51928463242155, 33.60924433110786, 29.02104809194261, 54.72294207430705, 79.11259586625486, 34.552104004404576, 17.820337932956818, 7.491485968890479, 10.208691198205795, 9.372248882721298, 6.550776739896074, 40.142639518319356, 6.5104981983666175, 10.30536766817992, 16.883054643908586, 17.820337932956818, 10.312208870992697, 6.366570229709848, 36.59284229505133, 9.229801023704876, 6.490744636728277, 22.724102437014267, 6.369776404492329, 10.175692298283654, 5.6001424638693305, 5.609908401314668, 7.386174223840763, 7.478359062029596, 12.970902560977631, 15.879180721444914, 10.131700853307922, 10.24718524730592, 5.486603992478433, 8.409211911712003, 8.421810300422655, 7.476475503391071, 10.243920966485327, 54.72294207430705, 10.92224594075477, 79.11259586625486, 10.170576343128051, 11.115395699301985, 38.353629138280056, 18.444137418708888, 14.980542429786452, 35.39745703329992, 16.830769692313066, 71.00788720239228, 41.535547041817196, 15.713634472025344, 33.60924433110786, 56.78689012834994, 5.5870749796773564, 6.5114876721577115, 5.577427432568444, 11.337798695114293, 6.516012102402014, 38.19894901731769, 8.409211911712003, 9.079473187867148, 6.468296842085652, 7.4515860067497375, 10.965746848214636, 12.142784591110905, 11.238795988421456, 5.4557571593523475, 14.961588131611675, 5.583997846529672, 16.883054643908586, 9.329583624288835, 5.574317621647813, 8.399582199585264, 12.124648918487733, 21.753785034071484, 10.227317596077025, 9.085882337064817, 71.00788720239228, 30.647229568887095, 10.187793849587438, 8.438902115141437, 15.234529434025676, 18.612198489802456, 41.535547041817196, 16.830769692313066, 33.38937687920121, 29.9733029936486, 54.72294207430705, 120.14769299022151, 35.39745703329992, 23.302033316773034, 17.49686360488529, 15.855730629059709, 23.287621205085237, 13.856562189663595, 9.037668157713451, 9.958511611911067, 9.079473187867148, 8.272029505634208, 5.527317863447991, 11.954943010438447, 6.240658708902728, 6.323064656021787, 9.23611685235742, 12.018882371482977, 11.115395699301985, 22.382988734935598, 16.651098203503718, 6.490744636728277, 12.045344322286027, 11.964601148985759, 10.08591656376191, 11.098833813768946, 10.170576343128051, 5.531954824419669, 5.541974490777011, 5.540716172694247, 5.54288447307193, 5.566878444708119, 5.609908401314668, 5.57008063750699, 10.227317596077025, 5.628564348923103, 25.977397649311754, 5.658573469449158, 6.478453637848917, 11.137883549638607, 56.78689012834994, 12.080591966866002, 9.252500314120041, 24.284459202857782, 11.859699549172104, 79.11259586625486, 13.057154007917095, 13.976815245408924, 30.647229568887095, 38.19894901731769, 41.535547041817196, 35.39745703329992, 21.753785034071484, 14.091889141395058, 13.45212684441818, 14.028190569118546, 13.45212684441818, 5.178326685372142, 6.366570229709848, 6.369776404492329, 10.817281792211459, 5.4557571593523475, 9.085882337064817, 9.170047560734274, 6.479793343701218, 15.234529434025676, 6.240658708902728, 11.024873897683717, 10.154187666328024, 13.856562189663595, 7.386174223840763, 12.912855568091972, 14.977819952915116, 56.78689012834994, 8.321198179950166, 8.434883875661628, 38.19894901731769, 9.079473187867148, 9.341451286746537, 10.164396148248525, 17.34978491202509, 12.821813948458114, 41.535547041817196, 13.73798239694288, 13.75719981776765, 15.879180721444914, 14.961588131611675, 29.02104809194261, 35.39745703329992, 23.287621205085237, 31.51928463242155, 17.49686360488529, 71.00788720239228, 29.9733029936486, 22.14299514847324, 5.178326685372142, 13.785196125269907, 5.45465941776124, 5.46448389378398, 5.486603992478433, 5.523948047342924, 10.965746848214636, 11.100622421264147, 6.240658708902728, 6.323064656021787, 6.449089858272556, 20.008381920120605, 7.3269882059537945, 22.724102437014267, 15.713634472025344, 8.249790431035294, 8.267203688813701, 8.270469173331655, 8.391319875562399, 9.037668157713451, 9.17239988658407, 9.211590287476179, 18.444137418708888, 9.926207534219252, 9.958511611911067, 10.08591656376191, 10.131700853307922, 10.169604776768313, 10.170576343128051, 10.208691198205795, 54.72294207430705, 33.38937687920121, 38.19894901731769, 38.353629138280056, 79.11259586625486, 71.00788720239228, 16.651098203503718, 56.78689012834994, 35.39745703329992, 22.382988734935598, 13.685296087630155, 11.964601148985759, 40.142639518319356, 41.535547041817196, 11.859699549172104, 13.75719981776765, 21.753785034071484, 13.758701172529136, 9.926207534219252, 15.234529434025676, 5.5233181459818255, 10.92224594075477, 6.393099171957802, 6.458537499382485, 12.821813948458114, 12.90032559576096, 13.685296087630155, 14.966508428422914, 22.724102437014267, 8.321909759952215, 8.30046525691479, 8.321090328125742, 9.085882337064817, 9.229801023704876, 10.187793849587438, 10.175692298283654, 11.052070634156246, 11.859699549172104, 12.970902560977631, 13.057154007917095, 38.19894901731769, 13.73798239694288, 13.976815245408924, 30.647229568887095, 31.51928463242155, 16.651098203503718, 71.00788720239228, 18.612198489802456, 54.72294207430705, 17.34978491202509, 20.008381920120605, 56.78689012834994], \"Category\": [\"Default\", \"Default\", \"Default\", \"Default\", \"Default\", \"Default\", \"Default\", \"Default\", \"Default\", \"Default\", \"Default\", \"Default\", \"Default\", \"Default\", \"Default\", \"Default\", \"Default\", \"Default\", \"Default\", \"Default\", \"Default\", \"Default\", \"Default\", \"Default\", \"Default\", \"Default\", \"Default\", \"Default\", \"Default\", \"Default\", \"Topic1\", \"Topic1\", \"Topic1\", \"Topic1\", \"Topic1\", \"Topic1\", \"Topic1\", \"Topic1\", \"Topic1\", \"Topic1\", \"Topic1\", \"Topic1\", \"Topic1\", \"Topic1\", \"Topic1\", \"Topic1\", \"Topic1\", \"Topic1\", \"Topic1\", \"Topic1\", \"Topic1\", \"Topic1\", \"Topic1\", \"Topic1\", \"Topic1\", \"Topic1\", \"Topic1\", \"Topic1\", \"Topic1\", \"Topic1\", \"Topic1\", \"Topic1\", \"Topic1\", \"Topic1\", \"Topic1\", \"Topic1\", \"Topic1\", \"Topic1\", \"Topic1\", \"Topic1\", \"Topic1\", \"Topic1\", \"Topic1\", \"Topic1\", \"Topic1\", \"Topic1\", \"Topic1\", \"Topic2\", \"Topic2\", \"Topic2\", \"Topic2\", \"Topic2\", \"Topic2\", \"Topic2\", \"Topic2\", \"Topic2\", \"Topic2\", \"Topic2\", \"Topic2\", \"Topic2\", \"Topic2\", \"Topic2\", \"Topic2\", \"Topic2\", \"Topic2\", \"Topic2\", \"Topic2\", \"Topic2\", \"Topic2\", \"Topic2\", \"Topic2\", \"Topic2\", \"Topic2\", \"Topic2\", \"Topic2\", \"Topic2\", \"Topic2\", \"Topic2\", \"Topic2\", \"Topic2\", \"Topic2\", \"Topic2\", \"Topic2\", \"Topic2\", \"Topic2\", \"Topic2\", \"Topic2\", \"Topic2\", \"Topic2\", \"Topic2\", \"Topic2\", \"Topic2\", \"Topic2\", \"Topic2\", \"Topic3\", \"Topic3\", \"Topic3\", \"Topic3\", \"Topic3\", \"Topic3\", \"Topic3\", \"Topic3\", \"Topic3\", \"Topic3\", \"Topic3\", \"Topic3\", \"Topic3\", \"Topic3\", \"Topic3\", \"Topic3\", \"Topic3\", \"Topic3\", \"Topic3\", \"Topic3\", \"Topic3\", \"Topic3\", \"Topic3\", \"Topic3\", \"Topic3\", \"Topic3\", \"Topic3\", \"Topic3\", \"Topic3\", \"Topic3\", \"Topic3\", \"Topic3\", \"Topic3\", \"Topic3\", \"Topic3\", \"Topic3\", \"Topic3\", \"Topic3\", \"Topic3\", \"Topic4\", \"Topic4\", \"Topic4\", \"Topic4\", \"Topic4\", \"Topic4\", \"Topic4\", \"Topic4\", \"Topic4\", \"Topic4\", \"Topic4\", \"Topic4\", \"Topic4\", \"Topic4\", \"Topic4\", \"Topic4\", \"Topic4\", \"Topic4\", \"Topic4\", \"Topic4\", \"Topic4\", \"Topic4\", \"Topic4\", \"Topic4\", \"Topic4\", \"Topic4\", \"Topic4\", \"Topic4\", \"Topic4\", \"Topic4\", \"Topic4\", \"Topic4\", \"Topic4\", \"Topic4\", \"Topic4\", \"Topic4\", \"Topic4\", \"Topic4\", \"Topic4\", \"Topic4\", \"Topic4\", \"Topic4\", \"Topic4\", \"Topic4\", \"Topic4\", \"Topic4\", \"Topic5\", \"Topic5\", \"Topic5\", \"Topic5\", \"Topic5\", \"Topic5\", \"Topic5\", \"Topic5\", \"Topic5\", \"Topic5\", \"Topic5\", \"Topic5\", \"Topic5\", \"Topic5\", \"Topic5\", \"Topic5\", \"Topic5\", \"Topic5\", \"Topic5\", \"Topic5\", \"Topic5\", \"Topic5\", \"Topic5\", \"Topic5\", \"Topic5\", \"Topic5\", \"Topic5\", \"Topic5\", \"Topic5\", \"Topic5\", \"Topic5\", \"Topic5\", \"Topic5\", \"Topic5\", \"Topic5\", \"Topic5\", \"Topic5\", \"Topic5\", \"Topic5\", \"Topic5\", \"Topic5\", \"Topic5\", \"Topic5\", \"Topic5\", \"Topic5\", \"Topic6\", \"Topic6\", \"Topic6\", \"Topic6\", \"Topic6\", \"Topic6\", \"Topic6\", \"Topic6\", \"Topic6\", \"Topic6\", \"Topic6\", \"Topic6\", \"Topic6\", \"Topic6\", \"Topic6\", \"Topic6\", \"Topic6\", \"Topic6\", \"Topic6\", \"Topic6\", \"Topic6\", \"Topic6\", \"Topic6\", \"Topic6\", \"Topic6\", \"Topic6\", \"Topic6\", \"Topic6\", \"Topic6\", \"Topic6\", \"Topic6\", \"Topic6\", \"Topic6\", \"Topic6\", \"Topic6\", \"Topic6\", \"Topic6\", \"Topic6\", \"Topic6\", \"Topic6\", \"Topic6\", \"Topic6\", \"Topic7\", \"Topic7\", \"Topic7\", \"Topic7\", \"Topic7\", \"Topic7\", \"Topic7\", \"Topic7\", \"Topic7\", \"Topic7\", \"Topic7\", \"Topic7\", \"Topic7\", \"Topic7\", \"Topic7\", \"Topic7\", \"Topic7\", \"Topic7\", \"Topic7\", \"Topic7\", \"Topic7\", \"Topic7\", \"Topic7\", \"Topic7\", \"Topic7\", \"Topic7\", \"Topic7\", \"Topic7\", \"Topic7\", \"Topic7\", \"Topic7\", \"Topic7\", \"Topic7\", \"Topic7\", \"Topic7\", \"Topic7\", \"Topic7\", \"Topic7\", \"Topic7\", \"Topic7\", \"Topic7\", \"Topic7\", \"Topic7\", \"Topic7\", \"Topic7\", \"Topic7\", \"Topic7\", \"Topic8\", \"Topic8\", \"Topic8\", \"Topic8\", \"Topic8\", \"Topic8\", \"Topic8\", \"Topic8\", \"Topic8\", \"Topic8\", \"Topic8\", \"Topic8\", \"Topic8\", \"Topic8\", \"Topic8\", \"Topic8\", \"Topic8\", \"Topic8\", \"Topic8\", \"Topic8\", \"Topic8\", \"Topic8\", \"Topic8\", \"Topic8\", \"Topic8\", \"Topic8\", \"Topic8\", \"Topic8\", \"Topic8\", \"Topic8\", \"Topic8\", \"Topic8\", \"Topic8\", \"Topic8\", \"Topic8\", \"Topic8\", \"Topic8\", \"Topic8\", \"Topic8\", \"Topic8\", \"Topic9\", \"Topic9\", \"Topic9\", \"Topic9\", \"Topic9\", \"Topic9\", \"Topic9\", \"Topic9\", \"Topic9\", \"Topic9\", \"Topic9\", \"Topic9\", \"Topic9\", \"Topic9\", \"Topic9\", \"Topic9\", \"Topic9\", \"Topic9\", \"Topic9\", \"Topic9\", \"Topic9\", \"Topic9\", \"Topic9\", \"Topic9\", \"Topic9\", \"Topic9\", \"Topic9\", \"Topic9\", \"Topic9\", \"Topic9\", \"Topic9\", \"Topic9\", \"Topic9\", \"Topic9\", \"Topic9\", \"Topic9\", \"Topic9\", \"Topic9\", \"Topic9\", \"Topic9\", \"Topic9\", \"Topic9\", \"Topic9\", \"Topic9\", \"Topic9\", \"Topic9\", \"Topic10\", \"Topic10\", \"Topic10\", \"Topic10\", \"Topic10\", \"Topic10\", \"Topic10\", \"Topic10\", \"Topic10\", \"Topic10\", \"Topic10\", \"Topic10\", \"Topic10\", \"Topic10\", \"Topic10\", \"Topic10\", \"Topic10\", \"Topic10\", \"Topic10\", \"Topic10\", \"Topic10\", \"Topic10\", \"Topic10\", \"Topic10\", \"Topic10\", \"Topic10\", \"Topic10\", \"Topic10\", \"Topic10\", \"Topic10\", \"Topic10\", \"Topic10\", \"Topic10\", \"Topic10\", \"Topic10\", \"Topic10\"], \"logprob\": [30.0, 29.0, 28.0, 27.0, 26.0, 25.0, 24.0, 23.0, 22.0, 21.0, 20.0, 19.0, 18.0, 17.0, 16.0, 15.0, 14.0, 13.0, 12.0, 11.0, 10.0, 9.0, 8.0, 7.0, 6.0, 5.0, 4.0, 3.0, 2.0, 1.0, -4.8785, -4.5398, -5.1615, -4.6606, -4.5754, -5.2029, -4.8183, -4.9299, -4.3845, -5.2631, -3.4597, -3.5353, -5.2062, -4.9528, -3.7533, -5.4014, -4.6595, -3.5088, -3.4408, -4.7493, -4.8873, -5.3382, -4.7564, -3.7902, -5.5463, -5.5489, -5.5474, -4.6615, -3.786, -5.1842, -4.6857, -4.0013, -2.8488, -3.5115, -4.0587, -3.585, -3.8442, -4.5045, -4.3016, -4.7843, -4.5926, -4.6693, -4.3523, -4.6782, -4.6938, -4.7353, -4.7047, -4.3229, -4.4779, -4.0741, -4.8713, -4.6513, -4.6685, -4.5179, -4.2089, -5.151, -4.6655, -2.538, -4.7043, -4.4796, -4.8705, -5.292, -5.3157, -5.0229, -5.1849, -3.9687, -4.9796, -4.8697, -4.5518, -3.9604, -5.2929, -5.1585, -4.7753, -4.9554, -5.3378, -5.3542, -5.5394, -4.9312, -4.1144, -4.651, -4.0742, -4.3573, -4.135, -4.4054, -3.437, -4.7324, -4.363, -4.2204, -4.6978, -4.5216, -4.4408, -4.7394, -4.747, -4.7558, -3.5523, -4.2572, -3.9961, -4.2975, -3.8145, -4.7881, -4.6562, -4.3102, -3.876, -4.0082, -4.3169, -4.6213, -3.199, -4.8732, -5.0964, -5.1031, -4.7281, -4.4601, -4.3001, -4.11, -5.2041, -5.066, -5.0662, -4.339, -4.5699, -3.9215, -5.184, -4.4301, -4.4683, -4.6951, -3.9501, -3.1045, -3.994, -3.067, -4.0161, -4.4303, -4.0775, -4.427, -4.5379, -4.5451, -4.741, -4.7424, -4.2151, -4.5568, -4.7339, -5.0137, -5.0632, -4.7652, -4.5036, -4.207, -4.5864, -4.37, -4.7355, -4.7336, -5.1043, -4.2492, -5.0176, -5.1827, -4.7346, -4.5154, -4.7909, -5.403, -5.2597, -4.8453, -4.8362, -5.0511, -2.4154, -4.8105, -5.3437, -4.8234, -4.0227, -4.4065, -4.558, -4.3341, -3.771, -4.3638, -4.1075, -4.2559, -4.3259, -4.3316, -4.5123, -4.4249, -4.3428, -4.6455, -4.733, -4.4381, -4.1504, -4.2982, -4.6782, -2.9206, -4.76, -4.365, -3.8913, -3.8767, -4.4365, -4.9332, -3.1913, -4.578, -4.9331, -3.6889, -4.9807, -4.5305, -5.1575, -5.171, -4.934, -4.9359, -4.3902, -4.1937, -4.6593, -4.6513, -5.3222, -4.9341, -4.9543, -5.078, -4.7976, -3.2539, -4.7434, -3.1565, -4.8058, -4.7555, -4.0584, -4.5911, -4.7062, -4.5441, -4.7406, -4.46, -4.5869, -4.7567, -4.7382, -4.7495, -4.553, -4.4886, -4.8626, -4.1589, -4.7554, -2.987, -4.5519, -4.5543, -4.9742, -4.8383, -4.4795, -4.4037, -4.4888, -5.2206, -4.2261, -5.2221, -4.1195, -4.7137, -5.2327, -4.8313, -4.4923, -3.9226, -4.6793, -4.8318, -2.8141, -3.6667, -4.7768, -4.9669, -4.4205, -4.2337, -3.4373, -4.3615, -3.8672, -3.9499, -3.5175, -3.449, -4.1226, -4.333, -4.572, -4.6155, -4.5339, -4.6953, -3.8785, -3.8242, -3.9493, -4.1678, -4.7175, -3.9464, -4.615, -4.6147, -4.3069, -4.0929, -4.2278, -3.5606, -4.02, -4.9643, -4.4021, -4.434, -4.6145, -4.5319, -4.6288, -5.2627, -5.2611, -5.2639, -5.2646, -5.2612, -5.2564, -5.2636, -4.6562, -5.2569, -3.7277, -5.2603, -5.1262, -4.6151, -3.1002, -4.5684, -4.8226, -3.9934, -4.6153, -3.1677, -4.6139, -4.5805, -4.1188, -4.0563, -4.2861, -4.4029, -4.5565, -4.6145, -4.6151, -2.3917, -2.953, -3.9634, -3.9523, -3.9523, -3.5629, -4.2766, -3.9519, -3.9633, -4.3772, -3.6107, -4.599, -4.0811, -4.2332, -3.9523, -4.599, -4.0478, -3.967, -2.669, -4.599, -4.5988, -3.1505, -4.599, -4.599, -4.599, -4.0744, -4.5982, -3.4268, -4.599, -4.599, -4.4599, -4.5354, -4.0553, -3.9517, -4.3237, -4.3695, -4.5564, -4.4918, -4.5504, -4.5946, -3.8527, -3.4632, -4.4993, -4.4993, -4.4993, -4.4994, -3.8527, -3.8527, -4.4992, -4.4993, -4.4994, -3.4632, -4.4993, -3.4632, -3.8527, -4.4976, -4.4993, -4.4993, -4.4993, -4.4992, -4.4993, -4.4994, -3.8526, -4.4993, -4.4991, -4.4992, -4.4993, -4.4993, -4.4994, -4.4985, -3.4633, -3.8527, -3.852, -3.8521, -3.8528, -4.4953, -4.4954, -4.4967, -4.4978, -4.4983, -4.4984, -4.4984, -4.4986, -4.4988, -4.4992, -4.4993, -2.816, -3.3142, -3.7024, -3.3113, -4.3545, -3.7019, -4.3421, -4.3551, -3.6976, -3.7024, -3.7037, -3.7006, -3.315, -4.3486, -4.3512, -4.3567, -4.3475, -4.3523, -4.3447, -4.3489, -4.3465, -4.3466, -4.3485, -4.3523, -3.3115, -4.3476, -4.3475, -3.6971, -3.7028, -4.3468, -3.0307, -4.346, -4.3445, -4.3478, -4.3481, -4.3482], \"loglift\": [30.0, 29.0, 28.0, 27.0, 26.0, 25.0, 24.0, 23.0, 22.0, 21.0, 20.0, 19.0, 18.0, 17.0, 16.0, 15.0, 14.0, 13.0, 12.0, 11.0, 10.0, 9.0, 8.0, 7.0, 6.0, 5.0, 4.0, 3.0, 2.0, 1.0, 1.4475, 1.3792, 1.1698, 1.1476, 1.1398, 1.1282, 1.1091, 1.1006, 1.0965, 1.07, 1.0415, 0.9936, 0.9647, 0.9598, 0.9224, 0.9176, 0.903, 0.888, 0.8763, 0.8692, 0.8385, 0.8325, 0.8142, 0.8029, 0.7706, 0.7658, 0.7629, 0.7534, 0.7495, 0.7467, 0.7417, 0.642, 0.4062, 0.4929, 0.4184, 0.1958, 0.1971, 0.5603, 0.1821, 0.6392, 0.3026, 0.3036, -0.6795, 0.1082, -0.25, 0.1604, -0.3535, 1.7109, 1.5564, 1.4809, 1.298, 1.2615, 1.2499, 1.2146, 1.198, 1.1728, 1.1619, 1.1348, 1.1027, 1.0725, 1.0477, 1.0327, 1.0091, 1.009, 0.9828, 0.9774, 0.9538, 0.9408, 0.9336, 0.8809, 0.8754, 0.8716, 0.86, 0.8537, 0.8316, 0.8154, 0.802, 0.7853, 0.7394, 0.7517, 0.5469, 0.6156, 0.4004, 0.4897, -0.1821, 0.5567, 0.0808, -0.179, 0.4311, -0.0205, -0.4364, -0.2557, -0.2182, -0.4046, 1.8233, 1.7514, 1.6942, 1.5953, 1.5234, 1.5224, 1.4932, 1.3877, 1.3346, 1.3289, 1.2948, 1.29, 1.2847, 1.2806, 1.2194, 1.2071, 1.1883, 1.1766, 1.1743, 1.1212, 1.1142, 1.0898, 1.0895, 1.083, 1.0457, 1.0139, 0.991, 0.9761, 0.9298, 0.9215, 0.8912, 0.6764, 0.6817, 0.1879, 0.4609, 0.6344, 0.3193, 0.2163, 0.0832, 1.6257, 1.5847, 1.4223, 1.4118, 1.3746, 1.3182, 1.3118, 1.284, 1.2691, 1.2211, 1.1979, 1.1308, 1.1039, 1.0832, 1.0695, 1.0572, 1.031, 1.0265, 0.9869, 0.9773, 0.9574, 0.9241, 0.9239, 0.9171, 0.9031, 0.8805, 0.8597, 0.8395, 0.833, 0.8272, 0.8255, 0.7637, 0.7836, 0.783, 0.612, 0.2334, 0.5319, 0.2437, 0.1879, 0.2672, 0.1972, 0.1633, -0.3835, -0.67, -0.1443, 0.4303, 1.5918, 1.5701, 1.5077, 1.4859, 1.4307, 1.4103, 1.346, 1.3261, 1.2866, 1.2738, 1.2594, 1.2525, 1.2432, 1.2401, 1.2313, 1.2114, 1.1932, 1.1634, 1.1481, 1.1101, 1.0958, 1.0908, 1.0849, 1.0686, 1.0654, 1.0191, 0.9802, 0.9585, 0.9539, 0.9194, 0.7875, 0.9095, 0.5163, 0.9184, 0.8798, 0.3384, 0.5378, 0.6308, -0.0671, 0.4799, -0.6791, -0.2698, 0.5325, -0.2093, -0.7452, 1.7702, 1.6815, 1.4623, 1.4566, 1.414, 1.4139, 1.3624, 1.2833, 1.2025, 1.197, 1.1693, 1.1432, 1.1355, 1.1264, 1.1121, 1.1016, 1.0978, 1.0968, 1.0928, 1.0842, 1.0561, 1.0413, 1.0393, 1.0052, 0.9668, 0.9544, 0.9456, 0.944, 0.8996, 0.8861, 0.8798, 0.8589, 0.6683, 0.6935, 0.5239, -0.1941, 0.3545, 0.5621, 0.6096, 0.6646, 0.3618, 0.7196, 1.9638, 1.921, 1.8883, 1.763, 1.6165, 1.6161, 1.5975, 1.5847, 1.5136, 1.4643, 1.4075, 1.3747, 1.2112, 1.209, 1.1529, 1.1277, 1.118, 1.1049, 1.0954, 1.0704, 1.0702, 1.0676, 1.0665, 1.0656, 1.0627, 1.0627, 1.0624, 1.059, 1.0588, 1.0502, 1.049, 1.0182, 0.9042, 0.9837, 0.9962, 0.8604, 0.9552, 0.5051, 0.8604, 0.8257, 0.5023, 0.3445, 0.031, 0.0741, 0.4073, 0.7836, 0.8294, 3.0109, 2.4915, 2.4357, 2.2403, 2.2397, 2.0997, 2.0704, 1.8851, 1.8644, 1.7978, 1.7094, 1.6136, 1.5624, 1.4926, 1.4626, 1.4451, 1.4376, 1.3701, 1.3353, 1.3259, 1.3125, 1.2504, 1.2387, 1.2102, 1.1258, 1.1157, 0.8943, 0.8903, 0.8245, 0.8231, 0.8188, 0.8028, 0.6203, 0.5253, 0.572, 0.2236, 0.6252, -0.7109, 0.093, 0.3516, 2.5465, 1.9569, 1.8479, 1.8461, 1.842, 1.8352, 1.7962, 1.784, 1.7133, 1.7001, 1.6803, 1.5843, 1.5528, 1.457, 1.4365, 1.4359, 1.432, 1.4316, 1.4171, 1.3431, 1.3282, 1.3238, 1.2763, 1.2492, 1.2461, 1.2333, 1.2287, 1.2249, 1.2247, 1.2219, 0.5781, 0.6827, 0.5488, 0.5447, -0.18, -0.7144, 0.7358, -0.4923, -0.0207, 0.437, 0.9289, 1.0633, -0.1474, -0.1817, 1.0713, 0.9228, 2.1479, 2.1078, 2.0461, 2.0088, 1.9802, 1.951, 1.8463, 1.8231, 1.7949, 1.784, 1.7237, 1.6373, 1.6052, 1.5762, 1.5761, 1.5682, 1.4894, 1.4689, 1.3778, 1.3748, 1.2945, 1.2239, 1.1325, 1.122, 1.0894, 1.0759, 1.0588, 0.9241, 0.8903, 0.8844, 0.7502, 0.7738, -0.3031, 0.8423, 0.6994, -0.3438]}, \"token.table\": {\"Topic\": [1, 3, 4, 6, 1, 4, 5, 8, 3, 6, 2, 3, 4, 5, 7, 9, 10, 2, 4, 5, 6, 2, 4, 5, 7, 1, 3, 4, 8, 1, 2, 3, 5, 6, 8, 9, 10, 3, 6, 1, 5, 7, 1, 2, 4, 6, 1, 2, 3, 6, 9, 1, 4, 7, 1, 5, 10, 2, 3, 4, 10, 1, 4, 7, 9, 1, 2, 3, 4, 5, 6, 10, 1, 2, 5, 6, 7, 8, 9, 1, 2, 4, 5, 1, 2, 5, 7, 1, 2, 4, 5, 6, 1, 2, 6, 2, 4, 6, 8, 1, 2, 3, 4, 5, 7, 8, 1, 2, 5, 6, 1, 2, 3, 5, 2, 4, 5, 6, 7, 1, 2, 3, 5, 1, 2, 5, 6, 7, 9, 4, 5, 8, 1, 2, 4, 5, 6, 7, 1, 2, 3, 4, 5, 7, 9, 6, 7, 8, 1, 4, 9, 2, 5, 9, 1, 2, 5, 1, 2, 3, 5, 6, 7, 8, 9, 10, 3, 4, 5, 1, 2, 3, 6, 7, 8, 1, 4, 5, 1, 3, 7, 8, 1, 2, 4, 2, 3, 5, 6, 7, 3, 5, 1, 4, 5, 6, 1, 3, 4, 5, 6, 10, 2, 5, 7, 4, 5, 6, 7, 1, 2, 3, 4, 6, 7, 8, 1, 4, 7, 1, 2, 3, 4, 5, 6, 8, 2, 5, 7, 9, 1, 2, 3, 4, 5, 6, 9, 1, 3, 4, 2, 6, 1, 3, 7, 10, 2, 5, 1, 2, 4, 7, 2, 3, 4, 9, 1, 3, 4, 6, 8, 1, 2, 3, 4, 6, 7, 1, 8, 9, 1, 2, 3, 4, 5, 6, 1, 4, 5, 10, 1, 2, 3, 4, 5, 2, 3, 7, 1, 2, 3, 4, 6, 7, 10, 2, 3, 4, 2, 4, 1, 2, 4, 5, 6, 1, 4, 6, 2, 5, 7, 1, 2, 3, 5, 7, 1, 2, 4, 9, 1, 2, 4, 6, 7, 8, 10, 2, 3, 4, 5, 6, 7, 10, 1, 2, 4, 5, 6, 2, 5, 7, 1, 3, 6, 7, 1, 2, 3, 5, 6, 9, 1, 2, 4, 5, 6, 2, 3, 5, 7, 2, 4, 5, 6, 1, 3, 7, 2, 6, 4, 6, 7, 1, 2, 4, 1, 2, 5, 6, 1, 2, 3, 4, 5, 6, 7, 3, 4, 6, 9, 10, 2, 3, 4, 5, 7, 10, 3, 4, 5, 7, 9, 1, 2, 3, 4, 5, 8, 10, 1, 3, 1, 2, 4, 5, 6, 3, 4, 6, 7, 1, 4, 6, 9, 1, 2, 5, 6, 7, 1, 3, 6, 1, 2, 4, 7, 9, 2, 3, 4, 5, 7, 1, 3, 4, 1, 2, 3, 5, 9, 10, 2, 4, 5, 7, 2, 4, 9, 1, 2, 3, 4, 6, 7, 8, 9, 10, 1, 2, 3, 4, 5, 6, 9, 1, 2, 3, 4, 5, 1, 2, 4, 5, 6, 8, 9, 10, 1, 2, 3, 4, 5, 7, 1, 4, 5, 6, 1, 4, 5, 7, 10, 1, 2, 3, 4, 5, 6, 8, 10, 4, 6, 4, 5, 1, 4, 5, 6, 7, 8, 10, 1, 2, 3, 7, 10, 1, 2, 6, 7, 1, 2, 4, 5, 9, 10, 1, 3, 4, 5, 6, 8, 2, 5, 8, 3, 1, 2, 2, 5, 7, 1, 2, 4, 5, 7, 9, 1, 2, 3, 4, 5, 2, 4, 5, 6, 1, 2, 4, 6, 7, 8, 9, 1, 2, 3, 4, 5, 2, 4, 5, 7, 1, 5, 7, 2, 3, 4, 6, 1, 2, 3, 4, 5, 6, 9, 3, 4, 5, 10, 1, 3, 5, 6, 8, 4, 6, 3, 1, 2, 3, 2, 3, 5, 6, 7, 10, 2, 3, 5, 6, 7, 1, 2, 4, 1, 2, 3, 5, 9, 2, 4, 5, 6, 1, 2, 5, 6, 1, 2, 3, 4, 6, 7, 9, 2, 3, 4, 5, 1, 2, 5, 2, 3, 4, 5, 6, 9, 1, 2, 3, 4, 5, 6, 7, 10, 1, 2, 3, 4, 5, 6, 7, 8, 9, 10, 1, 2, 3, 4, 5, 9, 1, 4, 6, 2, 5, 6, 3, 5, 7, 9, 1, 3, 4, 6, 8, 1, 3, 5, 7, 9, 1, 2, 4, 6, 8, 9, 1, 5, 8, 2, 1, 2, 4, 7, 9, 2, 3, 4, 6, 7, 1, 6, 1, 2, 3, 1, 3, 4, 9, 1, 2, 3, 4, 7, 3, 4, 5, 1, 2, 3, 4, 5, 6, 7, 2, 4, 5, 6, 10, 3, 4, 5, 6, 8, 3, 4, 1, 2, 4, 5, 7, 2, 4, 5, 6, 9, 2, 3, 4, 5, 10, 1, 2, 3, 7, 3, 4, 5, 9, 2, 4, 5, 7, 9, 3, 7, 1, 2, 4, 6, 7, 3, 5, 7, 2, 3, 4, 7, 3, 6, 7, 10, 1, 2, 3, 4, 5, 6, 9, 2, 3, 6, 8, 10, 1, 3, 4, 1, 3, 4, 7, 8, 1, 2, 4, 5, 1, 3, 4, 6, 7, 9, 2, 4, 6, 1, 3, 6, 4, 5, 6, 7, 9, 1, 2, 3, 4, 5, 6, 7, 4, 5, 6, 9, 3, 4, 6, 7, 2, 4, 6, 7, 2, 6, 7, 8, 2, 3, 5, 7, 9, 2, 4, 6, 7, 9, 1, 2, 4, 6, 7, 8, 9, 1, 4, 5, 10, 1, 2, 3, 4, 5, 9, 2, 3, 4, 6, 7, 2, 6, 7, 2, 7, 8, 9, 1, 3, 7, 9, 10, 2, 5, 6, 1, 4, 5, 6, 9, 1, 2, 3, 4, 5, 6, 7, 8, 9, 10, 3, 4, 7, 10, 4, 6, 1, 3, 4, 8, 1, 3, 4, 7, 9, 10, 1, 2, 4, 5, 8, 1, 2, 3, 7, 2, 5, 6, 8, 1, 3, 4, 5, 6, 7, 8, 9, 1, 3, 4, 6, 2, 3, 6, 2, 3, 4, 5, 6, 7, 10, 1, 3, 6, 8, 9, 10, 1, 2, 5, 7, 8], \"Freq\": [0.3538828616353893, 0.3538828616353893, 0.08847071540884732, 0.08847071540884732, 0.29514788249540475, 0.4919131374923412, 0.09838262749846824, 0.09838262749846824, 0.8554490441544571, 0.09504989379493968, 0.08801227707644417, 0.08801227707644417, 0.044006138538222085, 0.4400613853822209, 0.08801227707644417, 0.13201841561466626, 0.13201841561466626, 0.26743834889591517, 0.13371917444795758, 0.4011575233438728, 0.13371917444795758, 0.3248118281693548, 0.10827060938978493, 0.21654121877956986, 0.3248118281693548, 0.11855527767079788, 0.5927763883539894, 0.11855527767079788, 0.11855527767079788, 0.19716119647520416, 0.056331770421486904, 0.29574179471280626, 0.07041471302685863, 0.30982473731817795, 0.014082942605371726, 0.014082942605371726, 0.04224882781611518, 0.4410027144118029, 0.5292032572941635, 0.5412344447325935, 0.18041148157753115, 0.18041148157753115, 0.30733365758392955, 0.15366682879196478, 0.30733365758392955, 0.15366682879196478, 0.15506063986955496, 0.15506063986955496, 0.3101212797391099, 0.15506063986955496, 0.15506063986955496, 0.4182370418356871, 0.2509422251014123, 0.3345896334685497, 0.4625738241262197, 0.3854781867718498, 0.07709563735436996, 0.3096676298916317, 0.3096676298916317, 0.15483381494581586, 0.15483381494581586, 0.10041661233832684, 0.30124983701498054, 0.40166644935330736, 0.10041661233832684, 0.0775174233066334, 0.2325522699199002, 0.2325522699199002, 0.0775174233066334, 0.0775174233066334, 0.2325522699199002, 0.1550348466132668, 0.3852122131409875, 0.07222728996393517, 0.09630305328524688, 0.28890915985574067, 0.07222728996393517, 0.07222728996393517, 0.02407576332131172, 0.056115658623431965, 0.22446263449372786, 0.22446263449372786, 0.4489252689874557, 0.2928566131869812, 0.19523774212465414, 0.2928566131869812, 0.09761887106232707, 0.17924492241802176, 0.5377347672540653, 0.17924492241802176, 0.17898453191293098, 0.7159381276517239, 0.1792941301505187, 0.1792941301505187, 0.5378823904515561, 0.18329261563370425, 0.18329261563370425, 0.3665852312674085, 0.18329261563370425, 0.06297554121602099, 0.18892662364806295, 0.18892662364806295, 0.06297554121602099, 0.3778532472961259, 0.06297554121602099, 0.06297554121602099, 0.10669797745593404, 0.10669797745593404, 0.6401878647356042, 0.10669797745593404, 0.5347451539968051, 0.21389806159872202, 0.10694903079936101, 0.10694903079936101, 0.17956732902499187, 0.2693509935374878, 0.2693509935374878, 0.08978366451249593, 0.17956732902499187, 0.26489669249796227, 0.1765977949986415, 0.353195589997283, 0.08829889749932075, 0.32944610017122183, 0.2395971637608886, 0.08984893641033323, 0.2395971637608886, 0.029949645470111076, 0.05989929094022215, 0.40616426164396907, 0.40616426164396907, 0.13538808721465637, 0.19247501491483965, 0.15398001193187172, 0.30796002386374344, 0.11548500894890378, 0.03849500298296793, 0.19247501491483965, 0.162653309932344, 0.27108884988724, 0.054217769977448003, 0.162653309932344, 0.21687107990979201, 0.10843553995489601, 0.10843553995489601, 0.4405541948562808, 0.4405541948562808, 0.1101385487140702, 0.18332950298305348, 0.5499885089491604, 0.18332950298305348, 0.3645242125624144, 0.3645242125624144, 0.1822621062812072, 0.19407361914659657, 0.29111042871989484, 0.48518404786649144, 0.026178730717084518, 0.07853619215125356, 0.052357461434169035, 0.026178730717084518, 0.4712171529075213, 0.07853619215125356, 0.10471492286833807, 0.052357461434169035, 0.07853619215125356, 0.15275080304757419, 0.6110032121902967, 0.15275080304757419, 0.10905068849173198, 0.10905068849173198, 0.21810137698346396, 0.21810137698346396, 0.10905068849173198, 0.21810137698346396, 0.1340674993007686, 0.5362699972030744, 0.2681349986015372, 0.20029617190157994, 0.6008885157047398, 0.06676539063385999, 0.13353078126771997, 0.11940190141179577, 0.5970095070589788, 0.11940190141179577, 0.09697243456859266, 0.1939448691371853, 0.4848621728429633, 0.09697243456859266, 0.09697243456859266, 0.6983208113872362, 0.11638680189787269, 0.16470686645171118, 0.16470686645171118, 0.24706029967756676, 0.32941373290342235, 0.09815667795834873, 0.19631335591669746, 0.19631335591669746, 0.09815667795834873, 0.29447003387504617, 0.09815667795834873, 0.35986123285302285, 0.26989592463976714, 0.26989592463976714, 0.2927633225708228, 0.39035109676109714, 0.09758777419027428, 0.09758777419027428, 0.17176507487705672, 0.12882380615779254, 0.17176507487705672, 0.2576476123155851, 0.17176507487705672, 0.04294126871926418, 0.04294126871926418, 0.5423037778177654, 0.18076792593925514, 0.18076792593925514, 0.3002672078518379, 0.06672604618929733, 0.20017813856789196, 0.10008906928394598, 0.06672604618929733, 0.23354116166254063, 0.03336302309464866, 0.4957407656895258, 0.09914815313790516, 0.19829630627581032, 0.09914815313790516, 0.24136959502302077, 0.13316943173683907, 0.1831079686381537, 0.32460048985854517, 0.008323089483552442, 0.0998770738026293, 0.008323089483552442, 0.47483955440991954, 0.23741977720495977, 0.23741977720495977, 0.5372494908579579, 0.3581663272386386, 0.4819006978756712, 0.2409503489378356, 0.1204751744689178, 0.1204751744689178, 0.5936965832333069, 0.3562179499399841, 0.10807889392599333, 0.21615778785198667, 0.43231557570397333, 0.21615778785198667, 0.18102994297366903, 0.36205988594733807, 0.18102994297366903, 0.18102994297366903, 0.3608398628434538, 0.14433594513738154, 0.14433594513738154, 0.2165039177060723, 0.14433594513738154, 0.1340473425999837, 0.2680946851999674, 0.1340473425999837, 0.3351183564999592, 0.06702367129999184, 0.06702367129999184, 0.19311257492209274, 0.3862251498441855, 0.3862251498441855, 0.231926213758014, 0.2783114565096168, 0.0927704855032056, 0.1391557282548084, 0.0927704855032056, 0.1391557282548084, 0.21668939502199502, 0.10834469751099751, 0.43337879004399005, 0.10834469751099751, 0.13352267310359392, 0.40056801931078173, 0.13352267310359392, 0.13352267310359392, 0.13352267310359392, 0.1776651980875598, 0.5329955942626794, 0.1776651980875598, 0.18096156514047532, 0.09048078257023766, 0.09048078257023766, 0.271442347710713, 0.09048078257023766, 0.09048078257023766, 0.09048078257023766, 0.3027806682098122, 0.45417100231471824, 0.1513903341049061, 0.8044469552335447, 0.13407449253892412, 0.15294570000996074, 0.07647285000498037, 0.3823642500249018, 0.2294185500149411, 0.15294570000996074, 0.19528097796072075, 0.3905619559214415, 0.2929214669410811, 0.30813105613227754, 0.4621965841984163, 0.15406552806613877, 0.21288841899752614, 0.14192561266501744, 0.3548140316625436, 0.07096280633250872, 0.14192561266501744, 0.18299989888112417, 0.36599979776224834, 0.18299989888112417, 0.18299989888112417, 0.2911635700516054, 0.1455817850258027, 0.1455817850258027, 0.1455817850258027, 0.07279089251290136, 0.07279089251290136, 0.07279089251290136, 0.1430941144233094, 0.42928234326992826, 0.0715470572116547, 0.0715470572116547, 0.0715470572116547, 0.1430941144233094, 0.0715470572116547, 0.11882997845983469, 0.17824496768975204, 0.17824496768975204, 0.23765995691966937, 0.2970749461495867, 0.36183915045413756, 0.36183915045413756, 0.36183915045413756, 0.23810708109967083, 0.23810708109967083, 0.35716062164950624, 0.11905354054983541, 0.30508357914250134, 0.20338905276166755, 0.30508357914250134, 0.05084726319041689, 0.10169452638083377, 0.05084726319041689, 0.24742984478714128, 0.08247661492904709, 0.16495322985809419, 0.08247661492904709, 0.32990645971618837, 0.5341131011679054, 0.21364524046716216, 0.10682262023358108, 0.10682262023358108, 0.35646223450808784, 0.21387734070485273, 0.21387734070485273, 0.21387734070485273, 0.17810242840275162, 0.5343072852082549, 0.17810242840275162, 0.30693620094148305, 0.4604043014122246, 0.30920040450016134, 0.46380060675024204, 0.15460020225008067, 0.17927103048029708, 0.35854206096059416, 0.17927103048029708, 0.10718591957272122, 0.4287436782908849, 0.10718591957272122, 0.32155775871816367, 0.15311410798214936, 0.07655705399107468, 0.07655705399107468, 0.4593423239464481, 0.07655705399107468, 0.07655705399107468, 0.07655705399107468, 0.10074341046695184, 0.30223023140085553, 0.2014868209339037, 0.10074341046695184, 0.2014868209339037, 0.1201647252668289, 0.3604941758004867, 0.1201647252668289, 0.1201647252668289, 0.1201647252668289, 0.1201647252668289, 0.29496853460295874, 0.09832284486765291, 0.29496853460295874, 0.19664568973530583, 0.09832284486765291, 0.07799208474088448, 0.23397625422265347, 0.15598416948176896, 0.07799208474088448, 0.15598416948176896, 0.07799208474088448, 0.15598416948176896, 0.3533503418874049, 0.5300255128311073, 0.3069055040396796, 0.6138110080793592, 0.11891720775965241, 0.3567516232789572, 0.47566883103860963, 0.19555469762346642, 0.2933320464351996, 0.2933320464351996, 0.19555469762346642, 0.13648172644626558, 0.5459269057850623, 0.13648172644626558, 0.13648172644626558, 0.1664048235254694, 0.0832024117627347, 0.2496072352882041, 0.1664048235254694, 0.2496072352882041, 0.3557112076572088, 0.3557112076572088, 0.1778556038286044, 0.10902272168297428, 0.5451136084148714, 0.10902272168297428, 0.10902272168297428, 0.10902272168297428, 0.07145381590304596, 0.14290763180609192, 0.4287228954182758, 0.14290763180609192, 0.14290763180609192, 0.35646139336339433, 0.17823069668169716, 0.17823069668169716, 0.3653556319120777, 0.07307112638241554, 0.1461422527648311, 0.21921337914724662, 0.07307112638241554, 0.1461422527648311, 0.39025766161900355, 0.19512883080950177, 0.29269324621425263, 0.09756441540475089, 0.24191976819274294, 0.6047994204818573, 0.12095988409637147, 0.057637602141505664, 0.23055040856602266, 0.11527520428301133, 0.2881880107075283, 0.11527520428301133, 0.057637602141505664, 0.11527520428301133, 0.057637602141505664, 0.057637602141505664, 0.21457354952801266, 0.2574882594336152, 0.08582941981120507, 0.08582941981120507, 0.08582941981120507, 0.21457354952801266, 0.04291470990560253, 0.0406662067812405, 0.406662067812405, 0.3659958610311645, 0.1219986203437215, 0.081332413562481, 0.2010125841747205, 0.12791709902027668, 0.09136935644305477, 0.2923819406177753, 0.2010125841747205, 0.018273871288610955, 0.05482161386583286, 0.018273871288610955, 0.13663874371071144, 0.16396649245285372, 0.027327748742142288, 0.16396649245285372, 0.4645717286164189, 0.027327748742142288, 0.2683992371809673, 0.13419961859048365, 0.13419961859048365, 0.402598855771451, 0.1831125219893915, 0.1831125219893915, 0.366225043978783, 0.09155626099469576, 0.1831125219893915, 0.3489926921972435, 0.06345321676313517, 0.12690643352627035, 0.19035965028940552, 0.09517982514470276, 0.09517982514470276, 0.031726608381567586, 0.06345321676313517, 0.5381824653029326, 0.35878831020195506, 0.26696973181359485, 0.6674243295339871, 0.22861240107530825, 0.1714593008064812, 0.1714593008064812, 0.22861240107530825, 0.05715310026882706, 0.05715310026882706, 0.05715310026882706, 0.07658636785578683, 0.15317273571157367, 0.45951820713472097, 0.15317273571157367, 0.07658636785578683, 0.1804820836931152, 0.3609641673862304, 0.1804820836931152, 0.1804820836931152, 0.12455583539089943, 0.09964466831271954, 0.1743781695472592, 0.5480456757199574, 0.024911167078179884, 0.024911167078179884, 0.3939261447042457, 0.09848153617606142, 0.19696307235212285, 0.09848153617606142, 0.09848153617606142, 0.09848153617606142, 0.15699138187876469, 0.4709741456362941, 0.31398276375752937, 0.9146857113962031, 0.7179782103484735, 0.17949455258711838, 0.15359807644995346, 0.4607942293498604, 0.15359807644995346, 0.07584127324229635, 0.5056084882819757, 0.07584127324229635, 0.21488360751983968, 0.10112169765639513, 0.025280424414098782, 0.19424815022438727, 0.09712407511219363, 0.09712407511219363, 0.38849630044877453, 0.19424815022438727, 0.1785668858340196, 0.1785668858340196, 0.3571337716680392, 0.1785668858340196, 0.07268921097653051, 0.29075684390612205, 0.21806763292959155, 0.21806763292959155, 0.07268921097653051, 0.07268921097653051, 0.07268921097653051, 0.19908177152028153, 0.11376101229730373, 0.5403648084121927, 0.0853207592229778, 0.028440253074325933, 0.24177863469149485, 0.24177863469149485, 0.12088931734574743, 0.3626679520372423, 0.5413233144599672, 0.18044110481998904, 0.18044110481998904, 0.08786708547524166, 0.52720251285145, 0.08786708547524166, 0.17573417095048333, 0.44630577980940744, 0.11901487461584198, 0.08926115596188149, 0.17852231192376297, 0.11901487461584198, 0.029753718653960495, 0.029753718653960495, 0.36210117670932745, 0.18105058835466373, 0.18105058835466373, 0.18105058835466373, 0.21409949467247769, 0.32114924200871653, 0.10704974733623884, 0.10704974733623884, 0.10704974733623884, 0.7683831137891909, 0.15367662275783817, 0.971429958664155, 0.3549465704114665, 0.17747328520573324, 0.3549465704114665, 0.2936643907655768, 0.16314688375865377, 0.09788813025519227, 0.2936643907655768, 0.09788813025519227, 0.06525875350346151, 0.17795500532801375, 0.17795500532801375, 0.17795500532801375, 0.3559100106560275, 0.08897750266400688, 0.46111911792771665, 0.15370637264257223, 0.30741274528514445, 0.2901663468296634, 0.07254158670741585, 0.2901663468296634, 0.1450831734148317, 0.21762476012224755, 0.45965416962157873, 0.15321805654052623, 0.15321805654052623, 0.15321805654052623, 0.4872113949595616, 0.09744227899191232, 0.19488455798382465, 0.09744227899191232, 0.16715977198868348, 0.08357988599434174, 0.16715977198868348, 0.2507396579830252, 0.08357988599434174, 0.16715977198868348, 0.08357988599434174, 0.10639854376912528, 0.3191956313073758, 0.4255941750765011, 0.10639854376912528, 0.13375286250137977, 0.4012585875041393, 0.4012585875041393, 0.2545560040308381, 0.06363900100770953, 0.19091700302312858, 0.19091700302312858, 0.06363900100770953, 0.12727800201541906, 0.13790703527231252, 0.0459690117574375, 0.0459690117574375, 0.0459690117574375, 0.091938023514875, 0.3217830823020625, 0.091938023514875, 0.18387604702975, 0.09995810795618522, 0.14993716193427784, 0.09995810795618522, 0.19991621591237044, 0.09995810795618522, 0.09995810795618522, 0.04997905397809261, 0.04997905397809261, 0.14993716193427784, 0.04997905397809261, 0.05883260322113772, 0.11766520644227545, 0.5883260322113772, 0.05883260322113772, 0.05883260322113772, 0.05883260322113772, 0.5973667592754918, 0.11947335185509834, 0.2389467037101967, 0.1184619751687886, 0.4738479006751544, 0.3553859255063658, 0.09795574972193817, 0.587734498331629, 0.09795574972193817, 0.09795574972193817, 0.41349299177556836, 0.3101197438316763, 0.1722887465731535, 0.0344577493146307, 0.0689154986292614, 0.08935357220094471, 0.40209107490425117, 0.13403035830141707, 0.22338393050236177, 0.044676786100472356, 0.09244466578655731, 0.18488933157311463, 0.09244466578655731, 0.27733399735967196, 0.27733399735967196, 0.09244466578655731, 0.1570704419992826, 0.4712113259978478, 0.3141408839985652, 0.9380461343199618, 0.11064801036609448, 0.11064801036609448, 0.22129602073218896, 0.4425920414643779, 0.11064801036609448, 0.18920603977099154, 0.12613735984732768, 0.3784120795419831, 0.25227471969465537, 0.06306867992366384, 0.15357473596638632, 0.6142989438655453, 0.5342947442571829, 0.26714737212859146, 0.13357368606429573, 0.23834152787149673, 0.47668305574299347, 0.11917076393574837, 0.11917076393574837, 0.10703583075083674, 0.42814332300334695, 0.21407166150167348, 0.10703583075083674, 0.10703583075083674, 0.15225213635042076, 0.45675640905126225, 0.3045042727008415, 0.06675325707910665, 0.20025977123731994, 0.1335065141582133, 0.1335065141582133, 0.2670130283164266, 0.1335065141582133, 0.06675325707910665, 0.19654682368268372, 0.09827341184134186, 0.39309364736536745, 0.09827341184134186, 0.09827341184134186, 0.26735129752359493, 0.2005134731426962, 0.06683782438089873, 0.3341891219044937, 0.06683782438089873, 0.7521396929184444, 0.15042793858368889, 0.15435782300852222, 0.30871564601704443, 0.15435782300852222, 0.15435782300852222, 0.15435782300852222, 0.29499671480383105, 0.19666447653588737, 0.29499671480383105, 0.09833223826794368, 0.09833223826794368, 0.24035311733606476, 0.24035311733606476, 0.24035311733606476, 0.12017655866803238, 0.12017655866803238, 0.23877045731779747, 0.47754091463559495, 0.11938522865889874, 0.11938522865889874, 0.3897025455953159, 0.3897025455953159, 0.09742563639882898, 0.09742563639882898, 0.363645601070562, 0.121215200356854, 0.121215200356854, 0.121215200356854, 0.121215200356854, 0.7068919439848478, 0.17672298599621195, 0.27029866834101723, 0.18019911222734483, 0.18019911222734483, 0.09009955611367242, 0.18019911222734483, 0.35651205989946383, 0.35651205989946383, 0.17825602994973191, 0.08921096532062996, 0.1784219306412599, 0.5352657919237798, 0.08921096532062996, 0.43608767461130016, 0.21804383730565008, 0.14536255820376673, 0.21804383730565008, 0.4630687612528713, 0.14470898789152228, 0.08682539273491337, 0.11576719031321782, 0.08682539273491337, 0.028941797578304455, 0.028941797578304455, 0.11006085737216896, 0.22012171474433792, 0.33018257211650687, 0.22012171474433792, 0.11006085737216896, 0.1511001159634866, 0.6044004638539464, 0.1511001159634866, 0.18140797060909625, 0.18140797060909625, 0.3628159412181925, 0.18140797060909625, 0.18140797060909625, 0.15330077104508386, 0.4599023131352516, 0.15330077104508386, 0.15330077104508386, 0.10855888818237738, 0.21711777636475477, 0.10855888818237738, 0.21711777636475477, 0.10855888818237738, 0.10855888818237738, 0.30700376524733763, 0.30700376524733763, 0.15350188262366882, 0.19154860116831396, 0.5746458035049419, 0.09577430058415698, 0.19740022222892767, 0.39480044445785534, 0.19740022222892767, 0.09870011111446383, 0.09870011111446383, 0.04117859869337014, 0.32942878954696114, 0.16471439477348057, 0.08235719738674029, 0.12353579608011042, 0.12353579608011042, 0.16471439477348057, 0.27357917718923436, 0.09119305906307812, 0.3647722362523125, 0.18238611812615624, 0.1796338845786369, 0.3592677691572738, 0.1796338845786369, 0.1796338845786369, 0.5011712683745592, 0.21478768644623963, 0.14319179096415977, 0.07159589548207988, 0.07128503102897571, 0.14257006205795142, 0.07128503102897571, 0.5702802482318057, 0.09008503866273466, 0.45042519331367337, 0.09008503866273466, 0.09008503866273466, 0.18017007732546933, 0.1581511584019068, 0.1581511584019068, 0.1581511584019068, 0.3163023168038136, 0.1581511584019068, 0.045161008856064805, 0.40644907970458327, 0.27096605313638883, 0.09032201771212961, 0.09032201771212961, 0.045161008856064805, 0.045161008856064805, 0.3128373182090849, 0.3128373182090849, 0.15641865910454245, 0.15641865910454245, 0.39109727911064285, 0.07821945582212857, 0.2085852155256762, 0.07821945582212857, 0.18251206358496666, 0.05214630388141905, 0.1795306145599306, 0.1795306145599306, 0.1795306145599306, 0.1795306145599306, 0.1795306145599306, 0.7471766484373884, 0.08301962760415427, 0.16603925520830853, 0.3204789900057926, 0.3204789900057926, 0.1602394950028963, 0.1602394950028963, 0.18016829660933362, 0.48044879095822296, 0.18016829660933362, 0.06005609886977787, 0.06005609886977787, 0.15265365310188617, 0.6106146124075447, 0.15265365310188617, 0.3627363740951455, 0.12091212469838183, 0.12091212469838183, 0.24182424939676367, 0.12091212469838183, 0.2641454738249787, 0.10565818952999148, 0.05282909476499574, 0.1760969825499858, 0.07043879301999433, 0.05282909476499574, 0.1584872842949872, 0.10565818952999148, 0.01760969825499858, 0.01760969825499858, 0.668158511908428, 0.0668158511908428, 0.0668158511908428, 0.1336317023816856, 0.7177313991718207, 0.17943284979295518, 0.15432590932426346, 0.46297772797279035, 0.15432590932426346, 0.15432590932426346, 0.33727667243300696, 0.16863833621650348, 0.08431916810825174, 0.16863833621650348, 0.08431916810825174, 0.08431916810825174, 0.15488440875479595, 0.3872110218869899, 0.15488440875479595, 0.07744220437739797, 0.15488440875479595, 0.24833220161960926, 0.4966644032392185, 0.08277740053986975, 0.1655548010797395, 0.36052500314539637, 0.24035000209693091, 0.24035000209693091, 0.12017500104846546, 0.25425555263852173, 0.25425555263852173, 0.08475185087950725, 0.113002467839343, 0.1695037017590145, 0.0565012339196715, 0.0565012339196715, 0.02825061695983575, 0.11849882678527074, 0.23699765357054148, 0.3554964803558122, 0.3554964803558122, 0.3027539077780105, 0.45413086166701566, 0.15137695388900524, 0.10745640828491011, 0.16118461242736515, 0.21491281656982023, 0.10745640828491011, 0.26864102071227525, 0.053728204142455056, 0.053728204142455056, 0.06564036023105134, 0.196921080693154, 0.26256144092420536, 0.196921080693154, 0.06564036023105134, 0.196921080693154, 0.22301306214970898, 0.14867537476647266, 0.07433768738323633, 0.14867537476647266, 0.37168843691618164], \"Term\": [\"Apache\", \"Apache\", \"Apache\", \"Apache\", \"Data\", \"Data\", \"Data\", \"Data\", \"Jupyter\", \"Jupyter\", \"ML\", \"ML\", \"ML\", \"ML\", \"ML\", \"ML\", \"ML\", \"MLOps\", \"MLOps\", \"MLOps\", \"MLOps\", \"NLP\", \"NLP\", \"NLP\", \"NLP\", \"PyData\", \"PyData\", \"PyData\", \"PyData\", \"Python\", \"Python\", \"Python\", \"Python\", \"Python\", \"Python\", \"Python\", \"Python\", \"Rust\", \"Rust\", \"addition\", \"addition\", \"addition\", \"address\", \"address\", \"address\", \"address\", \"aim\", \"aim\", \"aim\", \"aim\", \"aim\", \"algorithm\", \"algorithm\", \"algorithm\", \"allow\", \"allow\", \"allow\", \"analysis\", \"analysis\", \"analysis\", \"analysis\", \"answer\", \"answer\", \"answer\", \"answer\", \"api\", \"api\", \"api\", \"api\", \"api\", \"api\", \"api\", \"application\", \"application\", \"application\", \"application\", \"application\", \"application\", \"application\", \"approach\", \"approach\", \"approach\", \"approach\", \"architecture\", \"architecture\", \"architecture\", \"architecture\", \"art\", \"art\", \"art\", \"attendee\", \"attendee\", \"automate\", \"automate\", \"automate\", \"avoid\", \"avoid\", \"avoid\", \"avoid\", \"base\", \"base\", \"base\", \"base\", \"base\", \"base\", \"base\", \"benefit\", \"benefit\", \"benefit\", \"benefit\", \"bias\", \"bias\", \"bias\", \"bias\", \"big\", \"big\", \"big\", \"big\", \"big\", \"bring\", \"bring\", \"bring\", \"bring\", \"build\", \"build\", \"build\", \"build\", \"build\", \"build\", \"business\", \"business\", \"business\", \"case\", \"case\", \"case\", \"case\", \"case\", \"case\", \"challenge\", \"challenge\", \"challenge\", \"challenge\", \"challenge\", \"challenge\", \"challenge\", \"change\", \"change\", \"change\", \"choose\", \"choose\", \"choose\", \"classification\", \"classification\", \"classification\", \"cloud\", \"cloud\", \"cloud\", \"code\", \"code\", \"code\", \"code\", \"code\", \"code\", \"code\", \"code\", \"code\", \"combine\", \"combine\", \"combine\", \"come\", \"come\", \"come\", \"come\", \"come\", \"come\", \"common\", \"common\", \"common\", \"community\", \"community\", \"community\", \"community\", \"complex\", \"complex\", \"complex\", \"component\", \"component\", \"component\", \"component\", \"component\", \"computing\", \"computing\", \"concept\", \"concept\", \"concept\", \"concept\", \"core\", \"core\", \"core\", \"core\", \"core\", \"core\", \"cost\", \"cost\", \"cost\", \"cover\", \"cover\", \"cover\", \"cover\", \"create\", \"create\", \"create\", \"create\", \"create\", \"create\", \"create\", \"creation\", \"creation\", \"creation\", \"data\", \"data\", \"data\", \"data\", \"data\", \"data\", \"data\", \"database\", \"database\", \"database\", \"database\", \"datum\", \"datum\", \"datum\", \"datum\", \"datum\", \"datum\", \"datum\", \"day\", \"day\", \"day\", \"decision\", \"decision\", \"deep\", \"deep\", \"deep\", \"deep\", \"deploy\", \"deploy\", \"design\", \"design\", \"design\", \"design\", \"develop\", \"develop\", \"develop\", \"develop\", \"developer\", \"developer\", \"developer\", \"developer\", \"developer\", \"development\", \"development\", \"development\", \"development\", \"development\", \"development\", \"discover\", \"discover\", \"discover\", \"discuss\", \"discuss\", \"discuss\", \"discuss\", \"discuss\", \"discuss\", \"dive\", \"dive\", \"dive\", \"dive\", \"domain\", \"domain\", \"domain\", \"domain\", \"domain\", \"ease\", \"ease\", \"ease\", \"easy\", \"easy\", \"easy\", \"easy\", \"easy\", \"easy\", \"easy\", \"efficient\", \"efficient\", \"efficient\", \"enable\", \"enable\", \"end\", \"end\", \"end\", \"end\", \"end\", \"engineering\", \"engineering\", \"engineering\", \"ensure\", \"ensure\", \"ensure\", \"environment\", \"environment\", \"environment\", \"environment\", \"environment\", \"evaluate\", \"evaluate\", \"evaluate\", \"evaluate\", \"example\", \"example\", \"example\", \"example\", \"example\", \"example\", \"example\", \"experience\", \"experience\", \"experience\", \"experience\", \"experience\", \"experience\", \"experience\", \"explore\", \"explore\", \"explore\", \"explore\", \"explore\", \"face\", \"face\", \"face\", \"fast\", \"fast\", \"fast\", \"fast\", \"feature\", \"feature\", \"feature\", \"feature\", \"feature\", \"feature\", \"find\", \"find\", \"find\", \"find\", \"find\", \"focus\", \"focus\", \"focus\", \"focus\", \"framework\", \"framework\", \"framework\", \"framework\", \"functionality\", \"functionality\", \"functionality\", \"future\", \"future\", \"gain\", \"gain\", \"gain\", \"generate\", \"generate\", \"generate\", \"go\", \"go\", \"go\", \"go\", \"good\", \"good\", \"good\", \"good\", \"good\", \"good\", \"good\", \"hand\", \"hand\", \"hand\", \"hand\", \"hand\", \"handle\", \"handle\", \"handle\", \"handle\", \"handle\", \"handle\", \"help\", \"help\", \"help\", \"help\", \"help\", \"high\", \"high\", \"high\", \"high\", \"high\", \"high\", \"high\", \"highlight\", \"highlight\", \"human\", \"human\", \"idea\", \"idea\", \"idea\", \"implement\", \"implement\", \"implement\", \"implement\", \"implementation\", \"implementation\", \"implementation\", \"implementation\", \"improve\", \"improve\", \"improve\", \"improve\", \"improve\", \"improvement\", \"improvement\", \"improvement\", \"information\", \"information\", \"information\", \"information\", \"information\", \"insight\", \"insight\", \"insight\", \"insight\", \"insight\", \"integration\", \"integration\", \"integration\", \"introduce\", \"introduce\", \"introduce\", \"introduce\", \"introduce\", \"introduce\", \"issue\", \"issue\", \"issue\", \"issue\", \"journey\", \"journey\", \"journey\", \"know\", \"know\", \"know\", \"know\", \"know\", \"know\", \"know\", \"know\", \"know\", \"language\", \"language\", \"language\", \"language\", \"language\", \"language\", \"language\", \"large\", \"large\", \"large\", \"large\", \"large\", \"learn\", \"learn\", \"learn\", \"learn\", \"learn\", \"learn\", \"learn\", \"learn\", \"learning\", \"learning\", \"learning\", \"learning\", \"learning\", \"learning\", \"level\", \"level\", \"level\", \"level\", \"leverage\", \"leverage\", \"leverage\", \"leverage\", \"leverage\", \"library\", \"library\", \"library\", \"library\", \"library\", \"library\", \"library\", \"library\", \"life\", \"life\", \"lifecycle\", \"lifecycle\", \"look\", \"look\", \"look\", \"look\", \"look\", \"look\", \"look\", \"lot\", \"lot\", \"lot\", \"lot\", \"lot\", \"low\", \"low\", \"low\", \"low\", \"machine\", \"machine\", \"machine\", \"machine\", \"machine\", \"machine\", \"make\", \"make\", \"make\", \"make\", \"make\", \"make\", \"manage\", \"manage\", \"manage\", \"memory\", \"method\", \"method\", \"metric\", \"metric\", \"metric\", \"model\", \"model\", \"model\", \"model\", \"model\", \"model\", \"modern\", \"modern\", \"modern\", \"modern\", \"modern\", \"multiple\", \"multiple\", \"multiple\", \"multiple\", \"need\", \"need\", \"need\", \"need\", \"need\", \"need\", \"need\", \"new\", \"new\", \"new\", \"new\", \"new\", \"nlp\", \"nlp\", \"nlp\", \"nlp\", \"number\", \"number\", \"number\", \"offer\", \"offer\", \"offer\", \"offer\", \"open\", \"open\", \"open\", \"open\", \"open\", \"open\", \"open\", \"organization\", \"organization\", \"organization\", \"organization\", \"overview\", \"overview\", \"overview\", \"overview\", \"overview\", \"package\", \"package\", \"panda\", \"past\", \"past\", \"past\", \"performance\", \"performance\", \"performance\", \"performance\", \"performance\", \"performance\", \"pipeline\", \"pipeline\", \"pipeline\", \"pipeline\", \"pipeline\", \"pitfall\", \"pitfall\", \"pitfall\", \"platform\", \"platform\", \"platform\", \"platform\", \"platform\", \"potential\", \"potential\", \"potential\", \"potential\", \"power\", \"power\", \"power\", \"power\", \"practical\", \"practical\", \"practical\", \"practical\", \"practical\", \"practical\", \"practical\", \"practice\", \"practice\", \"practice\", \"practice\", \"prediction\", \"prediction\", \"prediction\", \"present\", \"present\", \"present\", \"present\", \"present\", \"present\", \"problem\", \"problem\", \"problem\", \"problem\", \"problem\", \"problem\", \"problem\", \"problem\", \"process\", \"process\", \"process\", \"process\", \"process\", \"process\", \"process\", \"process\", \"process\", \"process\", \"processing\", \"processing\", \"processing\", \"processing\", \"processing\", \"processing\", \"product\", \"product\", \"product\", \"production\", \"production\", \"production\", \"programming\", \"programming\", \"programming\", \"programming\", \"project\", \"project\", \"project\", \"project\", \"project\", \"provide\", \"provide\", \"provide\", \"provide\", \"provide\", \"python\", \"python\", \"python\", \"python\", \"python\", \"python\", \"quality\", \"quality\", \"quality\", \"query\", \"question\", \"question\", \"question\", \"question\", \"question\", \"real\", \"real\", \"real\", \"real\", \"real\", \"reason\", \"reason\", \"recent\", \"recent\", \"recent\", \"require\", \"require\", \"require\", \"require\", \"result\", \"result\", \"result\", \"result\", \"result\", \"role\", \"role\", \"role\", \"run\", \"run\", \"run\", \"run\", \"run\", \"run\", \"run\", \"scale\", \"scale\", \"scale\", \"scale\", \"scale\", \"science\", \"science\", \"science\", \"science\", \"science\", \"scientist\", \"scientist\", \"search\", \"search\", \"search\", \"search\", \"search\", \"service\", \"service\", \"service\", \"service\", \"service\", \"session\", \"session\", \"session\", \"session\", \"session\", \"set\", \"set\", \"set\", \"set\", \"share\", \"share\", \"share\", \"share\", \"show\", \"show\", \"show\", \"show\", \"show\", \"significant\", \"significant\", \"simple\", \"simple\", \"simple\", \"simple\", \"simple\", \"single\", \"single\", \"single\", \"software\", \"software\", \"software\", \"software\", \"solve\", \"solve\", \"solve\", \"solve\", \"source\", \"source\", \"source\", \"source\", \"source\", \"source\", \"source\", \"speed\", \"speed\", \"speed\", \"speed\", \"speed\", \"standard\", \"standard\", \"standard\", \"start\", \"start\", \"start\", \"start\", \"start\", \"state\", \"state\", \"state\", \"state\", \"step\", \"step\", \"step\", \"step\", \"step\", \"step\", \"study\", \"study\", \"study\", \"support\", \"support\", \"support\", \"system\", \"system\", \"system\", \"system\", \"system\", \"task\", \"task\", \"task\", \"task\", \"task\", \"task\", \"task\", \"team\", \"team\", \"team\", \"team\", \"technical\", \"technical\", \"technical\", \"technical\", \"technique\", \"technique\", \"technique\", \"technique\", \"test\", \"test\", \"test\", \"test\", \"text\", \"text\", \"text\", \"text\", \"text\", \"think\", \"think\", \"think\", \"think\", \"think\", \"time\", \"time\", \"time\", \"time\", \"time\", \"time\", \"time\", \"today\", \"today\", \"today\", \"today\", \"tool\", \"tool\", \"tool\", \"tool\", \"tool\", \"tool\", \"topic\", \"topic\", \"topic\", \"topic\", \"topic\", \"train\", \"train\", \"train\", \"tune\", \"tune\", \"tune\", \"tune\", \"tutorial\", \"tutorial\", \"tutorial\", \"tutorial\", \"tutorial\", \"type\", \"type\", \"type\", \"understanding\", \"understanding\", \"understanding\", \"understanding\", \"understanding\", \"use\", \"use\", \"use\", \"use\", \"use\", \"use\", \"use\", \"use\", \"use\", \"use\", \"user\", \"user\", \"user\", \"user\", \"value\", \"value\", \"version\", \"version\", \"version\", \"version\", \"want\", \"want\", \"want\", \"want\", \"want\", \"want\", \"way\", \"way\", \"way\", \"way\", \"way\", \"web\", \"web\", \"web\", \"web\", \"well\", \"well\", \"well\", \"well\", \"work\", \"work\", \"work\", \"work\", \"work\", \"work\", \"work\", \"work\", \"workflow\", \"workflow\", \"workflow\", \"workflow\", \"workshop\", \"workshop\", \"workshop\", \"world\", \"world\", \"world\", \"world\", \"world\", \"world\", \"world\", \"write\", \"write\", \"write\", \"write\", \"write\", \"write\", \"year\", \"year\", \"year\", \"year\", \"year\"]}, \"R\": 30, \"lambda.step\": 0.01, \"plot.opts\": {\"xlab\": \"PC1\", \"ylab\": \"PC2\"}, \"topic.order\": [9, 8, 3, 7, 1, 10, 5, 6, 2, 4]};\n",
       "\n",
       "function LDAvis_load_lib(url, callback){\n",
       "  var s = document.createElement('script');\n",
       "  s.src = url;\n",
       "  s.async = true;\n",
       "  s.onreadystatechange = s.onload = callback;\n",
       "  s.onerror = function(){console.warn(\"failed to load library \" + url);};\n",
       "  document.getElementsByTagName(\"head\")[0].appendChild(s);\n",
       "}\n",
       "\n",
       "if(typeof(LDAvis) !== \"undefined\"){\n",
       "   // already loaded: just create the visualization\n",
       "   !function(LDAvis){\n",
       "       new LDAvis(\"#\" + \"ldavis_el609953838807688282925666\", ldavis_el609953838807688282925666_data);\n",
       "   }(LDAvis);\n",
       "}else if(typeof define === \"function\" && define.amd){\n",
       "   // require.js is available: use it to load d3/LDAvis\n",
       "   require.config({paths: {d3: \"https://d3js.org/d3.v5\"}});\n",
       "   require([\"d3\"], function(d3){\n",
       "      window.d3 = d3;\n",
       "      LDAvis_load_lib(\"https://cdn.jsdelivr.net/gh/bmabey/pyLDAvis@3.4.0/pyLDAvis/js/ldavis.v3.0.0.js\", function(){\n",
       "        new LDAvis(\"#\" + \"ldavis_el609953838807688282925666\", ldavis_el609953838807688282925666_data);\n",
       "      });\n",
       "    });\n",
       "}else{\n",
       "    // require.js not available: dynamically load d3 & LDAvis\n",
       "    LDAvis_load_lib(\"https://d3js.org/d3.v5.js\", function(){\n",
       "         LDAvis_load_lib(\"https://cdn.jsdelivr.net/gh/bmabey/pyLDAvis@3.4.0/pyLDAvis/js/ldavis.v3.0.0.js\", function(){\n",
       "                 new LDAvis(\"#\" + \"ldavis_el609953838807688282925666\", ldavis_el609953838807688282925666_data);\n",
       "            })\n",
       "         });\n",
       "}\n",
       "</script>"
      ],
      "text/plain": [
       "<IPython.core.display.HTML object>"
      ]
     },
     "execution_count": 47,
     "metadata": {},
     "output_type": "execute_result"
    }
   ],
   "source": [
    "# Visualize \n",
    "lda_display = pyLDAvis.gensim_models.prepare(lda_model, BoW, dictionary)\n",
    "pyLDAvis.display(lda_display)"
   ]
  },
  {
   "cell_type": "code",
   "execution_count": null,
   "id": "f79fde2f-1480-493c-bd50-3103d523b5d9",
   "metadata": {},
   "outputs": [],
   "source": [
    "df['topic'] = [sorted(lda_model[BoW][text])[0][0] for text in range(len(df['abstract']))]"
   ]
  },
  {
   "cell_type": "code",
   "execution_count": null,
   "id": "48abc5ff-1c16-4481-97fa-36ccf834ce2b",
   "metadata": {},
   "outputs": [],
   "source": [
    "df"
   ]
  },
  {
   "cell_type": "code",
   "execution_count": null,
   "id": "81df0cb6-0547-4142-947d-93c621e4af8f",
   "metadata": {},
   "outputs": [],
   "source": [
    "df.topic.value_counts()"
   ]
  },
  {
   "cell_type": "code",
   "execution_count": null,
   "id": "9697771e-2f18-406b-a004-ccbbce4e736e",
   "metadata": {},
   "outputs": [],
   "source": []
  }
 ],
 "metadata": {
  "kernelspec": {
   "display_name": "Python 3 (ipykernel)",
   "language": "python",
   "name": "python3"
  },
  "language_info": {
   "codemirror_mode": {
    "name": "ipython",
    "version": 3
   },
   "file_extension": ".py",
   "mimetype": "text/x-python",
   "name": "python",
   "nbconvert_exporter": "python",
   "pygments_lexer": "ipython3",
   "version": "3.11.3"
  }
 },
 "nbformat": 4,
 "nbformat_minor": 5
}
