{
 "cells": [
  {
   "cell_type": "markdown",
   "id": "3b1e5e3a-5ddc-443f-aad3-044be9d6b27e",
   "metadata": {},
   "source": [
    "## Part 1: Session Data\n"
   ]
  },
  {
   "cell_type": "code",
   "execution_count": null,
   "id": "3b6ea534-7610-46f4-b2e4-d2cb59bb20b0",
   "metadata": {},
   "outputs": [],
   "source": [
    "# The pakages I need:\n",
    "\n",
    "# !pip install pyLDAvis -qq\n",
    "# !pip install -qq -U gensim\n",
    "# !pip install spacy -qq\n",
    "# !pip install matplotlib -qq\n",
    "# !pip install seaborn -qq\n",
    "# !python -m spacy download en_core_web_md -qq"
   ]
  },
  {
   "cell_type": "code",
   "execution_count": 2,
   "id": "f4b18cf1-7cdf-4d83-acac-711aeb01e980",
   "metadata": {},
   "outputs": [],
   "source": [
    "# import packages\n",
    "import pandas as pd\n",
    "import matplotlib.pyplot as plt\n",
    "import seaborn as sns\n",
    "sns.set()\n",
    "import spacy\n",
    "import pyLDAvis.gensim_models\n",
    "pyLDAvis.enable_notebook()\n",
    "import en_core_web_md\n",
    "from gensim.corpora.dictionary import Dictionary\n",
    "from gensim.models import LdaMulticore\n",
    "from gensim.models import CoherenceModel\n",
    "\n",
    "import warnings\n",
    "warnings.filterwarnings(\"ignore\")"
   ]
  },
  {
   "cell_type": "code",
   "execution_count": 3,
   "id": "6afcf20b-c6aa-40fc-859e-04cc4b214492",
   "metadata": {},
   "outputs": [
    {
     "data": {
      "text/html": [
       "<div>\n",
       "<style scoped>\n",
       "    .dataframe tbody tr th:only-of-type {\n",
       "        vertical-align: middle;\n",
       "    }\n",
       "\n",
       "    .dataframe tbody tr th {\n",
       "        vertical-align: top;\n",
       "    }\n",
       "\n",
       "    .dataframe thead th {\n",
       "        text-align: right;\n",
       "    }\n",
       "</style>\n",
       "<table border=\"1\" class=\"dataframe\">\n",
       "  <thead>\n",
       "    <tr style=\"text-align: right;\">\n",
       "      <th></th>\n",
       "      <th>schedule</th>\n",
       "    </tr>\n",
       "  </thead>\n",
       "  <tbody>\n",
       "    <tr>\n",
       "      <th>base_url</th>\n",
       "      <td>https://pretalx.com/pyconde-pydata-berlin-2023...</td>\n",
       "    </tr>\n",
       "    <tr>\n",
       "      <th>conference</th>\n",
       "      <td>{'acronym': 'pyconde-pydata-berlin-2023', 'tit...</td>\n",
       "    </tr>\n",
       "    <tr>\n",
       "      <th>version</th>\n",
       "      <td>1.3</td>\n",
       "    </tr>\n",
       "  </tbody>\n",
       "</table>\n",
       "</div>"
      ],
      "text/plain": [
       "                                                     schedule\n",
       "base_url    https://pretalx.com/pyconde-pydata-berlin-2023...\n",
       "conference  {'acronym': 'pyconde-pydata-berlin-2023', 'tit...\n",
       "version                                                   1.3"
      ]
     },
     "execution_count": 3,
     "metadata": {},
     "output_type": "execute_result"
    }
   ],
   "source": [
    "data = pd.read_json('schedule.json')\n",
    "data"
   ]
  },
  {
   "cell_type": "code",
   "execution_count": 4,
   "id": "169184e5-a270-42f8-8973-9255c88bc964",
   "metadata": {},
   "outputs": [
    {
     "data": {
      "text/html": [
       "<div>\n",
       "<style scoped>\n",
       "    .dataframe tbody tr th:only-of-type {\n",
       "        vertical-align: middle;\n",
       "    }\n",
       "\n",
       "    .dataframe tbody tr th {\n",
       "        vertical-align: top;\n",
       "    }\n",
       "\n",
       "    .dataframe thead th {\n",
       "        text-align: right;\n",
       "    }\n",
       "</style>\n",
       "<table border=\"1\" class=\"dataframe\">\n",
       "  <thead>\n",
       "    <tr style=\"text-align: right;\">\n",
       "      <th></th>\n",
       "      <th>day</th>\n",
       "      <th>room</th>\n",
       "      <th>id</th>\n",
       "      <th>title</th>\n",
       "      <th>track</th>\n",
       "      <th>abstract</th>\n",
       "    </tr>\n",
       "  </thead>\n",
       "  <tbody>\n",
       "  </tbody>\n",
       "</table>\n",
       "</div>"
      ],
      "text/plain": [
       "Empty DataFrame\n",
       "Columns: [day, room, id, title, track, abstract]\n",
       "Index: []"
      ]
     },
     "execution_count": 4,
     "metadata": {},
     "output_type": "execute_result"
    }
   ],
   "source": [
    "# Create a new dataframe with columns day, room, id, title, absract\n",
    "df = pd.DataFrame(columns = ['day', 'room', 'id', 'title', 'track', 'abstract'])\n",
    "df"
   ]
  },
  {
   "cell_type": "code",
   "execution_count": 5,
   "id": "870e44f6-aec0-43d2-b5db-04741fa97d9f",
   "metadata": {
    "scrolled": true
   },
   "outputs": [],
   "source": [
    "# Interate over the 3 days\n",
    "for i in range(3):\n",
    "    temp_df = {}\n",
    "    # Get day\n",
    "    temp_df['day'] = i\n",
    "    day = data['schedule'].conference['days'][i]['rooms']\n",
    "    # Get rooms\n",
    "    rooms = ['Kuppelsaal', 'B09', 'B07-B08', 'B05-B06', 'A1', 'A03-A04', 'A05-A06']\n",
    "    # Get sessions of each room\n",
    "    for room in rooms:\n",
    "        temp_df['room'] = room\n",
    "        number_sessions_room = len(day[room])\n",
    "        \n",
    "        for session in range(number_sessions_room):\n",
    "            temp_df['id'] = day[room][session]['id']\n",
    "            temp_df['title'] = day[room][session]['title']\n",
    "            temp_df['track'] = day[room][session]['track']\n",
    "            temp_df['abstract'] = day[room][session]['abstract']\n",
    "            \n",
    "            temp = pd.DataFrame([temp_df])\n",
    "            df = pd.concat([df,temp], ignore_index=True)"
   ]
  },
  {
   "cell_type": "code",
   "execution_count": 6,
   "id": "18520cb6-c3db-4439-8ff0-9f849d20d4ff",
   "metadata": {},
   "outputs": [
    {
     "data": {
      "text/html": [
       "<div>\n",
       "<style scoped>\n",
       "    .dataframe tbody tr th:only-of-type {\n",
       "        vertical-align: middle;\n",
       "    }\n",
       "\n",
       "    .dataframe tbody tr th {\n",
       "        vertical-align: top;\n",
       "    }\n",
       "\n",
       "    .dataframe thead th {\n",
       "        text-align: right;\n",
       "    }\n",
       "</style>\n",
       "<table border=\"1\" class=\"dataframe\">\n",
       "  <thead>\n",
       "    <tr style=\"text-align: right;\">\n",
       "      <th></th>\n",
       "      <th>day</th>\n",
       "      <th>room</th>\n",
       "      <th>id</th>\n",
       "      <th>title</th>\n",
       "      <th>track</th>\n",
       "      <th>abstract</th>\n",
       "    </tr>\n",
       "  </thead>\n",
       "  <tbody>\n",
       "    <tr>\n",
       "      <th>0</th>\n",
       "      <td>0</td>\n",
       "      <td>Kuppelsaal</td>\n",
       "      <td>26497</td>\n",
       "      <td>Pandas 2.0 and beyond</td>\n",
       "      <td>PyData: PyData &amp; Scientific Libraries Stack</td>\n",
       "      <td>Pandas has reached a 2.0 milestone in 2023. Bu...</td>\n",
       "    </tr>\n",
       "    <tr>\n",
       "      <th>1</th>\n",
       "      <td>0</td>\n",
       "      <td>Kuppelsaal</td>\n",
       "      <td>25390</td>\n",
       "      <td>An unbiased evaluation of environment manageme...</td>\n",
       "      <td>PyCon: Programming &amp; Software Engineering</td>\n",
       "      <td>Python packaging is quickly evolving and new t...</td>\n",
       "    </tr>\n",
       "    <tr>\n",
       "      <th>2</th>\n",
       "      <td>0</td>\n",
       "      <td>Kuppelsaal</td>\n",
       "      <td>28265</td>\n",
       "      <td>Keynote - A journey through 4 industries with ...</td>\n",
       "      <td>Plenary</td>\n",
       "      <td>In this keynote, I will share the lessons lear...</td>\n",
       "    </tr>\n",
       "    <tr>\n",
       "      <th>3</th>\n",
       "      <td>0</td>\n",
       "      <td>Kuppelsaal</td>\n",
       "      <td>26247</td>\n",
       "      <td>Raised by Pandas, striving for more: An opinio...</td>\n",
       "      <td>PyData: Data Handling</td>\n",
       "      <td>Pandas is the de-facto standard for data manip...</td>\n",
       "    </tr>\n",
       "    <tr>\n",
       "      <th>4</th>\n",
       "      <td>0</td>\n",
       "      <td>Kuppelsaal</td>\n",
       "      <td>25254</td>\n",
       "      <td>Polars - make the switch to lightning-fast dat...</td>\n",
       "      <td>PyData: Data Handling</td>\n",
       "      <td>In this talk, we will report on our experience...</td>\n",
       "    </tr>\n",
       "    <tr>\n",
       "      <th>...</th>\n",
       "      <td>...</td>\n",
       "      <td>...</td>\n",
       "      <td>...</td>\n",
       "      <td>...</td>\n",
       "      <td>...</td>\n",
       "      <td>...</td>\n",
       "    </tr>\n",
       "    <tr>\n",
       "      <th>110</th>\n",
       "      <td>2</td>\n",
       "      <td>A03-A04</td>\n",
       "      <td>25857</td>\n",
       "      <td>Most of you don't need Spark. Large-scale data...</td>\n",
       "      <td>PyData: Data Handling</td>\n",
       "      <td>The Python data ecosystem has matured during t...</td>\n",
       "    </tr>\n",
       "    <tr>\n",
       "      <th>111</th>\n",
       "      <td>2</td>\n",
       "      <td>A03-A04</td>\n",
       "      <td>30171</td>\n",
       "      <td>Contributing to an open-source content library...</td>\n",
       "      <td>PyData: Natural Language Processing</td>\n",
       "      <td>Bricks is an open-source content library for n...</td>\n",
       "    </tr>\n",
       "    <tr>\n",
       "      <th>112</th>\n",
       "      <td>2</td>\n",
       "      <td>A05-A06</td>\n",
       "      <td>26268</td>\n",
       "      <td>Building Hexagonal Python Services</td>\n",
       "      <td>PyCon: Programming &amp; Software Engineering</td>\n",
       "      <td>The importance of enterprise architecture patt...</td>\n",
       "    </tr>\n",
       "    <tr>\n",
       "      <th>113</th>\n",
       "      <td>2</td>\n",
       "      <td>A05-A06</td>\n",
       "      <td>26277</td>\n",
       "      <td>Workshop on Privilege and Ethics in Data</td>\n",
       "      <td>General: Ethics &amp; Privacy</td>\n",
       "      <td>Data-driven products are becoming more and mor...</td>\n",
       "    </tr>\n",
       "    <tr>\n",
       "      <th>114</th>\n",
       "      <td>2</td>\n",
       "      <td>A05-A06</td>\n",
       "      <td>26494</td>\n",
       "      <td>The Battle of Giants: Causality vs NLP =&gt; From...</td>\n",
       "      <td>PyData: Natural Language Processing</td>\n",
       "      <td>With an average of 3.2 new papers published on...</td>\n",
       "    </tr>\n",
       "  </tbody>\n",
       "</table>\n",
       "<p>115 rows × 6 columns</p>\n",
       "</div>"
      ],
      "text/plain": [
       "    day        room     id                                              title  \\\n",
       "0     0  Kuppelsaal  26497                              Pandas 2.0 and beyond   \n",
       "1     0  Kuppelsaal  25390  An unbiased evaluation of environment manageme...   \n",
       "2     0  Kuppelsaal  28265  Keynote - A journey through 4 industries with ...   \n",
       "3     0  Kuppelsaal  26247  Raised by Pandas, striving for more: An opinio...   \n",
       "4     0  Kuppelsaal  25254  Polars - make the switch to lightning-fast dat...   \n",
       "..   ..         ...    ...                                                ...   \n",
       "110   2     A03-A04  25857  Most of you don't need Spark. Large-scale data...   \n",
       "111   2     A03-A04  30171  Contributing to an open-source content library...   \n",
       "112   2     A05-A06  26268                 Building Hexagonal Python Services   \n",
       "113   2     A05-A06  26277           Workshop on Privilege and Ethics in Data   \n",
       "114   2     A05-A06  26494  The Battle of Giants: Causality vs NLP => From...   \n",
       "\n",
       "                                           track  \\\n",
       "0    PyData: PyData & Scientific Libraries Stack   \n",
       "1      PyCon: Programming & Software Engineering   \n",
       "2                                        Plenary   \n",
       "3                          PyData: Data Handling   \n",
       "4                          PyData: Data Handling   \n",
       "..                                           ...   \n",
       "110                        PyData: Data Handling   \n",
       "111          PyData: Natural Language Processing   \n",
       "112    PyCon: Programming & Software Engineering   \n",
       "113                    General: Ethics & Privacy   \n",
       "114          PyData: Natural Language Processing   \n",
       "\n",
       "                                              abstract  \n",
       "0    Pandas has reached a 2.0 milestone in 2023. Bu...  \n",
       "1    Python packaging is quickly evolving and new t...  \n",
       "2    In this keynote, I will share the lessons lear...  \n",
       "3    Pandas is the de-facto standard for data manip...  \n",
       "4    In this talk, we will report on our experience...  \n",
       "..                                                 ...  \n",
       "110  The Python data ecosystem has matured during t...  \n",
       "111  Bricks is an open-source content library for n...  \n",
       "112  The importance of enterprise architecture patt...  \n",
       "113  Data-driven products are becoming more and mor...  \n",
       "114  With an average of 3.2 new papers published on...  \n",
       "\n",
       "[115 rows x 6 columns]"
      ]
     },
     "execution_count": 6,
     "metadata": {},
     "output_type": "execute_result"
    }
   ],
   "source": [
    "df"
   ]
  },
  {
   "cell_type": "code",
   "execution_count": 7,
   "id": "8a919cd0-afa4-4dd0-93d9-30ce25767921",
   "metadata": {},
   "outputs": [
    {
     "data": {
      "text/plain": [
       "track\n",
       "PyData: Natural Language Processing                                15\n",
       "PyCon: Programming & Software Engineering                          15\n",
       "Sponsor                                                            12\n",
       "PyData: PyData & Scientific Libraries Stack                        10\n",
       "PyData: Machine Learning & Stats                                   10\n",
       "PyData: Data Handling                                               9\n",
       "PyCon: DevOps & MLOps                                               8\n",
       "PyCon: Python Language                                              4\n",
       "Plenary                                                             4\n",
       "PyData: Deep Learning                                               4\n",
       "General: Ethics & Privacy                                           3\n",
       "PyCon: Libraries                                                    3\n",
       "PyData: Jupyter                                                     3\n",
       "PyCon: Testing                                                      3\n",
       "General: Others                                                     2\n",
       "General: Python & PyData Friends                                    2\n",
       "PyData: Computer Vision                                             2\n",
       "General: Community, Diversity, Career, Life and everything else     2\n",
       "PyData: Visualisation                                               1\n",
       "PyCon: Django                                                       1\n",
       "PyCon: Web                                                          1\n",
       "General: Infrastructure - Hardware & Cloud                          1\n",
       "Name: count, dtype: int64"
      ]
     },
     "execution_count": 7,
     "metadata": {},
     "output_type": "execute_result"
    }
   ],
   "source": [
    "# tracks and their frequency\n",
    "df.track.value_counts()"
   ]
  },
  {
   "cell_type": "code",
   "execution_count": 8,
   "id": "5f42b972-bcda-497a-859f-3569dcffc4c7",
   "metadata": {},
   "outputs": [
    {
     "data": {
      "text/plain": [
       "22"
      ]
     },
     "execution_count": 8,
     "metadata": {},
     "output_type": "execute_result"
    }
   ],
   "source": [
    "df.track.nunique()"
   ]
  },
  {
   "cell_type": "markdown",
   "id": "2e6a6e8a-6743-449b-b345-8dfa5005c97b",
   "metadata": {},
   "source": [
    "## Part 2: Topic Modeling"
   ]
  },
  {
   "cell_type": "markdown",
   "id": "88cdc50e-fe11-4c9f-be3d-75fec79d8609",
   "metadata": {},
   "source": [
    "<div>\n",
    "<img src=\"pipeline.svg\" width=\"700\"/>\n",
    "</div>"
   ]
  },
  {
   "cell_type": "code",
   "execution_count": 9,
   "id": "3cf39486-961e-49a6-a6ae-d11d686590b9",
   "metadata": {},
   "outputs": [],
   "source": [
    "# Create a spaCy object, en_core_web_md is spaCy's pre-trained model, as shown in image above 'nlp'\n",
    "nlp = en_core_web_md.load()"
   ]
  },
  {
   "cell_type": "markdown",
   "id": "37ba43e8-e178-47d9-a425-a867938add65",
   "metadata": {},
   "source": [
    "### Data"
   ]
  },
  {
   "cell_type": "code",
   "execution_count": 10,
   "id": "e53405dd-8ae4-4648-9ee8-2e14af0e1b5a",
   "metadata": {},
   "outputs": [
    {
     "data": {
      "text/html": [
       "<span class=\"tex2jax_ignore\"><div class=\"entities\" style=\"line-height: 2.5; direction: ltr\">\n",
       "<mark class=\"entity\" style=\"background: #aa9cfc; padding: 0.45em 0.6em; margin: 0 0.25em; line-height: 1; border-radius: 0.35em;\">\n",
       "    Pandas\n",
       "    <span style=\"font-size: 0.8em; font-weight: bold; line-height: 1; border-radius: 0.35em; vertical-align: middle; margin-left: 0.5rem\">PERSON</span>\n",
       "</mark>\n",
       " has reached a 2.0 milestone in \n",
       "<mark class=\"entity\" style=\"background: #bfe1d9; padding: 0.45em 0.6em; margin: 0 0.25em; line-height: 1; border-radius: 0.35em;\">\n",
       "    2023\n",
       "    <span style=\"font-size: 0.8em; font-weight: bold; line-height: 1; border-radius: 0.35em; vertical-align: middle; margin-left: 0.5rem\">DATE</span>\n",
       "</mark>\n",
       ". But what does that mean? And what is coming after 2.0? This talk will give an overview of what happened in the latest releases of pandas and highlight some topics and major new features the pandas project is working on.</div></span>"
      ],
      "text/plain": [
       "<IPython.core.display.HTML object>"
      ]
     },
     "metadata": {},
     "output_type": "display_data"
    }
   ],
   "source": [
    "# Name Entity Recognition\n",
    "# Call nlp on an abstract, the text will run through a processing pipeline, as shown in image above.\n",
    "doc = nlp(df.abstract[0])\n",
    "spacy.displacy.render(doc, style='ent', jupyter=True)"
   ]
  },
  {
   "cell_type": "code",
   "execution_count": 11,
   "id": "f0d871fb-8768-46da-9c09-29452a6f1bca",
   "metadata": {},
   "outputs": [],
   "source": [
    "# Remove the tags I don't want\n",
    "# from spacy.glossary import GLOSSARY \n",
    "# lookup_dict = GLOSSARY\n",
    "# lookup_dict.keys()\n",
    "remove_tags = ['ADV','ADP','CCONJ','DET','PRON','PUNCT','PART','NUM','SPACE','SYM']"
   ]
  },
  {
   "cell_type": "code",
   "execution_count": 12,
   "id": "1ec1049c-86d9-4ab5-9df0-a4f1e933164b",
   "metadata": {},
   "outputs": [],
   "source": [
    "tokens = []\n",
    "for abstract in nlp.pipe(df.abstract):\n",
    "    # tokenizer, remove unwanted tags, stopwords, lemmatization\n",
    "    abstract_token = [token.lemma_ for token in abstract if token.pos_ not in remove_tags and not token.is_stop and token.is_alpha] \n",
    "    tokens.append(abstract_token)"
   ]
  },
  {
   "cell_type": "code",
   "execution_count": 13,
   "id": "1524265d-1a95-4041-b6b5-93419737b05a",
   "metadata": {
    "scrolled": true
   },
   "outputs": [
    {
     "data": {
      "text/plain": [
       "['panda',\n",
       " 'reach',\n",
       " 'milestone',\n",
       " 'mean',\n",
       " 'come',\n",
       " 'talk',\n",
       " 'overview',\n",
       " 'happen',\n",
       " 'late',\n",
       " 'release',\n",
       " 'panda',\n",
       " 'highlight',\n",
       " 'topic',\n",
       " 'major',\n",
       " 'new',\n",
       " 'feature',\n",
       " 'panda',\n",
       " 'project',\n",
       " 'work']"
      ]
     },
     "execution_count": 13,
     "metadata": {},
     "output_type": "execute_result"
    }
   ],
   "source": [
    "tokens[0]"
   ]
  },
  {
   "cell_type": "code",
   "execution_count": 14,
   "id": "990da0f4-2b30-49fd-abf5-4886c7dcf930",
   "metadata": {
    "scrolled": true
   },
   "outputs": [
    {
     "data": {
      "text/html": [
       "<div>\n",
       "<style scoped>\n",
       "    .dataframe tbody tr th:only-of-type {\n",
       "        vertical-align: middle;\n",
       "    }\n",
       "\n",
       "    .dataframe tbody tr th {\n",
       "        vertical-align: top;\n",
       "    }\n",
       "\n",
       "    .dataframe thead th {\n",
       "        text-align: right;\n",
       "    }\n",
       "</style>\n",
       "<table border=\"1\" class=\"dataframe\">\n",
       "  <thead>\n",
       "    <tr style=\"text-align: right;\">\n",
       "      <th></th>\n",
       "      <th>day</th>\n",
       "      <th>room</th>\n",
       "      <th>id</th>\n",
       "      <th>title</th>\n",
       "      <th>track</th>\n",
       "      <th>abstract</th>\n",
       "      <th>tokens</th>\n",
       "    </tr>\n",
       "  </thead>\n",
       "  <tbody>\n",
       "    <tr>\n",
       "      <th>0</th>\n",
       "      <td>0</td>\n",
       "      <td>Kuppelsaal</td>\n",
       "      <td>26497</td>\n",
       "      <td>Pandas 2.0 and beyond</td>\n",
       "      <td>PyData: PyData &amp; Scientific Libraries Stack</td>\n",
       "      <td>Pandas has reached a 2.0 milestone in 2023. Bu...</td>\n",
       "      <td>[panda, reach, milestone, mean, come, talk, ov...</td>\n",
       "    </tr>\n",
       "    <tr>\n",
       "      <th>1</th>\n",
       "      <td>0</td>\n",
       "      <td>Kuppelsaal</td>\n",
       "      <td>25390</td>\n",
       "      <td>An unbiased evaluation of environment manageme...</td>\n",
       "      <td>PyCon: Programming &amp; Software Engineering</td>\n",
       "      <td>Python packaging is quickly evolving and new t...</td>\n",
       "      <td>[Python, packaging, evolve, new, tool, pop, re...</td>\n",
       "    </tr>\n",
       "    <tr>\n",
       "      <th>2</th>\n",
       "      <td>0</td>\n",
       "      <td>Kuppelsaal</td>\n",
       "      <td>28265</td>\n",
       "      <td>Keynote - A journey through 4 industries with ...</td>\n",
       "      <td>Plenary</td>\n",
       "      <td>In this keynote, I will share the lessons lear...</td>\n",
       "      <td>[keynote, share, lesson, learn, Python, indust...</td>\n",
       "    </tr>\n",
       "    <tr>\n",
       "      <th>3</th>\n",
       "      <td>0</td>\n",
       "      <td>Kuppelsaal</td>\n",
       "      <td>26247</td>\n",
       "      <td>Raised by Pandas, striving for more: An opinio...</td>\n",
       "      <td>PyData: Data Handling</td>\n",
       "      <td>Pandas is the de-facto standard for data manip...</td>\n",
       "      <td>[panda, de, facto, standard, data, manipulatio...</td>\n",
       "    </tr>\n",
       "    <tr>\n",
       "      <th>4</th>\n",
       "      <td>0</td>\n",
       "      <td>Kuppelsaal</td>\n",
       "      <td>25254</td>\n",
       "      <td>Polars - make the switch to lightning-fast dat...</td>\n",
       "      <td>PyData: Data Handling</td>\n",
       "      <td>In this talk, we will report on our experience...</td>\n",
       "      <td>[talk, report, experience, switch, Pandas, Pol...</td>\n",
       "    </tr>\n",
       "    <tr>\n",
       "      <th>...</th>\n",
       "      <td>...</td>\n",
       "      <td>...</td>\n",
       "      <td>...</td>\n",
       "      <td>...</td>\n",
       "      <td>...</td>\n",
       "      <td>...</td>\n",
       "      <td>...</td>\n",
       "    </tr>\n",
       "    <tr>\n",
       "      <th>110</th>\n",
       "      <td>2</td>\n",
       "      <td>A03-A04</td>\n",
       "      <td>25857</td>\n",
       "      <td>Most of you don't need Spark. Large-scale data...</td>\n",
       "      <td>PyData: Data Handling</td>\n",
       "      <td>The Python data ecosystem has matured during t...</td>\n",
       "      <td>[Python, data, ecosystem, mature, decade, reas...</td>\n",
       "    </tr>\n",
       "    <tr>\n",
       "      <th>111</th>\n",
       "      <td>2</td>\n",
       "      <td>A03-A04</td>\n",
       "      <td>30171</td>\n",
       "      <td>Contributing to an open-source content library...</td>\n",
       "      <td>PyData: Natural Language Processing</td>\n",
       "      <td>Bricks is an open-source content library for n...</td>\n",
       "      <td>[brick, open, source, content, library, natura...</td>\n",
       "    </tr>\n",
       "    <tr>\n",
       "      <th>112</th>\n",
       "      <td>2</td>\n",
       "      <td>A05-A06</td>\n",
       "      <td>26268</td>\n",
       "      <td>Building Hexagonal Python Services</td>\n",
       "      <td>PyCon: Programming &amp; Software Engineering</td>\n",
       "      <td>The importance of enterprise architecture patt...</td>\n",
       "      <td>[importance, enterprise, architecture, pattern...</td>\n",
       "    </tr>\n",
       "    <tr>\n",
       "      <th>113</th>\n",
       "      <td>2</td>\n",
       "      <td>A05-A06</td>\n",
       "      <td>26277</td>\n",
       "      <td>Workshop on Privilege and Ethics in Data</td>\n",
       "      <td>General: Ethics &amp; Privacy</td>\n",
       "      <td>Data-driven products are becoming more and mor...</td>\n",
       "      <td>[data, drive, product, ubiquitous, human, buil...</td>\n",
       "    </tr>\n",
       "    <tr>\n",
       "      <th>114</th>\n",
       "      <td>2</td>\n",
       "      <td>A05-A06</td>\n",
       "      <td>26494</td>\n",
       "      <td>The Battle of Giants: Causality vs NLP =&gt; From...</td>\n",
       "      <td>PyData: Natural Language Processing</td>\n",
       "      <td>With an average of 3.2 new papers published on...</td>\n",
       "      <td>[average, new, paper, publish, Arxiv, day, cau...</td>\n",
       "    </tr>\n",
       "  </tbody>\n",
       "</table>\n",
       "<p>115 rows × 7 columns</p>\n",
       "</div>"
      ],
      "text/plain": [
       "    day        room     id                                              title  \\\n",
       "0     0  Kuppelsaal  26497                              Pandas 2.0 and beyond   \n",
       "1     0  Kuppelsaal  25390  An unbiased evaluation of environment manageme...   \n",
       "2     0  Kuppelsaal  28265  Keynote - A journey through 4 industries with ...   \n",
       "3     0  Kuppelsaal  26247  Raised by Pandas, striving for more: An opinio...   \n",
       "4     0  Kuppelsaal  25254  Polars - make the switch to lightning-fast dat...   \n",
       "..   ..         ...    ...                                                ...   \n",
       "110   2     A03-A04  25857  Most of you don't need Spark. Large-scale data...   \n",
       "111   2     A03-A04  30171  Contributing to an open-source content library...   \n",
       "112   2     A05-A06  26268                 Building Hexagonal Python Services   \n",
       "113   2     A05-A06  26277           Workshop on Privilege and Ethics in Data   \n",
       "114   2     A05-A06  26494  The Battle of Giants: Causality vs NLP => From...   \n",
       "\n",
       "                                           track  \\\n",
       "0    PyData: PyData & Scientific Libraries Stack   \n",
       "1      PyCon: Programming & Software Engineering   \n",
       "2                                        Plenary   \n",
       "3                          PyData: Data Handling   \n",
       "4                          PyData: Data Handling   \n",
       "..                                           ...   \n",
       "110                        PyData: Data Handling   \n",
       "111          PyData: Natural Language Processing   \n",
       "112    PyCon: Programming & Software Engineering   \n",
       "113                    General: Ethics & Privacy   \n",
       "114          PyData: Natural Language Processing   \n",
       "\n",
       "                                              abstract  \\\n",
       "0    Pandas has reached a 2.0 milestone in 2023. Bu...   \n",
       "1    Python packaging is quickly evolving and new t...   \n",
       "2    In this keynote, I will share the lessons lear...   \n",
       "3    Pandas is the de-facto standard for data manip...   \n",
       "4    In this talk, we will report on our experience...   \n",
       "..                                                 ...   \n",
       "110  The Python data ecosystem has matured during t...   \n",
       "111  Bricks is an open-source content library for n...   \n",
       "112  The importance of enterprise architecture patt...   \n",
       "113  Data-driven products are becoming more and mor...   \n",
       "114  With an average of 3.2 new papers published on...   \n",
       "\n",
       "                                                tokens  \n",
       "0    [panda, reach, milestone, mean, come, talk, ov...  \n",
       "1    [Python, packaging, evolve, new, tool, pop, re...  \n",
       "2    [keynote, share, lesson, learn, Python, indust...  \n",
       "3    [panda, de, facto, standard, data, manipulatio...  \n",
       "4    [talk, report, experience, switch, Pandas, Pol...  \n",
       "..                                                 ...  \n",
       "110  [Python, data, ecosystem, mature, decade, reas...  \n",
       "111  [brick, open, source, content, library, natura...  \n",
       "112  [importance, enterprise, architecture, pattern...  \n",
       "113  [data, drive, product, ubiquitous, human, buil...  \n",
       "114  [average, new, paper, publish, Arxiv, day, cau...  \n",
       "\n",
       "[115 rows x 7 columns]"
      ]
     },
     "execution_count": 14,
     "metadata": {},
     "output_type": "execute_result"
    }
   ],
   "source": [
    "# Create a new column named 'tokens'\n",
    "df['tokens'] = tokens\n",
    "df"
   ]
  },
  {
   "cell_type": "code",
   "execution_count": 15,
   "id": "05f6b08d-c4dc-4244-8c7f-25d53cc5f058",
   "metadata": {},
   "outputs": [
    {
     "name": "stdout",
     "output_type": "stream",
     "text": [
      "Dictionary<1822 unique tokens: ['come', 'feature', 'happen', 'highlight', 'late']...>\n"
     ]
    }
   ],
   "source": [
    "# Inputs of LDA: Dictionary- unique id for each token\n",
    "dictionary = Dictionary(df['tokens'])\n",
    "print(dictionary)"
   ]
  },
  {
   "cell_type": "code",
   "execution_count": 16,
   "id": "68712475-0355-410e-a72f-e85a83f68ac6",
   "metadata": {
    "scrolled": true
   },
   "outputs": [
    {
     "name": "stdout",
     "output_type": "stream",
     "text": [
      "{'come': 0, 'feature': 1, 'happen': 2, 'highlight': 3, 'late': 4, 'major': 5, 'mean': 6, 'milestone': 7, 'new': 8, 'overview': 9, 'panda': 10, 'project': 11, 'reach': 12, 'release': 13, 'talk': 14, 'topic': 15, 'work': 16, 'Python': 17, 'available': 18, 'basis': 19, 'compare': 20, 'environment': 21, 'evolve': 22, 'exist': 23, 'jungle': 24, 'light': 25, 'lot': 26, 'management': 27, 'packaging': 28, 'pop': 29, 'post': 30, 'predefine': 31, 'regular': 32, 'shed': 33, 'structured': 34, 'tool': 35, 'unbiased': 36, 'Game': 37, 'Quill': 38, 'Studios': 39, 'application': 40, 'build': 41, 'company': 42, 'data': 43, 'day': 44, 'develop': 45, 'engineer': 46, 'game': 47, 'gaming': 48, 'hope': 49, 'industry': 50, 'inspiration': 51, 'interesting': 52, 'keynote': 53, 'learn': 54, 'learning': 55, 'lesson': 56, 'machine': 57, 'pleasure': 58, 'problem': 59, 'scientist': 60, 'share': 61, 'solve': 62, 'type': 63, 'use': 64, 'versatility': 65, 'Apache': 66, 'Arrow': 67, 'Pandas': 68, 'Polars': 69, 'Rust': 70, 'aim': 71, 'benchmark': 72, 'codebase': 73, 'datum': 74, 'de': 75, 'drawback': 76, 'efficiency': 77, 'expectation': 78, 'explain': 79, 'facto': 80, 'fast': 81, 'flexibility': 82, 'flexible': 83, 'handling': 84, 'high': 85, 'inconsistent': 86, 'insight': 87, 'interoperability': 88, 'issue': 89, 'kind': 90, 'know': 91, 'lack': 92, 'language': 93, 'long': 94, 'love': 95, 'lover': 96, 'manipulation': 97, 'meet': 98, 'memory': 99, 'migrate': 100, 'missing': 101, 'multicore': 102, 'multiple': 103, 'open': 104, 'performance': 105, 'present': 106, 'python': 107, 'query': 108, 'scenario': 109, 'shine': 110, 'source': 111, 'stable': 112, 'standard': 113, 'stay': 114, 'support': 115, 'syntax': 116, 'time': 117, 'win': 118, 'ML': 119, 'ability': 120, 'analysis': 121, 'analyst': 122, 'base': 123, 'dataframe': 124, 'dataset': 125, 'discuss': 126, 'efficient': 127, 'experience': 128, 'feel': 129, 'fit': 130, 'handle': 131, 'improvement': 132, 'interested': 133, 'large': 134, 'library': 135, 'polars': 136, 'popular': 137, 'practice': 138, 'processing': 139, 'provide': 140, 'real': 141, 'report': 142, 'significant': 143, 'speed': 144, 'switch': 145, 'task': 146, 'unique': 147, 'world': 148, 'write': 149, 'Celery': 150, 'TDD': 151, 'able': 152, 'api': 153, 'apply': 154, 'attendee': 155, 'code': 156, 'core': 157, 'create': 158, 'drive': 159, 'end': 160, 'ensure': 161, 'explore': 162, 'fastapi': 163, 'framework': 164, 'functionality': 165, 'help': 166, 'improve': 167, 'maintainability': 168, 'manner': 169, 'offload': 170, 'perform': 171, 'queue': 172, 'reliability': 173, 'reliable': 174, 'run': 175, 'scalable': 176, 'set': 177, 'start': 178, 'strong': 179, 'test': 180, 'testing': 181, 'understanding': 182, 'unit': 183, 'web': 184, 'IIoT': 185, 'IoT': 186, 'Pythonistas': 187, 'StreamPipes': 188, 'access': 189, 'addition': 190, 'address': 191, 'allow': 192, 'appeal': 193, 'basic': 194, 'case': 195, 'challenge': 196, 'client': 197, 'collect': 198, 'cumbersome': 199, 'deep': 200, 'demo': 201, 'derive': 202, 'discussion': 203, 'enthusiast': 204, 'extract': 205, 'fashioned': 206, 'follow': 207, 'general': 208, 'give': 209, 'industrial': 210, 'introduction': 211, 'live': 212, 'mess': 213, 'model': 214, 'myriad': 215, 'offer': 216, 'old': 217, 'particular': 218, 'pitfall': 219, 'protocol': 220, 'pythonic': 221, 'training': 222, 'visualization': 223, 'want': 224, 'way': 225, 'ASHA': 226, 'BO': 227, 'Bayesian': 228, 'HPO': 229, 'Halving': 230, 'Hyperparameter': 231, 'Learning': 232, 'Machine': 233, 'Optimization': 234, 'Successive': 235, 'activity': 236, 'agnostic': 237, 'algorithm': 238, 'automatic': 239, 'awslab': 240, 'big': 241, 'comparison': 242, 'computational': 243, 'cost': 244, 'creation': 245, 'describe': 246, 'employ': 247, 'example': 248, 'experimental': 249, 'extensive': 250, 'final': 251, 'fundamental': 252, 'gain': 253, 'heuristic': 254, 'include': 255, 'incur': 256, 'lead': 257, 'low': 258, 'lower': 259, 'observe': 260, 'optimal': 261, 'pipeline': 262, 'practical': 263, 'practitioner': 264, 'predictive': 265, 'presented': 266, 'public': 267, 'range': 268, 'resource': 269, 'result': 270, 'simple': 271, 'step': 272, 'syne': 273, 'technique': 274, 'term': 275, 'train': 276, 'try': 277, 'tune': 278, 'unreliable': 279, 'useful': 280, 'user': 281, 'wait': 282, 'wide': 283, 'year': 284, 'Boosting': 285, 'Cyclic': 286, 'GitHub': 287, 'accurate': 288, 'boost': 289, 'boosting': 290, 'cardinality': 291, 'categorical': 292, 'cyclic': 293, 'deliver': 294, 'demonstrate': 295, 'dependency': 296, 'engineering': 297, 'explainable': 298, 'facilitate': 299, 'family': 300, 'find': 301, 'heterogeneous': 302, 'hyperparameter': 303, 'ideal': 304, 'implementation': 305, 'individual': 306, 'inexpensive': 307, 'infamous': 308, 'information': 309, 'inner': 310, 'iteration': 311, 'level': 312, 'little': 313, 'make': 314, 'method': 315, 'minimal': 316, 'miss': 317, 'modeling': 318, 'pre': 319, 'prediction': 320, 'presentation': 321, 'process': 322, 'pure': 323, 'purpose': 324, 'rapid': 325, 'require': 326, 'robust': 327, 'sample': 328, 'shelf': 329, 'supervised': 330, 'tuning': 331, 'unavoidable': 332, 'usage': 333, 'variable': 334, 'working': 335, 'complementary': 336, 'database': 337, 'evaluate': 338, 'evaluation': 339, 'sensor': 340, 'series': 341, 'service': 342, 'show': 343, 'stream': 344, 'Alicia': 345, 'Chat': 346, 'Shopify': 347, 'ai': 348, 'architecture': 349, 'behavior': 350, 'behaviour': 351, 'building': 352, 'business': 353, 'catch': 354, 'critical': 355, 'different': 356, 'dive': 357, 'drift': 358, 'erroneous': 359, 'importance': 360, 'iterate': 361, 'look': 362, 'metric': 363, 'modern': 364, 'observability': 365, 'part': 366, 'platform': 367, 'prevalent': 368, 'prototype': 369, 'quality': 370, 'sure': 371, 'team': 372, 'technology': 373, 'track': 374, 'unexpected': 375, 'Delivery': 376, 'Hero': 377, 'Logistics': 378, 'account': 379, 'answer': 380, 'consider': 381, 'department': 382, 'discover': 383, 'expect': 384, 'focusse': 385, 'get': 386, 'hand': 387, 'invest': 388, 'journey': 389, 'maintain': 390, 'need': 391, 'ongoing': 392, 'question': 393, 'structure': 394, 'Snowflake': 395, 'Snowpark': 396, 'b': 397, 'collaborate': 398, 'compliance': 399, 'concept': 400, 'developer': 401, 'dynamic': 402, 'elasticity': 403, 'organization': 404, 'repository': 405, 'sandbox': 406, 'scalability': 407, 'scale': 408, 'secure': 409, 'security': 410, 'snowflakedb': 411, 'snowpark': 412, 'CPython': 413, 'PyScript': 414, 'WASM': 415, 'WebAssembly': 416, 'browser': 417, 'cpu': 418, 'etc': 419, 'explosion': 420, 'possible': 421, 'powerful': 422, 'recent': 423, 'see': 424, 'thank': 425, 'underlie': 426, 'virtual': 427, 'MLOps': 428, 'absence': 429, 'balance': 430, 'boundary': 431, 'circle': 432, 'constraint': 433, 'deploy': 434, 'deployment': 435, 'development': 436, 'factor': 437, 'latency': 438, 'lie': 439, 'list': 440, 'manage': 441, 'operational': 442, 'production': 443, 'reproducible': 444, 'square': 445, 'take': 446, 'vulnerability': 447, 'ChatGPT': 448, 'GPT': 449, 'Haystack': 450, 'LLM': 451, 'LLMs': 452, 'Models': 453, 'NLP': 454, 'chain': 455, 'component': 456, 'knowledge': 457, 'llm': 458, 'miraculous': 459, 'outdated': 460, 'overcome': 461, 'product': 462, 'store': 463, 'unsolved': 464, 'walk': 465, 'wrong': 466, 'PyTorch': 467, 'bug': 468, 'cause': 469, 'choose': 470, 'complex': 471, 'correct': 472, 'culprit': 473, 'custom': 474, 'determine': 475, 'equip': 476, 'focus': 477, 'function': 478, 'future': 479, 'generate': 480, 'hour': 481, 'identify': 482, 'leverage': 483, 'loop': 484, 'loss': 485, 'prevent': 486, 'problematic': 487, 'pyt': 488, 'pytorch': 489, 'reason': 490, 'refactor': 491, 'right': 492, 'scratch': 493, 'session': 494, 'synthetic': 495, 'toolbox': 496, 'tricky': 497, 'visitor': 498, 'AutoGluon': 499, 'AutoML': 500, 'achieve': 501, 'art': 502, 'automate': 503, 'classification': 504, 'competition': 505, 'competitive': 506, 'current': 507, 'cutting': 508, 'edge': 509, 'emphasize': 510, 'enable': 511, 'experimentation': 512, 'expertise': 513, 'forecasting': 514, 'hood': 515, 'human': 516, 'image': 517, 'intervention': 518, 'introduce': 519, 'intuitive': 520, 'manual': 521, 'multimodal': 522, 'peek': 523, 'promise': 524, 'raw': 525, 'regression': 526, 'state': 527, 'tabular': 528, 'toolkit': 529, 'transform': 530, 'unified': 531, 'usability': 532, 'variety': 533, 'anomaly': 534, 'common': 535, 'delay': 536, 'digital': 537, 'divergent': 538, 'domain': 539, 'easy': 540, 'expert': 541, 'forecast': 542, 'hard': 543, 'imagine': 544, 'impact': 545, 'irregular': 546, 'logistic': 547, 'market': 548, 'marketing': 549, 'master': 550, 'noise': 551, 'organise': 552, 'outlier': 553, 'pricing': 554, 'professional': 555, 'propagation': 556, 'reduce': 557, 'resolve': 558, 'stabilise': 559, 'stock': 560, 'understand': 561, 'value': 562, 'BI': 563, 'BigQuery': 564, 'ELT': 565, 'Formula': 566, 'Google': 567, 'Grand': 568, 'Prix': 569, 'analytic': 570, 'approach': 571, 'cloud': 572, 'complement': 573, 'compose': 574, 'compute': 575, 'engine': 576, 'integration': 577, 'specific': 578, 'stack': 579, 'stem': 580, 'transformation': 581, 'tutorial': 582, 'BHAD': 583, 'accuracy': 584, 'additional': 585, 'anomalous': 586, 'assign': 587, 'bayesian': 588, 'bhad': 589, 'bin': 590, 'crucial': 591, 'detection': 592, 'detector': 593, 'distribution': 594, 'expensive': 595, 'explanation': 596, 'histogram': 597, 'indicate': 598, 'interpretability': 599, 'number': 600, 'outli': 601, 'parameter': 602, 'pattern': 603, 'prior': 604, 'prominent': 605, 'propose': 606, 'score': 607, 'simulated': 608, 'size': 609, 'soa': 610, 'straightforward': 611, 'study': 612, 'suitable': 613, 'treat': 614, 'unknown': 615, 'Airflow': 616, 'Argo': 617, 'DVC': 618, 'Jupyter': 619, 'Kubeflow': 620, 'LineaPy': 621, 'check': 622, 'contribute': 623, 'creator': 624, 'cure': 625, 'dvc': 626, 'everyday': 627, 'expedite': 628, 'favorite': 629, 'generation': 630, 'go': 631, 'good': 632, 'grade': 633, 'messy': 634, 'news': 635, 'nightmare': 636, 'notebook': 637, 'orchestration': 638, 'package': 639, 'place': 640, 'plugin': 641, 'science': 642, 'solution': 643, 'universe': 644, 'welcome': 645, 'workflow': 646, 'OpenAI': 647, 'add': 648, 'annotation': 649, 'benefit': 650, 'control': 651, 'decision': 652, 'gather': 653, 'initial': 654, 'maker': 655, 'normal': 656, 'replace': 657, 'runtime': 658, 'shot': 659, 'alert': 660, 'avoid': 661, 'batch': 662, 'dashboard': 663, 'depth': 664, 'essential': 665, 'face': 666, 'fatigue': 667, 'integrate': 668, 'lifecycle': 669, 'monitor': 670, 'monitoring': 671, 'prioritize': 672, 'proper': 673, 'risk': 674, 'setup': 675, 'similar': 676, 'single': 677, 'standardize': 678, 'Mamray': 679, 'consume': 680, 'important': 681, 'profile': 682, 'profiling': 683, 'Scala': 684, 'Serialization': 685, 'Typeclasses': 686, 'abstract': 687, 'construct': 688, 'contrast': 689, 'difference': 690, 'effectiveness': 691, 'elegant': 692, 'expressiveness': 693, 'informed': 694, 'mechanism': 695, 'modular': 696, 'similarity': 697, 'specify': 698, 'strength': 699, 'suited': 700, 'system': 701, 'trait': 702, 'typing': 703, 'weakness': 704, 'well': 705, 'coach': 706, 'material': 707, 'programming': 708, 'student': 709, 'teach': 710, 'text': 711, 'tutor': 712, 'baseline': 713, 'clustering': 714, 'cover': 715, 'entity': 716, 'establish': 717, 'measure': 718, 'name': 719, 'natural': 720, 'nlp': 721, 'paradigm': 722, 'recognition': 723, 'role': 724, 'search': 725, 'transfer': 726, 'weak': 727, 'DoWhy': 728, 'audience': 729, 'bit': 730, 'causal': 731, 'close': 732, 'dowhy': 733, 'govern': 734, 'lay': 735, 'pywhy': 736, 'root': 737, 'space': 738, 'typical': 739, 'zoom': 740, 'C': 741, 'Julia': 742, 'alien': 743, 'incorporate': 744, 'optimization': 745, 'today': 746, 'PyG': 747, 'analyze': 748, 'capture': 749, 'complexity': 750, 'diversity': 751, 'graph': 752, 'implement': 753, 'participant': 754, 'prepare': 755, 'table': 756, 'workshop': 757, 'AI': 758, 'Data': 759, 'PyData': 760, 'Scientist': 761, 'attend': 762, 'conference': 763, 'hype': 764, 'title': 765, 'ask': 766, 'aware': 767, 'bias': 768, 'detect': 769, 'ethic': 770, 'ethical': 771, 'lens': 772, 'mitigate': 773, 'point': 774, 'potential': 775, 'requirement': 776, 'stage': 777, 'starting': 778, 'strategy': 779, 'universal': 780, 'attractive': 781, 'bottleneck': 782, 'expressive': 783, 'lightning': 784, 'option': 785, 'portion': 786, 'program': 787, 'rust': 788, 'sensitive': 789, 'FastAPI': 790, 'OpenAPI': 791, 'community': 792, 'dark': 793, 'documentation': 794, 'educational': 795, 'exchange': 796, 'fastAPI': 797, 'great': 798, 'job': 799, 'obstacle': 800, 'people': 801, 'rest': 802, 'spot': 803, 'thrive': 804, 'view': 805, 'wish': 806, 'Components': 807, 'DBMS': 808, 'DBMSs': 809, 'Database': 810, 'Management': 811, 'Systems': 812, 'approximate': 813, 'backbone': 814, 'call': 815, 'central': 816, 'dbms': 817, 'direction': 818, 'estimation': 819, 'execute': 820, 'idea': 821, 'involve': 822, 'non': 823, 'occur': 824, 'optimizer': 825, 'outline': 826, 'overhead': 827, 'physical': 828, 'play': 829, 'relational': 830, 'render': 831, 'scheduler': 832, 'schema': 833, 'second': 834, 'tackle': 835, 'trivial': 836, 'vision': 837, 'volume': 838, 'workload': 839, 'JAX': 840, 'TPU': 841, 'TensorFlow': 842, 'alternative': 843, 'appealing': 844, 'complicated': 845, 'deepmind': 846, 'ecosystem': 847, 'getting': 848, 'idiosyncrasy': 849, 'native': 850, 'parallelization': 851, 'practise': 852, 'promising': 853, 'tip': 854, 'vectorization': 855, 'adjust': 856, 'experiment': 857, 'identification': 858, 'quantify': 859, 'quasi': 860, 'relationship': 861, 'PyLadies': 862, 'advocate': 863, 'chapter': 864, 'combat': 865, 'gap': 866, 'gender': 867, 'leadership': 868, 'panel': 869, 'pay': 870, 'representation': 871, 'design': 872, 'past': 873, 'software': 874, 'special': 875, 'Framework': 876, 'HayStack': 877, 'QA': 878, 'bot': 879, 'combination': 880, 'conversation': 881, 'document': 882, 'fine': 883, 'fuel': 884, 'innovation': 885, 'internal': 886, 'neural': 887, 'organizational': 888, 'read': 889, 'satisfy': 890, 'scieneer': 891, 'sentence': 892, 'slack': 893, 'technical': 894, 'transformer': 895, 'vector': 896, 'weaviate': 897, 'Dask': 898, 'NumPy': 899, 'actual': 900, 'change': 901, 'cluster': 902, 'computing': 903, 'course': 904, 'debugging': 905, 'diagnostic': 906, 'difficult': 907, 'distribute': 908, 'ease': 909, 'event': 910, 'fail': 911, 'hell': 912, 'hundred': 913, 'insightful': 914, 'key': 915, 'life': 916, 'logging': 917, 'move': 918, 'network': 919, 'operate': 920, 'parallel': 921, 'react': 922, 'relevant': 923, 'sanity': 924, 'slow': 925, 'storage': 926, 'success': 927, 'thing': 928, 'tooling': 929, 'wild': 930, 'worker': 931, 'Prodigy': 932, 'adaptable': 933, 'certain': 934, 'customizability': 935, 'filter': 936, 'info': 937, 'internet': 938, 'overwhelming': 939, 'page': 940, 'personal': 941, 'personalized': 942, 'power': 943, 'sacrifice': 944, 'scriptable': 945, 'spaCy': 946, 'summary': 947, 'think': 948, 'Auto': 949, 'Cases': 950, 'Cloud': 951, 'Computer': 952, 'DHL': 953, 'Deep': 954, 'Deutsche': 955, 'Driven': 956, 'Group': 957, 'Kubernetes': 958, 'Networks': 959, 'Neural': 960, 'Platforms': 961, 'Post': 962, 'Solvers': 963, 'TSP': 964, 'Tooling': 965, 'Use': 966, 'Vision': 967, 'agile': 968, 'area': 969, 'buzzword': 970, 'challenging': 971, 'combine': 972, 'fancy': 973, 'fill': 974, 'german': 975, 'international': 976, 'mode': 977, 'motivated': 978, 'nice': 979, 'operation': 980, 'organize': 981, 'passion': 982, 'plane': 983, 'rusty': 984, 'scene': 985, 'self': 986, 'skill': 987, 'slide': 988, 'small': 989, 'timeserie': 990, 'truck': 991, 'van': 992, 'yellow': 993, 'young': 994, 'enabler': 995, 'examine': 996, 'field': 997, 'infrastructure': 998, 'optimize': 999, 'streamline': 1000, 'successful': 1001, 'Connect': 1002, 'DataFrame': 1003, 'Notebooks': 1004, 'SQL': 1005, 'Spark': 1006, 'analyzer': 1007, 'bring': 1008, 'capability': 1009, 'connect': 1010, 'connectivity': 1011, 'decade': 1012, 'decoupled': 1013, 'device': 1014, 'driver': 1015, 'embed': 1016, 'extension': 1017, 'home': 1018, 'ide': 1019, 'interactive': 1020, 'logical': 1021, 'monolithic': 1022, 'outlook': 1023, 'participate': 1024, 'phone': 1025, 'plan': 1026, 'remote': 1027, 'researcher': 1028, 'separation': 1029, 'server': 1030, 'smart': 1031, 'ten': 1032, 'thousand': 1033, 'unresolved': 1034, 'Common': 1035, 'Crawl': 1036, 'Feedback': 1037, 'Human': 1038, 'Label': 1039, 'RLHF': 1040, 'Reinforcement': 1041, 'Studio': 1042, 'beg': 1043, 'direct': 1044, 'feedback': 1045, 'fraction': 1046, 'generalization': 1047, 'generative': 1048, 'massive': 1049, 'preference': 1050, 'rely': 1051, 'response': 1052, 'saying': 1053, 'toxicity': 1054, 'truthfulness': 1055, 'unsupervise': 1056, 'Javascript': 1057, 'adapt': 1058, 'fledged': 1059, 'impose': 1060, 'installation': 1061, 'intensive': 1062, 'limitation': 1063, 'load': 1064, 'local': 1065, 'main': 1066, 'module': 1067, 'operating': 1068, 'ubiquitous': 1069, 'unprecedented': 1070, 'Carl': 1071, 'Zeiss': 1072, 'aspect': 1073, 'background': 1074, 'board': 1075, 'chip': 1076, 'computer': 1077, 'consistent': 1078, 'culture': 1079, 'division': 1080, 'effort': 1081, 'energy': 1082, 'limit': 1083, 'mission': 1084, 'research': 1085, 'semiconductor': 1086, 'story': 1087, 'tell': 1088, 'coil': 1089, 'comprehensive': 1090, 'feeling': 1091, 'gut': 1092, 'scheduling': 1093, 'theory': 1094, 'turning': 1095, 'assess': 1096, 'communicate': 1097, 'compelling': 1098, 'elevate': 1099, 'grasp': 1100, 'ingredient': 1101, 'intricacy': 1102, 'join': 1103, 'let': 1104, 'opportunity': 1105, 'pass': 1106, 'ready': 1107, 'showcase': 1108, 'stakeholder': 1109, 'FastKafka': 1110, 'Kafka': 1111, 'decorator': 1112, 'define': 1113, 'interest': 1114, 'message': 1115, 'motivation': 1116, 'produce': 1117, 'receive': 1118, 'send': 1119, 'climate': 1120, 'policy': 1121, 'Ecosystem': 1122, 'inclue': 1123, 'increase': 1124, 'phase': 1125, 'principle': 1126, 'recommend': 1127, 'stake': 1128, 'Rasa': 1129, 'advance': 1130, 'assistant': 1131, 'availability': 1132, 'chat': 1133, 'chatbot': 1134, 'chit': 1135, 'concrete': 1136, 'convincing': 1137, 'depend': 1138, 'despite': 1139, 'diagnosis': 1140, 'e': 1141, 'fun': 1142, 'intelligent': 1143, 'interaction': 1144, 'medical': 1145, 'mobility': 1146, 'shopping': 1147, 'sophisticated': 1148, 'witty': 1149, 'RNN': 1150, 'annoying': 1151, 'article': 1152, 'bert': 1153, 'bet': 1154, 'blog': 1155, 'cement': 1156, 'choice': 1157, 'collection': 1158, 'deal': 1159, 'detail': 1160, 'download': 1161, 'dumb': 1162, 'enjoy': 1163, 'equal': 1164, 'feed': 1165, 'got': 1166, 'headache': 1167, 'hub': 1168, 'input': 1169, 'length': 1170, 'mediocre': 1171, 'minor': 1172, 'pretraine': 1173, 'rant': 1174, 'sequence': 1175, 'short': 1176, 'spoiler': 1177, 'token': 1178, 'turn': 1179, 'tweet': 1180, 'unsatisfying': 1181, 'workaround': 1182, 'Numpy': 1183, 'augment': 1184, 'like': 1185, 'minimize': 1186, 'orient': 1187, 'plain': 1188, 'pragmatism': 1189, 'recommendation': 1190, 'substantial': 1191, 'up': 1192, 'vectorized': 1193, 'action': 1194, 'conda': 1195, 'contract': 1196, 'en': 1197, 'encourage': 1198, 'extend': 1199, 'friendly': 1200, 'illustrate': 1201, 'manager': 1202, 'modify': 1203, 'retrofit': 1204, 'Matplotlib': 1205, 'continuous': 1206, 'convey': 1207, 'delve': 1208, 'effective': 1209, 'informative': 1210, 'static': 1211, 'valuable': 1212, 'visualisation': 1213, 'Berlin': 1214, 'Council': 1215, 'Tech': 1216, 'Workers': 1217, 'agreement': 1218, 'defend': 1219, 'employee': 1220, 'layoff': 1221, 'legal': 1222, 'mass': 1223, 'member': 1224, 'redundant': 1225, 'situation': 1226, 'termination': 1227, 'Marketing': 1228, 'PyMC': 1229, 'acquisition': 1230, 'budget': 1231, 'campaign': 1232, 'causalpy': 1233, 'customer': 1234, 'emphasis': 1235, 'estimate': 1236, 'inference': 1237, 'interplay': 1238, 'lifetime': 1239, 'medium': 1240, 'mix': 1241, 'pymc': 1242, 'BLE': 1243, 'Bluetooth': 1244, 'Bluez': 1245, 'Energy': 1246, 'Linux': 1247, 'Low': 1248, 'Stack': 1249, 'advantage': 1250, 'ble': 1251, 'communication': 1252, 'debug': 1253, 'fitness': 1254, 'health': 1255, 'lightbulb': 1256, 'private': 1257, 'property': 1258, 'robot': 1259, 'side': 1260, 'wireless': 1261, 'Django': 1262, 'GeoDjango': 1263, 'geographic': 1264, 'geospatial': 1265, 'keep': 1266, 'map': 1267, 'mind': 1268, 'content': 1269, 'detoxification': 1270, 'detoxified': 1271, 'exponential': 1272, 'fight': 1273, 'global': 1274, 'growth': 1275, 'hate': 1276, 'monolingual': 1277, 'multilingual': 1278, 'offensive': 1279, 'possibility': 1280, 'proactive': 1281, 'reuse': 1282, 'speech': 1283, 'spread': 1284, 'style': 1285, 'suggestion': 1286, 'toxic': 1287, 'uncontrolled': 1288, 'version': 1289, 'Authorities': 1290, 'BERT': 1291, 'DistilBERT': 1292, 'Inspectorate': 1293, 'LPAs': 1294, 'Lab': 1295, 'Language': 1296, 'Large': 1297, 'Local': 1298, 'Plan': 1299, 'Planning': 1300, 'React': 1301, 'RoBERTa': 1302, 'UK': 1303, 'Voilà': 1304, 'aid': 1305, 'analyse': 1306, 'average': 1307, 'consultation': 1308, 'distributed': 1309, 'encounter': 1310, 'historical': 1311, 'inform': 1312, 'investigate': 1313, 'legality': 1314, 'lpa': 1315, 'prototyping': 1316, 'reduction': 1317, 'round': 1318, 'simulation': 1319, 'soundness': 1320, 'suggest': 1321, 'xlnet': 1322, 'CD': 1323, 'CI': 1324, 'confidence': 1325, 'ship': 1326, 'FAQ': 1327, 'african': 1328, 'child': 1329, 'constrain': 1330, 'folk': 1331, 'helped': 1332, 'helpline': 1333, 'hint': 1334, 'maternal': 1335, 'parent': 1336, 'pregnant': 1337, 'setting': 1338, 'sized': 1339, 'south': 1340, 'ESDA': 1341, 'Fiona': 1342, 'Folium': 1343, 'GDAL': 1344, 'Geopandas': 1345, 'Leaflet': 1346, 'Libpysal': 1347, 'OSMnx': 1348, 'Pydeck': 1349, 'Pyproj': 1350, 'Rasterio': 1351, 'Shapely': 1352, 'Whitebox': 1353, 'beginner': 1354, 'expand': 1355, 'intermediate': 1356, 'reprojecte': 1357, 'spatial': 1358, 'accept': 1359, 'adopt': 1360, 'adrenaline': 1361, 'break': 1362, 'continue': 1363, 'contribution': 1364, 'contributor': 1365, 'cv': 1366, 'dedicate': 1367, 'excited': 1368, 'finish': 1369, 'group': 1370, 'guide': 1371, 'meeting': 1372, 'rush': 1373, 'scientific': 1374, 'wrangle': 1375, 'advanced': 1376, 'caching': 1377, 'callable': 1378, 'class': 1379, 'closure': 1380, 'comfortable': 1381, 'concern': 1382, 'cross': 1383, 'instance': 1384, 'log': 1385, 'metaclasse': 1386, 'modularity': 1387, 'permission': 1388, 'return': 1389, 'usable': 1390, 'Pydantic': 1391, 'colleague': 1392, 'criticism': 1393, 'ensemble': 1394, 'listen': 1395, 'supportive': 1396, 'typo': 1397, 'validation': 1398, 'adipisce': 1399, 'aliqua': 1400, 'consectetur': 1401, 'dolore': 1402, 'eiusmod': 1403, 'elit': 1404, 'et': 1405, 'incididunt': 1406, 'joy': 1407, 'labore': 1408, 'magna': 1409, 'meaningful': 1410, 'perfect': 1411, 'random': 1412, 'randomly': 1413, 'sed': 1414, 'tempor': 1415, 'uncertain': 1416, 'ut': 1417, 'People': 1418, 'algorithmic': 1419, 'beautiful': 1420, 'beginning': 1421, 'correspond': 1422, 'notch': 1423, 'numerical': 1424, 'safety': 1425, 'sketch': 1426, 'struggle': 1427, 'worry': 1428, 'Synthetic': 1429, 'Vault': 1430, 'administration': 1431, 'bad': 1432, 'copy': 1433, 'dormant': 1434, 'exact': 1435, 'huge': 1436, 'identifiable': 1437, 'listener': 1438, 'multi': 1439, 'owner': 1440, 'protection': 1441, 'recreate': 1442, 'statistical': 1443, 'synthesize': 1444, 'DocArray': 1445, 'SQLModel': 1446, 'beartype': 1447, 'center': 1448, 'eat': 1449, 'infiltrate': 1450, 'mypy': 1451, 'clean': 1452, 'coding': 1453, 'complain': 1454, 'maintainer': 1455, 'rewrite': 1456, 'tox': 1457, 'comment': 1458, 'disagree': 1459, 'land': 1460, 'maximum': 1461, 'pr': 1462, 'war': 1463, 'career': 1464, 'demographic': 1465, 'initiative': 1466, 'male': 1467, 'participation': 1468, 'remain': 1469, 'underrepresented': 1470, 'white': 1471, 'Amazon': 1472, 'DataFrames': 1473, 'Netflix': 1474, 'PySpark': 1475, 'amount': 1476, 'foundational': 1477, 'giant': 1478, 'introductory': 1479, 'tech': 1480, 'disk': 1481, 'lightgbm': 1482, 'pickle': 1483, 'pickled': 1484, 'scikit': 1485, 'shrink': 1486, 'generator': 1487, 'Streamlit': 1488, 'Wasm': 1489, 'app': 1490, 'convenience': 1491, 'perspective': 1492, 'port': 1493, 'stlite': 1494, 'Natural': 1495, 'detour': 1496, 'file': 1497, 'lightweight': 1498, 'microservice': 1499, 'necessary': 1500, 'running': 1501, 'shortcut': 1502, 'slim': 1503, 'speak': 1504, 'trick': 1505, 'ES': 1506, 'XLA': 1507, 'accelerator': 1508, 'asynchronous': 1509, 'auto': 1510, 'black': 1511, 'box': 1512, 'compilation': 1513, 'evolution': 1514, 'evosax': 1515, 'have': 1516, 'neuroevolution': 1517, 'roberttlange': 1518, 'throughput': 1519, 'tired': 1520, 'DAG': 1521, 'ETL': 1522, 'Modern': 1523, 'Powered': 1524, 'advent': 1525, 'begin': 1526, 'dbt': 1527, 'demand': 1528, 'demystify': 1529, 'etl': 1530, 'grow': 1531, 'hearted': 1532, 'lexicon': 1533, 'lineage': 1534, 'making': 1535, 'maturity': 1536, 'mesh': 1537, 'modelling': 1538, 'nuance': 1539, 'path': 1540, 'prescriptive': 1541, 'revenue': 1542, 'reverse': 1543, 'revolution': 1544, 'say': 1545, 'serve': 1546, 'shift': 1547, 'tax': 1548, 'trend': 1549, 'trodden': 1550, 'Monorepos': 1551, 'linter': 1552, 'styling': 1553, 'adherence': 1554, 'artificial': 1555, 'authority': 1556, 'consumer': 1557, 'contemporary': 1558, 'deviate': 1559, 'fair': 1560, 'fairness': 1561, 'guarantee': 1562, 'guideline': 1563, 'impartial': 1564, 'influence': 1565, 'intelligence': 1566, 'misunderstood': 1567, 'ought': 1568, 'prejudicial': 1569, 'responsible': 1570, 'uphold': 1571, 'word': 1572, 'LangChain': 1573, 'Twitter': 1574, 'agent': 1575, 'chatgpt': 1576, 'joke': 1577, 'prompt': 1578, 'abstraction': 1579, 'asynchronicity': 1580, 'awake': 1581, 'commerce': 1582, 'connected': 1583, 'economy': 1584, 'error': 1585, 'external': 1586, 'import': 1587, 'island': 1588, 'isolate': 1589, 'item': 1590, 'masse': 1591, 'pesky': 1592, 'route': 1593, 'ruler': 1594, 'sea': 1595, 'succeed': 1596, 'trade': 1597, 'treacherous': 1598, 'Differential': 1599, 'Privacy': 1600, 'PyDP': 1601, 'assimilate': 1602, 'claim': 1603, 'cybersecurity': 1604, 'era': 1605, 'hot': 1606, 'leak': 1607, 'misuse': 1608, 'preserve': 1609, 'privacy': 1610, 'Asynchronicity': 1611, 'IO': 1612, 'POST': 1613, 'completion': 1614, 'enhance': 1615, 'execution': 1616, 'failure': 1617, 'heavy': 1618, 'improved': 1619, 'notify': 1620, 'numerous': 1621, 'primary': 1622, 'respond': 1623, 'responsiveness': 1624, 'thread': 1625, 'website': 1626, 'Code': 1627, 'Conduct': 1628, 'Foundation': 1629, 'Software': 1630, 'spectrum': 1631, 'true': 1632, 'unbalanced': 1633, 'vote': 1634, 'CNN': 1635, 'DINO': 1636, 'Milvus': 1637, 'SSL': 1638, 'classical': 1639, 'distance': 1640, 'embedding': 1641, 'evolutionary': 1642, 'extractor': 1643, 'index': 1644, 'label': 1645, 'retrieval': 1646, 'supervise': 1647, 'vit': 1648, 'Analysis': 1649, 'Geometric': 1650, 'TDA': 1651, 'Topological': 1652, 'academic': 1653, 'bench': 1654, 'bubble': 1655, 'couple': 1656, 'element': 1657, 'emerge': 1658, 'encode': 1659, 'euclidean': 1660, 'extent': 1661, 'geometric': 1662, 'geometry': 1663, 'intersection': 1664, 'movement': 1665, 'originate': 1666, 'review': 1667, 'school': 1668, 'shape': 1669, 'tda': 1670, 'topology': 1671, 'Classic': 1672, 'JupyterLab': 1673, 'Notebook': 1674, 'decide': 1675, 'interface': 1676, 'popularity': 1677, 'unchanged': 1678, 'Dynamic': 1679, 'Pricing': 1680, 'brief': 1681, 'criterion': 1682, 'fulfil': 1683, 'price': 1684, 'purchase': 1685, 'ride': 1686, 'strike': 1687, 'accelerated': 1688, 'interchange': 1689, 'Zarr': 1690, 'array': 1691, 'chunked': 1692, 'compressed': 1693, 'dimensional': 1694, 'format': 1695, 'interoperate': 1696, 'n': 1697, 'spec': 1698, 'systematic': 1699, 'zarr': 1700, 'Mutation': 1701, 'coverage': 1702, 'mutant': 1703, 'penguin': 1704, 'target': 1705, 'Magic': 1706, 'commodity': 1707, 'compound': 1708, 'compression': 1709, 'counterpart': 1710, 'dense': 1711, 'distillation': 1712, 'drop': 1713, 'forget': 1714, 'gpu': 1715, 'hardware': 1716, 'magnitude': 1717, 'noticeable': 1718, 'order': 1719, 'pruning': 1720, 'quantization': 1721, 'sparsity': 1722, 'specialized': 1723, 'speedup': 1724, 'unstructured': 1725, 'Answering': 1726, 'Question': 1727, 'haystack': 1728, 'sustainability': 1729, 'anchor': 1730, 'hinge': 1731, 'output': 1732, 'robustness': 1733, 'sound': 1734, 'Engineers': 1735, 'Feast': 1736, 'MLflow': 1737, 'SaaS': 1738, 'Scientists': 1739, 'Terraform': 1740, 'accessible': 1741, 'associate': 1742, 'eliminate': 1743, 'entire': 1744, 'innovative': 1745, 'lock': 1746, 'maintainable': 1747, 'maintenance': 1748, 'novel': 1749, 'vendor': 1750, 'catalog': 1751, 'host': 1752, 'migration': 1753, 'overall': 1754, 'DevOps': 1755, 'Discover': 1756, 'IfC': 1757, 'Infrastructure': 1758, 'automation': 1759, 'empower': 1760, 'revolutionize': 1761, 'strategic': 1762, 'sustainable': 1763, 'template': 1764, 'Application': 1765, 'Security': 1766, 'age': 1767, 'bore': 1768, 'devs': 1769, 'ignore': 1770, 'myth': 1771, 'piece': 1772, 'scary': 1773, 'transition': 1774, 'writing': 1775, 'JupyterLite': 1776, 'asset': 1777, 'instal': 1778, 'jupyter': 1779, 'multimedia': 1780, 'mature': 1781, 'planner': 1782, 'put': 1783, 'warming': 1784, 'block': 1785, 'brick': 1786, 'enrich': 1787, 'intimidating': 1788, 'programmer': 1789, 'Dependency': 1790, 'Injection': 1791, 'Ports': 1792, 'Repository': 1793, 'Unit': 1794, 'Work': 1795, 'applicable': 1796, 'enterprise': 1797, 'famous': 1798, 'matter': 1799, 'testable': 1800, 'tie': 1801, 'varied': 1802, 'Products': 1803, 'amplify': 1804, 'biased': 1805, 'confirm': 1806, 'consequence': 1807, 'original': 1808, 'reflect': 1809, 'unchecked': 1810, 'Arxiv': 1811, 'Microsoft': 1812, 'attract': 1813, 'exciting': 1814, 'explode': 1815, 'institution': 1816, 'paper': 1817, 'posit': 1818, 'publish': 1819, 'talent': 1820, 'translate': 1821}\n"
     ]
    }
   ],
   "source": [
    "print(dictionary.token2id)"
   ]
  },
  {
   "cell_type": "code",
   "execution_count": 17,
   "id": "d9808355-c2ef-4f1c-8d75-b33fae040d46",
   "metadata": {},
   "outputs": [],
   "source": [
    "# Filter out low and high frequency tokens, and limit the vocabulary to a max of 1000 words\n",
    "dictionary.filter_extremes(no_below=5, no_above=0.5, keep_n=1000)"
   ]
  },
  {
   "cell_type": "code",
   "execution_count": 18,
   "id": "48a5ce0a-6f8a-4143-a47e-0cfa178416d9",
   "metadata": {},
   "outputs": [
    {
     "data": {
      "text/plain": [
       "[[(0, 1), (1, 1), (2, 1), (3, 1), (4, 1), (5, 3), (6, 1), (7, 1), (8, 1)],\n",
       " [(1, 1), (3, 1), (4, 1), (9, 1), (10, 1), (11, 1), (12, 1), (13, 1), (14, 3)],\n",
       " [(9, 3),\n",
       "  (13, 1),\n",
       "  (15, 2),\n",
       "  (16, 1),\n",
       "  (17, 1),\n",
       "  (18, 2),\n",
       "  (19, 1),\n",
       "  (20, 2),\n",
       "  (21, 1),\n",
       "  (22, 2),\n",
       "  (23, 1),\n",
       "  (24, 1),\n",
       "  (25, 1),\n",
       "  (26, 1),\n",
       "  (27, 1),\n",
       "  (28, 2)]]"
      ]
     },
     "execution_count": 18,
     "metadata": {},
     "output_type": "execute_result"
    }
   ],
   "source": [
    "# Build Bag of Word, use function doc2bow() to count the frequency of each word,\n",
    "# format = list of `(token_id, token_count)` tuples.\n",
    "BoW = [dictionary.doc2bow(abstract) for abstract in df['tokens']]\n",
    "BoW[:3]"
   ]
  },
  {
   "cell_type": "markdown",
   "id": "69aa6a86-46b4-411d-9899-ac8c9dc6bb9d",
   "metadata": {
    "scrolled": true
   },
   "source": [
    "### Build Model"
   ]
  },
  {
   "cell_type": "code",
   "execution_count": 19,
   "id": "c6df36db-f6d3-4aa8-8c0d-52b67daa1367",
   "metadata": {},
   "outputs": [],
   "source": [
    "# lda_model = LdaMulticore(corpus=BoW, id2word=dictionary, iterations=50,\n",
    "#                         num_topics=10, workers=4, passes=10)"
   ]
  },
  {
   "cell_type": "markdown",
   "id": "e0eb72dd-c14f-4d73-872b-6a41dbbc680f",
   "metadata": {},
   "source": [
    "Get the optimal number of topics<br>\n",
    "Metric - coherence score: the degree of semantic similarity between high scoring words in each topic"
   ]
  },
  {
   "cell_type": "code",
   "execution_count": 20,
   "id": "0df87baa-aa2a-47b1-9dad-e98faca292b6",
   "metadata": {},
   "outputs": [
    {
     "data": {
      "image/png": "[encoded data removed]",
      "text/plain": [
       "<Figure size 640x480 with 1 Axes>"
      ]
     },
     "metadata": {},
     "output_type": "display_data"
    }
   ],
   "source": [
    "# Iterate different number of topics and save the score in the lists\n",
    "topics = []\n",
    "score = []\n",
    "for i in range(1,20,1):\n",
    "    lda_model = LdaMulticore(corpus=BoW, id2word=dictionary, iterations=10, num_topics=i, workers = 4, passes=10, random_state=100)\n",
    "    cm = CoherenceModel(model=lda_model, corpus=BoW, dictionary=dictionary, coherence='u_mass')\n",
    "    topics.append(i)\n",
    "    score.append(cm.get_coherence())\n",
    "_=plt.plot(topics, score)\n",
    "_=plt.xlabel('Number of Topics')\n",
    "_=plt.ylabel('Coherence Score(C_umass)')\n",
    "plt.show()"
   ]
  },
  {
   "cell_type": "code",
   "execution_count": 21,
   "id": "10b2f9b9-b1fa-4270-83ea-1f546ade391c",
   "metadata": {
    "scrolled": true
   },
   "outputs": [],
   "source": [
    "topics = []\n",
    "score = []\n",
    "for i in range(1,20,1):\n",
    "    lda_model = LdaMulticore(corpus=BoW, id2word=dictionary, iterations=10, num_topics=i, workers = 4, passes=10, random_state=100)\n",
    "    cm = CoherenceModel(model=lda_model, texts = df['tokens'], corpus=BoW, dictionary=dictionary, coherence='c_v')\n",
    "    topics.append(i)\n",
    "    score.append(cm.get_coherence())"
   ]
  },
  {
   "cell_type": "code",
   "execution_count": 22,
   "id": "4c496b2f-d3e2-45a1-8cc8-c1701217a28b",
   "metadata": {},
   "outputs": [
    {
     "data": {
      "image/png": "[encoded data removed]",
      "text/plain": [
       "<Figure size 640x480 with 1 Axes>"
      ]
     },
     "metadata": {},
     "output_type": "display_data"
    }
   ],
   "source": [
    "_=plt.plot(topics, score)\n",
    "_=plt.xlabel('Number of Topics')\n",
    "_=plt.ylabel('Coherence Score(C_v)')\n",
    "plt.savefig('Coherence_Score.png')\n",
    "plt.show()"
   ]
  },
  {
   "cell_type": "code",
   "execution_count": 23,
   "id": "25148676-37fa-4ae3-8842-1d0df8d7b050",
   "metadata": {},
   "outputs": [],
   "source": [
    "# Choose the number 3 with the highest coherence score \n",
    "lda_model = LdaMulticore(corpus=BoW, id2word=dictionary, iterations=100, num_topics=3, workers = 4, passes=100)"
   ]
  },
  {
   "cell_type": "code",
   "execution_count": 24,
   "id": "452f1616-1f4c-4e2d-9623-1b19c67a7698",
   "metadata": {},
   "outputs": [
    {
     "data": {
      "text/plain": [
       "[(0,\n",
       "  '0.069*\"model\" + 0.035*\"machine\" + 0.031*\"learning\" + 0.027*\"learn\" + 0.026*\"datum\" + 0.017*\"ML\" + 0.016*\"time\" + 0.013*\"production\" + 0.012*\"build\" + 0.012*\"tool\"'),\n",
       " (1,\n",
       "  '0.055*\"Python\" + 0.041*\"application\" + 0.030*\"language\" + 0.026*\"performance\" + 0.022*\"datum\" + 0.019*\"task\" + 0.017*\"processing\" + 0.015*\"run\" + 0.015*\"Rust\" + 0.015*\"explore\"'),\n",
       " (2,\n",
       "  '0.058*\"datum\" + 0.028*\"use\" + 0.024*\"Python\" + 0.022*\"code\" + 0.020*\"new\" + 0.020*\"work\" + 0.019*\"tool\" + 0.019*\"source\" + 0.019*\"data\" + 0.019*\"project\"')]"
      ]
     },
     "execution_count": 24,
     "metadata": {},
     "output_type": "execute_result"
    }
   ],
   "source": [
    "lda_model.print_topics(-1)"
   ]
  },
  {
   "cell_type": "code",
   "execution_count": 25,
   "id": "7d2f1665-2cf5-4272-b3fe-518d57cf5ae3",
   "metadata": {},
   "outputs": [
    {
     "data": {
      "text/plain": [
       "'Pandas has reached a 2.0 milestone in 2023. But what does that mean? And what is coming after 2.0? This talk will give an overview of what happened in the latest releases of pandas and highlight some topics and major new features the pandas project is working on.'"
      ]
     },
     "execution_count": 25,
     "metadata": {},
     "output_type": "execute_result"
    }
   ],
   "source": [
    "df['abstract'][0]"
   ]
  },
  {
   "cell_type": "code",
   "execution_count": 26,
   "id": "d3accf21-3733-4ba0-9c93-26076332cd25",
   "metadata": {},
   "outputs": [
    {
     "data": {
      "text/plain": [
       "[(0, 0.028456029), (1, 0.030567737), (2, 0.94097626)]"
      ]
     },
     "execution_count": 26,
     "metadata": {},
     "output_type": "execute_result"
    }
   ],
   "source": [
    "lda_model[BoW][0]"
   ]
  },
  {
   "cell_type": "code",
   "execution_count": 27,
   "id": "02e3ab19-adaa-4541-9040-1516f54e811d",
   "metadata": {},
   "outputs": [
    {
     "data": {
      "text/html": [
       "\n",
       "<link rel=\"stylesheet\" type=\"text/css\" href=\"https://cdn.jsdelivr.net/gh/bmabey/pyLDAvis@3.4.0/pyLDAvis/js/ldavis.v1.0.0.css\">\n",
       "\n",
       "\n",
       "<div id=\"ldavis_el979251847778883945452681\" style=\"background-color:white;\"></div>\n",
       "<script type=\"text/javascript\">\n",
       "\n",
       "var ldavis_el979251847778883945452681_data = {\"mdsDat\": {\"x\": [0.020377760869085926, -0.14687276916305128, 0.12649500829396546], \"y\": [-0.14783817593334184, 0.057388549741668175, 0.0904496261916736], \"topics\": [1, 2, 3], \"cluster\": [1, 1, 1], \"Freq\": [41.11695345535607, 36.50415033983114, 22.378896204812783]}, \"tinfo\": {\"Term\": [\"model\", \"Python\", \"machine\", \"learning\", \"application\", \"language\", \"performance\", \"code\", \"Rust\", \"processing\", \"web\", \"api\", \"programming\", \"ML\", \"project\", \"library\", \"explore\", \"task\", \"framework\", \"speed\", \"run\", \"tutorial\", \"python\", \"production\", \"problem\", \"write\", \"user\", \"large\", \"time\", \"developer\", \"tutorial\", \"user\", \"panda\", \"lot\", \"software\", \"Jupyter\", \"change\", \"design\", \"PyData\", \"day\", \"product\", \"memory\", \"solve\", \"require\", \"version\", \"real\", \"scientist\", \"ease\", \"life\", \"problem\", \"project\", \"offer\", \"support\", \"engineering\", \"pitfall\", \"data\", \"experience\", \"gain\", \"computing\", \"deep\", \"come\", \"code\", \"library\", \"new\", \"source\", \"datum\", \"work\", \"open\", \"use\", \"tool\", \"create\", \"Python\", \"provide\", \"world\", \"learn\", \"feature\", \"discuss\", \"look\", \"way\", \"build\", \"case\", \"model\", \"learning\", \"machine\", \"train\", \"algorithm\", \"cost\", \"answer\", \"question\", \"training\", \"prediction\", \"business\", \"MLOps\", \"lifecycle\", \"nlp\", \"tune\", \"production\", \"metric\", \"face\", \"issue\", \"deploy\", \"evaluate\", \"ML\", \"deployment\", \"time\", \"cloud\", \"step\", \"method\", \"enable\", \"ensure\", \"database\", \"help\", \"approach\", \"scale\", \"challenge\", \"learn\", \"development\", \"present\", \"datum\", \"build\", \"large\", \"technique\", \"tool\", \"case\", \"performance\", \"high\", \"know\", \"use\", \"source\", \"process\", \"Rust\", \"speed\", \"programming\", \"possible\", \"language\", \"web\", \"effort\", \"api\", \"python\", \"level\", \"type\", \"implementation\", \"reason\", \"framework\", \"run\", \"fast\", \"processing\", \"attendee\", \"application\", \"technical\", \"domain\", \"modern\", \"highlight\", \"explore\", \"understanding\", \"ecosystem\", \"efficient\", \"performance\", \"benefit\", \"improvement\", \"show\", \"developer\", \"Python\", \"task\", \"big\", \"write\", \"architecture\", \"large\", \"need\", \"code\", \"datum\", \"use\", \"community\", \"library\", \"know\", \"build\", \"end\"], \"Freq\": [79.0, 70.0, 40.0, 36.0, 41.0, 22.0, 30.0, 39.0, 10.0, 16.0, 11.0, 12.0, 10.0, 23.0, 28.0, 31.0, 16.0, 23.0, 13.0, 9.0, 14.0, 16.0, 10.0, 16.0, 22.0, 15.0, 14.0, 23.0, 22.0, 13.0, 16.22231641289075, 14.30475293450112, 13.408673123870223, 12.418002327962233, 10.56094011424331, 9.646411335081503, 8.684201306158712, 8.63685513445462, 7.76454082444235, 7.757969836426347, 7.746954592474287, 6.845877229756453, 12.752171739019055, 7.652847741329213, 5.923487233192322, 14.315337108283906, 5.802834687515309, 4.968162700604058, 4.923218418494601, 19.600282425005243, 24.26867100011288, 9.375676612253935, 8.592265903916122, 8.516575825189731, 5.3928547604233925, 24.44145680240284, 11.43522315689589, 5.21678078111608, 6.650201780345329, 6.572116072379459, 7.301867786119302, 28.773474706336145, 23.275540182740958, 25.20227955311555, 24.740181871242502, 74.46876809941614, 25.112764821533062, 23.550273185727793, 36.3346505765636, 24.753196255274197, 15.524262964087917, 31.348159642849485, 14.554919111409436, 12.57617586509511, 22.44101218399828, 12.366019916097317, 12.707025634983871, 11.553708427240522, 9.822346394126795, 12.571363142541331, 10.695315954645334, 78.48597468191042, 35.66833415823681, 39.32309061756114, 11.473726174839884, 11.469704284009026, 10.542486413471833, 9.575533447237207, 8.660948696806518, 8.575017436777616, 6.8209257016577105, 6.81751413461311, 6.815284044316927, 6.788712462857683, 7.61006959326835, 5.8993479004549165, 15.133870210483833, 5.885532244929074, 4.956552216643009, 9.061722336870105, 7.348811312590968, 4.8962826104163035, 19.82807212739391, 5.494054264891898, 18.382842340273022, 8.424561772088417, 7.619638919727975, 4.380824472763046, 5.753962210808881, 4.929492587888943, 7.713766410031289, 7.6998401233941465, 12.978815333205388, 7.646821883644397, 12.82575480871379, 30.376817403353773, 10.231448896729091, 10.218823187319037, 29.56878893984505, 13.59865021902093, 11.34643052456533, 8.797590293976254, 13.242003041637242, 11.276230055759301, 11.81388455262089, 8.367141578646985, 8.762048593798967, 11.373377934201715, 9.523410843087063, 8.594232314003214, 10.30221911253579, 8.41618032118206, 9.214262094763438, 6.621745367664069, 20.589708090147035, 10.047359091701972, 5.256501153459333, 10.129330189735539, 8.63478354533696, 5.635500009427967, 4.6352144234502966, 5.2940731871150115, 4.611248099324521, 9.768023915856723, 10.37800441060611, 5.827730996073003, 11.592113844919842, 3.8427083719845676, 28.43184215082218, 3.7356491205065314, 4.847895349350595, 6.520026568918963, 3.4830567720126138, 10.204977895780656, 5.077368018987025, 5.630074859717258, 3.930590734949961, 18.16416447778318, 5.441201897309956, 3.222021011009846, 4.821915119308761, 7.958444753300606, 38.330760215937886, 13.002715075526991, 6.366001382970222, 8.436668552557544, 5.808320785234603, 10.186634023137579, 6.749058879172845, 9.934852948377168, 15.249387757089204, 10.009455733853528, 6.47207380107882, 7.742847136073603, 6.544725635480843, 7.26354142216566, 5.888649216212564], \"Total\": [79.0, 70.0, 40.0, 36.0, 41.0, 22.0, 30.0, 39.0, 10.0, 16.0, 11.0, 12.0, 10.0, 23.0, 28.0, 31.0, 16.0, 23.0, 13.0, 9.0, 14.0, 16.0, 10.0, 16.0, 22.0, 15.0, 14.0, 23.0, 22.0, 13.0, 16.848837802173172, 14.974993801482826, 14.038804656192898, 13.10109761497298, 11.228108849409619, 10.29194208947976, 9.35545598672017, 9.353734253024966, 8.418218281082627, 8.41844470616733, 8.417928585216478, 7.4819125190540605, 14.02054395801663, 8.416891168359088, 6.545830913472161, 15.906770471881597, 6.544690463898709, 5.6087968878141785, 5.607751762416514, 22.407371144722056, 28.90914497111667, 11.221342271987089, 10.286008167868717, 10.285959081285434, 6.542594191548013, 29.870904692203823, 14.02791405693865, 6.541481280488144, 8.412452435218999, 8.384148119317672, 9.347860462129882, 39.04452130989323, 31.61449487493539, 34.5107245235084, 34.59633511498929, 119.2869447963504, 35.437215332644584, 33.60738489822022, 57.71748424461884, 38.323568627919904, 23.242884332637573, 70.05252115472722, 22.43054157080843, 18.663449401429354, 55.037501294260935, 19.623061289380182, 21.487907213970605, 17.723409908789254, 13.049266881040491, 33.43355478372792, 26.046590523795423, 79.19409087562545, 36.33251953150954, 40.0600383164458, 12.107000570368424, 12.10680338406427, 11.175268964507714, 10.24329286946797, 9.311670604223458, 9.312190122350668, 7.448155004121406, 7.448232747458631, 7.448171317970857, 7.448370916831943, 8.377155124488088, 6.516508476056362, 16.742683612271282, 6.516534909285682, 5.584733426856032, 10.244435891940615, 8.373002200753543, 5.584086861770724, 23.302397665798843, 6.5180283126276315, 22.325038204293218, 10.249045826856827, 9.288479093697305, 5.586444949827884, 7.4535898601542545, 6.493609342228861, 10.198463564078217, 10.199582828911577, 17.71672818829269, 10.197984359905348, 18.656127830111352, 55.037501294260935, 14.921794677425066, 15.718140571541753, 119.2869447963504, 33.43355478372792, 23.99243851204757, 13.863712756558073, 38.323568627919904, 26.046590523795423, 30.311198338946724, 12.945737313236155, 17.556898207451315, 57.71748424461884, 34.59633511498929, 20.42726304737452, 10.934043271424166, 9.115906382935346, 10.029437200894058, 7.295757027569771, 22.79876371530096, 11.871885505577662, 6.396917331267256, 12.81172977363083, 10.974287081399636, 7.319717984862637, 6.411921302857076, 7.327795822204895, 6.412458781915392, 13.742130493926721, 14.66973894429241, 8.24663026917427, 16.511073810288465, 5.504510394304952, 41.28513718890382, 5.501839769348251, 7.345200295179453, 10.093555459184156, 5.51518409672904, 16.526898134896307, 8.278033843755969, 9.19422512341496, 6.428955029174023, 30.311198338946724, 9.188361208465784, 5.514623018494652, 8.274312529171716, 13.813046378254793, 70.05252115472722, 23.952961472903766, 11.029015229421034, 15.672229048300945, 10.110618509565121, 23.99243851204757, 13.815588157463484, 39.04452130989323, 119.2869447963504, 57.71748424461884, 14.793536920507126, 31.61449487493539, 17.556898207451315, 33.43355478372792, 12.904186727541202], \"Category\": [\"Default\", \"Default\", \"Default\", \"Default\", \"Default\", \"Default\", \"Default\", \"Default\", \"Default\", \"Default\", \"Default\", \"Default\", \"Default\", \"Default\", \"Default\", \"Default\", \"Default\", \"Default\", \"Default\", \"Default\", \"Default\", \"Default\", \"Default\", \"Default\", \"Default\", \"Default\", \"Default\", \"Default\", \"Default\", \"Default\", \"Topic1\", \"Topic1\", \"Topic1\", \"Topic1\", \"Topic1\", \"Topic1\", \"Topic1\", \"Topic1\", \"Topic1\", \"Topic1\", \"Topic1\", \"Topic1\", \"Topic1\", \"Topic1\", \"Topic1\", \"Topic1\", \"Topic1\", \"Topic1\", \"Topic1\", \"Topic1\", \"Topic1\", \"Topic1\", \"Topic1\", \"Topic1\", \"Topic1\", \"Topic1\", \"Topic1\", \"Topic1\", \"Topic1\", \"Topic1\", \"Topic1\", \"Topic1\", \"Topic1\", \"Topic1\", \"Topic1\", \"Topic1\", \"Topic1\", \"Topic1\", \"Topic1\", \"Topic1\", \"Topic1\", \"Topic1\", \"Topic1\", \"Topic1\", \"Topic1\", \"Topic1\", \"Topic1\", \"Topic1\", \"Topic1\", \"Topic1\", \"Topic1\", \"Topic2\", \"Topic2\", \"Topic2\", \"Topic2\", \"Topic2\", \"Topic2\", \"Topic2\", \"Topic2\", \"Topic2\", \"Topic2\", \"Topic2\", \"Topic2\", \"Topic2\", \"Topic2\", \"Topic2\", \"Topic2\", \"Topic2\", \"Topic2\", \"Topic2\", \"Topic2\", \"Topic2\", \"Topic2\", \"Topic2\", \"Topic2\", \"Topic2\", \"Topic2\", \"Topic2\", \"Topic2\", \"Topic2\", \"Topic2\", \"Topic2\", \"Topic2\", \"Topic2\", \"Topic2\", \"Topic2\", \"Topic2\", \"Topic2\", \"Topic2\", \"Topic2\", \"Topic2\", \"Topic2\", \"Topic2\", \"Topic2\", \"Topic2\", \"Topic2\", \"Topic2\", \"Topic2\", \"Topic2\", \"Topic2\", \"Topic3\", \"Topic3\", \"Topic3\", \"Topic3\", \"Topic3\", \"Topic3\", \"Topic3\", \"Topic3\", \"Topic3\", \"Topic3\", \"Topic3\", \"Topic3\", \"Topic3\", \"Topic3\", \"Topic3\", \"Topic3\", \"Topic3\", \"Topic3\", \"Topic3\", \"Topic3\", \"Topic3\", \"Topic3\", \"Topic3\", \"Topic3\", \"Topic3\", \"Topic3\", \"Topic3\", \"Topic3\", \"Topic3\", \"Topic3\", \"Topic3\", \"Topic3\", \"Topic3\", \"Topic3\", \"Topic3\", \"Topic3\", \"Topic3\", \"Topic3\", \"Topic3\", \"Topic3\", \"Topic3\", \"Topic3\", \"Topic3\", \"Topic3\", \"Topic3\", \"Topic3\", \"Topic3\"], \"logprob\": [30.0, 29.0, 28.0, 27.0, 26.0, 25.0, 24.0, 23.0, 22.0, 21.0, 20.0, 19.0, 18.0, 17.0, 16.0, 15.0, 14.0, 13.0, 12.0, 11.0, 10.0, 9.0, 8.0, 7.0, 6.0, 5.0, 4.0, 3.0, 2.0, 1.0, -4.3685, -4.4943, -4.559, -4.6358, -4.7978, -4.8883, -4.9934, -4.9989, -5.1053, -5.1062, -5.1076, -5.2313, -4.6092, -5.1198, -5.376, -4.4936, -5.3966, -5.5519, -5.561, -4.1794, -3.9657, -4.9168, -5.0041, -5.0129, -5.4698, -3.9586, -4.7182, -5.503, -5.2603, -5.2721, -5.1668, -3.7955, -4.0075, -3.928, -3.9465, -2.8445, -3.9315, -3.9958, -3.5621, -3.946, -4.4125, -3.7098, -4.477, -4.6231, -4.044, -4.64, -4.6128, -4.7079, -4.8703, -4.6235, -4.7851, -2.673, -3.4617, -3.3641, -4.5959, -4.5962, -4.6805, -4.7767, -4.8771, -4.8871, -5.1159, -5.1164, -5.1168, -5.1207, -5.0064, -5.2611, -4.319, -5.2634, -5.4352, -4.8319, -5.0414, -5.4474, -4.0488, -5.3323, -4.1245, -4.9048, -5.0052, -5.5587, -5.286, -5.4407, -4.9929, -4.9947, -4.4726, -5.0016, -4.4845, -3.6222, -4.7105, -4.7117, -3.6492, -4.4259, -4.607, -4.8614, -4.4525, -4.6132, -4.5666, -4.9116, -4.8655, -4.6046, -4.7822, -4.8848, -4.2143, -4.4165, -4.3259, -4.6563, -3.5218, -4.2393, -4.8871, -4.2312, -4.3908, -4.8175, -5.0129, -4.88, -5.0181, -4.2675, -4.2069, -4.784, -4.0963, -5.2004, -3.1991, -5.2287, -4.9681, -4.6717, -5.2987, -4.2237, -4.9218, -4.8185, -5.1778, -3.6472, -4.8526, -5.3766, -4.9734, -4.4724, -2.9004, -3.9815, -4.6956, -4.414, -4.7873, -4.2255, -4.6372, -4.2506, -3.8221, -4.2431, -4.6791, -4.4998, -4.668, -4.5637, -4.7736], \"loglift\": [30.0, 29.0, 28.0, 27.0, 26.0, 25.0, 24.0, 23.0, 22.0, 21.0, 20.0, 19.0, 18.0, 17.0, 16.0, 15.0, 14.0, 13.0, 12.0, 11.0, 10.0, 9.0, 8.0, 7.0, 6.0, 5.0, 4.0, 3.0, 2.0, 1.0, 0.8509, 0.843, 0.8428, 0.8352, 0.8275, 0.824, 0.8143, 0.809, 0.8079, 0.807, 0.8057, 0.7999, 0.7939, 0.7936, 0.7888, 0.7833, 0.7684, 0.7675, 0.7586, 0.7549, 0.7138, 0.7091, 0.7088, 0.7, 0.6955, 0.6881, 0.6844, 0.6625, 0.6537, 0.6452, 0.6417, 0.5835, 0.5825, 0.5744, 0.5534, 0.4176, 0.5444, 0.5331, 0.426, 0.4516, 0.4852, 0.0847, 0.4563, 0.494, -0.0084, 0.427, 0.3634, 0.4609, 0.6047, -0.0894, -0.0013, 0.9988, 0.9893, 0.9892, 0.954, 0.9537, 0.9495, 0.9403, 0.9353, 0.9253, 0.9198, 0.9193, 0.9189, 0.915, 0.9117, 0.9082, 0.9067, 0.9059, 0.8884, 0.8851, 0.8773, 0.8763, 0.8463, 0.8368, 0.8135, 0.8117, 0.8097, 0.7646, 0.7489, 0.7322, 0.7285, 0.7266, 0.6966, 0.7198, 0.633, 0.4134, 0.6304, 0.5772, -0.3871, 0.1082, 0.2589, 0.5529, -0.0549, 0.1706, 0.0655, 0.5713, 0.3127, -0.6165, -0.2823, 0.142, 1.4375, 1.4172, 1.4123, 1.4001, 1.3951, 1.3302, 1.3007, 1.2621, 1.2573, 1.2356, 1.1726, 1.172, 1.1673, 1.1557, 1.151, 1.1499, 1.1433, 1.1377, 1.1241, 1.1099, 1.0815, 1.06, 1.0375, 1.0149, 1.0082, 1.0066, 1.005, 0.985, 0.9731, 0.9597, 0.9571, 0.9457, 0.8941, 0.8861, 0.9475, 0.8777, 0.9428, 0.6404, 0.7807, 0.1284, -0.5599, -0.255, 0.6704, 0.0902, 0.5103, -0.0296, 0.7125]}, \"token.table\": {\"Topic\": [1, 1, 2, 2, 1, 1, 3, 3, 2, 2, 1, 3, 1, 2, 3, 1, 2, 2, 3, 1, 3, 2, 3, 2, 3, 1, 2, 3, 2, 1, 2, 3, 1, 2, 1, 1, 2, 1, 3, 1, 2, 1, 3, 1, 2, 2, 1, 2, 3, 1, 2, 3, 2, 3, 1, 2, 3, 1, 1, 3, 2, 3, 1, 2, 1, 1, 3, 1, 2, 1, 2, 1, 2, 3, 1, 1, 2, 3, 2, 3, 2, 3, 1, 2, 2, 3, 1, 2, 2, 3, 2, 1, 2, 2, 3, 2, 2, 3, 1, 2, 2, 3, 1, 2, 2, 3, 2, 3, 1, 3, 2, 3, 2, 3, 1, 2, 1, 2, 3, 2, 3, 1, 2, 3, 1, 2, 3, 2, 2, 3, 1, 2, 3, 1, 2, 1, 2, 3, 1, 2, 1, 1, 2, 2, 2, 2, 3, 2, 3, 1, 2, 3, 2, 1, 2, 1, 2, 3, 1, 2, 3, 1, 2, 3, 2, 2, 3, 1, 3, 1, 2, 3, 1, 2, 3, 1, 2, 3, 1, 3, 1, 3, 1, 2, 2, 3, 2, 1, 2, 2, 3, 1, 1, 2, 3, 2, 3, 1, 1, 2, 3, 1, 1, 3, 1, 2, 3, 2, 3, 1, 2, 1, 2, 3, 2, 3, 2, 3, 1, 2, 3, 1, 2, 2, 2, 2, 1, 2, 3, 1, 3, 1, 2, 3, 1, 1, 1, 2, 3, 2, 3, 1, 2, 3, 1, 2, 3, 1, 3], \"Freq\": [0.9716339164230066, 0.12874211671372895, 0.8582807780915265, 0.9398280062530899, 0.9503198578228311, 0.44252511528499194, 0.5424501413170869, 0.9145747599275317, 0.9085800480148944, 0.9762485684468566, 0.15610694538035064, 0.7805347269017532, 0.19377433489915, 0.12110895931196874, 0.678210172147025, 0.2257753213509942, 0.7337697943907312, 0.3956236699283839, 0.5934355048925758, 0.1816692000499472, 0.7266768001997888, 0.32650000712160965, 0.5441666785360161, 0.3626797059205783, 0.5440195588808674, 0.3888309240250782, 0.4187409951039303, 0.20937049755196516, 0.9398202549978625, 0.4223201493474055, 0.4223201493474055, 0.15357096339905654, 0.3216101462553169, 0.6968219835531867, 0.9620054877897207, 0.09757005841261611, 0.7805604673009289, 0.7427418502542094, 0.25611787939800323, 0.7488344555803383, 0.21395270159438237, 0.5407766947815045, 0.40558252108612836, 0.832099801324793, 0.11887140018925614, 0.9843163538108691, 0.6883827226869971, 0.08604784033587463, 0.2151196008396866, 0.8034574194287425, 0.06695478495239521, 0.10043217742859281, 0.7844318852281036, 0.1961079713070259, 0.6203528820889379, 0.2514944116576775, 0.12574720582883875, 0.9502942977268974, 0.8349089138670515, 0.11927270198100735, 0.8360203224800327, 0.11943147464000466, 0.15342062845334084, 0.7671031422667042, 0.962182563299725, 0.4343719579082503, 0.5791626105443337, 0.2680642701813565, 0.6701606754533912, 0.6049914433522825, 0.3723024266783277, 0.27228665245692085, 0.13614332622846043, 0.6807166311423021, 0.8914567776314263, 0.21752784744269468, 0.10876392372134734, 0.652583542328084, 0.311092547843962, 0.622185095687924, 0.1563252967350597, 0.7816264836752985, 0.13416353981936224, 0.8049812389161735, 0.5424596022824135, 0.4649653733849259, 0.8749791758723653, 0.0972199084302628, 0.7699878043916643, 0.15399756087833286, 0.8954015443832998, 0.7841507978557263, 0.14257287233740476, 0.3630445320729052, 0.6050742201215087, 0.8952978804603011, 0.24252330160550034, 0.7275699048165011, 0.611525379401138, 0.3567231379839972, 0.2910756815886579, 0.7276892039716447, 0.7643528714075729, 0.1528705742815146, 0.7843458045483317, 0.19608645113708292, 0.6179640298911776, 0.3089820149455888, 0.36263522031588485, 0.5439528304738273, 0.2729333688500904, 0.682333422125226, 0.36267211617049894, 0.5440081742557484, 0.09761396435568585, 0.8785256792011726, 0.11391533836832185, 0.5126190226574483, 0.3987036842891265, 0.08772405490819389, 0.9211025765360359, 0.08335959677444706, 0.4584777822594588, 0.41679798387223527, 0.39972744915100394, 0.5450828852059144, 0.03633885901372763, 0.9908478812976028, 0.1366172852653648, 0.8197037115921888, 0.7275143914519686, 0.03163106049791168, 0.25304848398329344, 0.8916229198143715, 0.9398028210680663, 0.6770706123571094, 0.2821127551487956, 0.11284510205951823, 0.9159537889623417, 0.9735387592974263, 0.9355896613564002, 0.17900471748688931, 0.7160188699475573, 0.920734728429115, 0.9849219700305573, 0.29721935071652983, 0.6935118183385697, 0.5066740496472056, 0.5066740496472056, 0.724412493367684, 0.1448824986735368, 0.11590599893882944, 0.9549781376990873, 0.8020430873468285, 0.08911589859409207, 0.7141287568992312, 0.2380429189664104, 0.0595107297416026, 0.9260047645342331, 0.3958932888701155, 0.5938399333051733, 0.7642228531396921, 0.15284457062793844, 0.9594617766940234, 0.9398300647779992, 0.6362075688587079, 0.31810378442935394, 0.892563427937458, 0.0892563427937458, 0.3426792901117361, 0.4405876587150893, 0.24477092150838295, 0.2422616509355981, 0.060565412733899524, 0.7267849528067943, 0.9503525622739968, 0.8959137225173383, 0.05972758150115588, 0.09970649199646582, 0.8973584279681924, 0.8301871267371819, 0.13836452112286365, 0.6687310670876226, 0.3566565691133987, 0.18224418453475746, 0.8200988304064085, 0.9665290346415287, 0.8801283720506186, 0.0628663122893299, 0.15594642149127413, 0.7797321074563707, 0.9504696971815114, 0.1363350777811997, 0.1363350777811997, 0.6816753889059984, 0.78446874575068, 0.19611718643767, 0.9167736859514921, 0.12085596192728086, 0.24171192385456172, 0.6042798096364044, 0.9796841255754647, 0.9272108157092503, 0.07132390890071157, 0.722619893607414, 0.2890479574429656, 0.8775868974450765, 0.8612820160652994, 0.10766025200816243, 0.874975000322678, 0.09721944448029757, 0.333987929177351, 0.12524547344150663, 0.5427303849131954, 0.18175738333405886, 0.7270295333362354, 0.649176750704291, 0.36065375039127284, 0.08958551298762794, 0.8062696168886514, 0.08958551298762794, 0.6523400845762242, 0.33921684397963653, 0.9085652500027315, 0.9664751129166312, 0.9207384632500407, 0.9496203944663952, 0.15595949369409945, 0.7797974684704972, 0.3624048966969213, 0.6040081611615354, 0.6237278091925218, 0.19058349725327053, 0.17325772477570048, 0.9348918727841956, 0.9166139607503807, 0.7663265753671706, 0.07663265753671707, 0.15326531507343413, 0.08423261827535136, 0.8423261827535137, 0.7054730391575132, 0.16931352939780317, 0.11287568626520211, 0.6965486240182581, 0.2679033169300993, 0.10716132677203971, 0.44664992952989563, 0.5104570623198806], \"Term\": [\"Jupyter\", \"ML\", \"ML\", \"MLOps\", \"PyData\", \"Python\", \"Python\", \"Rust\", \"algorithm\", \"answer\", \"api\", \"api\", \"application\", \"application\", \"application\", \"approach\", \"approach\", \"architecture\", \"architecture\", \"attendee\", \"attendee\", \"benefit\", \"benefit\", \"big\", \"big\", \"build\", \"build\", \"build\", \"business\", \"case\", \"case\", \"case\", \"challenge\", \"challenge\", \"change\", \"cloud\", \"cloud\", \"code\", \"code\", \"come\", \"come\", \"community\", \"community\", \"computing\", \"computing\", \"cost\", \"create\", \"create\", \"create\", \"data\", \"data\", \"data\", \"database\", \"database\", \"datum\", \"datum\", \"datum\", \"day\", \"deep\", \"deep\", \"deploy\", \"deploy\", \"deployment\", \"deployment\", \"design\", \"developer\", \"developer\", \"development\", \"development\", \"discuss\", \"discuss\", \"domain\", \"domain\", \"domain\", \"ease\", \"ecosystem\", \"ecosystem\", \"ecosystem\", \"efficient\", \"efficient\", \"effort\", \"effort\", \"enable\", \"enable\", \"end\", \"end\", \"engineering\", \"engineering\", \"ensure\", \"ensure\", \"evaluate\", \"experience\", \"experience\", \"explore\", \"explore\", \"face\", \"fast\", \"fast\", \"feature\", \"feature\", \"framework\", \"framework\", \"gain\", \"gain\", \"help\", \"help\", \"high\", \"high\", \"highlight\", \"highlight\", \"implementation\", \"implementation\", \"improvement\", \"improvement\", \"issue\", \"issue\", \"know\", \"know\", \"know\", \"language\", \"language\", \"large\", \"large\", \"large\", \"learn\", \"learn\", \"learn\", \"learning\", \"level\", \"level\", \"library\", \"library\", \"library\", \"life\", \"lifecycle\", \"look\", \"look\", \"look\", \"lot\", \"machine\", \"memory\", \"method\", \"method\", \"metric\", \"model\", \"modern\", \"modern\", \"need\", \"need\", \"new\", \"new\", \"new\", \"nlp\", \"offer\", \"offer\", \"open\", \"open\", \"open\", \"panda\", \"performance\", \"performance\", \"pitfall\", \"pitfall\", \"possible\", \"prediction\", \"present\", \"present\", \"problem\", \"problem\", \"process\", \"process\", \"process\", \"processing\", \"processing\", \"processing\", \"product\", \"production\", \"production\", \"programming\", \"programming\", \"project\", \"project\", \"provide\", \"provide\", \"python\", \"python\", \"question\", \"real\", \"real\", \"reason\", \"reason\", \"require\", \"run\", \"run\", \"run\", \"scale\", \"scale\", \"scientist\", \"show\", \"show\", \"show\", \"software\", \"solve\", \"solve\", \"source\", \"source\", \"speed\", \"step\", \"step\", \"support\", \"support\", \"task\", \"task\", \"task\", \"technical\", \"technical\", \"technique\", \"technique\", \"time\", \"time\", \"time\", \"tool\", \"tool\", \"train\", \"training\", \"tune\", \"tutorial\", \"type\", \"type\", \"understanding\", \"understanding\", \"use\", \"use\", \"use\", \"user\", \"version\", \"way\", \"way\", \"way\", \"web\", \"web\", \"work\", \"work\", \"work\", \"world\", \"world\", \"world\", \"write\", \"write\"]}, \"R\": 30, \"lambda.step\": 0.01, \"plot.opts\": {\"xlab\": \"PC1\", \"ylab\": \"PC2\"}, \"topic.order\": [3, 1, 2]};\n",
       "\n",
       "function LDAvis_load_lib(url, callback){\n",
       "  var s = document.createElement('script');\n",
       "  s.src = url;\n",
       "  s.async = true;\n",
       "  s.onreadystatechange = s.onload = callback;\n",
       "  s.onerror = function(){console.warn(\"failed to load library \" + url);};\n",
       "  document.getElementsByTagName(\"head\")[0].appendChild(s);\n",
       "}\n",
       "\n",
       "if(typeof(LDAvis) !== \"undefined\"){\n",
       "   // already loaded: just create the visualization\n",
       "   !function(LDAvis){\n",
       "       new LDAvis(\"#\" + \"ldavis_el979251847778883945452681\", ldavis_el979251847778883945452681_data);\n",
       "   }(LDAvis);\n",
       "}else if(typeof define === \"function\" && define.amd){\n",
       "   // require.js is available: use it to load d3/LDAvis\n",
       "   require.config({paths: {d3: \"https://d3js.org/d3.v5\"}});\n",
       "   require([\"d3\"], function(d3){\n",
       "      window.d3 = d3;\n",
       "      LDAvis_load_lib(\"https://cdn.jsdelivr.net/gh/bmabey/pyLDAvis@3.4.0/pyLDAvis/js/ldavis.v3.0.0.js\", function(){\n",
       "        new LDAvis(\"#\" + \"ldavis_el979251847778883945452681\", ldavis_el979251847778883945452681_data);\n",
       "      });\n",
       "    });\n",
       "}else{\n",
       "    // require.js not available: dynamically load d3 & LDAvis\n",
       "    LDAvis_load_lib(\"https://d3js.org/d3.v5.js\", function(){\n",
       "         LDAvis_load_lib(\"https://cdn.jsdelivr.net/gh/bmabey/pyLDAvis@3.4.0/pyLDAvis/js/ldavis.v3.0.0.js\", function(){\n",
       "                 new LDAvis(\"#\" + \"ldavis_el979251847778883945452681\", ldavis_el979251847778883945452681_data);\n",
       "            })\n",
       "         });\n",
       "}\n",
       "</script>"
      ],
      "text/plain": [
       "<IPython.core.display.HTML object>"
      ]
     },
     "execution_count": 27,
     "metadata": {},
     "output_type": "execute_result"
    }
   ],
   "source": [
    "# Visualize \n",
    "lda_display = pyLDAvis.gensim_models.prepare(lda_model, BoW, dictionary)\n",
    "pyLDAvis.display(lda_display)"
   ]
  },
  {
   "cell_type": "code",
   "execution_count": 28,
   "id": "f79fde2f-1480-493c-bd50-3103d523b5d9",
   "metadata": {},
   "outputs": [],
   "source": [
    "df['topic'] = [sorted(lda_model[BoW][abstract])[0][0] for abstract in range(len(df['abstract']))]"
   ]
  },
  {
   "cell_type": "code",
   "execution_count": 29,
   "id": "9697771e-2f18-406b-a004-ccbbce4e736e",
   "metadata": {},
   "outputs": [
    {
     "data": {
      "text/plain": [
       "topic\n",
       "0    106\n",
       "1      8\n",
       "2      1\n",
       "Name: count, dtype: int64"
      ]
     },
     "execution_count": 29,
     "metadata": {},
     "output_type": "execute_result"
    }
   ],
   "source": [
    "df.topic.value_counts()"
   ]
  }
 ],
 "metadata": {
  "kernelspec": {
   "display_name": "Python 3 (ipykernel)",
   "language": "python",
   "name": "python3"
  },
  "language_info": {
   "codemirror_mode": {
    "name": "ipython",
    "version": 3
   },
   "file_extension": ".py",
   "mimetype": "text/x-python",
   "name": "python",
   "nbconvert_exporter": "python",
   "pygments_lexer": "ipython3",
   "version": "3.11.3"
  }
 },
 "nbformat": 4,
 "nbformat_minor": 5
}
