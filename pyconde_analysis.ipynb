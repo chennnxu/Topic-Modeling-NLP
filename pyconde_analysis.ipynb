{
 "cells": [
  {
   "cell_type": "markdown",
   "id": "3b1e5e3a-5ddc-443f-aad3-044be9d6b27e",
   "metadata": {},
   "source": [
    "## Part 1: Session Data\n"
   ]
  },
  {
   "cell_type": "code",
   "execution_count": null,
   "id": "3b6ea534-7610-46f4-b2e4-d2cb59bb20b0",
   "metadata": {},
   "outputs": [],
   "source": [
    "# The pakages I need:\n",
    "\n",
    "# !pip install pyLDAvis -qq\n",
    "# !pip install -qq -U gensim\n",
    "# !pip install spacy -qq\n",
    "# !pip install matplotlib -qq\n",
    "# !pip install seaborn -qq\n",
    "# !python -m spacy download en_core_web_md -qq"
   ]
  },
  {
   "cell_type": "code",
   "execution_count": 9,
   "id": "f4b18cf1-7cdf-4d83-acac-711aeb01e980",
   "metadata": {},
   "outputs": [],
   "source": [
    "# import packages\n",
    "import pandas as pd\n",
    "import matplotlib.pyplot as plt\n",
    "import seaborn as sns\n",
    "sns.set()\n",
    "import spacy\n",
    "import pyLDAvis.gensim_models\n",
    "pyLDAvis.enable_notebook()\n",
    "import en_core_web_md\n",
    "from gensim.corpora.dictionary import Dictionary\n",
    "from gensim.models import LdaMulticore\n",
    "from gensim.models import CoherenceModel\n",
    "\n",
    "import warnings\n",
    "warnings.filterwarnings(\"ignore\")"
   ]
  },
  {
   "cell_type": "code",
   "execution_count": 2,
   "id": "6afcf20b-c6aa-40fc-859e-04cc4b214492",
   "metadata": {},
   "outputs": [
    {
     "data": {
      "text/html": [
       "<div>\n",
       "<style scoped>\n",
       "    .dataframe tbody tr th:only-of-type {\n",
       "        vertical-align: middle;\n",
       "    }\n",
       "\n",
       "    .dataframe tbody tr th {\n",
       "        vertical-align: top;\n",
       "    }\n",
       "\n",
       "    .dataframe thead th {\n",
       "        text-align: right;\n",
       "    }\n",
       "</style>\n",
       "<table border=\"1\" class=\"dataframe\">\n",
       "  <thead>\n",
       "    <tr style=\"text-align: right;\">\n",
       "      <th></th>\n",
       "      <th>schedule</th>\n",
       "    </tr>\n",
       "  </thead>\n",
       "  <tbody>\n",
       "    <tr>\n",
       "      <th>base_url</th>\n",
       "      <td>https://pretalx.com/pyconde-pydata-berlin-2023...</td>\n",
       "    </tr>\n",
       "    <tr>\n",
       "      <th>conference</th>\n",
       "      <td>{'acronym': 'pyconde-pydata-berlin-2023', 'tit...</td>\n",
       "    </tr>\n",
       "    <tr>\n",
       "      <th>version</th>\n",
       "      <td>1.3</td>\n",
       "    </tr>\n",
       "  </tbody>\n",
       "</table>\n",
       "</div>"
      ],
      "text/plain": [
       "                                                     schedule\n",
       "base_url    https://pretalx.com/pyconde-pydata-berlin-2023...\n",
       "conference  {'acronym': 'pyconde-pydata-berlin-2023', 'tit...\n",
       "version                                                   1.3"
      ]
     },
     "execution_count": 2,
     "metadata": {},
     "output_type": "execute_result"
    }
   ],
   "source": [
    "data = pd.read_json('schedule.json')\n",
    "data"
   ]
  },
  {
   "cell_type": "code",
   "execution_count": 4,
   "id": "169184e5-a270-42f8-8973-9255c88bc964",
   "metadata": {},
   "outputs": [
    {
     "data": {
      "text/html": [
       "<div>\n",
       "<style scoped>\n",
       "    .dataframe tbody tr th:only-of-type {\n",
       "        vertical-align: middle;\n",
       "    }\n",
       "\n",
       "    .dataframe tbody tr th {\n",
       "        vertical-align: top;\n",
       "    }\n",
       "\n",
       "    .dataframe thead th {\n",
       "        text-align: right;\n",
       "    }\n",
       "</style>\n",
       "<table border=\"1\" class=\"dataframe\">\n",
       "  <thead>\n",
       "    <tr style=\"text-align: right;\">\n",
       "      <th></th>\n",
       "      <th>day</th>\n",
       "      <th>room</th>\n",
       "      <th>id</th>\n",
       "      <th>title</th>\n",
       "      <th>track</th>\n",
       "      <th>abstract</th>\n",
       "    </tr>\n",
       "  </thead>\n",
       "  <tbody>\n",
       "  </tbody>\n",
       "</table>\n",
       "</div>"
      ],
      "text/plain": [
       "Empty DataFrame\n",
       "Columns: [day, room, id, title, track, abstract]\n",
       "Index: []"
      ]
     },
     "execution_count": 4,
     "metadata": {},
     "output_type": "execute_result"
    }
   ],
   "source": [
    "# Create a new dataframe with columns day, room, id, title, absract\n",
    "df = pd.DataFrame(columns = ['day', 'room', 'id', 'title', 'track', 'abstract'])\n",
    "df"
   ]
  },
  {
   "cell_type": "code",
   "execution_count": 5,
   "id": "870e44f6-aec0-43d2-b5db-04741fa97d9f",
   "metadata": {
    "scrolled": true
   },
   "outputs": [],
   "source": [
    "# Interate over the 3 days\n",
    "for i in range(3):\n",
    "    temp_df = {}\n",
    "    # Get day\n",
    "    temp_df['day'] = i\n",
    "    day = data['schedule'].conference['days'][i]['rooms']\n",
    "    # Get rooms\n",
    "    rooms = ['Kuppelsaal', 'B09', 'B07-B08', 'B05-B06', 'A1', 'A03-A04', 'A05-A06']\n",
    "    # Get sessions of each room\n",
    "    for room in rooms:\n",
    "        temp_df['room'] = room\n",
    "        number_sessions_room = len(day[room])\n",
    "        \n",
    "        for session in range(number_sessions_room):\n",
    "            temp_df['id'] = day[room][session]['id']\n",
    "            temp_df['title'] = day[room][session]['title']\n",
    "            temp_df['track'] = day[room][session]['track']\n",
    "            temp_df['abstract'] = day[room][session]['abstract']\n",
    "            \n",
    "            temp = pd.DataFrame([temp_df])\n",
    "            df = pd.concat([df,temp], ignore_index=True)"
   ]
  },
  {
   "cell_type": "code",
   "execution_count": 6,
   "id": "18520cb6-c3db-4439-8ff0-9f849d20d4ff",
   "metadata": {},
   "outputs": [
    {
     "data": {
      "text/html": [
       "<div>\n",
       "<style scoped>\n",
       "    .dataframe tbody tr th:only-of-type {\n",
       "        vertical-align: middle;\n",
       "    }\n",
       "\n",
       "    .dataframe tbody tr th {\n",
       "        vertical-align: top;\n",
       "    }\n",
       "\n",
       "    .dataframe thead th {\n",
       "        text-align: right;\n",
       "    }\n",
       "</style>\n",
       "<table border=\"1\" class=\"dataframe\">\n",
       "  <thead>\n",
       "    <tr style=\"text-align: right;\">\n",
       "      <th></th>\n",
       "      <th>day</th>\n",
       "      <th>room</th>\n",
       "      <th>id</th>\n",
       "      <th>title</th>\n",
       "      <th>track</th>\n",
       "      <th>abstract</th>\n",
       "    </tr>\n",
       "  </thead>\n",
       "  <tbody>\n",
       "    <tr>\n",
       "      <th>0</th>\n",
       "      <td>0</td>\n",
       "      <td>Kuppelsaal</td>\n",
       "      <td>26497</td>\n",
       "      <td>Pandas 2.0 and beyond</td>\n",
       "      <td>PyData: PyData &amp; Scientific Libraries Stack</td>\n",
       "      <td>Pandas has reached a 2.0 milestone in 2023. Bu...</td>\n",
       "    </tr>\n",
       "    <tr>\n",
       "      <th>1</th>\n",
       "      <td>0</td>\n",
       "      <td>Kuppelsaal</td>\n",
       "      <td>25390</td>\n",
       "      <td>An unbiased evaluation of environment manageme...</td>\n",
       "      <td>PyCon: Programming &amp; Software Engineering</td>\n",
       "      <td>Python packaging is quickly evolving and new t...</td>\n",
       "    </tr>\n",
       "    <tr>\n",
       "      <th>2</th>\n",
       "      <td>0</td>\n",
       "      <td>Kuppelsaal</td>\n",
       "      <td>28265</td>\n",
       "      <td>Keynote - A journey through 4 industries with ...</td>\n",
       "      <td>Plenary</td>\n",
       "      <td>In this keynote, I will share the lessons lear...</td>\n",
       "    </tr>\n",
       "    <tr>\n",
       "      <th>3</th>\n",
       "      <td>0</td>\n",
       "      <td>Kuppelsaal</td>\n",
       "      <td>26247</td>\n",
       "      <td>Raised by Pandas, striving for more: An opinio...</td>\n",
       "      <td>PyData: Data Handling</td>\n",
       "      <td>Pandas is the de-facto standard for data manip...</td>\n",
       "    </tr>\n",
       "    <tr>\n",
       "      <th>4</th>\n",
       "      <td>0</td>\n",
       "      <td>Kuppelsaal</td>\n",
       "      <td>25254</td>\n",
       "      <td>Polars - make the switch to lightning-fast dat...</td>\n",
       "      <td>PyData: Data Handling</td>\n",
       "      <td>In this talk, we will report on our experience...</td>\n",
       "    </tr>\n",
       "    <tr>\n",
       "      <th>...</th>\n",
       "      <td>...</td>\n",
       "      <td>...</td>\n",
       "      <td>...</td>\n",
       "      <td>...</td>\n",
       "      <td>...</td>\n",
       "      <td>...</td>\n",
       "    </tr>\n",
       "    <tr>\n",
       "      <th>110</th>\n",
       "      <td>2</td>\n",
       "      <td>A03-A04</td>\n",
       "      <td>25857</td>\n",
       "      <td>Most of you don't need Spark. Large-scale data...</td>\n",
       "      <td>PyData: Data Handling</td>\n",
       "      <td>The Python data ecosystem has matured during t...</td>\n",
       "    </tr>\n",
       "    <tr>\n",
       "      <th>111</th>\n",
       "      <td>2</td>\n",
       "      <td>A03-A04</td>\n",
       "      <td>30171</td>\n",
       "      <td>Contributing to an open-source content library...</td>\n",
       "      <td>PyData: Natural Language Processing</td>\n",
       "      <td>Bricks is an open-source content library for n...</td>\n",
       "    </tr>\n",
       "    <tr>\n",
       "      <th>112</th>\n",
       "      <td>2</td>\n",
       "      <td>A05-A06</td>\n",
       "      <td>26268</td>\n",
       "      <td>Building Hexagonal Python Services</td>\n",
       "      <td>PyCon: Programming &amp; Software Engineering</td>\n",
       "      <td>The importance of enterprise architecture patt...</td>\n",
       "    </tr>\n",
       "    <tr>\n",
       "      <th>113</th>\n",
       "      <td>2</td>\n",
       "      <td>A05-A06</td>\n",
       "      <td>26277</td>\n",
       "      <td>Workshop on Privilege and Ethics in Data</td>\n",
       "      <td>General: Ethics &amp; Privacy</td>\n",
       "      <td>Data-driven products are becoming more and mor...</td>\n",
       "    </tr>\n",
       "    <tr>\n",
       "      <th>114</th>\n",
       "      <td>2</td>\n",
       "      <td>A05-A06</td>\n",
       "      <td>26494</td>\n",
       "      <td>The Battle of Giants: Causality vs NLP =&gt; From...</td>\n",
       "      <td>PyData: Natural Language Processing</td>\n",
       "      <td>With an average of 3.2 new papers published on...</td>\n",
       "    </tr>\n",
       "  </tbody>\n",
       "</table>\n",
       "<p>115 rows × 6 columns</p>\n",
       "</div>"
      ],
      "text/plain": [
       "    day        room     id                                              title  \\\n",
       "0     0  Kuppelsaal  26497                              Pandas 2.0 and beyond   \n",
       "1     0  Kuppelsaal  25390  An unbiased evaluation of environment manageme...   \n",
       "2     0  Kuppelsaal  28265  Keynote - A journey through 4 industries with ...   \n",
       "3     0  Kuppelsaal  26247  Raised by Pandas, striving for more: An opinio...   \n",
       "4     0  Kuppelsaal  25254  Polars - make the switch to lightning-fast dat...   \n",
       "..   ..         ...    ...                                                ...   \n",
       "110   2     A03-A04  25857  Most of you don't need Spark. Large-scale data...   \n",
       "111   2     A03-A04  30171  Contributing to an open-source content library...   \n",
       "112   2     A05-A06  26268                 Building Hexagonal Python Services   \n",
       "113   2     A05-A06  26277           Workshop on Privilege and Ethics in Data   \n",
       "114   2     A05-A06  26494  The Battle of Giants: Causality vs NLP => From...   \n",
       "\n",
       "                                           track  \\\n",
       "0    PyData: PyData & Scientific Libraries Stack   \n",
       "1      PyCon: Programming & Software Engineering   \n",
       "2                                        Plenary   \n",
       "3                          PyData: Data Handling   \n",
       "4                          PyData: Data Handling   \n",
       "..                                           ...   \n",
       "110                        PyData: Data Handling   \n",
       "111          PyData: Natural Language Processing   \n",
       "112    PyCon: Programming & Software Engineering   \n",
       "113                    General: Ethics & Privacy   \n",
       "114          PyData: Natural Language Processing   \n",
       "\n",
       "                                              abstract  \n",
       "0    Pandas has reached a 2.0 milestone in 2023. Bu...  \n",
       "1    Python packaging is quickly evolving and new t...  \n",
       "2    In this keynote, I will share the lessons lear...  \n",
       "3    Pandas is the de-facto standard for data manip...  \n",
       "4    In this talk, we will report on our experience...  \n",
       "..                                                 ...  \n",
       "110  The Python data ecosystem has matured during t...  \n",
       "111  Bricks is an open-source content library for n...  \n",
       "112  The importance of enterprise architecture patt...  \n",
       "113  Data-driven products are becoming more and mor...  \n",
       "114  With an average of 3.2 new papers published on...  \n",
       "\n",
       "[115 rows x 6 columns]"
      ]
     },
     "execution_count": 6,
     "metadata": {},
     "output_type": "execute_result"
    }
   ],
   "source": [
    "df"
   ]
  },
  {
   "cell_type": "code",
   "execution_count": 7,
   "id": "8a919cd0-afa4-4dd0-93d9-30ce25767921",
   "metadata": {},
   "outputs": [
    {
     "data": {
      "text/plain": [
       "track\n",
       "PyData: Natural Language Processing                                15\n",
       "PyCon: Programming & Software Engineering                          15\n",
       "Sponsor                                                            12\n",
       "PyData: PyData & Scientific Libraries Stack                        10\n",
       "PyData: Machine Learning & Stats                                   10\n",
       "PyData: Data Handling                                               9\n",
       "PyCon: DevOps & MLOps                                               8\n",
       "PyCon: Python Language                                              4\n",
       "Plenary                                                             4\n",
       "PyData: Deep Learning                                               4\n",
       "General: Ethics & Privacy                                           3\n",
       "PyCon: Libraries                                                    3\n",
       "PyData: Jupyter                                                     3\n",
       "PyCon: Testing                                                      3\n",
       "General: Others                                                     2\n",
       "General: Python & PyData Friends                                    2\n",
       "PyData: Computer Vision                                             2\n",
       "General: Community, Diversity, Career, Life and everything else     2\n",
       "PyData: Visualisation                                               1\n",
       "PyCon: Django                                                       1\n",
       "PyCon: Web                                                          1\n",
       "General: Infrastructure - Hardware & Cloud                          1\n",
       "Name: count, dtype: int64"
      ]
     },
     "execution_count": 7,
     "metadata": {},
     "output_type": "execute_result"
    }
   ],
   "source": [
    "# tracks and their frequency\n",
    "df.track.value_counts()"
   ]
  },
  {
   "cell_type": "code",
   "execution_count": 8,
   "id": "5f42b972-bcda-497a-859f-3569dcffc4c7",
   "metadata": {},
   "outputs": [
    {
     "data": {
      "text/plain": [
       "22"
      ]
     },
     "execution_count": 8,
     "metadata": {},
     "output_type": "execute_result"
    }
   ],
   "source": [
    "df.track.nunique()"
   ]
  },
  {
   "cell_type": "markdown",
   "id": "2e6a6e8a-6743-449b-b345-8dfa5005c97b",
   "metadata": {},
   "source": [
    "## Part 2: Topic Modeling"
   ]
  },
  {
   "cell_type": "markdown",
   "id": "88cdc50e-fe11-4c9f-be3d-75fec79d8609",
   "metadata": {},
   "source": [
    "<div>\n",
    "<img src=\"pipeline.svg\" width=\"700\"/>\n",
    "</div>"
   ]
  },
  {
   "cell_type": "code",
   "execution_count": 26,
   "id": "3cf39486-961e-49a6-a6ae-d11d686590b9",
   "metadata": {},
   "outputs": [],
   "source": [
    "# Create a spaCy object, en_core_web_md is spaCy's pre-trained model, as shown in image above 'nlp'\n",
    "nlp = en_core_web_md.load()"
   ]
  },
  {
   "cell_type": "markdown",
   "id": "37ba43e8-e178-47d9-a425-a867938add65",
   "metadata": {},
   "source": [
    "### Data"
   ]
  },
  {
   "cell_type": "code",
   "execution_count": 14,
   "id": "e53405dd-8ae4-4648-9ee8-2e14af0e1b5a",
   "metadata": {},
   "outputs": [
    {
     "data": {
      "text/html": [
       "<span class=\"tex2jax_ignore\"><div class=\"entities\" style=\"line-height: 2.5; direction: ltr\">\n",
       "<mark class=\"entity\" style=\"background: #aa9cfc; padding: 0.45em 0.6em; margin: 0 0.25em; line-height: 1; border-radius: 0.35em;\">\n",
       "    Pandas\n",
       "    <span style=\"font-size: 0.8em; font-weight: bold; line-height: 1; border-radius: 0.35em; vertical-align: middle; margin-left: 0.5rem\">PERSON</span>\n",
       "</mark>\n",
       " has reached a 2.0 milestone in \n",
       "<mark class=\"entity\" style=\"background: #bfe1d9; padding: 0.45em 0.6em; margin: 0 0.25em; line-height: 1; border-radius: 0.35em;\">\n",
       "    2023\n",
       "    <span style=\"font-size: 0.8em; font-weight: bold; line-height: 1; border-radius: 0.35em; vertical-align: middle; margin-left: 0.5rem\">DATE</span>\n",
       "</mark>\n",
       ". But what does that mean? And what is coming after 2.0? This talk will give an overview of what happened in the latest releases of pandas and highlight some topics and major new features the pandas project is working on.</div></span>"
      ],
      "text/plain": [
       "<IPython.core.display.HTML object>"
      ]
     },
     "metadata": {},
     "output_type": "display_data"
    }
   ],
   "source": [
    "# Name Entity Recognition\n",
    "# Call nlp on an abstract, the text will run through a processing pipeline, as shown in image above.\n",
    "doc = nlp(df.abstract[0])\n",
    "spacy.displacy.render(doc, style='ent', jupyter=True)"
   ]
  },
  {
   "cell_type": "code",
   "execution_count": 31,
   "id": "f0d871fb-8768-46da-9c09-29452a6f1bca",
   "metadata": {},
   "outputs": [],
   "source": [
    "# Remove the tags I don't want\n",
    "# from spacy.glossary import GLOSSARY \n",
    "# lookup_dict = GLOSSARY\n",
    "# lookup_dict.keys()\n",
    "remove_tags = ['ADV','ADP','CCONJ','DET','PRON','PUNCT','PART','NUM','SPACE','SYM']"
   ]
  },
  {
   "cell_type": "code",
   "execution_count": 32,
   "id": "1ec1049c-86d9-4ab5-9df0-a4f1e933164b",
   "metadata": {},
   "outputs": [],
   "source": [
    "tokens = []\n",
    "for abstract in nlp.pipe(df.abstract):\n",
    "    # tokenizer, remove unwanted tags, stopwords, lemmatization\n",
    "    abstract_token = [token.lemma_ for token in abstract if token.pos_ not in remove_tags and not token.is_stop and token.is_alpha] \n",
    "    tokens.append(abstract_token)"
   ]
  },
  {
   "cell_type": "code",
   "execution_count": 33,
   "id": "1524265d-1a95-4041-b6b5-93419737b05a",
   "metadata": {
    "scrolled": true
   },
   "outputs": [
    {
     "data": {
      "text/plain": [
       "['panda',\n",
       " 'reach',\n",
       " 'milestone',\n",
       " 'mean',\n",
       " 'come',\n",
       " 'talk',\n",
       " 'overview',\n",
       " 'happen',\n",
       " 'late',\n",
       " 'release',\n",
       " 'panda',\n",
       " 'highlight',\n",
       " 'topic',\n",
       " 'major',\n",
       " 'new',\n",
       " 'feature',\n",
       " 'panda',\n",
       " 'project',\n",
       " 'work']"
      ]
     },
     "execution_count": 33,
     "metadata": {},
     "output_type": "execute_result"
    }
   ],
   "source": [
    "tokens[0]"
   ]
  },
  {
   "cell_type": "code",
   "execution_count": 34,
   "id": "990da0f4-2b30-49fd-abf5-4886c7dcf930",
   "metadata": {
    "scrolled": true
   },
   "outputs": [
    {
     "data": {
      "text/html": [
       "<div>\n",
       "<style scoped>\n",
       "    .dataframe tbody tr th:only-of-type {\n",
       "        vertical-align: middle;\n",
       "    }\n",
       "\n",
       "    .dataframe tbody tr th {\n",
       "        vertical-align: top;\n",
       "    }\n",
       "\n",
       "    .dataframe thead th {\n",
       "        text-align: right;\n",
       "    }\n",
       "</style>\n",
       "<table border=\"1\" class=\"dataframe\">\n",
       "  <thead>\n",
       "    <tr style=\"text-align: right;\">\n",
       "      <th></th>\n",
       "      <th>day</th>\n",
       "      <th>room</th>\n",
       "      <th>id</th>\n",
       "      <th>title</th>\n",
       "      <th>track</th>\n",
       "      <th>abstract</th>\n",
       "      <th>tokens</th>\n",
       "    </tr>\n",
       "  </thead>\n",
       "  <tbody>\n",
       "    <tr>\n",
       "      <th>0</th>\n",
       "      <td>0</td>\n",
       "      <td>Kuppelsaal</td>\n",
       "      <td>26497</td>\n",
       "      <td>Pandas 2.0 and beyond</td>\n",
       "      <td>PyData: PyData &amp; Scientific Libraries Stack</td>\n",
       "      <td>Pandas has reached a 2.0 milestone in 2023. Bu...</td>\n",
       "      <td>[panda, reach, milestone, mean, come, talk, ov...</td>\n",
       "    </tr>\n",
       "    <tr>\n",
       "      <th>1</th>\n",
       "      <td>0</td>\n",
       "      <td>Kuppelsaal</td>\n",
       "      <td>25390</td>\n",
       "      <td>An unbiased evaluation of environment manageme...</td>\n",
       "      <td>PyCon: Programming &amp; Software Engineering</td>\n",
       "      <td>Python packaging is quickly evolving and new t...</td>\n",
       "      <td>[Python, packaging, evolve, new, tool, pop, re...</td>\n",
       "    </tr>\n",
       "    <tr>\n",
       "      <th>2</th>\n",
       "      <td>0</td>\n",
       "      <td>Kuppelsaal</td>\n",
       "      <td>28265</td>\n",
       "      <td>Keynote - A journey through 4 industries with ...</td>\n",
       "      <td>Plenary</td>\n",
       "      <td>In this keynote, I will share the lessons lear...</td>\n",
       "      <td>[keynote, share, lesson, learn, Python, indust...</td>\n",
       "    </tr>\n",
       "    <tr>\n",
       "      <th>3</th>\n",
       "      <td>0</td>\n",
       "      <td>Kuppelsaal</td>\n",
       "      <td>26247</td>\n",
       "      <td>Raised by Pandas, striving for more: An opinio...</td>\n",
       "      <td>PyData: Data Handling</td>\n",
       "      <td>Pandas is the de-facto standard for data manip...</td>\n",
       "      <td>[panda, de, facto, standard, data, manipulatio...</td>\n",
       "    </tr>\n",
       "    <tr>\n",
       "      <th>4</th>\n",
       "      <td>0</td>\n",
       "      <td>Kuppelsaal</td>\n",
       "      <td>25254</td>\n",
       "      <td>Polars - make the switch to lightning-fast dat...</td>\n",
       "      <td>PyData: Data Handling</td>\n",
       "      <td>In this talk, we will report on our experience...</td>\n",
       "      <td>[talk, report, experience, switch, Pandas, Pol...</td>\n",
       "    </tr>\n",
       "    <tr>\n",
       "      <th>...</th>\n",
       "      <td>...</td>\n",
       "      <td>...</td>\n",
       "      <td>...</td>\n",
       "      <td>...</td>\n",
       "      <td>...</td>\n",
       "      <td>...</td>\n",
       "      <td>...</td>\n",
       "    </tr>\n",
       "    <tr>\n",
       "      <th>110</th>\n",
       "      <td>2</td>\n",
       "      <td>A03-A04</td>\n",
       "      <td>25857</td>\n",
       "      <td>Most of you don't need Spark. Large-scale data...</td>\n",
       "      <td>PyData: Data Handling</td>\n",
       "      <td>The Python data ecosystem has matured during t...</td>\n",
       "      <td>[Python, data, ecosystem, mature, decade, reas...</td>\n",
       "    </tr>\n",
       "    <tr>\n",
       "      <th>111</th>\n",
       "      <td>2</td>\n",
       "      <td>A03-A04</td>\n",
       "      <td>30171</td>\n",
       "      <td>Contributing to an open-source content library...</td>\n",
       "      <td>PyData: Natural Language Processing</td>\n",
       "      <td>Bricks is an open-source content library for n...</td>\n",
       "      <td>[brick, open, source, content, library, natura...</td>\n",
       "    </tr>\n",
       "    <tr>\n",
       "      <th>112</th>\n",
       "      <td>2</td>\n",
       "      <td>A05-A06</td>\n",
       "      <td>26268</td>\n",
       "      <td>Building Hexagonal Python Services</td>\n",
       "      <td>PyCon: Programming &amp; Software Engineering</td>\n",
       "      <td>The importance of enterprise architecture patt...</td>\n",
       "      <td>[importance, enterprise, architecture, pattern...</td>\n",
       "    </tr>\n",
       "    <tr>\n",
       "      <th>113</th>\n",
       "      <td>2</td>\n",
       "      <td>A05-A06</td>\n",
       "      <td>26277</td>\n",
       "      <td>Workshop on Privilege and Ethics in Data</td>\n",
       "      <td>General: Ethics &amp; Privacy</td>\n",
       "      <td>Data-driven products are becoming more and mor...</td>\n",
       "      <td>[data, drive, product, ubiquitous, human, buil...</td>\n",
       "    </tr>\n",
       "    <tr>\n",
       "      <th>114</th>\n",
       "      <td>2</td>\n",
       "      <td>A05-A06</td>\n",
       "      <td>26494</td>\n",
       "      <td>The Battle of Giants: Causality vs NLP =&gt; From...</td>\n",
       "      <td>PyData: Natural Language Processing</td>\n",
       "      <td>With an average of 3.2 new papers published on...</td>\n",
       "      <td>[average, new, paper, publish, Arxiv, day, cau...</td>\n",
       "    </tr>\n",
       "  </tbody>\n",
       "</table>\n",
       "<p>115 rows × 7 columns</p>\n",
       "</div>"
      ],
      "text/plain": [
       "    day        room     id                                              title  \\\n",
       "0     0  Kuppelsaal  26497                              Pandas 2.0 and beyond   \n",
       "1     0  Kuppelsaal  25390  An unbiased evaluation of environment manageme...   \n",
       "2     0  Kuppelsaal  28265  Keynote - A journey through 4 industries with ...   \n",
       "3     0  Kuppelsaal  26247  Raised by Pandas, striving for more: An opinio...   \n",
       "4     0  Kuppelsaal  25254  Polars - make the switch to lightning-fast dat...   \n",
       "..   ..         ...    ...                                                ...   \n",
       "110   2     A03-A04  25857  Most of you don't need Spark. Large-scale data...   \n",
       "111   2     A03-A04  30171  Contributing to an open-source content library...   \n",
       "112   2     A05-A06  26268                 Building Hexagonal Python Services   \n",
       "113   2     A05-A06  26277           Workshop on Privilege and Ethics in Data   \n",
       "114   2     A05-A06  26494  The Battle of Giants: Causality vs NLP => From...   \n",
       "\n",
       "                                           track  \\\n",
       "0    PyData: PyData & Scientific Libraries Stack   \n",
       "1      PyCon: Programming & Software Engineering   \n",
       "2                                        Plenary   \n",
       "3                          PyData: Data Handling   \n",
       "4                          PyData: Data Handling   \n",
       "..                                           ...   \n",
       "110                        PyData: Data Handling   \n",
       "111          PyData: Natural Language Processing   \n",
       "112    PyCon: Programming & Software Engineering   \n",
       "113                    General: Ethics & Privacy   \n",
       "114          PyData: Natural Language Processing   \n",
       "\n",
       "                                              abstract  \\\n",
       "0    Pandas has reached a 2.0 milestone in 2023. Bu...   \n",
       "1    Python packaging is quickly evolving and new t...   \n",
       "2    In this keynote, I will share the lessons lear...   \n",
       "3    Pandas is the de-facto standard for data manip...   \n",
       "4    In this talk, we will report on our experience...   \n",
       "..                                                 ...   \n",
       "110  The Python data ecosystem has matured during t...   \n",
       "111  Bricks is an open-source content library for n...   \n",
       "112  The importance of enterprise architecture patt...   \n",
       "113  Data-driven products are becoming more and mor...   \n",
       "114  With an average of 3.2 new papers published on...   \n",
       "\n",
       "                                                tokens  \n",
       "0    [panda, reach, milestone, mean, come, talk, ov...  \n",
       "1    [Python, packaging, evolve, new, tool, pop, re...  \n",
       "2    [keynote, share, lesson, learn, Python, indust...  \n",
       "3    [panda, de, facto, standard, data, manipulatio...  \n",
       "4    [talk, report, experience, switch, Pandas, Pol...  \n",
       "..                                                 ...  \n",
       "110  [Python, data, ecosystem, mature, decade, reas...  \n",
       "111  [brick, open, source, content, library, natura...  \n",
       "112  [importance, enterprise, architecture, pattern...  \n",
       "113  [data, drive, product, ubiquitous, human, buil...  \n",
       "114  [average, new, paper, publish, Arxiv, day, cau...  \n",
       "\n",
       "[115 rows x 7 columns]"
      ]
     },
     "execution_count": 34,
     "metadata": {},
     "output_type": "execute_result"
    }
   ],
   "source": [
    "# Create a new column named 'tokens'\n",
    "df['tokens'] = tokens\n",
    "df"
   ]
  },
  {
   "cell_type": "code",
   "execution_count": 35,
   "id": "05f6b08d-c4dc-4244-8c7f-25d53cc5f058",
   "metadata": {},
   "outputs": [
    {
     "name": "stdout",
     "output_type": "stream",
     "text": [
      "Dictionary<1822 unique tokens: ['come', 'feature', 'happen', 'highlight', 'late']...>\n"
     ]
    }
   ],
   "source": [
    "# Inputs of LDA: Dictionary- unique id for each token\n",
    "dictionary = Dictionary(df['tokens'])\n",
    "print(dictionary)"
   ]
  },
  {
   "cell_type": "code",
   "execution_count": 39,
   "id": "68712475-0355-410e-a72f-e85a83f68ac6",
   "metadata": {
    "scrolled": true
   },
   "outputs": [
    {
     "name": "stdout",
     "output_type": "stream",
     "text": [
      "{'come': 0, 'feature': 1, 'happen': 2, 'highlight': 3, 'late': 4, 'major': 5, 'mean': 6, 'milestone': 7, 'new': 8, 'overview': 9, 'panda': 10, 'project': 11, 'reach': 12, 'release': 13, 'talk': 14, 'topic': 15, 'work': 16, 'Python': 17, 'available': 18, 'basis': 19, 'compare': 20, 'environment': 21, 'evolve': 22, 'exist': 23, 'jungle': 24, 'light': 25, 'lot': 26, 'management': 27, 'packaging': 28, 'pop': 29, 'post': 30, 'predefine': 31, 'regular': 32, 'shed': 33, 'structured': 34, 'tool': 35, 'unbiased': 36, 'Game': 37, 'Quill': 38, 'Studios': 39, 'application': 40, 'build': 41, 'company': 42, 'data': 43, 'day': 44, 'develop': 45, 'engineer': 46, 'game': 47, 'gaming': 48, 'hope': 49, 'industry': 50, 'inspiration': 51, 'interesting': 52, 'keynote': 53, 'learn': 54, 'learning': 55, 'lesson': 56, 'machine': 57, 'pleasure': 58, 'problem': 59, 'scientist': 60, 'share': 61, 'solve': 62, 'type': 63, 'use': 64, 'versatility': 65, 'Apache': 66, 'Arrow': 67, 'Pandas': 68, 'Polars': 69, 'Rust': 70, 'aim': 71, 'benchmark': 72, 'codebase': 73, 'datum': 74, 'de': 75, 'drawback': 76, 'efficiency': 77, 'expectation': 78, 'explain': 79, 'facto': 80, 'fast': 81, 'flexibility': 82, 'flexible': 83, 'handling': 84, 'high': 85, 'inconsistent': 86, 'insight': 87, 'interoperability': 88, 'issue': 89, 'kind': 90, 'know': 91, 'lack': 92, 'language': 93, 'long': 94, 'love': 95, 'lover': 96, 'manipulation': 97, 'meet': 98, 'memory': 99, 'migrate': 100, 'missing': 101, 'multicore': 102, 'multiple': 103, 'open': 104, 'performance': 105, 'present': 106, 'python': 107, 'query': 108, 'scenario': 109, 'shine': 110, 'source': 111, 'stable': 112, 'standard': 113, 'stay': 114, 'support': 115, 'syntax': 116, 'time': 117, 'win': 118, 'ML': 119, 'ability': 120, 'analysis': 121, 'analyst': 122, 'base': 123, 'dataframe': 124, 'dataset': 125, 'discuss': 126, 'efficient': 127, 'experience': 128, 'feel': 129, 'fit': 130, 'handle': 131, 'improvement': 132, 'interested': 133, 'large': 134, 'library': 135, 'polars': 136, 'popular': 137, 'practice': 138, 'processing': 139, 'provide': 140, 'real': 141, 'report': 142, 'significant': 143, 'speed': 144, 'switch': 145, 'task': 146, 'unique': 147, 'world': 148, 'write': 149, 'Celery': 150, 'TDD': 151, 'able': 152, 'api': 153, 'apply': 154, 'attendee': 155, 'code': 156, 'core': 157, 'create': 158, 'drive': 159, 'end': 160, 'ensure': 161, 'explore': 162, 'fastapi': 163, 'framework': 164, 'functionality': 165, 'help': 166, 'improve': 167, 'maintainability': 168, 'manner': 169, 'offload': 170, 'perform': 171, 'queue': 172, 'reliability': 173, 'reliable': 174, 'run': 175, 'scalable': 176, 'set': 177, 'start': 178, 'strong': 179, 'test': 180, 'testing': 181, 'understanding': 182, 'unit': 183, 'web': 184, 'IIoT': 185, 'IoT': 186, 'Pythonistas': 187, 'StreamPipes': 188, 'access': 189, 'addition': 190, 'address': 191, 'allow': 192, 'appeal': 193, 'basic': 194, 'case': 195, 'challenge': 196, 'client': 197, 'collect': 198, 'cumbersome': 199, 'deep': 200, 'demo': 201, 'derive': 202, 'discussion': 203, 'enthusiast': 204, 'extract': 205, 'fashioned': 206, 'follow': 207, 'general': 208, 'give': 209, 'industrial': 210, 'introduction': 211, 'live': 212, 'mess': 213, 'model': 214, 'myriad': 215, 'offer': 216, 'old': 217, 'particular': 218, 'pitfall': 219, 'protocol': 220, 'pythonic': 221, 'training': 222, 'visualization': 223, 'want': 224, 'way': 225, 'ASHA': 226, 'BO': 227, 'Bayesian': 228, 'HPO': 229, 'Halving': 230, 'Hyperparameter': 231, 'Learning': 232, 'Machine': 233, 'Optimization': 234, 'Successive': 235, 'activity': 236, 'agnostic': 237, 'algorithm': 238, 'automatic': 239, 'awslab': 240, 'big': 241, 'comparison': 242, 'computational': 243, 'cost': 244, 'creation': 245, 'describe': 246, 'employ': 247, 'example': 248, 'experimental': 249, 'extensive': 250, 'final': 251, 'fundamental': 252, 'gain': 253, 'heuristic': 254, 'include': 255, 'incur': 256, 'lead': 257, 'low': 258, 'lower': 259, 'observe': 260, 'optimal': 261, 'pipeline': 262, 'practical': 263, 'practitioner': 264, 'predictive': 265, 'presented': 266, 'public': 267, 'range': 268, 'resource': 269, 'result': 270, 'simple': 271, 'step': 272, 'syne': 273, 'technique': 274, 'term': 275, 'train': 276, 'try': 277, 'tune': 278, 'unreliable': 279, 'useful': 280, 'user': 281, 'wait': 282, 'wide': 283, 'year': 284, 'Boosting': 285, 'Cyclic': 286, 'GitHub': 287, 'accurate': 288, 'boost': 289, 'boosting': 290, 'cardinality': 291, 'categorical': 292, 'cyclic': 293, 'deliver': 294, 'demonstrate': 295, 'dependency': 296, 'engineering': 297, 'explainable': 298, 'facilitate': 299, 'family': 300, 'find': 301, 'heterogeneous': 302, 'hyperparameter': 303, 'ideal': 304, 'implementation': 305, 'individual': 306, 'inexpensive': 307, 'infamous': 308, 'information': 309, 'inner': 310, 'iteration': 311, 'level': 312, 'little': 313, 'make': 314, 'method': 315, 'minimal': 316, 'miss': 317, 'modeling': 318, 'pre': 319, 'prediction': 320, 'presentation': 321, 'process': 322, 'pure': 323, 'purpose': 324, 'rapid': 325, 'require': 326, 'robust': 327, 'sample': 328, 'shelf': 329, 'supervised': 330, 'tuning': 331, 'unavoidable': 332, 'usage': 333, 'variable': 334, 'working': 335, 'complementary': 336, 'database': 337, 'evaluate': 338, 'evaluation': 339, 'sensor': 340, 'series': 341, 'service': 342, 'show': 343, 'stream': 344, 'Alicia': 345, 'Chat': 346, 'Shopify': 347, 'ai': 348, 'architecture': 349, 'behavior': 350, 'behaviour': 351, 'building': 352, 'business': 353, 'catch': 354, 'critical': 355, 'different': 356, 'dive': 357, 'drift': 358, 'erroneous': 359, 'importance': 360, 'iterate': 361, 'look': 362, 'metric': 363, 'modern': 364, 'observability': 365, 'part': 366, 'platform': 367, 'prevalent': 368, 'prototype': 369, 'quality': 370, 'sure': 371, 'team': 372, 'technology': 373, 'track': 374, 'unexpected': 375, 'Delivery': 376, 'Hero': 377, 'Logistics': 378, 'account': 379, 'answer': 380, 'consider': 381, 'department': 382, 'discover': 383, 'expect': 384, 'focusse': 385, 'get': 386, 'hand': 387, 'invest': 388, 'journey': 389, 'maintain': 390, 'need': 391, 'ongoing': 392, 'question': 393, 'structure': 394, 'Snowflake': 395, 'Snowpark': 396, 'b': 397, 'collaborate': 398, 'compliance': 399, 'concept': 400, 'developer': 401, 'dynamic': 402, 'elasticity': 403, 'organization': 404, 'repository': 405, 'sandbox': 406, 'scalability': 407, 'scale': 408, 'secure': 409, 'security': 410, 'snowflakedb': 411, 'snowpark': 412, 'CPython': 413, 'PyScript': 414, 'WASM': 415, 'WebAssembly': 416, 'browser': 417, 'cpu': 418, 'etc': 419, 'explosion': 420, 'possible': 421, 'powerful': 422, 'recent': 423, 'see': 424, 'thank': 425, 'underlie': 426, 'virtual': 427, 'MLOps': 428, 'absence': 429, 'balance': 430, 'boundary': 431, 'circle': 432, 'constraint': 433, 'deploy': 434, 'deployment': 435, 'development': 436, 'factor': 437, 'latency': 438, 'lie': 439, 'list': 440, 'manage': 441, 'operational': 442, 'production': 443, 'reproducible': 444, 'square': 445, 'take': 446, 'vulnerability': 447, 'ChatGPT': 448, 'GPT': 449, 'Haystack': 450, 'LLM': 451, 'LLMs': 452, 'Models': 453, 'NLP': 454, 'chain': 455, 'component': 456, 'knowledge': 457, 'llm': 458, 'miraculous': 459, 'outdated': 460, 'overcome': 461, 'product': 462, 'store': 463, 'unsolved': 464, 'walk': 465, 'wrong': 466, 'PyTorch': 467, 'bug': 468, 'cause': 469, 'choose': 470, 'complex': 471, 'correct': 472, 'culprit': 473, 'custom': 474, 'determine': 475, 'equip': 476, 'focus': 477, 'function': 478, 'future': 479, 'generate': 480, 'hour': 481, 'identify': 482, 'leverage': 483, 'loop': 484, 'loss': 485, 'prevent': 486, 'problematic': 487, 'pyt': 488, 'pytorch': 489, 'reason': 490, 'refactor': 491, 'right': 492, 'scratch': 493, 'session': 494, 'synthetic': 495, 'toolbox': 496, 'tricky': 497, 'visitor': 498, 'AutoGluon': 499, 'AutoML': 500, 'achieve': 501, 'art': 502, 'automate': 503, 'classification': 504, 'competition': 505, 'competitive': 506, 'current': 507, 'cutting': 508, 'edge': 509, 'emphasize': 510, 'enable': 511, 'experimentation': 512, 'expertise': 513, 'forecasting': 514, 'hood': 515, 'human': 516, 'image': 517, 'intervention': 518, 'introduce': 519, 'intuitive': 520, 'manual': 521, 'multimodal': 522, 'peek': 523, 'promise': 524, 'raw': 525, 'regression': 526, 'state': 527, 'tabular': 528, 'toolkit': 529, 'transform': 530, 'unified': 531, 'usability': 532, 'variety': 533, 'anomaly': 534, 'common': 535, 'delay': 536, 'digital': 537, 'divergent': 538, 'domain': 539, 'easy': 540, 'expert': 541, 'forecast': 542, 'hard': 543, 'imagine': 544, 'impact': 545, 'irregular': 546, 'logistic': 547, 'market': 548, 'marketing': 549, 'master': 550, 'noise': 551, 'organise': 552, 'outlier': 553, 'pricing': 554, 'professional': 555, 'propagation': 556, 'reduce': 557, 'resolve': 558, 'stabilise': 559, 'stock': 560, 'understand': 561, 'value': 562, 'BI': 563, 'BigQuery': 564, 'ELT': 565, 'Formula': 566, 'Google': 567, 'Grand': 568, 'Prix': 569, 'analytic': 570, 'approach': 571, 'cloud': 572, 'complement': 573, 'compose': 574, 'compute': 575, 'engine': 576, 'integration': 577, 'specific': 578, 'stack': 579, 'stem': 580, 'transformation': 581, 'tutorial': 582, 'BHAD': 583, 'accuracy': 584, 'additional': 585, 'anomalous': 586, 'assign': 587, 'bayesian': 588, 'bhad': 589, 'bin': 590, 'crucial': 591, 'detection': 592, 'detector': 593, 'distribution': 594, 'expensive': 595, 'explanation': 596, 'histogram': 597, 'indicate': 598, 'interpretability': 599, 'number': 600, 'outli': 601, 'parameter': 602, 'pattern': 603, 'prior': 604, 'prominent': 605, 'propose': 606, 'score': 607, 'simulated': 608, 'size': 609, 'soa': 610, 'straightforward': 611, 'study': 612, 'suitable': 613, 'treat': 614, 'unknown': 615, 'Airflow': 616, 'Argo': 617, 'DVC': 618, 'Jupyter': 619, 'Kubeflow': 620, 'LineaPy': 621, 'check': 622, 'contribute': 623, 'creator': 624, 'cure': 625, 'dvc': 626, 'everyday': 627, 'expedite': 628, 'favorite': 629, 'generation': 630, 'go': 631, 'good': 632, 'grade': 633, 'messy': 634, 'news': 635, 'nightmare': 636, 'notebook': 637, 'orchestration': 638, 'package': 639, 'place': 640, 'plugin': 641, 'science': 642, 'solution': 643, 'universe': 644, 'welcome': 645, 'workflow': 646, 'OpenAI': 647, 'add': 648, 'annotation': 649, 'benefit': 650, 'control': 651, 'decision': 652, 'gather': 653, 'initial': 654, 'maker': 655, 'normal': 656, 'replace': 657, 'runtime': 658, 'shot': 659, 'alert': 660, 'avoid': 661, 'batch': 662, 'dashboard': 663, 'depth': 664, 'essential': 665, 'face': 666, 'fatigue': 667, 'integrate': 668, 'lifecycle': 669, 'monitor': 670, 'monitoring': 671, 'prioritize': 672, 'proper': 673, 'risk': 674, 'setup': 675, 'similar': 676, 'single': 677, 'standardize': 678, 'Mamray': 679, 'consume': 680, 'important': 681, 'profile': 682, 'profiling': 683, 'Scala': 684, 'Serialization': 685, 'Typeclasses': 686, 'abstract': 687, 'construct': 688, 'contrast': 689, 'difference': 690, 'effectiveness': 691, 'elegant': 692, 'expressiveness': 693, 'informed': 694, 'mechanism': 695, 'modular': 696, 'similarity': 697, 'specify': 698, 'strength': 699, 'suited': 700, 'system': 701, 'trait': 702, 'typing': 703, 'weakness': 704, 'well': 705, 'coach': 706, 'material': 707, 'programming': 708, 'student': 709, 'teach': 710, 'text': 711, 'tutor': 712, 'baseline': 713, 'clustering': 714, 'cover': 715, 'entity': 716, 'establish': 717, 'measure': 718, 'name': 719, 'natural': 720, 'nlp': 721, 'paradigm': 722, 'recognition': 723, 'role': 724, 'search': 725, 'transfer': 726, 'weak': 727, 'DoWhy': 728, 'audience': 729, 'bit': 730, 'causal': 731, 'close': 732, 'dowhy': 733, 'govern': 734, 'lay': 735, 'pywhy': 736, 'root': 737, 'space': 738, 'typical': 739, 'zoom': 740, 'C': 741, 'Julia': 742, 'alien': 743, 'incorporate': 744, 'optimization': 745, 'today': 746, 'PyG': 747, 'analyze': 748, 'capture': 749, 'complexity': 750, 'diversity': 751, 'graph': 752, 'implement': 753, 'participant': 754, 'prepare': 755, 'table': 756, 'workshop': 757, 'AI': 758, 'Data': 759, 'PyData': 760, 'Scientist': 761, 'attend': 762, 'conference': 763, 'hype': 764, 'title': 765, 'ask': 766, 'aware': 767, 'bias': 768, 'detect': 769, 'ethic': 770, 'ethical': 771, 'lens': 772, 'mitigate': 773, 'point': 774, 'potential': 775, 'requirement': 776, 'stage': 777, 'starting': 778, 'strategy': 779, 'universal': 780, 'attractive': 781, 'bottleneck': 782, 'expressive': 783, 'lightning': 784, 'option': 785, 'portion': 786, 'program': 787, 'rust': 788, 'sensitive': 789, 'FastAPI': 790, 'OpenAPI': 791, 'community': 792, 'dark': 793, 'documentation': 794, 'educational': 795, 'exchange': 796, 'fastAPI': 797, 'great': 798, 'job': 799, 'obstacle': 800, 'people': 801, 'rest': 802, 'spot': 803, 'thrive': 804, 'view': 805, 'wish': 806, 'Components': 807, 'DBMS': 808, 'DBMSs': 809, 'Database': 810, 'Management': 811, 'Systems': 812, 'approximate': 813, 'backbone': 814, 'call': 815, 'central': 816, 'dbms': 817, 'direction': 818, 'estimation': 819, 'execute': 820, 'idea': 821, 'involve': 822, 'non': 823, 'occur': 824, 'optimizer': 825, 'outline': 826, 'overhead': 827, 'physical': 828, 'play': 829, 'relational': 830, 'render': 831, 'scheduler': 832, 'schema': 833, 'second': 834, 'tackle': 835, 'trivial': 836, 'vision': 837, 'volume': 838, 'workload': 839, 'JAX': 840, 'TPU': 841, 'TensorFlow': 842, 'alternative': 843, 'appealing': 844, 'complicated': 845, 'deepmind': 846, 'ecosystem': 847, 'getting': 848, 'idiosyncrasy': 849, 'native': 850, 'parallelization': 851, 'practise': 852, 'promising': 853, 'tip': 854, 'vectorization': 855, 'adjust': 856, 'experiment': 857, 'identification': 858, 'quantify': 859, 'quasi': 860, 'relationship': 861, 'PyLadies': 862, 'advocate': 863, 'chapter': 864, 'combat': 865, 'gap': 866, 'gender': 867, 'leadership': 868, 'panel': 869, 'pay': 870, 'representation': 871, 'design': 872, 'past': 873, 'software': 874, 'special': 875, 'Framework': 876, 'HayStack': 877, 'QA': 878, 'bot': 879, 'combination': 880, 'conversation': 881, 'document': 882, 'fine': 883, 'fuel': 884, 'innovation': 885, 'internal': 886, 'neural': 887, 'organizational': 888, 'read': 889, 'satisfy': 890, 'scieneer': 891, 'sentence': 892, 'slack': 893, 'technical': 894, 'transformer': 895, 'vector': 896, 'weaviate': 897, 'Dask': 898, 'NumPy': 899, 'actual': 900, 'change': 901, 'cluster': 902, 'computing': 903, 'course': 904, 'debugging': 905, 'diagnostic': 906, 'difficult': 907, 'distribute': 908, 'ease': 909, 'event': 910, 'fail': 911, 'hell': 912, 'hundred': 913, 'insightful': 914, 'key': 915, 'life': 916, 'logging': 917, 'move': 918, 'network': 919, 'operate': 920, 'parallel': 921, 'react': 922, 'relevant': 923, 'sanity': 924, 'slow': 925, 'storage': 926, 'success': 927, 'thing': 928, 'tooling': 929, 'wild': 930, 'worker': 931, 'Prodigy': 932, 'adaptable': 933, 'certain': 934, 'customizability': 935, 'filter': 936, 'info': 937, 'internet': 938, 'overwhelming': 939, 'page': 940, 'personal': 941, 'personalized': 942, 'power': 943, 'sacrifice': 944, 'scriptable': 945, 'spaCy': 946, 'summary': 947, 'think': 948, 'Auto': 949, 'Cases': 950, 'Cloud': 951, 'Computer': 952, 'DHL': 953, 'Deep': 954, 'Deutsche': 955, 'Driven': 956, 'Group': 957, 'Kubernetes': 958, 'Networks': 959, 'Neural': 960, 'Platforms': 961, 'Post': 962, 'Solvers': 963, 'TSP': 964, 'Tooling': 965, 'Use': 966, 'Vision': 967, 'agile': 968, 'area': 969, 'buzzword': 970, 'challenging': 971, 'combine': 972, 'fancy': 973, 'fill': 974, 'german': 975, 'international': 976, 'mode': 977, 'motivated': 978, 'nice': 979, 'operation': 980, 'organize': 981, 'passion': 982, 'plane': 983, 'rusty': 984, 'scene': 985, 'self': 986, 'skill': 987, 'slide': 988, 'small': 989, 'timeserie': 990, 'truck': 991, 'van': 992, 'yellow': 993, 'young': 994, 'enabler': 995, 'examine': 996, 'field': 997, 'infrastructure': 998, 'optimize': 999, 'streamline': 1000, 'successful': 1001, 'Connect': 1002, 'DataFrame': 1003, 'Notebooks': 1004, 'SQL': 1005, 'Spark': 1006, 'analyzer': 1007, 'bring': 1008, 'capability': 1009, 'connect': 1010, 'connectivity': 1011, 'decade': 1012, 'decoupled': 1013, 'device': 1014, 'driver': 1015, 'embed': 1016, 'extension': 1017, 'home': 1018, 'ide': 1019, 'interactive': 1020, 'logical': 1021, 'monolithic': 1022, 'outlook': 1023, 'participate': 1024, 'phone': 1025, 'plan': 1026, 'remote': 1027, 'researcher': 1028, 'separation': 1029, 'server': 1030, 'smart': 1031, 'ten': 1032, 'thousand': 1033, 'unresolved': 1034, 'Common': 1035, 'Crawl': 1036, 'Feedback': 1037, 'Human': 1038, 'Label': 1039, 'RLHF': 1040, 'Reinforcement': 1041, 'Studio': 1042, 'beg': 1043, 'direct': 1044, 'feedback': 1045, 'fraction': 1046, 'generalization': 1047, 'generative': 1048, 'massive': 1049, 'preference': 1050, 'rely': 1051, 'response': 1052, 'saying': 1053, 'toxicity': 1054, 'truthfulness': 1055, 'unsupervise': 1056, 'Javascript': 1057, 'adapt': 1058, 'fledged': 1059, 'impose': 1060, 'installation': 1061, 'intensive': 1062, 'limitation': 1063, 'load': 1064, 'local': 1065, 'main': 1066, 'module': 1067, 'operating': 1068, 'ubiquitous': 1069, 'unprecedented': 1070, 'Carl': 1071, 'Zeiss': 1072, 'aspect': 1073, 'background': 1074, 'board': 1075, 'chip': 1076, 'computer': 1077, 'consistent': 1078, 'culture': 1079, 'division': 1080, 'effort': 1081, 'energy': 1082, 'limit': 1083, 'mission': 1084, 'research': 1085, 'semiconductor': 1086, 'story': 1087, 'tell': 1088, 'coil': 1089, 'comprehensive': 1090, 'feeling': 1091, 'gut': 1092, 'scheduling': 1093, 'theory': 1094, 'turning': 1095, 'assess': 1096, 'communicate': 1097, 'compelling': 1098, 'elevate': 1099, 'grasp': 1100, 'ingredient': 1101, 'intricacy': 1102, 'join': 1103, 'let': 1104, 'opportunity': 1105, 'pass': 1106, 'ready': 1107, 'showcase': 1108, 'stakeholder': 1109, 'FastKafka': 1110, 'Kafka': 1111, 'decorator': 1112, 'define': 1113, 'interest': 1114, 'message': 1115, 'motivation': 1116, 'produce': 1117, 'receive': 1118, 'send': 1119, 'climate': 1120, 'policy': 1121, 'Ecosystem': 1122, 'inclue': 1123, 'increase': 1124, 'phase': 1125, 'principle': 1126, 'recommend': 1127, 'stake': 1128, 'Rasa': 1129, 'advance': 1130, 'assistant': 1131, 'availability': 1132, 'chat': 1133, 'chatbot': 1134, 'chit': 1135, 'concrete': 1136, 'convincing': 1137, 'depend': 1138, 'despite': 1139, 'diagnosis': 1140, 'e': 1141, 'fun': 1142, 'intelligent': 1143, 'interaction': 1144, 'medical': 1145, 'mobility': 1146, 'shopping': 1147, 'sophisticated': 1148, 'witty': 1149, 'RNN': 1150, 'annoying': 1151, 'article': 1152, 'bert': 1153, 'bet': 1154, 'blog': 1155, 'cement': 1156, 'choice': 1157, 'collection': 1158, 'deal': 1159, 'detail': 1160, 'download': 1161, 'dumb': 1162, 'enjoy': 1163, 'equal': 1164, 'feed': 1165, 'got': 1166, 'headache': 1167, 'hub': 1168, 'input': 1169, 'length': 1170, 'mediocre': 1171, 'minor': 1172, 'pretraine': 1173, 'rant': 1174, 'sequence': 1175, 'short': 1176, 'spoiler': 1177, 'token': 1178, 'turn': 1179, 'tweet': 1180, 'unsatisfying': 1181, 'workaround': 1182, 'Numpy': 1183, 'augment': 1184, 'like': 1185, 'minimize': 1186, 'orient': 1187, 'plain': 1188, 'pragmatism': 1189, 'recommendation': 1190, 'substantial': 1191, 'up': 1192, 'vectorized': 1193, 'action': 1194, 'conda': 1195, 'contract': 1196, 'en': 1197, 'encourage': 1198, 'extend': 1199, 'friendly': 1200, 'illustrate': 1201, 'manager': 1202, 'modify': 1203, 'retrofit': 1204, 'Matplotlib': 1205, 'continuous': 1206, 'convey': 1207, 'delve': 1208, 'effective': 1209, 'informative': 1210, 'static': 1211, 'valuable': 1212, 'visualisation': 1213, 'Berlin': 1214, 'Council': 1215, 'Tech': 1216, 'Workers': 1217, 'agreement': 1218, 'defend': 1219, 'employee': 1220, 'layoff': 1221, 'legal': 1222, 'mass': 1223, 'member': 1224, 'redundant': 1225, 'situation': 1226, 'termination': 1227, 'Marketing': 1228, 'PyMC': 1229, 'acquisition': 1230, 'budget': 1231, 'campaign': 1232, 'causalpy': 1233, 'customer': 1234, 'emphasis': 1235, 'estimate': 1236, 'inference': 1237, 'interplay': 1238, 'lifetime': 1239, 'medium': 1240, 'mix': 1241, 'pymc': 1242, 'BLE': 1243, 'Bluetooth': 1244, 'Bluez': 1245, 'Energy': 1246, 'Linux': 1247, 'Low': 1248, 'Stack': 1249, 'advantage': 1250, 'ble': 1251, 'communication': 1252, 'debug': 1253, 'fitness': 1254, 'health': 1255, 'lightbulb': 1256, 'private': 1257, 'property': 1258, 'robot': 1259, 'side': 1260, 'wireless': 1261, 'Django': 1262, 'GeoDjango': 1263, 'geographic': 1264, 'geospatial': 1265, 'keep': 1266, 'map': 1267, 'mind': 1268, 'content': 1269, 'detoxification': 1270, 'detoxified': 1271, 'exponential': 1272, 'fight': 1273, 'global': 1274, 'growth': 1275, 'hate': 1276, 'monolingual': 1277, 'multilingual': 1278, 'offensive': 1279, 'possibility': 1280, 'proactive': 1281, 'reuse': 1282, 'speech': 1283, 'spread': 1284, 'style': 1285, 'suggestion': 1286, 'toxic': 1287, 'uncontrolled': 1288, 'version': 1289, 'Authorities': 1290, 'BERT': 1291, 'DistilBERT': 1292, 'Inspectorate': 1293, 'LPAs': 1294, 'Lab': 1295, 'Language': 1296, 'Large': 1297, 'Local': 1298, 'Plan': 1299, 'Planning': 1300, 'React': 1301, 'RoBERTa': 1302, 'UK': 1303, 'Voilà': 1304, 'aid': 1305, 'analyse': 1306, 'average': 1307, 'consultation': 1308, 'distributed': 1309, 'encounter': 1310, 'historical': 1311, 'inform': 1312, 'investigate': 1313, 'legality': 1314, 'lpa': 1315, 'prototyping': 1316, 'reduction': 1317, 'round': 1318, 'simulation': 1319, 'soundness': 1320, 'suggest': 1321, 'xlnet': 1322, 'CD': 1323, 'CI': 1324, 'confidence': 1325, 'ship': 1326, 'FAQ': 1327, 'african': 1328, 'child': 1329, 'constrain': 1330, 'folk': 1331, 'helped': 1332, 'helpline': 1333, 'hint': 1334, 'maternal': 1335, 'parent': 1336, 'pregnant': 1337, 'setting': 1338, 'sized': 1339, 'south': 1340, 'ESDA': 1341, 'Fiona': 1342, 'Folium': 1343, 'GDAL': 1344, 'Geopandas': 1345, 'Leaflet': 1346, 'Libpysal': 1347, 'OSMnx': 1348, 'Pydeck': 1349, 'Pyproj': 1350, 'Rasterio': 1351, 'Shapely': 1352, 'Whitebox': 1353, 'beginner': 1354, 'expand': 1355, 'intermediate': 1356, 'reprojecte': 1357, 'spatial': 1358, 'accept': 1359, 'adopt': 1360, 'adrenaline': 1361, 'break': 1362, 'continue': 1363, 'contribution': 1364, 'contributor': 1365, 'cv': 1366, 'dedicate': 1367, 'excited': 1368, 'finish': 1369, 'group': 1370, 'guide': 1371, 'meeting': 1372, 'rush': 1373, 'scientific': 1374, 'wrangle': 1375, 'advanced': 1376, 'caching': 1377, 'callable': 1378, 'class': 1379, 'closure': 1380, 'comfortable': 1381, 'concern': 1382, 'cross': 1383, 'instance': 1384, 'log': 1385, 'metaclasse': 1386, 'modularity': 1387, 'permission': 1388, 'return': 1389, 'usable': 1390, 'Pydantic': 1391, 'colleague': 1392, 'criticism': 1393, 'ensemble': 1394, 'listen': 1395, 'supportive': 1396, 'typo': 1397, 'validation': 1398, 'adipisce': 1399, 'aliqua': 1400, 'consectetur': 1401, 'dolore': 1402, 'eiusmod': 1403, 'elit': 1404, 'et': 1405, 'incididunt': 1406, 'joy': 1407, 'labore': 1408, 'magna': 1409, 'meaningful': 1410, 'perfect': 1411, 'random': 1412, 'randomly': 1413, 'sed': 1414, 'tempor': 1415, 'uncertain': 1416, 'ut': 1417, 'People': 1418, 'algorithmic': 1419, 'beautiful': 1420, 'beginning': 1421, 'correspond': 1422, 'notch': 1423, 'numerical': 1424, 'safety': 1425, 'sketch': 1426, 'struggle': 1427, 'worry': 1428, 'Synthetic': 1429, 'Vault': 1430, 'administration': 1431, 'bad': 1432, 'copy': 1433, 'dormant': 1434, 'exact': 1435, 'huge': 1436, 'identifiable': 1437, 'listener': 1438, 'multi': 1439, 'owner': 1440, 'protection': 1441, 'recreate': 1442, 'statistical': 1443, 'synthesize': 1444, 'DocArray': 1445, 'SQLModel': 1446, 'beartype': 1447, 'center': 1448, 'eat': 1449, 'infiltrate': 1450, 'mypy': 1451, 'clean': 1452, 'coding': 1453, 'complain': 1454, 'maintainer': 1455, 'rewrite': 1456, 'tox': 1457, 'comment': 1458, 'disagree': 1459, 'land': 1460, 'maximum': 1461, 'pr': 1462, 'war': 1463, 'career': 1464, 'demographic': 1465, 'initiative': 1466, 'male': 1467, 'participation': 1468, 'remain': 1469, 'underrepresented': 1470, 'white': 1471, 'Amazon': 1472, 'DataFrames': 1473, 'Netflix': 1474, 'PySpark': 1475, 'amount': 1476, 'foundational': 1477, 'giant': 1478, 'introductory': 1479, 'tech': 1480, 'disk': 1481, 'lightgbm': 1482, 'pickle': 1483, 'pickled': 1484, 'scikit': 1485, 'shrink': 1486, 'generator': 1487, 'Streamlit': 1488, 'Wasm': 1489, 'app': 1490, 'convenience': 1491, 'perspective': 1492, 'port': 1493, 'stlite': 1494, 'Natural': 1495, 'detour': 1496, 'file': 1497, 'lightweight': 1498, 'microservice': 1499, 'necessary': 1500, 'running': 1501, 'shortcut': 1502, 'slim': 1503, 'speak': 1504, 'trick': 1505, 'ES': 1506, 'XLA': 1507, 'accelerator': 1508, 'asynchronous': 1509, 'auto': 1510, 'black': 1511, 'box': 1512, 'compilation': 1513, 'evolution': 1514, 'evosax': 1515, 'have': 1516, 'neuroevolution': 1517, 'roberttlange': 1518, 'throughput': 1519, 'tired': 1520, 'DAG': 1521, 'ETL': 1522, 'Modern': 1523, 'Powered': 1524, 'advent': 1525, 'begin': 1526, 'dbt': 1527, 'demand': 1528, 'demystify': 1529, 'etl': 1530, 'grow': 1531, 'hearted': 1532, 'lexicon': 1533, 'lineage': 1534, 'making': 1535, 'maturity': 1536, 'mesh': 1537, 'modelling': 1538, 'nuance': 1539, 'path': 1540, 'prescriptive': 1541, 'revenue': 1542, 'reverse': 1543, 'revolution': 1544, 'say': 1545, 'serve': 1546, 'shift': 1547, 'tax': 1548, 'trend': 1549, 'trodden': 1550, 'Monorepos': 1551, 'linter': 1552, 'styling': 1553, 'adherence': 1554, 'artificial': 1555, 'authority': 1556, 'consumer': 1557, 'contemporary': 1558, 'deviate': 1559, 'fair': 1560, 'fairness': 1561, 'guarantee': 1562, 'guideline': 1563, 'impartial': 1564, 'influence': 1565, 'intelligence': 1566, 'misunderstood': 1567, 'ought': 1568, 'prejudicial': 1569, 'responsible': 1570, 'uphold': 1571, 'word': 1572, 'LangChain': 1573, 'Twitter': 1574, 'agent': 1575, 'chatgpt': 1576, 'joke': 1577, 'prompt': 1578, 'abstraction': 1579, 'asynchronicity': 1580, 'awake': 1581, 'commerce': 1582, 'connected': 1583, 'economy': 1584, 'error': 1585, 'external': 1586, 'import': 1587, 'island': 1588, 'isolate': 1589, 'item': 1590, 'masse': 1591, 'pesky': 1592, 'route': 1593, 'ruler': 1594, 'sea': 1595, 'succeed': 1596, 'trade': 1597, 'treacherous': 1598, 'Differential': 1599, 'Privacy': 1600, 'PyDP': 1601, 'assimilate': 1602, 'claim': 1603, 'cybersecurity': 1604, 'era': 1605, 'hot': 1606, 'leak': 1607, 'misuse': 1608, 'preserve': 1609, 'privacy': 1610, 'Asynchronicity': 1611, 'IO': 1612, 'POST': 1613, 'completion': 1614, 'enhance': 1615, 'execution': 1616, 'failure': 1617, 'heavy': 1618, 'improved': 1619, 'notify': 1620, 'numerous': 1621, 'primary': 1622, 'respond': 1623, 'responsiveness': 1624, 'thread': 1625, 'website': 1626, 'Code': 1627, 'Conduct': 1628, 'Foundation': 1629, 'Software': 1630, 'spectrum': 1631, 'true': 1632, 'unbalanced': 1633, 'vote': 1634, 'CNN': 1635, 'DINO': 1636, 'Milvus': 1637, 'SSL': 1638, 'classical': 1639, 'distance': 1640, 'embedding': 1641, 'evolutionary': 1642, 'extractor': 1643, 'index': 1644, 'label': 1645, 'retrieval': 1646, 'supervise': 1647, 'vit': 1648, 'Analysis': 1649, 'Geometric': 1650, 'TDA': 1651, 'Topological': 1652, 'academic': 1653, 'bench': 1654, 'bubble': 1655, 'couple': 1656, 'element': 1657, 'emerge': 1658, 'encode': 1659, 'euclidean': 1660, 'extent': 1661, 'geometric': 1662, 'geometry': 1663, 'intersection': 1664, 'movement': 1665, 'originate': 1666, 'review': 1667, 'school': 1668, 'shape': 1669, 'tda': 1670, 'topology': 1671, 'Classic': 1672, 'JupyterLab': 1673, 'Notebook': 1674, 'decide': 1675, 'interface': 1676, 'popularity': 1677, 'unchanged': 1678, 'Dynamic': 1679, 'Pricing': 1680, 'brief': 1681, 'criterion': 1682, 'fulfil': 1683, 'price': 1684, 'purchase': 1685, 'ride': 1686, 'strike': 1687, 'accelerated': 1688, 'interchange': 1689, 'Zarr': 1690, 'array': 1691, 'chunked': 1692, 'compressed': 1693, 'dimensional': 1694, 'format': 1695, 'interoperate': 1696, 'n': 1697, 'spec': 1698, 'systematic': 1699, 'zarr': 1700, 'Mutation': 1701, 'coverage': 1702, 'mutant': 1703, 'penguin': 1704, 'target': 1705, 'Magic': 1706, 'commodity': 1707, 'compound': 1708, 'compression': 1709, 'counterpart': 1710, 'dense': 1711, 'distillation': 1712, 'drop': 1713, 'forget': 1714, 'gpu': 1715, 'hardware': 1716, 'magnitude': 1717, 'noticeable': 1718, 'order': 1719, 'pruning': 1720, 'quantization': 1721, 'sparsity': 1722, 'specialized': 1723, 'speedup': 1724, 'unstructured': 1725, 'Answering': 1726, 'Question': 1727, 'haystack': 1728, 'sustainability': 1729, 'anchor': 1730, 'hinge': 1731, 'output': 1732, 'robustness': 1733, 'sound': 1734, 'Engineers': 1735, 'Feast': 1736, 'MLflow': 1737, 'SaaS': 1738, 'Scientists': 1739, 'Terraform': 1740, 'accessible': 1741, 'associate': 1742, 'eliminate': 1743, 'entire': 1744, 'innovative': 1745, 'lock': 1746, 'maintainable': 1747, 'maintenance': 1748, 'novel': 1749, 'vendor': 1750, 'catalog': 1751, 'host': 1752, 'migration': 1753, 'overall': 1754, 'DevOps': 1755, 'Discover': 1756, 'IfC': 1757, 'Infrastructure': 1758, 'automation': 1759, 'empower': 1760, 'revolutionize': 1761, 'strategic': 1762, 'sustainable': 1763, 'template': 1764, 'Application': 1765, 'Security': 1766, 'age': 1767, 'bore': 1768, 'devs': 1769, 'ignore': 1770, 'myth': 1771, 'piece': 1772, 'scary': 1773, 'transition': 1774, 'writing': 1775, 'JupyterLite': 1776, 'asset': 1777, 'instal': 1778, 'jupyter': 1779, 'multimedia': 1780, 'mature': 1781, 'planner': 1782, 'put': 1783, 'warming': 1784, 'block': 1785, 'brick': 1786, 'enrich': 1787, 'intimidating': 1788, 'programmer': 1789, 'Dependency': 1790, 'Injection': 1791, 'Ports': 1792, 'Repository': 1793, 'Unit': 1794, 'Work': 1795, 'applicable': 1796, 'enterprise': 1797, 'famous': 1798, 'matter': 1799, 'testable': 1800, 'tie': 1801, 'varied': 1802, 'Products': 1803, 'amplify': 1804, 'biased': 1805, 'confirm': 1806, 'consequence': 1807, 'original': 1808, 'reflect': 1809, 'unchecked': 1810, 'Arxiv': 1811, 'Microsoft': 1812, 'attract': 1813, 'exciting': 1814, 'explode': 1815, 'institution': 1816, 'paper': 1817, 'posit': 1818, 'publish': 1819, 'talent': 1820, 'translate': 1821}\n"
     ]
    }
   ],
   "source": [
    "print(dictionary.token2id)"
   ]
  },
  {
   "cell_type": "code",
   "execution_count": 40,
   "id": "d9808355-c2ef-4f1c-8d75-b33fae040d46",
   "metadata": {},
   "outputs": [],
   "source": [
    "# Filter out low and high frequency tokens, and limit the vocabulary to a max of 1000 words\n",
    "dictionary.filter_extremes(no_below=5, no_above=0.5, keep_n=1000)"
   ]
  },
  {
   "cell_type": "code",
   "execution_count": 44,
   "id": "48a5ce0a-6f8a-4143-a47e-0cfa178416d9",
   "metadata": {},
   "outputs": [
    {
     "data": {
      "text/plain": [
       "[[(0, 1), (1, 1), (2, 1), (3, 1), (4, 1), (5, 3), (6, 1), (7, 1), (8, 1)],\n",
       " [(1, 1), (3, 1), (4, 1), (9, 1), (10, 1), (11, 1), (12, 1), (13, 1), (14, 3)],\n",
       " [(9, 3),\n",
       "  (13, 1),\n",
       "  (15, 2),\n",
       "  (16, 1),\n",
       "  (17, 1),\n",
       "  (18, 2),\n",
       "  (19, 1),\n",
       "  (20, 2),\n",
       "  (21, 1),\n",
       "  (22, 2),\n",
       "  (23, 1),\n",
       "  (24, 1),\n",
       "  (25, 1),\n",
       "  (26, 1),\n",
       "  (27, 1),\n",
       "  (28, 2)]]"
      ]
     },
     "execution_count": 44,
     "metadata": {},
     "output_type": "execute_result"
    }
   ],
   "source": [
    "# Build Bag of Word, use function doc2bow() to count the frequency of each word,\n",
    "# format = list of `(token_id, token_count)` tuples.\n",
    "BoW = [dictionary.doc2bow(abstract) for abstract in df['tokens']]\n",
    "BoW[:3]"
   ]
  },
  {
   "cell_type": "markdown",
   "id": "69aa6a86-46b4-411d-9899-ac8c9dc6bb9d",
   "metadata": {
    "scrolled": true
   },
   "source": [
    "### Build Model"
   ]
  },
  {
   "cell_type": "code",
   "execution_count": 48,
   "id": "c6df36db-f6d3-4aa8-8c0d-52b67daa1367",
   "metadata": {},
   "outputs": [],
   "source": [
    "# lda_model = LdaMulticore(corpus=BoW, id2word=dictionary, iterations=50,\n",
    "#                         num_topics=10, workers=4, passes=10)"
   ]
  },
  {
   "cell_type": "markdown",
   "id": "e0eb72dd-c14f-4d73-872b-6a41dbbc680f",
   "metadata": {},
   "source": [
    "Get the optimal number of topics<br>\n",
    "Metric - coherence score: the degree of semantic similarity between high scoring words in each topic"
   ]
  },
  {
   "cell_type": "code",
   "execution_count": 49,
   "id": "0df87baa-aa2a-47b1-9dad-e98faca292b6",
   "metadata": {},
   "outputs": [
    {
     "data": {
      "image/png": "[encoded data removed]",
      "text/plain": [
       "<Figure size 640x480 with 1 Axes>"
      ]
     },
     "metadata": {},
     "output_type": "display_data"
    }
   ],
   "source": [
    "# Iterate different number of topics and save the score in the lists\n",
    "topics = []\n",
    "score = []\n",
    "for i in range(1,20,1):\n",
    "    lda_model = LdaMulticore(corpus=BoW, id2word=dictionary, iterations=10, num_topics=i, workers = 4, passes=10, random_state=100)\n",
    "    cm = CoherenceModel(model=lda_model, corpus=BoW, dictionary=dictionary, coherence='u_mass')\n",
    "    topics.append(i)\n",
    "    score.append(cm.get_coherence())\n",
    "_=plt.plot(topics, score)\n",
    "_=plt.xlabel('Number of Topics')\n",
    "_=plt.ylabel('Coherence Score(C_umass)')\n",
    "plt.show()"
   ]
  },
  {
   "cell_type": "code",
   "execution_count": null,
   "id": "10b2f9b9-b1fa-4270-83ea-1f546ade391c",
   "metadata": {
    "scrolled": true
   },
   "outputs": [],
   "source": [
    "topics = []\n",
    "score = []\n",
    "for i in range(1,20,1):\n",
    "    lda_model = LdaMulticore(corpus=BoW, id2word=dictionary, iterations=10, num_topics=i, workers = 4, passes=10, random_state=100)\n",
    "    cm = CoherenceModel(model=lda_model, texts = df['tokens'], corpus=BoW, dictionary=dictionary, coherence='c_v')\n",
    "    topics.append(i)\n",
    "    score.append(cm.get_coherence())"
   ]
  },
  {
   "cell_type": "code",
   "execution_count": 58,
   "id": "4c496b2f-d3e2-45a1-8cc8-c1701217a28b",
   "metadata": {},
   "outputs": [
    {
     "data": {
      "image/png": "[encoded data removed]",
      "text/plain": [
       "<Figure size 640x480 with 1 Axes>"
      ]
     },
     "metadata": {},
     "output_type": "display_data"
    }
   ],
   "source": [
    "_=plt.plot(topics, score)\n",
    "_=plt.xlabel('Number of Topics')\n",
    "_=plt.ylabel('Coherence Score(C_v)')\n",
    "plt.savefig('Coherence_Score.png')\n",
    "plt.show()"
   ]
  },
  {
   "cell_type": "code",
   "execution_count": 60,
   "id": "25148676-37fa-4ae3-8842-1d0df8d7b050",
   "metadata": {},
   "outputs": [],
   "source": [
    "# Choose the number 3 with the highest coherence score \n",
    "lda_model = LdaMulticore(corpus=BoW, id2word=dictionary, iterations=100, num_topics=3, workers = 4, passes=100)"
   ]
  },
  {
   "cell_type": "code",
   "execution_count": 61,
   "id": "452f1616-1f4c-4e2d-9623-1b19c67a7698",
   "metadata": {},
   "outputs": [
    {
     "data": {
      "text/plain": [
       "[(0,\n",
       "  '0.088*\"model\" + 0.044*\"machine\" + 0.039*\"datum\" + 0.033*\"learning\" + 0.033*\"learn\" + 0.025*\"ML\" + 0.017*\"production\" + 0.015*\"challenge\" + 0.012*\"tool\" + 0.011*\"scale\"'),\n",
       " (1,\n",
       "  '0.055*\"datum\" + 0.029*\"Python\" + 0.029*\"use\" + 0.023*\"source\" + 0.023*\"open\" + 0.021*\"new\" + 0.019*\"tool\" + 0.017*\"library\" + 0.016*\"work\" + 0.014*\"data\"'),\n",
       " (2,\n",
       "  '0.036*\"Python\" + 0.033*\"performance\" + 0.033*\"code\" + 0.028*\"application\" + 0.019*\"use\" + 0.019*\"task\" + 0.018*\"time\" + 0.016*\"write\" + 0.015*\"learn\" + 0.014*\"build\"')]"
      ]
     },
     "execution_count": 61,
     "metadata": {},
     "output_type": "execute_result"
    }
   ],
   "source": [
    "lda_model.print_topics(-1)"
   ]
  },
  {
   "cell_type": "code",
   "execution_count": 62,
   "id": "7d2f1665-2cf5-4272-b3fe-518d57cf5ae3",
   "metadata": {},
   "outputs": [
    {
     "data": {
      "text/plain": [
       "'Pandas has reached a 2.0 milestone in 2023. But what does that mean? And what is coming after 2.0? This talk will give an overview of what happened in the latest releases of pandas and highlight some topics and major new features the pandas project is working on.'"
      ]
     },
     "execution_count": 62,
     "metadata": {},
     "output_type": "execute_result"
    }
   ],
   "source": [
    "df['abstract'][0]"
   ]
  },
  {
   "cell_type": "code",
   "execution_count": 63,
   "id": "d3accf21-3733-4ba0-9c93-26076332cd25",
   "metadata": {},
   "outputs": [
    {
     "data": {
      "text/plain": [
       "[(0, 0.028464478), (1, 0.9422636), (2, 0.029271865)]"
      ]
     },
     "execution_count": 63,
     "metadata": {},
     "output_type": "execute_result"
    }
   ],
   "source": [
    "lda_model[BoW][0]"
   ]
  },
  {
   "cell_type": "code",
   "execution_count": 64,
   "id": "02e3ab19-adaa-4541-9040-1516f54e811d",
   "metadata": {},
   "outputs": [
    {
     "data": {
      "text/html": [
       "\n",
       "<link rel=\"stylesheet\" type=\"text/css\" href=\"https://cdn.jsdelivr.net/gh/bmabey/pyLDAvis@3.4.0/pyLDAvis/js/ldavis.v1.0.0.css\">\n",
       "\n",
       "\n",
       "<div id=\"ldavis_el609955413295207877344274\" style=\"background-color:white;\"></div>\n",
       "<script type=\"text/javascript\">\n",
       "\n",
       "var ldavis_el609955413295207877344274_data = {\"mdsDat\": {\"x\": [0.041773237637680434, -0.16681001015377594, 0.12503677251609555], \"y\": [-0.12122158100577947, 0.03458437076384917, 0.08663721024193033], \"topics\": [1, 2, 3], \"cluster\": [1, 1, 1], \"Freq\": [46.33510633286511, 28.446320077234372, 25.218573589900515]}, \"tinfo\": {\"Term\": [\"model\", \"machine\", \"performance\", \"Python\", \"learning\", \"code\", \"ML\", \"application\", \"open\", \"source\", \"use\", \"production\", \"task\", \"write\", \"learn\", \"Rust\", \"time\", \"cost\", \"datum\", \"challenge\", \"new\", \"approach\", \"scale\", \"speed\", \"question\", \"tutorial\", \"tool\", \"library\", \"data\", \"explore\", \"open\", \"tutorial\", \"source\", \"panda\", \"user\", \"lot\", \"Apache\", \"Jupyter\", \"design\", \"Data\", \"PyData\", \"deep\", \"require\", \"day\", \"computing\", \"memory\", \"pitfall\", \"exist\", \"standard\", \"gain\", \"implementation\", \"highlight\", \"ease\", \"integration\", \"community\", \"organization\", \"past\", \"new\", \"creation\", \"combine\", \"library\", \"create\", \"use\", \"datum\", \"tool\", \"data\", \"Python\", \"work\", \"support\", \"text\", \"project\", \"case\", \"provide\", \"good\", \"application\", \"language\", \"build\", \"year\", \"feature\", \"developer\", \"look\", \"learn\", \"code\", \"problem\", \"processing\", \"model\", \"machine\", \"ML\", \"scale\", \"question\", \"prediction\", \"MLOps\", \"business\", \"tune\", \"production\", \"face\", \"discover\", \"learning\", \"deploy\", \"choose\", \"answer\", \"enable\", \"nlp\", \"ensure\", \"training\", \"challenge\", \"lifecycle\", \"deployment\", \"help\", \"practical\", \"include\", \"leverage\", \"service\", \"solution\", \"focus\", \"development\", \"learn\", \"high\", \"datum\", \"real\", \"science\", \"tool\", \"example\", \"large\", \"provide\", \"project\", \"know\", \"Rust\", \"speed\", \"cost\", \"query\", \"reason\", \"avoid\", \"significant\", \"performance\", \"write\", \"idea\", \"change\", \"well\", \"fast\", \"issue\", \"set\", \"manage\", \"potential\", \"attendee\", \"database\", \"complex\", \"algorithm\", \"cloud\", \"code\", \"show\", \"technique\", \"compare\", \"explore\", \"web\", \"approach\", \"benefit\", \"time\", \"task\", \"application\", \"Python\", \"framework\", \"test\", \"world\", \"use\", \"build\", \"discuss\", \"learn\", \"base\", \"data\", \"process\", \"large\"], \"Freq\": [79.0, 40.0, 30.0, 70.0, 36.0, 38.0, 23.0, 41.0, 33.0, 34.0, 57.0, 16.0, 23.0, 15.0, 54.0, 10.0, 22.0, 10.0, 119.0, 18.0, 34.0, 17.0, 10.0, 9.0, 9.0, 16.0, 38.0, 31.0, 29.0, 16.0, 32.60266510623801, 16.19337846154275, 33.24942213246888, 13.37849460540008, 14.226070483794738, 12.436088012972661, 10.576417666078854, 9.63607109185481, 8.682032048300501, 9.534776113264096, 7.773229418829256, 7.760271998394781, 7.758872449171809, 7.753909189397401, 7.704345124548535, 6.834847454268184, 5.883612884288855, 6.70301838329247, 5.859493336518216, 5.795046211257421, 6.6137005359781345, 4.9523368403145085, 4.950997089402072, 4.933859498304746, 13.098278378450612, 4.860119782775918, 4.844254417532503, 29.881347465022177, 4.811963665789144, 5.329911099780758, 25.049254276935564, 18.1394802114581, 41.76264556580234, 78.82212847616066, 27.55649127887142, 20.843785569272274, 41.785849997854456, 23.394434800874315, 8.257474793759771, 8.781285149748339, 17.384802688207458, 16.10978311097928, 14.03216673513687, 9.710280795228798, 19.48050637325889, 13.069489187329202, 15.63507187117789, 9.724092861180134, 11.245547995034517, 9.657456714619078, 10.621674908786936, 13.63224638453658, 12.260825211814618, 9.97331542221195, 9.777266325177248, 78.29326540257796, 39.403080217729176, 22.24068995491667, 9.567919792260525, 8.61206598333962, 6.816657824042735, 6.805556444592137, 6.787829216736865, 5.868880183080187, 15.026473801749427, 4.965045244635838, 4.6366250016070545, 29.633282213464177, 6.663582287531863, 4.381051554317676, 8.024590866106472, 5.736782306188817, 6.32608269760429, 4.780810112253149, 6.7563412777579, 13.449431958325006, 5.359724796694032, 4.656374674505475, 7.261094969048105, 8.186921883318586, 7.492706381868464, 7.172846571631948, 6.233625651039601, 5.6224392940725405, 5.628205923014664, 8.863719525418913, 29.079913530240365, 7.488941985893799, 34.107902478509565, 8.01609189452396, 7.189724067325504, 10.378832393907945, 6.870674802573342, 7.918085601953663, 7.65077306360106, 7.730934155792662, 6.971757043070778, 10.33090023894503, 8.454308308804151, 10.025259227128315, 6.67790943712656, 5.736630199294216, 4.817319594848913, 4.806883991170744, 26.093065393200664, 12.758057022298186, 6.684569324787731, 7.413633209691771, 6.569331180767896, 6.383862159024414, 7.758135024384461, 6.256973234152126, 4.811059402839711, 4.608815597064097, 3.8116699756501533, 6.960378340358952, 5.669622484861012, 8.17299205030644, 6.886053233431788, 26.02637875176145, 5.3985845847255085, 8.960410037650828, 5.352649571065143, 10.585345101378712, 7.646020576850553, 11.05021637700654, 5.7710629009353385, 13.846039557561179, 14.787996047312504, 21.71703941875479, 28.236680348305075, 7.877582954630706, 8.006975371207824, 8.938343765893176, 15.146215504545596, 11.379792320033388, 8.833069123916843, 12.102376966546224, 7.777245815575585, 8.522960151006114, 7.462343420335478, 7.098185209773954], \"Total\": [79.0, 40.0, 30.0, 70.0, 36.0, 38.0, 23.0, 41.0, 33.0, 34.0, 57.0, 16.0, 23.0, 15.0, 54.0, 10.0, 22.0, 10.0, 119.0, 18.0, 34.0, 17.0, 10.0, 9.0, 9.0, 16.0, 38.0, 31.0, 29.0, 16.0, 33.64053483382098, 16.818486146527963, 34.57404594722495, 14.013858391670025, 14.947134850019296, 13.079336570683994, 11.209493521448827, 10.274577664336233, 9.339689170791125, 10.273841424002061, 8.405137072300722, 8.404940908926225, 8.404779399369547, 8.405147783902992, 8.404354932145365, 7.470041079043168, 6.535474794178027, 7.469601223413824, 6.534616296214966, 6.53391656532741, 7.464991823221555, 5.60026782401677, 5.600518179089114, 5.599650997977775, 14.920242053329458, 5.599718383091633, 5.599850093077788, 34.571974248506464, 5.598497302304512, 6.53392008845408, 31.63286754094145, 23.280579614690584, 57.59277594116247, 119.4432262890132, 38.301226712107045, 29.70820288103159, 70.36583348300421, 35.34868861832176, 10.24319434849718, 11.206489122396848, 28.87571662742569, 26.076135141003615, 22.40522897033147, 13.074599324694386, 41.54332748620142, 23.211146323622323, 33.36871993078074, 14.007525529603242, 19.494820810204974, 13.926431052087322, 17.66229805533256, 54.81453688132317, 38.63516173005064, 22.28722770768533, 16.668172166155635, 79.32149172307257, 40.123821415728685, 23.317094391297996, 10.259101953339746, 9.326239641696954, 7.459361915514107, 7.459332212948068, 7.458640972725229, 6.525663002746863, 16.76762744136606, 5.592989394772086, 5.585645040591049, 36.259782563829255, 8.369251100552157, 5.592820792429823, 10.262040314499671, 7.457760905298452, 8.370184619586269, 6.501703412202868, 9.28552498116257, 18.666016155170585, 7.461813041365093, 6.499603461517396, 10.2106826255494, 12.128141377544424, 11.197240891431427, 11.19810440480429, 10.215272999003933, 9.309212702853834, 9.329045406431154, 14.934350072885977, 54.81453688132317, 12.975643310841313, 119.4432262890132, 15.870174585262683, 14.934557698039187, 38.301226712107045, 13.998436190365018, 24.120976131841424, 22.40522897033147, 28.87571662742569, 17.639726743890257, 10.968550864131661, 9.14390554252524, 10.975591829179328, 7.317169353416603, 6.404911030892057, 5.49218304504668, 5.49241304432894, 30.214567925489074, 15.58407758427062, 8.251602432170506, 9.168731141743454, 8.254369464025189, 8.256911525032852, 10.094111054083813, 8.26007167174548, 6.425508244691588, 6.431888434971908, 5.516364258122756, 10.110586369242, 8.275885983796883, 11.95178501403168, 10.112212694853977, 38.63516173005064, 8.282602776849721, 13.801521064718825, 8.283730052392198, 16.568418818749958, 11.967769971709911, 17.494524412364854, 9.203891944219018, 22.09149352591404, 23.948517335077415, 41.54332748620142, 70.36583348300421, 13.827917889557988, 14.756301886780893, 18.47887494240799, 57.59277594116247, 33.36871993078074, 21.280650128614347, 54.81453688132317, 15.697898226365306, 29.70820288103159, 20.379528616825738, 24.120976131841424], \"Category\": [\"Default\", \"Default\", \"Default\", \"Default\", \"Default\", \"Default\", \"Default\", \"Default\", \"Default\", \"Default\", \"Default\", \"Default\", \"Default\", \"Default\", \"Default\", \"Default\", \"Default\", \"Default\", \"Default\", \"Default\", \"Default\", \"Default\", \"Default\", \"Default\", \"Default\", \"Default\", \"Default\", \"Default\", \"Default\", \"Default\", \"Topic1\", \"Topic1\", \"Topic1\", \"Topic1\", \"Topic1\", \"Topic1\", \"Topic1\", \"Topic1\", \"Topic1\", \"Topic1\", \"Topic1\", \"Topic1\", \"Topic1\", \"Topic1\", \"Topic1\", \"Topic1\", \"Topic1\", \"Topic1\", \"Topic1\", \"Topic1\", \"Topic1\", \"Topic1\", \"Topic1\", \"Topic1\", \"Topic1\", \"Topic1\", \"Topic1\", \"Topic1\", \"Topic1\", \"Topic1\", \"Topic1\", \"Topic1\", \"Topic1\", \"Topic1\", \"Topic1\", \"Topic1\", \"Topic1\", \"Topic1\", \"Topic1\", \"Topic1\", \"Topic1\", \"Topic1\", \"Topic1\", \"Topic1\", \"Topic1\", \"Topic1\", \"Topic1\", \"Topic1\", \"Topic1\", \"Topic1\", \"Topic1\", \"Topic1\", \"Topic1\", \"Topic1\", \"Topic1\", \"Topic2\", \"Topic2\", \"Topic2\", \"Topic2\", \"Topic2\", \"Topic2\", \"Topic2\", \"Topic2\", \"Topic2\", \"Topic2\", \"Topic2\", \"Topic2\", \"Topic2\", \"Topic2\", \"Topic2\", \"Topic2\", \"Topic2\", \"Topic2\", \"Topic2\", \"Topic2\", \"Topic2\", \"Topic2\", \"Topic2\", \"Topic2\", \"Topic2\", \"Topic2\", \"Topic2\", \"Topic2\", \"Topic2\", \"Topic2\", \"Topic2\", \"Topic2\", \"Topic2\", \"Topic2\", \"Topic2\", \"Topic2\", \"Topic2\", \"Topic2\", \"Topic2\", \"Topic2\", \"Topic2\", \"Topic2\", \"Topic3\", \"Topic3\", \"Topic3\", \"Topic3\", \"Topic3\", \"Topic3\", \"Topic3\", \"Topic3\", \"Topic3\", \"Topic3\", \"Topic3\", \"Topic3\", \"Topic3\", \"Topic3\", \"Topic3\", \"Topic3\", \"Topic3\", \"Topic3\", \"Topic3\", \"Topic3\", \"Topic3\", \"Topic3\", \"Topic3\", \"Topic3\", \"Topic3\", \"Topic3\", \"Topic3\", \"Topic3\", \"Topic3\", \"Topic3\", \"Topic3\", \"Topic3\", \"Topic3\", \"Topic3\", \"Topic3\", \"Topic3\", \"Topic3\", \"Topic3\", \"Topic3\", \"Topic3\", \"Topic3\", \"Topic3\", \"Topic3\", \"Topic3\", \"Topic3\"], \"logprob\": [30.0, 29.0, 28.0, 27.0, 26.0, 25.0, 24.0, 23.0, 22.0, 21.0, 20.0, 19.0, 18.0, 17.0, 16.0, 15.0, 14.0, 13.0, 12.0, 11.0, 10.0, 9.0, 8.0, 7.0, 6.0, 5.0, 4.0, 3.0, 2.0, 1.0, -3.79, -4.4898, -3.7704, -4.6807, -4.6193, -4.7538, -4.9158, -5.0089, -5.1131, -5.0194, -5.2237, -5.2254, -5.2256, -5.2262, -5.2326, -5.3524, -5.5022, -5.3718, -5.5063, -5.5174, -5.3852, -5.6745, -5.6748, -5.6783, -4.7019, -5.6933, -5.6966, -3.8772, -5.7033, -5.6011, -4.0535, -4.3763, -3.5424, -2.9072, -3.9582, -4.2373, -3.5418, -4.1219, -5.1633, -5.1018, -4.4188, -4.495, -4.633, -5.0012, -4.305, -4.7041, -4.5249, -4.9998, -4.8544, -5.0067, -4.9115, -4.662, -4.768, -4.9745, -4.9943, -2.4261, -3.1127, -3.6846, -4.5281, -4.6333, -4.8671, -4.8688, -4.8714, -5.0168, -4.0767, -5.1841, -5.2525, -3.3976, -4.8899, -5.3092, -4.704, -5.0396, -4.9418, -5.2219, -4.876, -4.1876, -5.1076, -5.2483, -4.804, -4.684, -4.7726, -4.8162, -4.9566, -5.0597, -5.0587, -4.6045, -3.4165, -4.7731, -3.257, -4.7051, -4.8139, -4.4467, -4.8592, -4.7174, -4.7517, -4.7413, -4.8446, -4.3309, -4.5314, -4.361, -4.7673, -4.9192, -5.0939, -5.096, -3.4044, -4.1199, -4.7663, -4.6628, -4.7837, -4.8123, -4.6173, -4.8324, -5.0952, -5.1381, -5.328, -4.7258, -4.931, -4.5652, -4.7366, -3.407, -4.9799, -4.4733, -4.9885, -4.3066, -4.6319, -4.2636, -4.9132, -4.0381, -3.9723, -3.588, -3.3255, -4.6021, -4.5858, -4.4757, -3.9483, -4.2342, -4.4876, -4.1727, -4.6149, -4.5233, -4.6562, -4.7062], \"loglift\": [30.0, 29.0, 28.0, 27.0, 26.0, 25.0, 24.0, 23.0, 22.0, 21.0, 20.0, 19.0, 18.0, 17.0, 16.0, 15.0, 14.0, 13.0, 12.0, 11.0, 10.0, 9.0, 8.0, 7.0, 6.0, 5.0, 4.0, 3.0, 2.0, 1.0, 0.7379, 0.7314, 0.7302, 0.7229, 0.7198, 0.7188, 0.7111, 0.7051, 0.6963, 0.6946, 0.6911, 0.6895, 0.6893, 0.6886, 0.6823, 0.6804, 0.6642, 0.661, 0.6602, 0.6493, 0.6482, 0.6463, 0.646, 0.6427, 0.639, 0.6276, 0.6243, 0.6235, 0.6179, 0.5656, 0.5359, 0.5197, 0.4479, 0.3536, 0.44, 0.4149, 0.2481, 0.3565, 0.5538, 0.5254, 0.2619, 0.2877, 0.3013, 0.4718, 0.0119, 0.1949, 0.0112, 0.4043, 0.2191, 0.4032, 0.2607, -0.6222, -0.3785, -0.0348, 0.2358, 1.2441, 1.239, 1.2099, 1.1874, 1.1775, 1.1671, 1.1654, 1.1629, 1.1511, 1.1475, 1.1381, 1.0709, 1.0553, 1.0292, 1.013, 1.0112, 0.9948, 0.9772, 0.9497, 0.9392, 0.9294, 0.9263, 0.9236, 0.9162, 0.8642, 0.8554, 0.8117, 0.7632, 0.7529, 0.7518, 0.7355, 0.6232, 0.7075, 0.0038, 0.5742, 0.5261, -0.0486, 0.5455, 0.1432, 0.1827, -0.0606, 0.3289, 1.3177, 1.2992, 1.287, 1.2862, 1.2674, 1.2465, 1.2443, 1.2309, 1.1775, 1.167, 1.1651, 1.1493, 1.1203, 1.1144, 1.0999, 1.0882, 1.0443, 1.0079, 1.0042, 0.9994, 0.9975, 0.9933, 0.9825, 0.9496, 0.9456, 0.9409, 0.9296, 0.9296, 0.9182, 0.9108, 0.9104, 0.8955, 0.7289, 0.4645, 0.8149, 0.7662, 0.6513, 0.0419, 0.3018, 0.4983, -0.133, 0.6753, 0.1289, 0.3729, 0.1543]}, \"token.table\": {\"Topic\": [1, 1, 1, 2, 3, 2, 1, 1, 3, 3, 1, 2, 3, 1, 2, 1, 3, 1, 3, 1, 3, 3, 1, 2, 3, 2, 3, 1, 2, 3, 2, 1, 2, 3, 1, 2, 1, 3, 1, 2, 2, 3, 1, 3, 1, 2, 1, 3, 1, 3, 1, 3, 1, 1, 3, 1, 2, 3, 1, 1, 3, 2, 3, 1, 2, 3, 1, 1, 2, 3, 2, 3, 1, 1, 3, 1, 2, 2, 3, 1, 2, 3, 1, 1, 2, 2, 3, 1, 2, 3, 1, 1, 2, 3, 2, 2, 3, 1, 2, 3, 1, 2, 1, 2, 3, 1, 1, 2, 2, 3, 1, 2, 3, 1, 1, 3, 1, 3, 1, 2, 1, 1, 2, 3, 1, 2, 3, 1, 2, 3, 1, 2, 3, 1, 2, 3, 2, 3, 1, 2, 1, 3, 1, 2, 1, 2, 3, 1, 2, 2, 3, 1, 1, 2, 1, 2, 1, 2, 3, 1, 2, 1, 1, 1, 2, 3, 1, 1, 3, 1, 2, 2, 1, 2, 3, 1, 2, 3, 1, 3, 2, 3, 1, 2, 3, 1, 2, 3, 3, 2, 1, 2, 3, 1, 2, 1, 2, 1, 2, 3, 1, 2, 3, 1, 3, 3, 1, 2, 3, 1, 2, 3, 3, 1, 1, 3, 1, 3, 1, 2, 3, 1, 2, 3, 1, 2, 1, 2, 3, 1, 2, 2, 3, 2, 1, 1, 2, 3, 1, 1, 3, 1, 3, 1, 2, 3, 1, 2, 3, 1, 3, 1, 2], \"Freq\": [0.9813110627123365, 0.9733457610741096, 0.9732760145179192, 0.9435137856717886, 0.04288699025780857, 0.9384218050845424, 0.9517988738534844, 0.5968805870841345, 0.397920391389423, 0.9116974633997527, 0.08366951035564782, 0.16733902071129564, 0.6693560828451826, 0.19489301724668878, 0.7795720689867551, 0.4573538315223024, 0.529567594394245, 0.34296445325254427, 0.6287681642963311, 0.18127881938316823, 0.7251152775326729, 0.9103848067317106, 0.25481118187413304, 0.25481118187413304, 0.5096223637482661, 0.3259490678706094, 0.6518981357412188, 0.47949097337836183, 0.17980911501688568, 0.3296500441976237, 0.9385087746678801, 0.6135878616014948, 0.23009544810056054, 0.1533969654003737, 0.267866477690526, 0.6964528419953677, 0.10906634566338128, 0.763464419643669, 0.17880065124803438, 0.7152026049921375, 0.29667097504057405, 0.6922322750946728, 0.3105978974242609, 0.6729621110858987, 0.7652373968936917, 0.15304747937873833, 0.871299537469571, 0.06702304134381316, 0.36215569327173475, 0.6035928221195579, 0.24166596832239376, 0.7249979049671813, 0.9518874517544744, 0.09111125992690751, 0.9111125992690752, 0.7731766260940335, 0.08590851401044816, 0.17181702802089632, 0.8930967954457792, 0.7068754742283083, 0.30294663181213216, 0.29671869567589804, 0.6923436232437621, 0.661402094153469, 0.2846540658382018, 0.05860524884904155, 0.9517976608717214, 0.9518210879393371, 0.8363950269741791, 0.11948500385345416, 0.7692776997248846, 0.15385553994497692, 0.9636294993784733, 0.7180590606881423, 0.28722362427525694, 0.4017583604721631, 0.6026375407082447, 0.8951517620014968, 0.17903035240029938, 0.37592836457769, 0.187964182288845, 0.42291941014990125, 0.8927745326617644, 0.13408850360026137, 0.8045310216015683, 0.7690292348026269, 0.15380584696052538, 0.5000558565833253, 0.5000558565833253, 0.07143655094047505, 0.9371316875736503, 0.24142315834467715, 0.12071157917233857, 0.6639136854478622, 0.8939763062439616, 0.2422213189443183, 0.7266639568329549, 0.5642524292524822, 0.15388702615976788, 0.25647837693294645, 0.32157631025484057, 0.6431526205096811, 0.21695240194226345, 0.21695240194226345, 0.5785397385127026, 0.9182853714170964, 0.7648417937452738, 0.22945253812358216, 0.6855565153385967, 0.19587329009674193, 0.0770674698775426, 0.5394722891427982, 0.3082698795101704, 0.8928144433659906, 0.1211885822444986, 0.8483200757114902, 0.9377103372337137, 0.13395861960481625, 0.26792314545056534, 0.6251540060513191, 0.8929127907802952, 0.09906766377366397, 0.09906766377366397, 0.7925413101893117, 0.3401413234520867, 0.3968315440274345, 0.2834511028767389, 0.5600757420054566, 0.1723309975401405, 0.25849649631021077, 0.37311922829355787, 0.3316615362609403, 0.2902038442283228, 0.2554067004216574, 0.529056736587719, 0.21892002893284923, 0.8273629315672272, 0.16547258631344544, 0.35720331365046853, 0.6251057988883199, 0.7903172220363287, 0.18967613328871888, 0.26803137373086905, 0.6700784343271726, 0.6227955142382452, 0.16985332206497597, 0.22647109608663463, 0.9174777279527145, 0.9719911669408402, 0.15562971237740558, 0.778148561887028, 0.9370765067996956, 0.012606923776612813, 0.9833400545757994, 0.8677548983566081, 0.11570065311421442, 0.11947167780027165, 0.7168300668016299, 0.11947167780027165, 0.9809594337014818, 0.029726043445499447, 0.8929020457702864, 0.9276531585139556, 0.8928810444730854, 0.13238647032333006, 0.8605120571016455, 0.918066428065021, 0.15547533358363788, 0.7773766679181894, 0.3298114587785154, 0.6596229175570308, 0.9384180683660465, 0.44868747836913286, 0.314081234858393, 0.2692124870214797, 0.44161963552824396, 0.1962753935681084, 0.34348193874418975, 0.599945806913657, 0.4199620648395599, 0.8945809448863774, 0.059638729659091824, 0.5887299774875084, 0.27704940117059224, 0.13852470058529612, 0.6248541364401365, 0.35705950653722085, 0.044632438317152606, 0.9566540914802651, 0.9650191658985086, 0.504090232720498, 0.504090232720498, 0.936781162308251, 0.9518393785088625, 0.9747441876961367, 0.46871157094388244, 0.46871157094388244, 0.19578527173919047, 0.5873558152175714, 0.19578527173919047, 0.12106432483154042, 0.12106432483154042, 0.7263859489892426, 0.36220498324332856, 0.6036749720722143, 0.9103466836243554, 0.21484093916845187, 0.6445228175053556, 0.10742046958422594, 0.9544731921271918, 0.028923430064460357, 0.028923430064460357, 0.8748996763794947, 0.91818704083289, 0.7810063665514373, 0.19525159163785932, 0.37580614591190964, 0.6263435765198494, 0.14491156377775274, 0.21736734566662913, 0.6521020369998873, 0.135535313342407, 0.3388382833560175, 0.542141253369628, 0.803106120186469, 0.17846802670810422, 0.09053258430236666, 0.2715977529071, 0.6337280901165666, 0.7310470813497255, 0.2610882433391877, 0.7538615225526627, 0.21538900644361791, 0.9194468052478968, 0.9513341367708691, 0.7292581285352132, 0.017363288774647934, 0.260449331619719, 0.9366343543747401, 0.33423102294374185, 0.6684620458874837, 0.12114795737678995, 0.8480357016375296, 0.650660629828252, 0.14144796300614174, 0.19802714820859846, 0.4329267893707341, 0.05411584867134176, 0.4870426380420758, 0.1925041750965082, 0.8341847587515355, 0.7139019649734842, 0.2855607859893937], \"Term\": [\"Apache\", \"Data\", \"Jupyter\", \"ML\", \"ML\", \"MLOps\", \"PyData\", \"Python\", \"Python\", \"Rust\", \"algorithm\", \"algorithm\", \"algorithm\", \"answer\", \"answer\", \"application\", \"application\", \"approach\", \"approach\", \"attendee\", \"attendee\", \"avoid\", \"base\", \"base\", \"base\", \"benefit\", \"benefit\", \"build\", \"build\", \"build\", \"business\", \"case\", \"case\", \"case\", \"challenge\", \"challenge\", \"change\", \"change\", \"choose\", \"choose\", \"cloud\", \"cloud\", \"code\", \"code\", \"combine\", \"combine\", \"community\", \"community\", \"compare\", \"compare\", \"complex\", \"complex\", \"computing\", \"cost\", \"cost\", \"create\", \"create\", \"create\", \"creation\", \"data\", \"data\", \"database\", \"database\", \"datum\", \"datum\", \"datum\", \"day\", \"deep\", \"deploy\", \"deploy\", \"deployment\", \"deployment\", \"design\", \"developer\", \"developer\", \"development\", \"development\", \"discover\", \"discover\", \"discuss\", \"discuss\", \"discuss\", \"ease\", \"enable\", \"enable\", \"ensure\", \"ensure\", \"example\", \"example\", \"example\", \"exist\", \"explore\", \"explore\", \"explore\", \"face\", \"fast\", \"fast\", \"feature\", \"feature\", \"feature\", \"focus\", \"focus\", \"framework\", \"framework\", \"framework\", \"gain\", \"good\", \"good\", \"help\", \"help\", \"high\", \"high\", \"high\", \"highlight\", \"idea\", \"idea\", \"implementation\", \"implementation\", \"include\", \"include\", \"integration\", \"issue\", \"issue\", \"issue\", \"know\", \"know\", \"know\", \"language\", \"language\", \"language\", \"large\", \"large\", \"large\", \"learn\", \"learn\", \"learn\", \"learning\", \"learning\", \"leverage\", \"leverage\", \"library\", \"library\", \"lifecycle\", \"lifecycle\", \"look\", \"look\", \"look\", \"lot\", \"machine\", \"manage\", \"manage\", \"memory\", \"model\", \"model\", \"new\", \"new\", \"nlp\", \"nlp\", \"nlp\", \"open\", \"open\", \"organization\", \"panda\", \"past\", \"performance\", \"performance\", \"pitfall\", \"potential\", \"potential\", \"practical\", \"practical\", \"prediction\", \"problem\", \"problem\", \"problem\", \"process\", \"process\", \"process\", \"processing\", \"processing\", \"production\", \"production\", \"project\", \"project\", \"project\", \"provide\", \"provide\", \"provide\", \"query\", \"question\", \"real\", \"real\", \"reason\", \"require\", \"scale\", \"science\", \"science\", \"service\", \"service\", \"service\", \"set\", \"set\", \"set\", \"show\", \"show\", \"significant\", \"solution\", \"solution\", \"solution\", \"source\", \"source\", \"source\", \"speed\", \"standard\", \"support\", \"support\", \"task\", \"task\", \"technique\", \"technique\", \"technique\", \"test\", \"test\", \"test\", \"text\", \"text\", \"time\", \"time\", \"time\", \"tool\", \"tool\", \"training\", \"training\", \"tune\", \"tutorial\", \"use\", \"use\", \"use\", \"user\", \"web\", \"web\", \"well\", \"well\", \"work\", \"work\", \"work\", \"world\", \"world\", \"world\", \"write\", \"write\", \"year\", \"year\"]}, \"R\": 30, \"lambda.step\": 0.01, \"plot.opts\": {\"xlab\": \"PC1\", \"ylab\": \"PC2\"}, \"topic.order\": [2, 1, 3]};\n",
       "\n",
       "function LDAvis_load_lib(url, callback){\n",
       "  var s = document.createElement('script');\n",
       "  s.src = url;\n",
       "  s.async = true;\n",
       "  s.onreadystatechange = s.onload = callback;\n",
       "  s.onerror = function(){console.warn(\"failed to load library \" + url);};\n",
       "  document.getElementsByTagName(\"head\")[0].appendChild(s);\n",
       "}\n",
       "\n",
       "if(typeof(LDAvis) !== \"undefined\"){\n",
       "   // already loaded: just create the visualization\n",
       "   !function(LDAvis){\n",
       "       new LDAvis(\"#\" + \"ldavis_el609955413295207877344274\", ldavis_el609955413295207877344274_data);\n",
       "   }(LDAvis);\n",
       "}else if(typeof define === \"function\" && define.amd){\n",
       "   // require.js is available: use it to load d3/LDAvis\n",
       "   require.config({paths: {d3: \"https://d3js.org/d3.v5\"}});\n",
       "   require([\"d3\"], function(d3){\n",
       "      window.d3 = d3;\n",
       "      LDAvis_load_lib(\"https://cdn.jsdelivr.net/gh/bmabey/pyLDAvis@3.4.0/pyLDAvis/js/ldavis.v3.0.0.js\", function(){\n",
       "        new LDAvis(\"#\" + \"ldavis_el609955413295207877344274\", ldavis_el609955413295207877344274_data);\n",
       "      });\n",
       "    });\n",
       "}else{\n",
       "    // require.js not available: dynamically load d3 & LDAvis\n",
       "    LDAvis_load_lib(\"https://d3js.org/d3.v5.js\", function(){\n",
       "         LDAvis_load_lib(\"https://cdn.jsdelivr.net/gh/bmabey/pyLDAvis@3.4.0/pyLDAvis/js/ldavis.v3.0.0.js\", function(){\n",
       "                 new LDAvis(\"#\" + \"ldavis_el609955413295207877344274\", ldavis_el609955413295207877344274_data);\n",
       "            })\n",
       "         });\n",
       "}\n",
       "</script>"
      ],
      "text/plain": [
       "<IPython.core.display.HTML object>"
      ]
     },
     "execution_count": 64,
     "metadata": {},
     "output_type": "execute_result"
    }
   ],
   "source": [
    "# Visualize \n",
    "lda_display = pyLDAvis.gensim_models.prepare(lda_model, BoW, dictionary)\n",
    "pyLDAvis.display(lda_display)"
   ]
  },
  {
   "cell_type": "code",
   "execution_count": 65,
   "id": "f79fde2f-1480-493c-bd50-3103d523b5d9",
   "metadata": {},
   "outputs": [],
   "source": [
    "df['topic'] = [sorted(lda_model[BoW][abstract])[0][0] for abstract in range(len(df['abstract']))]"
   ]
  },
  {
   "cell_type": "code",
   "execution_count": 66,
   "id": "9697771e-2f18-406b-a004-ccbbce4e736e",
   "metadata": {},
   "outputs": [
    {
     "data": {
      "text/plain": [
       "topic\n",
       "0    108\n",
       "1      6\n",
       "2      1\n",
       "Name: count, dtype: int64"
      ]
     },
     "execution_count": 66,
     "metadata": {},
     "output_type": "execute_result"
    }
   ],
   "source": [
    "df.topic.value_counts()"
   ]
  },
  {
   "cell_type": "code",
   "execution_count": null,
   "id": "45ce56a7-7292-4640-819b-0d4549530e83",
   "metadata": {},
   "outputs": [],
   "source": []
  }
 ],
 "metadata": {
  "kernelspec": {
   "display_name": "Python 3 (ipykernel)",
   "language": "python",
   "name": "python3"
  },
  "language_info": {
   "codemirror_mode": {
    "name": "ipython",
    "version": 3
   },
   "file_extension": ".py",
   "mimetype": "text/x-python",
   "name": "python",
   "nbconvert_exporter": "python",
   "pygments_lexer": "ipython3",
   "version": "3.11.3"
  }
 },
 "nbformat": 4,
 "nbformat_minor": 5
}
