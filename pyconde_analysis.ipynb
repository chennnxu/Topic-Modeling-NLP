{
 "cells": [
  {
   "cell_type": "markdown",
   "id": "3b1e5e3a-5ddc-443f-aad3-044be9d6b27e",
   "metadata": {},
   "source": [
    "## Part 1: Session Data\n"
   ]
  },
  {
   "cell_type": "code",
   "execution_count": null,
   "id": "3b6ea534-7610-46f4-b2e4-d2cb59bb20b0",
   "metadata": {},
   "outputs": [],
   "source": [
    "# The pakages I need:\n",
    "\n",
    "# !pip install pyLDAvis -qq\n",
    "# !pip install -qq -U gensim\n",
    "# !pip install spacy -qq\n",
    "# !pip install matplotlib -qq\n",
    "# !pip install seaborn -qq\n",
    "# !python -m spacy download en_core_web_md -qq"
   ]
  },
  {
   "cell_type": "code",
   "execution_count": 9,
   "id": "f4b18cf1-7cdf-4d83-acac-711aeb01e980",
   "metadata": {},
   "outputs": [],
   "source": [
    "# import packages\n",
    "import pandas as pd\n",
    "import matplotlib.pyplot as plt\n",
    "import seaborn as sns\n",
    "sns.set()\n",
    "import spacy\n",
    "import pyLDAvis.gensim_models\n",
    "pyLDAvis.enable_notebook()\n",
    "import en_core_web_md\n",
    "from gensim.corpora.dictionary import Dictionary\n",
    "from gensim.models import LdaMulticore\n",
    "from gensim.models import CoherenceModel\n",
    "\n",
    "import warnings\n",
    "warnings.filterwarnings(\"ignore\")"
   ]
  },
  {
   "cell_type": "code",
   "execution_count": 2,
   "id": "6afcf20b-c6aa-40fc-859e-04cc4b214492",
   "metadata": {},
   "outputs": [
    {
     "data": {
      "text/html": [
       "<div>\n",
       "<style scoped>\n",
       "    .dataframe tbody tr th:only-of-type {\n",
       "        vertical-align: middle;\n",
       "    }\n",
       "\n",
       "    .dataframe tbody tr th {\n",
       "        vertical-align: top;\n",
       "    }\n",
       "\n",
       "    .dataframe thead th {\n",
       "        text-align: right;\n",
       "    }\n",
       "</style>\n",
       "<table border=\"1\" class=\"dataframe\">\n",
       "  <thead>\n",
       "    <tr style=\"text-align: right;\">\n",
       "      <th></th>\n",
       "      <th>schedule</th>\n",
       "    </tr>\n",
       "  </thead>\n",
       "  <tbody>\n",
       "    <tr>\n",
       "      <th>base_url</th>\n",
       "      <td>https://pretalx.com/pyconde-pydata-berlin-2023...</td>\n",
       "    </tr>\n",
       "    <tr>\n",
       "      <th>conference</th>\n",
       "      <td>{'acronym': 'pyconde-pydata-berlin-2023', 'tit...</td>\n",
       "    </tr>\n",
       "    <tr>\n",
       "      <th>version</th>\n",
       "      <td>1.3</td>\n",
       "    </tr>\n",
       "  </tbody>\n",
       "</table>\n",
       "</div>"
      ],
      "text/plain": [
       "                                                     schedule\n",
       "base_url    https://pretalx.com/pyconde-pydata-berlin-2023...\n",
       "conference  {'acronym': 'pyconde-pydata-berlin-2023', 'tit...\n",
       "version                                                   1.3"
      ]
     },
     "execution_count": 2,
     "metadata": {},
     "output_type": "execute_result"
    }
   ],
   "source": [
    "data = pd.read_json('schedule.json')\n",
    "data"
   ]
  },
  {
   "cell_type": "code",
   "execution_count": 4,
   "id": "169184e5-a270-42f8-8973-9255c88bc964",
   "metadata": {},
   "outputs": [
    {
     "data": {
      "text/html": [
       "<div>\n",
       "<style scoped>\n",
       "    .dataframe tbody tr th:only-of-type {\n",
       "        vertical-align: middle;\n",
       "    }\n",
       "\n",
       "    .dataframe tbody tr th {\n",
       "        vertical-align: top;\n",
       "    }\n",
       "\n",
       "    .dataframe thead th {\n",
       "        text-align: right;\n",
       "    }\n",
       "</style>\n",
       "<table border=\"1\" class=\"dataframe\">\n",
       "  <thead>\n",
       "    <tr style=\"text-align: right;\">\n",
       "      <th></th>\n",
       "      <th>day</th>\n",
       "      <th>room</th>\n",
       "      <th>id</th>\n",
       "      <th>title</th>\n",
       "      <th>track</th>\n",
       "      <th>abstract</th>\n",
       "    </tr>\n",
       "  </thead>\n",
       "  <tbody>\n",
       "  </tbody>\n",
       "</table>\n",
       "</div>"
      ],
      "text/plain": [
       "Empty DataFrame\n",
       "Columns: [day, room, id, title, track, abstract]\n",
       "Index: []"
      ]
     },
     "execution_count": 4,
     "metadata": {},
     "output_type": "execute_result"
    }
   ],
   "source": [
    "# Create a new dataframe with columns day, room, id, title, absract\n",
    "df = pd.DataFrame(columns = ['day', 'room', 'id', 'title', 'track', 'abstract'])\n",
    "df"
   ]
  },
  {
   "cell_type": "code",
   "execution_count": 5,
   "id": "870e44f6-aec0-43d2-b5db-04741fa97d9f",
   "metadata": {
    "scrolled": true
   },
   "outputs": [],
   "source": [
    "# Interate over the 3 days\n",
    "for i in range(3):\n",
    "    temp_df = {}\n",
    "    # Get day\n",
    "    temp_df['day'] = i\n",
    "    day = data['schedule'].conference['days'][i]['rooms']\n",
    "    # Get rooms\n",
    "    rooms = ['Kuppelsaal', 'B09', 'B07-B08', 'B05-B06', 'A1', 'A03-A04', 'A05-A06']\n",
    "    # Get sessions of each room\n",
    "    for room in rooms:\n",
    "        temp_df['room'] = room\n",
    "        number_sessions_room = len(day[room])\n",
    "        \n",
    "        for session in range(number_sessions_room):\n",
    "            temp_df['id'] = day[room][session]['id']\n",
    "            temp_df['title'] = day[room][session]['title']\n",
    "            temp_df['track'] = day[room][session]['track']\n",
    "            temp_df['abstract'] = day[room][session]['abstract']\n",
    "            \n",
    "            temp = pd.DataFrame([temp_df])\n",
    "            df = pd.concat([df,temp], ignore_index=True)"
   ]
  },
  {
   "cell_type": "code",
   "execution_count": 6,
   "id": "18520cb6-c3db-4439-8ff0-9f849d20d4ff",
   "metadata": {},
   "outputs": [
    {
     "data": {
      "text/html": [
       "<div>\n",
       "<style scoped>\n",
       "    .dataframe tbody tr th:only-of-type {\n",
       "        vertical-align: middle;\n",
       "    }\n",
       "\n",
       "    .dataframe tbody tr th {\n",
       "        vertical-align: top;\n",
       "    }\n",
       "\n",
       "    .dataframe thead th {\n",
       "        text-align: right;\n",
       "    }\n",
       "</style>\n",
       "<table border=\"1\" class=\"dataframe\">\n",
       "  <thead>\n",
       "    <tr style=\"text-align: right;\">\n",
       "      <th></th>\n",
       "      <th>day</th>\n",
       "      <th>room</th>\n",
       "      <th>id</th>\n",
       "      <th>title</th>\n",
       "      <th>track</th>\n",
       "      <th>abstract</th>\n",
       "    </tr>\n",
       "  </thead>\n",
       "  <tbody>\n",
       "    <tr>\n",
       "      <th>0</th>\n",
       "      <td>0</td>\n",
       "      <td>Kuppelsaal</td>\n",
       "      <td>26497</td>\n",
       "      <td>Pandas 2.0 and beyond</td>\n",
       "      <td>PyData: PyData &amp; Scientific Libraries Stack</td>\n",
       "      <td>Pandas has reached a 2.0 milestone in 2023. Bu...</td>\n",
       "    </tr>\n",
       "    <tr>\n",
       "      <th>1</th>\n",
       "      <td>0</td>\n",
       "      <td>Kuppelsaal</td>\n",
       "      <td>25390</td>\n",
       "      <td>An unbiased evaluation of environment manageme...</td>\n",
       "      <td>PyCon: Programming &amp; Software Engineering</td>\n",
       "      <td>Python packaging is quickly evolving and new t...</td>\n",
       "    </tr>\n",
       "    <tr>\n",
       "      <th>2</th>\n",
       "      <td>0</td>\n",
       "      <td>Kuppelsaal</td>\n",
       "      <td>28265</td>\n",
       "      <td>Keynote - A journey through 4 industries with ...</td>\n",
       "      <td>Plenary</td>\n",
       "      <td>In this keynote, I will share the lessons lear...</td>\n",
       "    </tr>\n",
       "    <tr>\n",
       "      <th>3</th>\n",
       "      <td>0</td>\n",
       "      <td>Kuppelsaal</td>\n",
       "      <td>26247</td>\n",
       "      <td>Raised by Pandas, striving for more: An opinio...</td>\n",
       "      <td>PyData: Data Handling</td>\n",
       "      <td>Pandas is the de-facto standard for data manip...</td>\n",
       "    </tr>\n",
       "    <tr>\n",
       "      <th>4</th>\n",
       "      <td>0</td>\n",
       "      <td>Kuppelsaal</td>\n",
       "      <td>25254</td>\n",
       "      <td>Polars - make the switch to lightning-fast dat...</td>\n",
       "      <td>PyData: Data Handling</td>\n",
       "      <td>In this talk, we will report on our experience...</td>\n",
       "    </tr>\n",
       "    <tr>\n",
       "      <th>...</th>\n",
       "      <td>...</td>\n",
       "      <td>...</td>\n",
       "      <td>...</td>\n",
       "      <td>...</td>\n",
       "      <td>...</td>\n",
       "      <td>...</td>\n",
       "    </tr>\n",
       "    <tr>\n",
       "      <th>110</th>\n",
       "      <td>2</td>\n",
       "      <td>A03-A04</td>\n",
       "      <td>25857</td>\n",
       "      <td>Most of you don't need Spark. Large-scale data...</td>\n",
       "      <td>PyData: Data Handling</td>\n",
       "      <td>The Python data ecosystem has matured during t...</td>\n",
       "    </tr>\n",
       "    <tr>\n",
       "      <th>111</th>\n",
       "      <td>2</td>\n",
       "      <td>A03-A04</td>\n",
       "      <td>30171</td>\n",
       "      <td>Contributing to an open-source content library...</td>\n",
       "      <td>PyData: Natural Language Processing</td>\n",
       "      <td>Bricks is an open-source content library for n...</td>\n",
       "    </tr>\n",
       "    <tr>\n",
       "      <th>112</th>\n",
       "      <td>2</td>\n",
       "      <td>A05-A06</td>\n",
       "      <td>26268</td>\n",
       "      <td>Building Hexagonal Python Services</td>\n",
       "      <td>PyCon: Programming &amp; Software Engineering</td>\n",
       "      <td>The importance of enterprise architecture patt...</td>\n",
       "    </tr>\n",
       "    <tr>\n",
       "      <th>113</th>\n",
       "      <td>2</td>\n",
       "      <td>A05-A06</td>\n",
       "      <td>26277</td>\n",
       "      <td>Workshop on Privilege and Ethics in Data</td>\n",
       "      <td>General: Ethics &amp; Privacy</td>\n",
       "      <td>Data-driven products are becoming more and mor...</td>\n",
       "    </tr>\n",
       "    <tr>\n",
       "      <th>114</th>\n",
       "      <td>2</td>\n",
       "      <td>A05-A06</td>\n",
       "      <td>26494</td>\n",
       "      <td>The Battle of Giants: Causality vs NLP =&gt; From...</td>\n",
       "      <td>PyData: Natural Language Processing</td>\n",
       "      <td>With an average of 3.2 new papers published on...</td>\n",
       "    </tr>\n",
       "  </tbody>\n",
       "</table>\n",
       "<p>115 rows × 6 columns</p>\n",
       "</div>"
      ],
      "text/plain": [
       "    day        room     id                                              title  \\\n",
       "0     0  Kuppelsaal  26497                              Pandas 2.0 and beyond   \n",
       "1     0  Kuppelsaal  25390  An unbiased evaluation of environment manageme...   \n",
       "2     0  Kuppelsaal  28265  Keynote - A journey through 4 industries with ...   \n",
       "3     0  Kuppelsaal  26247  Raised by Pandas, striving for more: An opinio...   \n",
       "4     0  Kuppelsaal  25254  Polars - make the switch to lightning-fast dat...   \n",
       "..   ..         ...    ...                                                ...   \n",
       "110   2     A03-A04  25857  Most of you don't need Spark. Large-scale data...   \n",
       "111   2     A03-A04  30171  Contributing to an open-source content library...   \n",
       "112   2     A05-A06  26268                 Building Hexagonal Python Services   \n",
       "113   2     A05-A06  26277           Workshop on Privilege and Ethics in Data   \n",
       "114   2     A05-A06  26494  The Battle of Giants: Causality vs NLP => From...   \n",
       "\n",
       "                                           track  \\\n",
       "0    PyData: PyData & Scientific Libraries Stack   \n",
       "1      PyCon: Programming & Software Engineering   \n",
       "2                                        Plenary   \n",
       "3                          PyData: Data Handling   \n",
       "4                          PyData: Data Handling   \n",
       "..                                           ...   \n",
       "110                        PyData: Data Handling   \n",
       "111          PyData: Natural Language Processing   \n",
       "112    PyCon: Programming & Software Engineering   \n",
       "113                    General: Ethics & Privacy   \n",
       "114          PyData: Natural Language Processing   \n",
       "\n",
       "                                              abstract  \n",
       "0    Pandas has reached a 2.0 milestone in 2023. Bu...  \n",
       "1    Python packaging is quickly evolving and new t...  \n",
       "2    In this keynote, I will share the lessons lear...  \n",
       "3    Pandas is the de-facto standard for data manip...  \n",
       "4    In this talk, we will report on our experience...  \n",
       "..                                                 ...  \n",
       "110  The Python data ecosystem has matured during t...  \n",
       "111  Bricks is an open-source content library for n...  \n",
       "112  The importance of enterprise architecture patt...  \n",
       "113  Data-driven products are becoming more and mor...  \n",
       "114  With an average of 3.2 new papers published on...  \n",
       "\n",
       "[115 rows x 6 columns]"
      ]
     },
     "execution_count": 6,
     "metadata": {},
     "output_type": "execute_result"
    }
   ],
   "source": [
    "df"
   ]
  },
  {
   "cell_type": "code",
   "execution_count": 7,
   "id": "8a919cd0-afa4-4dd0-93d9-30ce25767921",
   "metadata": {},
   "outputs": [
    {
     "data": {
      "text/plain": [
       "track\n",
       "PyData: Natural Language Processing                                15\n",
       "PyCon: Programming & Software Engineering                          15\n",
       "Sponsor                                                            12\n",
       "PyData: PyData & Scientific Libraries Stack                        10\n",
       "PyData: Machine Learning & Stats                                   10\n",
       "PyData: Data Handling                                               9\n",
       "PyCon: DevOps & MLOps                                               8\n",
       "PyCon: Python Language                                              4\n",
       "Plenary                                                             4\n",
       "PyData: Deep Learning                                               4\n",
       "General: Ethics & Privacy                                           3\n",
       "PyCon: Libraries                                                    3\n",
       "PyData: Jupyter                                                     3\n",
       "PyCon: Testing                                                      3\n",
       "General: Others                                                     2\n",
       "General: Python & PyData Friends                                    2\n",
       "PyData: Computer Vision                                             2\n",
       "General: Community, Diversity, Career, Life and everything else     2\n",
       "PyData: Visualisation                                               1\n",
       "PyCon: Django                                                       1\n",
       "PyCon: Web                                                          1\n",
       "General: Infrastructure - Hardware & Cloud                          1\n",
       "Name: count, dtype: int64"
      ]
     },
     "execution_count": 7,
     "metadata": {},
     "output_type": "execute_result"
    }
   ],
   "source": [
    "# tracks and their frequency\n",
    "df.track.value_counts()"
   ]
  },
  {
   "cell_type": "code",
   "execution_count": 8,
   "id": "5f42b972-bcda-497a-859f-3569dcffc4c7",
   "metadata": {},
   "outputs": [
    {
     "data": {
      "text/plain": [
       "22"
      ]
     },
     "execution_count": 8,
     "metadata": {},
     "output_type": "execute_result"
    }
   ],
   "source": [
    "df.track.nunique()"
   ]
  },
  {
   "cell_type": "markdown",
   "id": "2e6a6e8a-6743-449b-b345-8dfa5005c97b",
   "metadata": {},
   "source": [
    "## Part 2: Topic Modeling"
   ]
  },
  {
   "cell_type": "markdown",
   "id": "88cdc50e-fe11-4c9f-be3d-75fec79d8609",
   "metadata": {},
   "source": [
    "<div>\n",
    "<img src=\"pipeline.svg\" width=\"700\"/>\n",
    "</div>"
   ]
  },
  {
   "cell_type": "code",
   "execution_count": 26,
   "id": "3cf39486-961e-49a6-a6ae-d11d686590b9",
   "metadata": {},
   "outputs": [],
   "source": [
    "# Create a spaCy object, en_core_web_md is spaCy's pre-trained model, as shown in image above 'nlp'\n",
    "nlp = en_core_web_md.load()"
   ]
  },
  {
   "cell_type": "markdown",
   "id": "37ba43e8-e178-47d9-a425-a867938add65",
   "metadata": {},
   "source": [
    "### Data"
   ]
  },
  {
   "cell_type": "code",
   "execution_count": 14,
   "id": "e53405dd-8ae4-4648-9ee8-2e14af0e1b5a",
   "metadata": {},
   "outputs": [
    {
     "data": {
      "text/html": [
       "<span class=\"tex2jax_ignore\"><div class=\"entities\" style=\"line-height: 2.5; direction: ltr\">\n",
       "<mark class=\"entity\" style=\"background: #aa9cfc; padding: 0.45em 0.6em; margin: 0 0.25em; line-height: 1; border-radius: 0.35em;\">\n",
       "    Pandas\n",
       "    <span style=\"font-size: 0.8em; font-weight: bold; line-height: 1; border-radius: 0.35em; vertical-align: middle; margin-left: 0.5rem\">PERSON</span>\n",
       "</mark>\n",
       " has reached a 2.0 milestone in \n",
       "<mark class=\"entity\" style=\"background: #bfe1d9; padding: 0.45em 0.6em; margin: 0 0.25em; line-height: 1; border-radius: 0.35em;\">\n",
       "    2023\n",
       "    <span style=\"font-size: 0.8em; font-weight: bold; line-height: 1; border-radius: 0.35em; vertical-align: middle; margin-left: 0.5rem\">DATE</span>\n",
       "</mark>\n",
       ". But what does that mean? And what is coming after 2.0? This talk will give an overview of what happened in the latest releases of pandas and highlight some topics and major new features the pandas project is working on.</div></span>"
      ],
      "text/plain": [
       "<IPython.core.display.HTML object>"
      ]
     },
     "metadata": {},
     "output_type": "display_data"
    }
   ],
   "source": [
    "# Name Entity Recognition\n",
    "# Call nlp on an abstract, the text will run through a processing pipeline, as shown in image above.\n",
    "doc = nlp(df.abstract[0])\n",
    "spacy.displacy.render(doc, style='ent', jupyter=True)"
   ]
  },
  {
   "cell_type": "code",
   "execution_count": 31,
   "id": "f0d871fb-8768-46da-9c09-29452a6f1bca",
   "metadata": {},
   "outputs": [],
   "source": [
    "# Remove the tags I don't want\n",
    "# from spacy.glossary import GLOSSARY \n",
    "# lookup_dict = GLOSSARY\n",
    "# lookup_dict.keys()\n",
    "remove_tags = ['ADV','ADP','CCONJ','DET','PRON','PUNCT','PART','NUM','SPACE','SYM']"
   ]
  },
  {
   "cell_type": "code",
   "execution_count": 32,
   "id": "1ec1049c-86d9-4ab5-9df0-a4f1e933164b",
   "metadata": {},
   "outputs": [],
   "source": [
    "tokens = []\n",
    "for abstract in nlp.pipe(df.abstract):\n",
    "    # tokenizer, remove unwanted tags, stopwords, lemmatization\n",
    "    abstract_token = [token.lemma_ for token in abstract if token.pos_ not in remove_tags and not token.is_stop and token.is_alpha] \n",
    "    tokens.append(abstract_token)"
   ]
  },
  {
   "cell_type": "code",
   "execution_count": 33,
   "id": "1524265d-1a95-4041-b6b5-93419737b05a",
   "metadata": {
    "scrolled": true
   },
   "outputs": [
    {
     "data": {
      "text/plain": [
       "['panda',\n",
       " 'reach',\n",
       " 'milestone',\n",
       " 'mean',\n",
       " 'come',\n",
       " 'talk',\n",
       " 'overview',\n",
       " 'happen',\n",
       " 'late',\n",
       " 'release',\n",
       " 'panda',\n",
       " 'highlight',\n",
       " 'topic',\n",
       " 'major',\n",
       " 'new',\n",
       " 'feature',\n",
       " 'panda',\n",
       " 'project',\n",
       " 'work']"
      ]
     },
     "execution_count": 33,
     "metadata": {},
     "output_type": "execute_result"
    }
   ],
   "source": [
    "tokens[0]"
   ]
  },
  {
   "cell_type": "code",
   "execution_count": 34,
   "id": "990da0f4-2b30-49fd-abf5-4886c7dcf930",
   "metadata": {
    "scrolled": true
   },
   "outputs": [
    {
     "data": {
      "text/html": [
       "<div>\n",
       "<style scoped>\n",
       "    .dataframe tbody tr th:only-of-type {\n",
       "        vertical-align: middle;\n",
       "    }\n",
       "\n",
       "    .dataframe tbody tr th {\n",
       "        vertical-align: top;\n",
       "    }\n",
       "\n",
       "    .dataframe thead th {\n",
       "        text-align: right;\n",
       "    }\n",
       "</style>\n",
       "<table border=\"1\" class=\"dataframe\">\n",
       "  <thead>\n",
       "    <tr style=\"text-align: right;\">\n",
       "      <th></th>\n",
       "      <th>day</th>\n",
       "      <th>room</th>\n",
       "      <th>id</th>\n",
       "      <th>title</th>\n",
       "      <th>track</th>\n",
       "      <th>abstract</th>\n",
       "      <th>tokens</th>\n",
       "    </tr>\n",
       "  </thead>\n",
       "  <tbody>\n",
       "    <tr>\n",
       "      <th>0</th>\n",
       "      <td>0</td>\n",
       "      <td>Kuppelsaal</td>\n",
       "      <td>26497</td>\n",
       "      <td>Pandas 2.0 and beyond</td>\n",
       "      <td>PyData: PyData &amp; Scientific Libraries Stack</td>\n",
       "      <td>Pandas has reached a 2.0 milestone in 2023. Bu...</td>\n",
       "      <td>[panda, reach, milestone, mean, come, talk, ov...</td>\n",
       "    </tr>\n",
       "    <tr>\n",
       "      <th>1</th>\n",
       "      <td>0</td>\n",
       "      <td>Kuppelsaal</td>\n",
       "      <td>25390</td>\n",
       "      <td>An unbiased evaluation of environment manageme...</td>\n",
       "      <td>PyCon: Programming &amp; Software Engineering</td>\n",
       "      <td>Python packaging is quickly evolving and new t...</td>\n",
       "      <td>[Python, packaging, evolve, new, tool, pop, re...</td>\n",
       "    </tr>\n",
       "    <tr>\n",
       "      <th>2</th>\n",
       "      <td>0</td>\n",
       "      <td>Kuppelsaal</td>\n",
       "      <td>28265</td>\n",
       "      <td>Keynote - A journey through 4 industries with ...</td>\n",
       "      <td>Plenary</td>\n",
       "      <td>In this keynote, I will share the lessons lear...</td>\n",
       "      <td>[keynote, share, lesson, learn, Python, indust...</td>\n",
       "    </tr>\n",
       "    <tr>\n",
       "      <th>3</th>\n",
       "      <td>0</td>\n",
       "      <td>Kuppelsaal</td>\n",
       "      <td>26247</td>\n",
       "      <td>Raised by Pandas, striving for more: An opinio...</td>\n",
       "      <td>PyData: Data Handling</td>\n",
       "      <td>Pandas is the de-facto standard for data manip...</td>\n",
       "      <td>[panda, de, facto, standard, data, manipulatio...</td>\n",
       "    </tr>\n",
       "    <tr>\n",
       "      <th>4</th>\n",
       "      <td>0</td>\n",
       "      <td>Kuppelsaal</td>\n",
       "      <td>25254</td>\n",
       "      <td>Polars - make the switch to lightning-fast dat...</td>\n",
       "      <td>PyData: Data Handling</td>\n",
       "      <td>In this talk, we will report on our experience...</td>\n",
       "      <td>[talk, report, experience, switch, Pandas, Pol...</td>\n",
       "    </tr>\n",
       "    <tr>\n",
       "      <th>...</th>\n",
       "      <td>...</td>\n",
       "      <td>...</td>\n",
       "      <td>...</td>\n",
       "      <td>...</td>\n",
       "      <td>...</td>\n",
       "      <td>...</td>\n",
       "      <td>...</td>\n",
       "    </tr>\n",
       "    <tr>\n",
       "      <th>110</th>\n",
       "      <td>2</td>\n",
       "      <td>A03-A04</td>\n",
       "      <td>25857</td>\n",
       "      <td>Most of you don't need Spark. Large-scale data...</td>\n",
       "      <td>PyData: Data Handling</td>\n",
       "      <td>The Python data ecosystem has matured during t...</td>\n",
       "      <td>[Python, data, ecosystem, mature, decade, reas...</td>\n",
       "    </tr>\n",
       "    <tr>\n",
       "      <th>111</th>\n",
       "      <td>2</td>\n",
       "      <td>A03-A04</td>\n",
       "      <td>30171</td>\n",
       "      <td>Contributing to an open-source content library...</td>\n",
       "      <td>PyData: Natural Language Processing</td>\n",
       "      <td>Bricks is an open-source content library for n...</td>\n",
       "      <td>[brick, open, source, content, library, natura...</td>\n",
       "    </tr>\n",
       "    <tr>\n",
       "      <th>112</th>\n",
       "      <td>2</td>\n",
       "      <td>A05-A06</td>\n",
       "      <td>26268</td>\n",
       "      <td>Building Hexagonal Python Services</td>\n",
       "      <td>PyCon: Programming &amp; Software Engineering</td>\n",
       "      <td>The importance of enterprise architecture patt...</td>\n",
       "      <td>[importance, enterprise, architecture, pattern...</td>\n",
       "    </tr>\n",
       "    <tr>\n",
       "      <th>113</th>\n",
       "      <td>2</td>\n",
       "      <td>A05-A06</td>\n",
       "      <td>26277</td>\n",
       "      <td>Workshop on Privilege and Ethics in Data</td>\n",
       "      <td>General: Ethics &amp; Privacy</td>\n",
       "      <td>Data-driven products are becoming more and mor...</td>\n",
       "      <td>[data, drive, product, ubiquitous, human, buil...</td>\n",
       "    </tr>\n",
       "    <tr>\n",
       "      <th>114</th>\n",
       "      <td>2</td>\n",
       "      <td>A05-A06</td>\n",
       "      <td>26494</td>\n",
       "      <td>The Battle of Giants: Causality vs NLP =&gt; From...</td>\n",
       "      <td>PyData: Natural Language Processing</td>\n",
       "      <td>With an average of 3.2 new papers published on...</td>\n",
       "      <td>[average, new, paper, publish, Arxiv, day, cau...</td>\n",
       "    </tr>\n",
       "  </tbody>\n",
       "</table>\n",
       "<p>115 rows × 7 columns</p>\n",
       "</div>"
      ],
      "text/plain": [
       "    day        room     id                                              title  \\\n",
       "0     0  Kuppelsaal  26497                              Pandas 2.0 and beyond   \n",
       "1     0  Kuppelsaal  25390  An unbiased evaluation of environment manageme...   \n",
       "2     0  Kuppelsaal  28265  Keynote - A journey through 4 industries with ...   \n",
       "3     0  Kuppelsaal  26247  Raised by Pandas, striving for more: An opinio...   \n",
       "4     0  Kuppelsaal  25254  Polars - make the switch to lightning-fast dat...   \n",
       "..   ..         ...    ...                                                ...   \n",
       "110   2     A03-A04  25857  Most of you don't need Spark. Large-scale data...   \n",
       "111   2     A03-A04  30171  Contributing to an open-source content library...   \n",
       "112   2     A05-A06  26268                 Building Hexagonal Python Services   \n",
       "113   2     A05-A06  26277           Workshop on Privilege and Ethics in Data   \n",
       "114   2     A05-A06  26494  The Battle of Giants: Causality vs NLP => From...   \n",
       "\n",
       "                                           track  \\\n",
       "0    PyData: PyData & Scientific Libraries Stack   \n",
       "1      PyCon: Programming & Software Engineering   \n",
       "2                                        Plenary   \n",
       "3                          PyData: Data Handling   \n",
       "4                          PyData: Data Handling   \n",
       "..                                           ...   \n",
       "110                        PyData: Data Handling   \n",
       "111          PyData: Natural Language Processing   \n",
       "112    PyCon: Programming & Software Engineering   \n",
       "113                    General: Ethics & Privacy   \n",
       "114          PyData: Natural Language Processing   \n",
       "\n",
       "                                              abstract  \\\n",
       "0    Pandas has reached a 2.0 milestone in 2023. Bu...   \n",
       "1    Python packaging is quickly evolving and new t...   \n",
       "2    In this keynote, I will share the lessons lear...   \n",
       "3    Pandas is the de-facto standard for data manip...   \n",
       "4    In this talk, we will report on our experience...   \n",
       "..                                                 ...   \n",
       "110  The Python data ecosystem has matured during t...   \n",
       "111  Bricks is an open-source content library for n...   \n",
       "112  The importance of enterprise architecture patt...   \n",
       "113  Data-driven products are becoming more and mor...   \n",
       "114  With an average of 3.2 new papers published on...   \n",
       "\n",
       "                                                tokens  \n",
       "0    [panda, reach, milestone, mean, come, talk, ov...  \n",
       "1    [Python, packaging, evolve, new, tool, pop, re...  \n",
       "2    [keynote, share, lesson, learn, Python, indust...  \n",
       "3    [panda, de, facto, standard, data, manipulatio...  \n",
       "4    [talk, report, experience, switch, Pandas, Pol...  \n",
       "..                                                 ...  \n",
       "110  [Python, data, ecosystem, mature, decade, reas...  \n",
       "111  [brick, open, source, content, library, natura...  \n",
       "112  [importance, enterprise, architecture, pattern...  \n",
       "113  [data, drive, product, ubiquitous, human, buil...  \n",
       "114  [average, new, paper, publish, Arxiv, day, cau...  \n",
       "\n",
       "[115 rows x 7 columns]"
      ]
     },
     "execution_count": 34,
     "metadata": {},
     "output_type": "execute_result"
    }
   ],
   "source": [
    "# Create a new column named 'tokens'\n",
    "df['tokens'] = tokens\n",
    "df"
   ]
  },
  {
   "cell_type": "code",
   "execution_count": 35,
   "id": "05f6b08d-c4dc-4244-8c7f-25d53cc5f058",
   "metadata": {},
   "outputs": [
    {
     "name": "stdout",
     "output_type": "stream",
     "text": [
      "Dictionary<1822 unique tokens: ['come', 'feature', 'happen', 'highlight', 'late']...>\n"
     ]
    }
   ],
   "source": [
    "# Inputs of LDA: Dictionary- unique id for each token\n",
    "dictionary = Dictionary(df['tokens'])\n",
    "print(dictionary)"
   ]
  },
  {
   "cell_type": "code",
   "execution_count": 39,
   "id": "68712475-0355-410e-a72f-e85a83f68ac6",
   "metadata": {
    "scrolled": true
   },
   "outputs": [
    {
     "name": "stdout",
     "output_type": "stream",
     "text": [
      "{'come': 0, 'feature': 1, 'happen': 2, 'highlight': 3, 'late': 4, 'major': 5, 'mean': 6, 'milestone': 7, 'new': 8, 'overview': 9, 'panda': 10, 'project': 11, 'reach': 12, 'release': 13, 'talk': 14, 'topic': 15, 'work': 16, 'Python': 17, 'available': 18, 'basis': 19, 'compare': 20, 'environment': 21, 'evolve': 22, 'exist': 23, 'jungle': 24, 'light': 25, 'lot': 26, 'management': 27, 'packaging': 28, 'pop': 29, 'post': 30, 'predefine': 31, 'regular': 32, 'shed': 33, 'structured': 34, 'tool': 35, 'unbiased': 36, 'Game': 37, 'Quill': 38, 'Studios': 39, 'application': 40, 'build': 41, 'company': 42, 'data': 43, 'day': 44, 'develop': 45, 'engineer': 46, 'game': 47, 'gaming': 48, 'hope': 49, 'industry': 50, 'inspiration': 51, 'interesting': 52, 'keynote': 53, 'learn': 54, 'learning': 55, 'lesson': 56, 'machine': 57, 'pleasure': 58, 'problem': 59, 'scientist': 60, 'share': 61, 'solve': 62, 'type': 63, 'use': 64, 'versatility': 65, 'Apache': 66, 'Arrow': 67, 'Pandas': 68, 'Polars': 69, 'Rust': 70, 'aim': 71, 'benchmark': 72, 'codebase': 73, 'datum': 74, 'de': 75, 'drawback': 76, 'efficiency': 77, 'expectation': 78, 'explain': 79, 'facto': 80, 'fast': 81, 'flexibility': 82, 'flexible': 83, 'handling': 84, 'high': 85, 'inconsistent': 86, 'insight': 87, 'interoperability': 88, 'issue': 89, 'kind': 90, 'know': 91, 'lack': 92, 'language': 93, 'long': 94, 'love': 95, 'lover': 96, 'manipulation': 97, 'meet': 98, 'memory': 99, 'migrate': 100, 'missing': 101, 'multicore': 102, 'multiple': 103, 'open': 104, 'performance': 105, 'present': 106, 'python': 107, 'query': 108, 'scenario': 109, 'shine': 110, 'source': 111, 'stable': 112, 'standard': 113, 'stay': 114, 'support': 115, 'syntax': 116, 'time': 117, 'win': 118, 'ML': 119, 'ability': 120, 'analysis': 121, 'analyst': 122, 'base': 123, 'dataframe': 124, 'dataset': 125, 'discuss': 126, 'efficient': 127, 'experience': 128, 'feel': 129, 'fit': 130, 'handle': 131, 'improvement': 132, 'interested': 133, 'large': 134, 'library': 135, 'polars': 136, 'popular': 137, 'practice': 138, 'processing': 139, 'provide': 140, 'real': 141, 'report': 142, 'significant': 143, 'speed': 144, 'switch': 145, 'task': 146, 'unique': 147, 'world': 148, 'write': 149, 'Celery': 150, 'TDD': 151, 'able': 152, 'api': 153, 'apply': 154, 'attendee': 155, 'code': 156, 'core': 157, 'create': 158, 'drive': 159, 'end': 160, 'ensure': 161, 'explore': 162, 'fastapi': 163, 'framework': 164, 'functionality': 165, 'help': 166, 'improve': 167, 'maintainability': 168, 'manner': 169, 'offload': 170, 'perform': 171, 'queue': 172, 'reliability': 173, 'reliable': 174, 'run': 175, 'scalable': 176, 'set': 177, 'start': 178, 'strong': 179, 'test': 180, 'testing': 181, 'understanding': 182, 'unit': 183, 'web': 184, 'IIoT': 185, 'IoT': 186, 'Pythonistas': 187, 'StreamPipes': 188, 'access': 189, 'addition': 190, 'address': 191, 'allow': 192, 'appeal': 193, 'basic': 194, 'case': 195, 'challenge': 196, 'client': 197, 'collect': 198, 'cumbersome': 199, 'deep': 200, 'demo': 201, 'derive': 202, 'discussion': 203, 'enthusiast': 204, 'extract': 205, 'fashioned': 206, 'follow': 207, 'general': 208, 'give': 209, 'industrial': 210, 'introduction': 211, 'live': 212, 'mess': 213, 'model': 214, 'myriad': 215, 'offer': 216, 'old': 217, 'particular': 218, 'pitfall': 219, 'protocol': 220, 'pythonic': 221, 'training': 222, 'visualization': 223, 'want': 224, 'way': 225, 'ASHA': 226, 'BO': 227, 'Bayesian': 228, 'HPO': 229, 'Halving': 230, 'Hyperparameter': 231, 'Learning': 232, 'Machine': 233, 'Optimization': 234, 'Successive': 235, 'activity': 236, 'agnostic': 237, 'algorithm': 238, 'automatic': 239, 'awslab': 240, 'big': 241, 'comparison': 242, 'computational': 243, 'cost': 244, 'creation': 245, 'describe': 246, 'employ': 247, 'example': 248, 'experimental': 249, 'extensive': 250, 'final': 251, 'fundamental': 252, 'gain': 253, 'heuristic': 254, 'include': 255, 'incur': 256, 'lead': 257, 'low': 258, 'lower': 259, 'observe': 260, 'optimal': 261, 'pipeline': 262, 'practical': 263, 'practitioner': 264, 'predictive': 265, 'presented': 266, 'public': 267, 'range': 268, 'resource': 269, 'result': 270, 'simple': 271, 'step': 272, 'syne': 273, 'technique': 274, 'term': 275, 'train': 276, 'try': 277, 'tune': 278, 'unreliable': 279, 'useful': 280, 'user': 281, 'wait': 282, 'wide': 283, 'year': 284, 'Boosting': 285, 'Cyclic': 286, 'GitHub': 287, 'accurate': 288, 'boost': 289, 'boosting': 290, 'cardinality': 291, 'categorical': 292, 'cyclic': 293, 'deliver': 294, 'demonstrate': 295, 'dependency': 296, 'engineering': 297, 'explainable': 298, 'facilitate': 299, 'family': 300, 'find': 301, 'heterogeneous': 302, 'hyperparameter': 303, 'ideal': 304, 'implementation': 305, 'individual': 306, 'inexpensive': 307, 'infamous': 308, 'information': 309, 'inner': 310, 'iteration': 311, 'level': 312, 'little': 313, 'make': 314, 'method': 315, 'minimal': 316, 'miss': 317, 'modeling': 318, 'pre': 319, 'prediction': 320, 'presentation': 321, 'process': 322, 'pure': 323, 'purpose': 324, 'rapid': 325, 'require': 326, 'robust': 327, 'sample': 328, 'shelf': 329, 'supervised': 330, 'tuning': 331, 'unavoidable': 332, 'usage': 333, 'variable': 334, 'working': 335, 'complementary': 336, 'database': 337, 'evaluate': 338, 'evaluation': 339, 'sensor': 340, 'series': 341, 'service': 342, 'show': 343, 'stream': 344, 'Alicia': 345, 'Chat': 346, 'Shopify': 347, 'ai': 348, 'architecture': 349, 'behavior': 350, 'behaviour': 351, 'building': 352, 'business': 353, 'catch': 354, 'critical': 355, 'different': 356, 'dive': 357, 'drift': 358, 'erroneous': 359, 'importance': 360, 'iterate': 361, 'look': 362, 'metric': 363, 'modern': 364, 'observability': 365, 'part': 366, 'platform': 367, 'prevalent': 368, 'prototype': 369, 'quality': 370, 'sure': 371, 'team': 372, 'technology': 373, 'track': 374, 'unexpected': 375, 'Delivery': 376, 'Hero': 377, 'Logistics': 378, 'account': 379, 'answer': 380, 'consider': 381, 'department': 382, 'discover': 383, 'expect': 384, 'focusse': 385, 'get': 386, 'hand': 387, 'invest': 388, 'journey': 389, 'maintain': 390, 'need': 391, 'ongoing': 392, 'question': 393, 'structure': 394, 'Snowflake': 395, 'Snowpark': 396, 'b': 397, 'collaborate': 398, 'compliance': 399, 'concept': 400, 'developer': 401, 'dynamic': 402, 'elasticity': 403, 'organization': 404, 'repository': 405, 'sandbox': 406, 'scalability': 407, 'scale': 408, 'secure': 409, 'security': 410, 'snowflakedb': 411, 'snowpark': 412, 'CPython': 413, 'PyScript': 414, 'WASM': 415, 'WebAssembly': 416, 'browser': 417, 'cpu': 418, 'etc': 419, 'explosion': 420, 'possible': 421, 'powerful': 422, 'recent': 423, 'see': 424, 'thank': 425, 'underlie': 426, 'virtual': 427, 'MLOps': 428, 'absence': 429, 'balance': 430, 'boundary': 431, 'circle': 432, 'constraint': 433, 'deploy': 434, 'deployment': 435, 'development': 436, 'factor': 437, 'latency': 438, 'lie': 439, 'list': 440, 'manage': 441, 'operational': 442, 'production': 443, 'reproducible': 444, 'square': 445, 'take': 446, 'vulnerability': 447, 'ChatGPT': 448, 'GPT': 449, 'Haystack': 450, 'LLM': 451, 'LLMs': 452, 'Models': 453, 'NLP': 454, 'chain': 455, 'component': 456, 'knowledge': 457, 'llm': 458, 'miraculous': 459, 'outdated': 460, 'overcome': 461, 'product': 462, 'store': 463, 'unsolved': 464, 'walk': 465, 'wrong': 466, 'PyTorch': 467, 'bug': 468, 'cause': 469, 'choose': 470, 'complex': 471, 'correct': 472, 'culprit': 473, 'custom': 474, 'determine': 475, 'equip': 476, 'focus': 477, 'function': 478, 'future': 479, 'generate': 480, 'hour': 481, 'identify': 482, 'leverage': 483, 'loop': 484, 'loss': 485, 'prevent': 486, 'problematic': 487, 'pyt': 488, 'pytorch': 489, 'reason': 490, 'refactor': 491, 'right': 492, 'scratch': 493, 'session': 494, 'synthetic': 495, 'toolbox': 496, 'tricky': 497, 'visitor': 498, 'AutoGluon': 499, 'AutoML': 500, 'achieve': 501, 'art': 502, 'automate': 503, 'classification': 504, 'competition': 505, 'competitive': 506, 'current': 507, 'cutting': 508, 'edge': 509, 'emphasize': 510, 'enable': 511, 'experimentation': 512, 'expertise': 513, 'forecasting': 514, 'hood': 515, 'human': 516, 'image': 517, 'intervention': 518, 'introduce': 519, 'intuitive': 520, 'manual': 521, 'multimodal': 522, 'peek': 523, 'promise': 524, 'raw': 525, 'regression': 526, 'state': 527, 'tabular': 528, 'toolkit': 529, 'transform': 530, 'unified': 531, 'usability': 532, 'variety': 533, 'anomaly': 534, 'common': 535, 'delay': 536, 'digital': 537, 'divergent': 538, 'domain': 539, 'easy': 540, 'expert': 541, 'forecast': 542, 'hard': 543, 'imagine': 544, 'impact': 545, 'irregular': 546, 'logistic': 547, 'market': 548, 'marketing': 549, 'master': 550, 'noise': 551, 'organise': 552, 'outlier': 553, 'pricing': 554, 'professional': 555, 'propagation': 556, 'reduce': 557, 'resolve': 558, 'stabilise': 559, 'stock': 560, 'understand': 561, 'value': 562, 'BI': 563, 'BigQuery': 564, 'ELT': 565, 'Formula': 566, 'Google': 567, 'Grand': 568, 'Prix': 569, 'analytic': 570, 'approach': 571, 'cloud': 572, 'complement': 573, 'compose': 574, 'compute': 575, 'engine': 576, 'integration': 577, 'specific': 578, 'stack': 579, 'stem': 580, 'transformation': 581, 'tutorial': 582, 'BHAD': 583, 'accuracy': 584, 'additional': 585, 'anomalous': 586, 'assign': 587, 'bayesian': 588, 'bhad': 589, 'bin': 590, 'crucial': 591, 'detection': 592, 'detector': 593, 'distribution': 594, 'expensive': 595, 'explanation': 596, 'histogram': 597, 'indicate': 598, 'interpretability': 599, 'number': 600, 'outli': 601, 'parameter': 602, 'pattern': 603, 'prior': 604, 'prominent': 605, 'propose': 606, 'score': 607, 'simulated': 608, 'size': 609, 'soa': 610, 'straightforward': 611, 'study': 612, 'suitable': 613, 'treat': 614, 'unknown': 615, 'Airflow': 616, 'Argo': 617, 'DVC': 618, 'Jupyter': 619, 'Kubeflow': 620, 'LineaPy': 621, 'check': 622, 'contribute': 623, 'creator': 624, 'cure': 625, 'dvc': 626, 'everyday': 627, 'expedite': 628, 'favorite': 629, 'generation': 630, 'go': 631, 'good': 632, 'grade': 633, 'messy': 634, 'news': 635, 'nightmare': 636, 'notebook': 637, 'orchestration': 638, 'package': 639, 'place': 640, 'plugin': 641, 'science': 642, 'solution': 643, 'universe': 644, 'welcome': 645, 'workflow': 646, 'OpenAI': 647, 'add': 648, 'annotation': 649, 'benefit': 650, 'control': 651, 'decision': 652, 'gather': 653, 'initial': 654, 'maker': 655, 'normal': 656, 'replace': 657, 'runtime': 658, 'shot': 659, 'alert': 660, 'avoid': 661, 'batch': 662, 'dashboard': 663, 'depth': 664, 'essential': 665, 'face': 666, 'fatigue': 667, 'integrate': 668, 'lifecycle': 669, 'monitor': 670, 'monitoring': 671, 'prioritize': 672, 'proper': 673, 'risk': 674, 'setup': 675, 'similar': 676, 'single': 677, 'standardize': 678, 'Mamray': 679, 'consume': 680, 'important': 681, 'profile': 682, 'profiling': 683, 'Scala': 684, 'Serialization': 685, 'Typeclasses': 686, 'abstract': 687, 'construct': 688, 'contrast': 689, 'difference': 690, 'effectiveness': 691, 'elegant': 692, 'expressiveness': 693, 'informed': 694, 'mechanism': 695, 'modular': 696, 'similarity': 697, 'specify': 698, 'strength': 699, 'suited': 700, 'system': 701, 'trait': 702, 'typing': 703, 'weakness': 704, 'well': 705, 'coach': 706, 'material': 707, 'programming': 708, 'student': 709, 'teach': 710, 'text': 711, 'tutor': 712, 'baseline': 713, 'clustering': 714, 'cover': 715, 'entity': 716, 'establish': 717, 'measure': 718, 'name': 719, 'natural': 720, 'nlp': 721, 'paradigm': 722, 'recognition': 723, 'role': 724, 'search': 725, 'transfer': 726, 'weak': 727, 'DoWhy': 728, 'audience': 729, 'bit': 730, 'causal': 731, 'close': 732, 'dowhy': 733, 'govern': 734, 'lay': 735, 'pywhy': 736, 'root': 737, 'space': 738, 'typical': 739, 'zoom': 740, 'C': 741, 'Julia': 742, 'alien': 743, 'incorporate': 744, 'optimization': 745, 'today': 746, 'PyG': 747, 'analyze': 748, 'capture': 749, 'complexity': 750, 'diversity': 751, 'graph': 752, 'implement': 753, 'participant': 754, 'prepare': 755, 'table': 756, 'workshop': 757, 'AI': 758, 'Data': 759, 'PyData': 760, 'Scientist': 761, 'attend': 762, 'conference': 763, 'hype': 764, 'title': 765, 'ask': 766, 'aware': 767, 'bias': 768, 'detect': 769, 'ethic': 770, 'ethical': 771, 'lens': 772, 'mitigate': 773, 'point': 774, 'potential': 775, 'requirement': 776, 'stage': 777, 'starting': 778, 'strategy': 779, 'universal': 780, 'attractive': 781, 'bottleneck': 782, 'expressive': 783, 'lightning': 784, 'option': 785, 'portion': 786, 'program': 787, 'rust': 788, 'sensitive': 789, 'FastAPI': 790, 'OpenAPI': 791, 'community': 792, 'dark': 793, 'documentation': 794, 'educational': 795, 'exchange': 796, 'fastAPI': 797, 'great': 798, 'job': 799, 'obstacle': 800, 'people': 801, 'rest': 802, 'spot': 803, 'thrive': 804, 'view': 805, 'wish': 806, 'Components': 807, 'DBMS': 808, 'DBMSs': 809, 'Database': 810, 'Management': 811, 'Systems': 812, 'approximate': 813, 'backbone': 814, 'call': 815, 'central': 816, 'dbms': 817, 'direction': 818, 'estimation': 819, 'execute': 820, 'idea': 821, 'involve': 822, 'non': 823, 'occur': 824, 'optimizer': 825, 'outline': 826, 'overhead': 827, 'physical': 828, 'play': 829, 'relational': 830, 'render': 831, 'scheduler': 832, 'schema': 833, 'second': 834, 'tackle': 835, 'trivial': 836, 'vision': 837, 'volume': 838, 'workload': 839, 'JAX': 840, 'TPU': 841, 'TensorFlow': 842, 'alternative': 843, 'appealing': 844, 'complicated': 845, 'deepmind': 846, 'ecosystem': 847, 'getting': 848, 'idiosyncrasy': 849, 'native': 850, 'parallelization': 851, 'practise': 852, 'promising': 853, 'tip': 854, 'vectorization': 855, 'adjust': 856, 'experiment': 857, 'identification': 858, 'quantify': 859, 'quasi': 860, 'relationship': 861, 'PyLadies': 862, 'advocate': 863, 'chapter': 864, 'combat': 865, 'gap': 866, 'gender': 867, 'leadership': 868, 'panel': 869, 'pay': 870, 'representation': 871, 'design': 872, 'past': 873, 'software': 874, 'special': 875, 'Framework': 876, 'HayStack': 877, 'QA': 878, 'bot': 879, 'combination': 880, 'conversation': 881, 'document': 882, 'fine': 883, 'fuel': 884, 'innovation': 885, 'internal': 886, 'neural': 887, 'organizational': 888, 'read': 889, 'satisfy': 890, 'scieneer': 891, 'sentence': 892, 'slack': 893, 'technical': 894, 'transformer': 895, 'vector': 896, 'weaviate': 897, 'Dask': 898, 'NumPy': 899, 'actual': 900, 'change': 901, 'cluster': 902, 'computing': 903, 'course': 904, 'debugging': 905, 'diagnostic': 906, 'difficult': 907, 'distribute': 908, 'ease': 909, 'event': 910, 'fail': 911, 'hell': 912, 'hundred': 913, 'insightful': 914, 'key': 915, 'life': 916, 'logging': 917, 'move': 918, 'network': 919, 'operate': 920, 'parallel': 921, 'react': 922, 'relevant': 923, 'sanity': 924, 'slow': 925, 'storage': 926, 'success': 927, 'thing': 928, 'tooling': 929, 'wild': 930, 'worker': 931, 'Prodigy': 932, 'adaptable': 933, 'certain': 934, 'customizability': 935, 'filter': 936, 'info': 937, 'internet': 938, 'overwhelming': 939, 'page': 940, 'personal': 941, 'personalized': 942, 'power': 943, 'sacrifice': 944, 'scriptable': 945, 'spaCy': 946, 'summary': 947, 'think': 948, 'Auto': 949, 'Cases': 950, 'Cloud': 951, 'Computer': 952, 'DHL': 953, 'Deep': 954, 'Deutsche': 955, 'Driven': 956, 'Group': 957, 'Kubernetes': 958, 'Networks': 959, 'Neural': 960, 'Platforms': 961, 'Post': 962, 'Solvers': 963, 'TSP': 964, 'Tooling': 965, 'Use': 966, 'Vision': 967, 'agile': 968, 'area': 969, 'buzzword': 970, 'challenging': 971, 'combine': 972, 'fancy': 973, 'fill': 974, 'german': 975, 'international': 976, 'mode': 977, 'motivated': 978, 'nice': 979, 'operation': 980, 'organize': 981, 'passion': 982, 'plane': 983, 'rusty': 984, 'scene': 985, 'self': 986, 'skill': 987, 'slide': 988, 'small': 989, 'timeserie': 990, 'truck': 991, 'van': 992, 'yellow': 993, 'young': 994, 'enabler': 995, 'examine': 996, 'field': 997, 'infrastructure': 998, 'optimize': 999, 'streamline': 1000, 'successful': 1001, 'Connect': 1002, 'DataFrame': 1003, 'Notebooks': 1004, 'SQL': 1005, 'Spark': 1006, 'analyzer': 1007, 'bring': 1008, 'capability': 1009, 'connect': 1010, 'connectivity': 1011, 'decade': 1012, 'decoupled': 1013, 'device': 1014, 'driver': 1015, 'embed': 1016, 'extension': 1017, 'home': 1018, 'ide': 1019, 'interactive': 1020, 'logical': 1021, 'monolithic': 1022, 'outlook': 1023, 'participate': 1024, 'phone': 1025, 'plan': 1026, 'remote': 1027, 'researcher': 1028, 'separation': 1029, 'server': 1030, 'smart': 1031, 'ten': 1032, 'thousand': 1033, 'unresolved': 1034, 'Common': 1035, 'Crawl': 1036, 'Feedback': 1037, 'Human': 1038, 'Label': 1039, 'RLHF': 1040, 'Reinforcement': 1041, 'Studio': 1042, 'beg': 1043, 'direct': 1044, 'feedback': 1045, 'fraction': 1046, 'generalization': 1047, 'generative': 1048, 'massive': 1049, 'preference': 1050, 'rely': 1051, 'response': 1052, 'saying': 1053, 'toxicity': 1054, 'truthfulness': 1055, 'unsupervise': 1056, 'Javascript': 1057, 'adapt': 1058, 'fledged': 1059, 'impose': 1060, 'installation': 1061, 'intensive': 1062, 'limitation': 1063, 'load': 1064, 'local': 1065, 'main': 1066, 'module': 1067, 'operating': 1068, 'ubiquitous': 1069, 'unprecedented': 1070, 'Carl': 1071, 'Zeiss': 1072, 'aspect': 1073, 'background': 1074, 'board': 1075, 'chip': 1076, 'computer': 1077, 'consistent': 1078, 'culture': 1079, 'division': 1080, 'effort': 1081, 'energy': 1082, 'limit': 1083, 'mission': 1084, 'research': 1085, 'semiconductor': 1086, 'story': 1087, 'tell': 1088, 'coil': 1089, 'comprehensive': 1090, 'feeling': 1091, 'gut': 1092, 'scheduling': 1093, 'theory': 1094, 'turning': 1095, 'assess': 1096, 'communicate': 1097, 'compelling': 1098, 'elevate': 1099, 'grasp': 1100, 'ingredient': 1101, 'intricacy': 1102, 'join': 1103, 'let': 1104, 'opportunity': 1105, 'pass': 1106, 'ready': 1107, 'showcase': 1108, 'stakeholder': 1109, 'FastKafka': 1110, 'Kafka': 1111, 'decorator': 1112, 'define': 1113, 'interest': 1114, 'message': 1115, 'motivation': 1116, 'produce': 1117, 'receive': 1118, 'send': 1119, 'climate': 1120, 'policy': 1121, 'Ecosystem': 1122, 'inclue': 1123, 'increase': 1124, 'phase': 1125, 'principle': 1126, 'recommend': 1127, 'stake': 1128, 'Rasa': 1129, 'advance': 1130, 'assistant': 1131, 'availability': 1132, 'chat': 1133, 'chatbot': 1134, 'chit': 1135, 'concrete': 1136, 'convincing': 1137, 'depend': 1138, 'despite': 1139, 'diagnosis': 1140, 'e': 1141, 'fun': 1142, 'intelligent': 1143, 'interaction': 1144, 'medical': 1145, 'mobility': 1146, 'shopping': 1147, 'sophisticated': 1148, 'witty': 1149, 'RNN': 1150, 'annoying': 1151, 'article': 1152, 'bert': 1153, 'bet': 1154, 'blog': 1155, 'cement': 1156, 'choice': 1157, 'collection': 1158, 'deal': 1159, 'detail': 1160, 'download': 1161, 'dumb': 1162, 'enjoy': 1163, 'equal': 1164, 'feed': 1165, 'got': 1166, 'headache': 1167, 'hub': 1168, 'input': 1169, 'length': 1170, 'mediocre': 1171, 'minor': 1172, 'pretraine': 1173, 'rant': 1174, 'sequence': 1175, 'short': 1176, 'spoiler': 1177, 'token': 1178, 'turn': 1179, 'tweet': 1180, 'unsatisfying': 1181, 'workaround': 1182, 'Numpy': 1183, 'augment': 1184, 'like': 1185, 'minimize': 1186, 'orient': 1187, 'plain': 1188, 'pragmatism': 1189, 'recommendation': 1190, 'substantial': 1191, 'up': 1192, 'vectorized': 1193, 'action': 1194, 'conda': 1195, 'contract': 1196, 'en': 1197, 'encourage': 1198, 'extend': 1199, 'friendly': 1200, 'illustrate': 1201, 'manager': 1202, 'modify': 1203, 'retrofit': 1204, 'Matplotlib': 1205, 'continuous': 1206, 'convey': 1207, 'delve': 1208, 'effective': 1209, 'informative': 1210, 'static': 1211, 'valuable': 1212, 'visualisation': 1213, 'Berlin': 1214, 'Council': 1215, 'Tech': 1216, 'Workers': 1217, 'agreement': 1218, 'defend': 1219, 'employee': 1220, 'layoff': 1221, 'legal': 1222, 'mass': 1223, 'member': 1224, 'redundant': 1225, 'situation': 1226, 'termination': 1227, 'Marketing': 1228, 'PyMC': 1229, 'acquisition': 1230, 'budget': 1231, 'campaign': 1232, 'causalpy': 1233, 'customer': 1234, 'emphasis': 1235, 'estimate': 1236, 'inference': 1237, 'interplay': 1238, 'lifetime': 1239, 'medium': 1240, 'mix': 1241, 'pymc': 1242, 'BLE': 1243, 'Bluetooth': 1244, 'Bluez': 1245, 'Energy': 1246, 'Linux': 1247, 'Low': 1248, 'Stack': 1249, 'advantage': 1250, 'ble': 1251, 'communication': 1252, 'debug': 1253, 'fitness': 1254, 'health': 1255, 'lightbulb': 1256, 'private': 1257, 'property': 1258, 'robot': 1259, 'side': 1260, 'wireless': 1261, 'Django': 1262, 'GeoDjango': 1263, 'geographic': 1264, 'geospatial': 1265, 'keep': 1266, 'map': 1267, 'mind': 1268, 'content': 1269, 'detoxification': 1270, 'detoxified': 1271, 'exponential': 1272, 'fight': 1273, 'global': 1274, 'growth': 1275, 'hate': 1276, 'monolingual': 1277, 'multilingual': 1278, 'offensive': 1279, 'possibility': 1280, 'proactive': 1281, 'reuse': 1282, 'speech': 1283, 'spread': 1284, 'style': 1285, 'suggestion': 1286, 'toxic': 1287, 'uncontrolled': 1288, 'version': 1289, 'Authorities': 1290, 'BERT': 1291, 'DistilBERT': 1292, 'Inspectorate': 1293, 'LPAs': 1294, 'Lab': 1295, 'Language': 1296, 'Large': 1297, 'Local': 1298, 'Plan': 1299, 'Planning': 1300, 'React': 1301, 'RoBERTa': 1302, 'UK': 1303, 'Voilà': 1304, 'aid': 1305, 'analyse': 1306, 'average': 1307, 'consultation': 1308, 'distributed': 1309, 'encounter': 1310, 'historical': 1311, 'inform': 1312, 'investigate': 1313, 'legality': 1314, 'lpa': 1315, 'prototyping': 1316, 'reduction': 1317, 'round': 1318, 'simulation': 1319, 'soundness': 1320, 'suggest': 1321, 'xlnet': 1322, 'CD': 1323, 'CI': 1324, 'confidence': 1325, 'ship': 1326, 'FAQ': 1327, 'african': 1328, 'child': 1329, 'constrain': 1330, 'folk': 1331, 'helped': 1332, 'helpline': 1333, 'hint': 1334, 'maternal': 1335, 'parent': 1336, 'pregnant': 1337, 'setting': 1338, 'sized': 1339, 'south': 1340, 'ESDA': 1341, 'Fiona': 1342, 'Folium': 1343, 'GDAL': 1344, 'Geopandas': 1345, 'Leaflet': 1346, 'Libpysal': 1347, 'OSMnx': 1348, 'Pydeck': 1349, 'Pyproj': 1350, 'Rasterio': 1351, 'Shapely': 1352, 'Whitebox': 1353, 'beginner': 1354, 'expand': 1355, 'intermediate': 1356, 'reprojecte': 1357, 'spatial': 1358, 'accept': 1359, 'adopt': 1360, 'adrenaline': 1361, 'break': 1362, 'continue': 1363, 'contribution': 1364, 'contributor': 1365, 'cv': 1366, 'dedicate': 1367, 'excited': 1368, 'finish': 1369, 'group': 1370, 'guide': 1371, 'meeting': 1372, 'rush': 1373, 'scientific': 1374, 'wrangle': 1375, 'advanced': 1376, 'caching': 1377, 'callable': 1378, 'class': 1379, 'closure': 1380, 'comfortable': 1381, 'concern': 1382, 'cross': 1383, 'instance': 1384, 'log': 1385, 'metaclasse': 1386, 'modularity': 1387, 'permission': 1388, 'return': 1389, 'usable': 1390, 'Pydantic': 1391, 'colleague': 1392, 'criticism': 1393, 'ensemble': 1394, 'listen': 1395, 'supportive': 1396, 'typo': 1397, 'validation': 1398, 'adipisce': 1399, 'aliqua': 1400, 'consectetur': 1401, 'dolore': 1402, 'eiusmod': 1403, 'elit': 1404, 'et': 1405, 'incididunt': 1406, 'joy': 1407, 'labore': 1408, 'magna': 1409, 'meaningful': 1410, 'perfect': 1411, 'random': 1412, 'randomly': 1413, 'sed': 1414, 'tempor': 1415, 'uncertain': 1416, 'ut': 1417, 'People': 1418, 'algorithmic': 1419, 'beautiful': 1420, 'beginning': 1421, 'correspond': 1422, 'notch': 1423, 'numerical': 1424, 'safety': 1425, 'sketch': 1426, 'struggle': 1427, 'worry': 1428, 'Synthetic': 1429, 'Vault': 1430, 'administration': 1431, 'bad': 1432, 'copy': 1433, 'dormant': 1434, 'exact': 1435, 'huge': 1436, 'identifiable': 1437, 'listener': 1438, 'multi': 1439, 'owner': 1440, 'protection': 1441, 'recreate': 1442, 'statistical': 1443, 'synthesize': 1444, 'DocArray': 1445, 'SQLModel': 1446, 'beartype': 1447, 'center': 1448, 'eat': 1449, 'infiltrate': 1450, 'mypy': 1451, 'clean': 1452, 'coding': 1453, 'complain': 1454, 'maintainer': 1455, 'rewrite': 1456, 'tox': 1457, 'comment': 1458, 'disagree': 1459, 'land': 1460, 'maximum': 1461, 'pr': 1462, 'war': 1463, 'career': 1464, 'demographic': 1465, 'initiative': 1466, 'male': 1467, 'participation': 1468, 'remain': 1469, 'underrepresented': 1470, 'white': 1471, 'Amazon': 1472, 'DataFrames': 1473, 'Netflix': 1474, 'PySpark': 1475, 'amount': 1476, 'foundational': 1477, 'giant': 1478, 'introductory': 1479, 'tech': 1480, 'disk': 1481, 'lightgbm': 1482, 'pickle': 1483, 'pickled': 1484, 'scikit': 1485, 'shrink': 1486, 'generator': 1487, 'Streamlit': 1488, 'Wasm': 1489, 'app': 1490, 'convenience': 1491, 'perspective': 1492, 'port': 1493, 'stlite': 1494, 'Natural': 1495, 'detour': 1496, 'file': 1497, 'lightweight': 1498, 'microservice': 1499, 'necessary': 1500, 'running': 1501, 'shortcut': 1502, 'slim': 1503, 'speak': 1504, 'trick': 1505, 'ES': 1506, 'XLA': 1507, 'accelerator': 1508, 'asynchronous': 1509, 'auto': 1510, 'black': 1511, 'box': 1512, 'compilation': 1513, 'evolution': 1514, 'evosax': 1515, 'have': 1516, 'neuroevolution': 1517, 'roberttlange': 1518, 'throughput': 1519, 'tired': 1520, 'DAG': 1521, 'ETL': 1522, 'Modern': 1523, 'Powered': 1524, 'advent': 1525, 'begin': 1526, 'dbt': 1527, 'demand': 1528, 'demystify': 1529, 'etl': 1530, 'grow': 1531, 'hearted': 1532, 'lexicon': 1533, 'lineage': 1534, 'making': 1535, 'maturity': 1536, 'mesh': 1537, 'modelling': 1538, 'nuance': 1539, 'path': 1540, 'prescriptive': 1541, 'revenue': 1542, 'reverse': 1543, 'revolution': 1544, 'say': 1545, 'serve': 1546, 'shift': 1547, 'tax': 1548, 'trend': 1549, 'trodden': 1550, 'Monorepos': 1551, 'linter': 1552, 'styling': 1553, 'adherence': 1554, 'artificial': 1555, 'authority': 1556, 'consumer': 1557, 'contemporary': 1558, 'deviate': 1559, 'fair': 1560, 'fairness': 1561, 'guarantee': 1562, 'guideline': 1563, 'impartial': 1564, 'influence': 1565, 'intelligence': 1566, 'misunderstood': 1567, 'ought': 1568, 'prejudicial': 1569, 'responsible': 1570, 'uphold': 1571, 'word': 1572, 'LangChain': 1573, 'Twitter': 1574, 'agent': 1575, 'chatgpt': 1576, 'joke': 1577, 'prompt': 1578, 'abstraction': 1579, 'asynchronicity': 1580, 'awake': 1581, 'commerce': 1582, 'connected': 1583, 'economy': 1584, 'error': 1585, 'external': 1586, 'import': 1587, 'island': 1588, 'isolate': 1589, 'item': 1590, 'masse': 1591, 'pesky': 1592, 'route': 1593, 'ruler': 1594, 'sea': 1595, 'succeed': 1596, 'trade': 1597, 'treacherous': 1598, 'Differential': 1599, 'Privacy': 1600, 'PyDP': 1601, 'assimilate': 1602, 'claim': 1603, 'cybersecurity': 1604, 'era': 1605, 'hot': 1606, 'leak': 1607, 'misuse': 1608, 'preserve': 1609, 'privacy': 1610, 'Asynchronicity': 1611, 'IO': 1612, 'POST': 1613, 'completion': 1614, 'enhance': 1615, 'execution': 1616, 'failure': 1617, 'heavy': 1618, 'improved': 1619, 'notify': 1620, 'numerous': 1621, 'primary': 1622, 'respond': 1623, 'responsiveness': 1624, 'thread': 1625, 'website': 1626, 'Code': 1627, 'Conduct': 1628, 'Foundation': 1629, 'Software': 1630, 'spectrum': 1631, 'true': 1632, 'unbalanced': 1633, 'vote': 1634, 'CNN': 1635, 'DINO': 1636, 'Milvus': 1637, 'SSL': 1638, 'classical': 1639, 'distance': 1640, 'embedding': 1641, 'evolutionary': 1642, 'extractor': 1643, 'index': 1644, 'label': 1645, 'retrieval': 1646, 'supervise': 1647, 'vit': 1648, 'Analysis': 1649, 'Geometric': 1650, 'TDA': 1651, 'Topological': 1652, 'academic': 1653, 'bench': 1654, 'bubble': 1655, 'couple': 1656, 'element': 1657, 'emerge': 1658, 'encode': 1659, 'euclidean': 1660, 'extent': 1661, 'geometric': 1662, 'geometry': 1663, 'intersection': 1664, 'movement': 1665, 'originate': 1666, 'review': 1667, 'school': 1668, 'shape': 1669, 'tda': 1670, 'topology': 1671, 'Classic': 1672, 'JupyterLab': 1673, 'Notebook': 1674, 'decide': 1675, 'interface': 1676, 'popularity': 1677, 'unchanged': 1678, 'Dynamic': 1679, 'Pricing': 1680, 'brief': 1681, 'criterion': 1682, 'fulfil': 1683, 'price': 1684, 'purchase': 1685, 'ride': 1686, 'strike': 1687, 'accelerated': 1688, 'interchange': 1689, 'Zarr': 1690, 'array': 1691, 'chunked': 1692, 'compressed': 1693, 'dimensional': 1694, 'format': 1695, 'interoperate': 1696, 'n': 1697, 'spec': 1698, 'systematic': 1699, 'zarr': 1700, 'Mutation': 1701, 'coverage': 1702, 'mutant': 1703, 'penguin': 1704, 'target': 1705, 'Magic': 1706, 'commodity': 1707, 'compound': 1708, 'compression': 1709, 'counterpart': 1710, 'dense': 1711, 'distillation': 1712, 'drop': 1713, 'forget': 1714, 'gpu': 1715, 'hardware': 1716, 'magnitude': 1717, 'noticeable': 1718, 'order': 1719, 'pruning': 1720, 'quantization': 1721, 'sparsity': 1722, 'specialized': 1723, 'speedup': 1724, 'unstructured': 1725, 'Answering': 1726, 'Question': 1727, 'haystack': 1728, 'sustainability': 1729, 'anchor': 1730, 'hinge': 1731, 'output': 1732, 'robustness': 1733, 'sound': 1734, 'Engineers': 1735, 'Feast': 1736, 'MLflow': 1737, 'SaaS': 1738, 'Scientists': 1739, 'Terraform': 1740, 'accessible': 1741, 'associate': 1742, 'eliminate': 1743, 'entire': 1744, 'innovative': 1745, 'lock': 1746, 'maintainable': 1747, 'maintenance': 1748, 'novel': 1749, 'vendor': 1750, 'catalog': 1751, 'host': 1752, 'migration': 1753, 'overall': 1754, 'DevOps': 1755, 'Discover': 1756, 'IfC': 1757, 'Infrastructure': 1758, 'automation': 1759, 'empower': 1760, 'revolutionize': 1761, 'strategic': 1762, 'sustainable': 1763, 'template': 1764, 'Application': 1765, 'Security': 1766, 'age': 1767, 'bore': 1768, 'devs': 1769, 'ignore': 1770, 'myth': 1771, 'piece': 1772, 'scary': 1773, 'transition': 1774, 'writing': 1775, 'JupyterLite': 1776, 'asset': 1777, 'instal': 1778, 'jupyter': 1779, 'multimedia': 1780, 'mature': 1781, 'planner': 1782, 'put': 1783, 'warming': 1784, 'block': 1785, 'brick': 1786, 'enrich': 1787, 'intimidating': 1788, 'programmer': 1789, 'Dependency': 1790, 'Injection': 1791, 'Ports': 1792, 'Repository': 1793, 'Unit': 1794, 'Work': 1795, 'applicable': 1796, 'enterprise': 1797, 'famous': 1798, 'matter': 1799, 'testable': 1800, 'tie': 1801, 'varied': 1802, 'Products': 1803, 'amplify': 1804, 'biased': 1805, 'confirm': 1806, 'consequence': 1807, 'original': 1808, 'reflect': 1809, 'unchecked': 1810, 'Arxiv': 1811, 'Microsoft': 1812, 'attract': 1813, 'exciting': 1814, 'explode': 1815, 'institution': 1816, 'paper': 1817, 'posit': 1818, 'publish': 1819, 'talent': 1820, 'translate': 1821}\n"
     ]
    }
   ],
   "source": [
    "print(dictionary.token2id)"
   ]
  },
  {
   "cell_type": "code",
   "execution_count": 40,
   "id": "d9808355-c2ef-4f1c-8d75-b33fae040d46",
   "metadata": {},
   "outputs": [],
   "source": [
    "# Filter out low and high frequency tokens, and limit the vocabulary to a max of 1000 words\n",
    "dictionary.filter_extremes(no_below=5, no_above=0.5, keep_n=1000)"
   ]
  },
  {
   "cell_type": "code",
   "execution_count": 44,
   "id": "48a5ce0a-6f8a-4143-a47e-0cfa178416d9",
   "metadata": {},
   "outputs": [
    {
     "data": {
      "text/plain": [
       "[[(0, 1), (1, 1), (2, 1), (3, 1), (4, 1), (5, 3), (6, 1), (7, 1), (8, 1)],\n",
       " [(1, 1), (3, 1), (4, 1), (9, 1), (10, 1), (11, 1), (12, 1), (13, 1), (14, 3)],\n",
       " [(9, 3),\n",
       "  (13, 1),\n",
       "  (15, 2),\n",
       "  (16, 1),\n",
       "  (17, 1),\n",
       "  (18, 2),\n",
       "  (19, 1),\n",
       "  (20, 2),\n",
       "  (21, 1),\n",
       "  (22, 2),\n",
       "  (23, 1),\n",
       "  (24, 1),\n",
       "  (25, 1),\n",
       "  (26, 1),\n",
       "  (27, 1),\n",
       "  (28, 2)]]"
      ]
     },
     "execution_count": 44,
     "metadata": {},
     "output_type": "execute_result"
    }
   ],
   "source": [
    "# Build Bag of Word, use function doc2bow() to count the frequency of each word,\n",
    "# format = list of `(token_id, token_count)` tuples.\n",
    "BoW = [dictionary.doc2bow(abstract) for abstract in df['tokens']]\n",
    "BoW[:3]"
   ]
  },
  {
   "cell_type": "markdown",
   "id": "69aa6a86-46b4-411d-9899-ac8c9dc6bb9d",
   "metadata": {
    "scrolled": true
   },
   "source": [
    "### Build Model"
   ]
  },
  {
   "cell_type": "code",
   "execution_count": 48,
   "id": "c6df36db-f6d3-4aa8-8c0d-52b67daa1367",
   "metadata": {},
   "outputs": [],
   "source": [
    "# lda_model = LdaMulticore(corpus=BoW, id2word=dictionary, iterations=50,\n",
    "#                         num_topics=10, workers=4, passes=10)"
   ]
  },
  {
   "cell_type": "markdown",
   "id": "e0eb72dd-c14f-4d73-872b-6a41dbbc680f",
   "metadata": {},
   "source": [
    "Get the optimal number of topics<br>\n",
    "Metric - coherence score: the degree of semantic similarity between high scoring words in each topic"
   ]
  },
  {
   "cell_type": "code",
   "execution_count": 49,
   "id": "0df87baa-aa2a-47b1-9dad-e98faca292b6",
   "metadata": {},
   "outputs": [
    {
     "data": {
      "image/png": "[encoded data removed]",
      "text/plain": [
       "<Figure size 640x480 with 1 Axes>"
      ]
     },
     "metadata": {},
     "output_type": "display_data"
    }
   ],
   "source": [
    "# Iterate different number of topics and save the score in the lists\n",
    "topics = []\n",
    "score = []\n",
    "for i in range(1,20,1):\n",
    "    lda_model = LdaMulticore(corpus=BoW, id2word=dictionary, iterations=10, num_topics=i, workers = 4, passes=10, random_state=100)\n",
    "    cm = CoherenceModel(model=lda_model, corpus=BoW, dictionary=dictionary, coherence='u_mass')\n",
    "    topics.append(i)\n",
    "    score.append(cm.get_coherence())\n",
    "_=plt.plot(topics, score)\n",
    "_=plt.xlabel('Number of Topics')\n",
    "_=plt.ylabel('Coherence Score(C_umass)')\n",
    "plt.show()"
   ]
  },
  {
   "cell_type": "code",
   "execution_count": 56,
   "id": "10b2f9b9-b1fa-4270-83ea-1f546ade391c",
   "metadata": {},
   "outputs": [
    {
     "data": {
      "image/png": "[encoded data removed]",
      "text/plain": [
       "<Figure size 640x480 with 1 Axes>"
      ]
     },
     "metadata": {},
     "output_type": "display_data"
    },
    {
     "data": {
      "text/plain": [
       "<Figure size 640x480 with 0 Axes>"
      ]
     },
     "metadata": {},
     "output_type": "display_data"
    }
   ],
   "source": [
    "topics = []\n",
    "score = []\n",
    "for i in range(1,20,1):\n",
    "    lda_model = LdaMulticore(corpus=BoW, id2word=dictionary, iterations=10, num_topics=i, workers = 4, passes=10, random_state=100)\n",
    "    cm = CoherenceModel(model=lda_model, texts = df['tokens'], corpus=BoW, dictionary=dictionary, coherence='c_v')\n",
    "    topics.append(i)\n",
    "    score.append(cm.get_coherence())\n",
    "_=plt.plot(topics, score)\n",
    "_=plt.xlabel('Number of Topics')\n",
    "_=plt.ylabel('Coherence Score(C_v)')\n",
    "plt.show()\n",
    "plt.savefig('Coherence Score.png')"
   ]
  },
  {
   "cell_type": "code",
   "execution_count": 51,
   "id": "25148676-37fa-4ae3-8842-1d0df8d7b050",
   "metadata": {},
   "outputs": [],
   "source": [
    "# Choose the number 3 with the highest coherence score \n",
    "lda_model = LdaMulticore(corpus=BoW, id2word=dictionary, iterations=100, num_topics=3, workers = 4, passes=100)"
   ]
  },
  {
   "cell_type": "code",
   "execution_count": 52,
   "id": "452f1616-1f4c-4e2d-9623-1b19c67a7698",
   "metadata": {},
   "outputs": [
    {
     "data": {
      "text/plain": [
       "[(0,\n",
       "  '0.046*\"model\" + 0.035*\"datum\" + 0.020*\"learn\" + 0.018*\"learning\" + 0.018*\"machine\" + 0.016*\"source\" + 0.015*\"Python\" + 0.014*\"performance\" + 0.014*\"open\" + 0.013*\"time\"'),\n",
       " (1,\n",
       "  '0.036*\"machine\" + 0.036*\"model\" + 0.034*\"panda\" + 0.028*\"learning\" + 0.024*\"new\" + 0.022*\"change\" + 0.020*\"discuss\" + 0.018*\"Python\" + 0.017*\"community\" + 0.016*\"work\"'),\n",
       " (2,\n",
       "  '0.048*\"datum\" + 0.032*\"Python\" + 0.030*\"use\" + 0.023*\"application\" + 0.022*\"code\" + 0.021*\"work\" + 0.018*\"data\" + 0.018*\"tool\" + 0.016*\"learn\" + 0.013*\"project\"')]"
      ]
     },
     "execution_count": 52,
     "metadata": {},
     "output_type": "execute_result"
    }
   ],
   "source": [
    "lda_model.print_topics(-1)"
   ]
  },
  {
   "cell_type": "code",
   "execution_count": 53,
   "id": "7d2f1665-2cf5-4272-b3fe-518d57cf5ae3",
   "metadata": {},
   "outputs": [
    {
     "data": {
      "text/plain": [
       "'Pandas has reached a 2.0 milestone in 2023. But what does that mean? And what is coming after 2.0? This talk will give an overview of what happened in the latest releases of pandas and highlight some topics and major new features the pandas project is working on.'"
      ]
     },
     "execution_count": 53,
     "metadata": {},
     "output_type": "execute_result"
    }
   ],
   "source": [
    "df['abstract'][0]"
   ]
  },
  {
   "cell_type": "code",
   "execution_count": 54,
   "id": "d3accf21-3733-4ba0-9c93-26076332cd25",
   "metadata": {},
   "outputs": [
    {
     "data": {
      "text/plain": [
       "[(0, 0.030153923), (1, 0.938102), (2, 0.031744033)]"
      ]
     },
     "execution_count": 54,
     "metadata": {},
     "output_type": "execute_result"
    }
   ],
   "source": [
    "lda_model[BoW][0]"
   ]
  },
  {
   "cell_type": "code",
   "execution_count": 55,
   "id": "02e3ab19-adaa-4541-9040-1516f54e811d",
   "metadata": {},
   "outputs": [
    {
     "data": {
      "text/html": [
       "\n",
       "<link rel=\"stylesheet\" type=\"text/css\" href=\"https://cdn.jsdelivr.net/gh/bmabey/pyLDAvis@3.4.0/pyLDAvis/js/ldavis.v1.0.0.css\">\n",
       "\n",
       "\n",
       "<div id=\"ldavis_el609953748807681682576317\" style=\"background-color:white;\"></div>\n",
       "<script type=\"text/javascript\">\n",
       "\n",
       "var ldavis_el609953748807681682576317_data = {\"mdsDat\": {\"x\": [0.032001839204281186, -0.11782944811457792, 0.08582760891029673], \"y\": [-0.08689520817203929, 0.0229660662485818, 0.06392914192345754], \"topics\": [1, 2, 3], \"cluster\": [1, 1, 1], \"Freq\": [46.24246830142547, 42.21275316731516, 11.54477853125938]}, \"tinfo\": {\"Term\": [\"model\", \"machine\", \"learning\", \"panda\", \"work\", \"new\", \"discuss\", \"code\", \"change\", \"community\", \"project\", \"tutorial\", \"insight\", \"performance\", \"quality\", \"Python\", \"experience\", \"answer\", \"nlp\", \"data\", \"workshop\", \"question\", \"platform\", \"bring\", \"processing\", \"application\", \"developer\", \"PyData\", \"present\", \"solve\", \"present\", \"processing\", \"cost\", \"Rust\", \"cloud\", \"pipeline\", \"powerful\", \"training\", \"algorithm\", \"step\", \"MLOps\", \"query\", \"implementation\", \"lifecycle\", \"state\", \"production\", \"effort\", \"potential\", \"art\", \"classification\", \"technique\", \"efficient\", \"train\", \"approach\", \"gain\", \"future\", \"information\", \"model\", \"time\", \"set\", \"issue\", \"learning\", \"large\", \"performance\", \"machine\", \"source\", \"ML\", \"open\", \"datum\", \"learn\", \"task\", \"build\", \"world\", \"library\", \"language\", \"Python\", \"use\", \"case\", \"tool\", \"application\", \"developer\", \"software\", \"solve\", \"start\", \"Apache\", \"hand\", \"science\", \"product\", \"deep\", \"core\", \"memory\", \"version\", \"think\", \"discover\", \"functionality\", \"life\", \"team\", \"programming\", \"Jupyter\", \"lot\", \"user\", \"data\", \"work\", \"write\", \"want\", \"journey\", \"ease\", \"code\", \"test\", \"tutorial\", \"application\", \"use\", \"Python\", \"datum\", \"tool\", \"create\", \"project\", \"api\", \"library\", \"build\", \"learn\", \"new\", \"problem\", \"case\", \"look\", \"know\", \"open\", \"task\", \"panda\", \"change\", \"quality\", \"workshop\", \"face\", \"value\", \"community\", \"role\", \"nlp\", \"deployment\", \"question\", \"insight\", \"metric\", \"PyData\", \"discuss\", \"answer\", \"machine\", \"bring\", \"experience\", \"workflow\", \"computing\", \"reason\", \"take\", \"scientist\", \"help\", \"fast\", \"require\", \"idea\", \"decision\", \"database\", \"learning\", \"new\", \"tutorial\", \"model\", \"platform\", \"project\", \"work\", \"performance\", \"code\", \"Python\", \"learn\", \"datum\", \"provide\", \"language\", \"challenge\", \"tool\"], \"Freq\": [78.0, 39.0, 35.0, 12.0, 35.0, 33.0, 20.0, 38.0, 8.0, 14.0, 28.0, 16.0, 13.0, 30.0, 6.0, 70.0, 13.0, 9.0, 8.0, 29.0, 6.0, 9.0, 13.0, 10.0, 16.0, 42.0, 14.0, 8.0, 15.0, 14.0, 15.342948076060305, 16.18022358327265, 10.665217910673128, 10.649765806800286, 9.694852743480835, 10.57342058520497, 8.774738429622635, 8.713626042764316, 11.312938267412372, 8.693264187782423, 6.888780452495705, 6.88739577125558, 6.8875520088967175, 6.825382168132503, 5.953092665609958, 15.247192506834057, 5.92855530937758, 5.9070977792642765, 5.009811595255366, 5.007101576256837, 12.552455293033063, 5.836047203224418, 10.677839632214463, 15.685640925117339, 5.599167470086426, 5.5665081034322546, 7.768915364465926, 65.6546026628234, 18.483084606805658, 6.917150660044571, 8.316569200069598, 25.445452317729302, 17.260156934153812, 20.7631939429404, 25.299364088335405, 22.738818244576112, 15.93219465159735, 20.091421706587592, 50.18946870481979, 28.377940306281324, 13.781160405667915, 16.216359405079086, 11.56985061655458, 15.260954830210478, 12.543031414026427, 21.851806864752394, 18.217524873027788, 11.751943240382966, 11.463688145223381, 11.45671578903219, 13.387367515226323, 10.592584048145877, 13.243108123677544, 10.56597177310928, 10.544845265136766, 9.629973326769697, 13.92903100435904, 7.779968471479313, 7.775490244315643, 9.442602735229487, 6.808217049414902, 5.917998620785941, 5.913227190941653, 4.985104511387383, 4.980818794125705, 4.96858936540742, 9.533582486431055, 8.688995943887015, 8.664582995012129, 10.90797341845377, 12.174748560749189, 24.299433528925622, 28.08578316540716, 12.71736817219323, 9.527782704805059, 6.61588588475627, 4.2448904717162526, 29.141376475502614, 11.026936580400875, 12.130114420738183, 30.40449607205973, 39.079446444528266, 42.27084070924676, 63.59388139798591, 23.46093507377495, 15.153150359594926, 17.219735893939237, 9.501374263782337, 16.32421778094955, 16.195195134966394, 20.70171054223195, 15.940947399222523, 12.396264104126997, 12.01981879523689, 10.397789736124395, 10.316426298310096, 10.709567632913197, 10.318420566229621, 12.275203394815815, 7.983507402039734, 5.376963264845169, 3.4861512258688014, 2.8746860760679023, 2.542386969616293, 6.075529754961027, 2.5923493387567804, 3.30954357219476, 2.4959429993668207, 3.4152428573352616, 5.009528717595814, 2.309368418216243, 2.839377536138344, 7.125642166987409, 3.2958258845168067, 12.891578265446313, 3.5721932128896494, 4.447662997943361, 2.6558559616288404, 2.6377481853312945, 2.0284660265157326, 2.019567157512084, 1.9312378847678724, 3.0305523020501246, 2.482938968941206, 2.399543691082795, 2.387301028985502, 1.5932196432677908, 2.900997478918015, 9.960512429407254, 8.46899388311257, 4.031548756164689, 12.781672035255081, 3.4158214169092895, 5.542189901713445, 5.822443422780584, 4.8543960703327445, 5.390158306982, 6.543853641262638, 5.782441787047119, 5.783191102050981, 3.464669188351895, 3.306637046927319, 3.1773624635888797, 3.223648568769397], \"Total\": [78.0, 39.0, 35.0, 12.0, 35.0, 33.0, 20.0, 38.0, 8.0, 14.0, 28.0, 16.0, 13.0, 30.0, 6.0, 70.0, 13.0, 9.0, 8.0, 29.0, 6.0, 9.0, 13.0, 10.0, 16.0, 42.0, 14.0, 8.0, 15.0, 14.0, 15.972644387803422, 16.912660429616114, 11.26665182756409, 11.265937317023345, 10.324401840658, 11.263866653102728, 9.383838193161765, 9.383386195469825, 12.182779364511207, 9.383204624182143, 7.501124920845454, 7.500443459593032, 7.501100702406784, 7.500629999474415, 6.559806508207186, 16.82405128836202, 6.559641908685572, 6.559429851179868, 5.618427082109052, 5.618386805231943, 14.085112931073779, 6.558755525528185, 12.126165943551477, 17.846326553883575, 6.555803039915343, 6.552897730272491, 9.299967997668507, 78.78103709303693, 22.454083400521863, 8.437054481906621, 10.205743891333423, 35.750555329302905, 24.226831810940062, 30.567741276080223, 39.22939126454507, 34.518873769877985, 23.463231944662137, 33.560299654589656, 119.56654120485668, 54.862092635560394, 24.387280413223262, 33.672826046232885, 18.676464302771816, 31.88233382848236, 23.17229155614458, 70.6665012152618, 58.06296159358584, 26.066605528233968, 38.14827178776773, 42.15574030590822, 14.014560402242825, 11.206919461142213, 14.013887702891173, 11.206172012872736, 11.206276538811448, 10.270480260890883, 14.952411821164924, 8.399168537138722, 8.398837860779649, 10.271659946766887, 7.461408017319805, 6.526939884004825, 6.526157642052979, 5.590906530172649, 5.591345692443592, 5.59073379713068, 11.11927699084693, 10.276462095817548, 10.276602053589997, 13.085621211413335, 14.962508232205051, 29.95353884037179, 35.04690160412361, 15.900858908283404, 12.07125746162911, 8.40504710714537, 5.59275552230806, 38.84781452948275, 14.840016615557527, 16.485139361874715, 42.15574030590822, 58.06296159358584, 70.6665012152618, 119.56654120485668, 38.14827178776773, 23.417548380798806, 28.54748007778142, 12.914637304240896, 31.88233382848236, 33.672826046232885, 54.862092635560394, 33.92094456670952, 22.268691316492216, 26.066605528233968, 17.56743753334657, 17.797321629130217, 33.560299654589656, 24.387280413223262, 12.935112052691348, 8.641949685434351, 6.068894176450204, 6.251426152973922, 5.369009243636096, 5.401035855986381, 14.446808655220082, 6.337373191948423, 8.151019598008592, 6.340140649646652, 9.058928828725053, 13.614126106728182, 6.364741802679308, 8.169217432563318, 20.935409057397038, 9.999934842786232, 39.22939126454507, 10.930538440647556, 13.665867998164547, 8.185750771574256, 8.193703302141529, 6.386035445320198, 6.392342352284333, 6.379171925036824, 10.040225012704223, 8.23071405889589, 8.22279270138727, 8.223620811951367, 5.492243544491418, 10.067737609687713, 35.750555329302905, 33.92094456670952, 16.485139361874715, 78.78103709303693, 13.74542371389806, 28.54748007778142, 35.04690160412361, 30.567741276080223, 38.84781452948275, 70.6665012152618, 54.862092635560394, 119.56654120485668, 22.206103048328718, 23.17229155614458, 18.48341335530844, 38.14827178776773], \"Category\": [\"Default\", \"Default\", \"Default\", \"Default\", \"Default\", \"Default\", \"Default\", \"Default\", \"Default\", \"Default\", \"Default\", \"Default\", \"Default\", \"Default\", \"Default\", \"Default\", \"Default\", \"Default\", \"Default\", \"Default\", \"Default\", \"Default\", \"Default\", \"Default\", \"Default\", \"Default\", \"Default\", \"Default\", \"Default\", \"Default\", \"Topic1\", \"Topic1\", \"Topic1\", \"Topic1\", \"Topic1\", \"Topic1\", \"Topic1\", \"Topic1\", \"Topic1\", \"Topic1\", \"Topic1\", \"Topic1\", \"Topic1\", \"Topic1\", \"Topic1\", \"Topic1\", \"Topic1\", \"Topic1\", \"Topic1\", \"Topic1\", \"Topic1\", \"Topic1\", \"Topic1\", \"Topic1\", \"Topic1\", \"Topic1\", \"Topic1\", \"Topic1\", \"Topic1\", \"Topic1\", \"Topic1\", \"Topic1\", \"Topic1\", \"Topic1\", \"Topic1\", \"Topic1\", \"Topic1\", \"Topic1\", \"Topic1\", \"Topic1\", \"Topic1\", \"Topic1\", \"Topic1\", \"Topic1\", \"Topic1\", \"Topic1\", \"Topic1\", \"Topic1\", \"Topic1\", \"Topic1\", \"Topic2\", \"Topic2\", \"Topic2\", \"Topic2\", \"Topic2\", \"Topic2\", \"Topic2\", \"Topic2\", \"Topic2\", \"Topic2\", \"Topic2\", \"Topic2\", \"Topic2\", \"Topic2\", \"Topic2\", \"Topic2\", \"Topic2\", \"Topic2\", \"Topic2\", \"Topic2\", \"Topic2\", \"Topic2\", \"Topic2\", \"Topic2\", \"Topic2\", \"Topic2\", \"Topic2\", \"Topic2\", \"Topic2\", \"Topic2\", \"Topic2\", \"Topic2\", \"Topic2\", \"Topic2\", \"Topic2\", \"Topic2\", \"Topic2\", \"Topic2\", \"Topic2\", \"Topic2\", \"Topic2\", \"Topic2\", \"Topic2\", \"Topic2\", \"Topic2\", \"Topic2\", \"Topic2\", \"Topic2\", \"Topic3\", \"Topic3\", \"Topic3\", \"Topic3\", \"Topic3\", \"Topic3\", \"Topic3\", \"Topic3\", \"Topic3\", \"Topic3\", \"Topic3\", \"Topic3\", \"Topic3\", \"Topic3\", \"Topic3\", \"Topic3\", \"Topic3\", \"Topic3\", \"Topic3\", \"Topic3\", \"Topic3\", \"Topic3\", \"Topic3\", \"Topic3\", \"Topic3\", \"Topic3\", \"Topic3\", \"Topic3\", \"Topic3\", \"Topic3\", \"Topic3\", \"Topic3\", \"Topic3\", \"Topic3\", \"Topic3\", \"Topic3\", \"Topic3\", \"Topic3\", \"Topic3\", \"Topic3\", \"Topic3\", \"Topic3\", \"Topic3\", \"Topic3\", \"Topic3\", \"Topic3\"], \"logprob\": [30.0, 29.0, 28.0, 27.0, 26.0, 25.0, 24.0, 23.0, 22.0, 21.0, 20.0, 19.0, 18.0, 17.0, 16.0, 15.0, 14.0, 13.0, 12.0, 11.0, 10.0, 9.0, 8.0, 7.0, 6.0, 5.0, 4.0, 3.0, 2.0, 1.0, -4.5417, -4.4886, -4.9054, -4.9069, -5.0008, -4.914, -5.1005, -5.1075, -4.8464, -5.1098, -5.3425, -5.3427, -5.3427, -5.3517, -5.4885, -4.548, -5.4926, -5.4962, -5.661, -5.6615, -4.7425, -5.5083, -4.9042, -4.5196, -5.5498, -5.5556, -5.2223, -3.088, -4.3555, -5.3384, -5.1541, -4.0359, -4.424, -4.2392, -4.0416, -4.1483, -4.504, -4.2721, -3.3566, -3.9268, -4.6491, -4.4864, -4.824, -4.5471, -4.7432, -4.1881, -4.37, -4.8084, -4.8332, -4.8338, -4.5869, -4.8211, -4.5977, -4.8236, -4.8256, -4.9163, -4.5472, -5.1297, -5.1302, -4.936, -5.2631, -5.4032, -5.404, -5.5748, -5.5756, -5.5781, -4.9264, -5.0192, -5.022, -4.7917, -4.6819, -3.9908, -3.846, -4.6382, -4.927, -5.2917, -5.7355, -3.8091, -4.7809, -4.6855, -3.7666, -3.5156, -3.4371, -3.0287, -4.0259, -4.463, -4.3352, -4.9298, -4.3886, -4.3965, -4.151, -4.4123, -4.6638, -4.6947, -4.8396, -4.8475, -4.8101, -4.8473, -3.3771, -3.8073, -4.2026, -4.6359, -4.8288, -4.9516, -4.0805, -4.9322, -4.6879, -4.9701, -4.6565, -4.2734, -5.0478, -4.8411, -3.921, -4.6921, -3.3282, -4.6115, -4.3923, -4.908, -4.9148, -5.1774, -5.1818, -5.2266, -4.776, -4.9753, -5.0094, -5.0146, -5.419, -4.8197, -3.5861, -3.7483, -4.4906, -3.3367, -4.6563, -4.1723, -4.123, -4.3048, -4.2002, -4.0062, -4.1299, -4.1298, -4.6421, -4.6888, -4.7287, -4.7142], \"loglift\": [30.0, 29.0, 28.0, 27.0, 26.0, 25.0, 24.0, 23.0, 22.0, 21.0, 20.0, 19.0, 18.0, 17.0, 16.0, 15.0, 14.0, 13.0, 12.0, 11.0, 10.0, 9.0, 8.0, 7.0, 6.0, 5.0, 4.0, 3.0, 2.0, 1.0, 0.731, 0.727, 0.7164, 0.715, 0.7084, 0.708, 0.7042, 0.6972, 0.6972, 0.6949, 0.6861, 0.686, 0.6859, 0.6769, 0.6742, 0.6729, 0.6701, 0.6665, 0.6566, 0.6561, 0.6561, 0.6545, 0.6441, 0.6422, 0.6135, 0.6081, 0.5914, 0.589, 0.5767, 0.5726, 0.5666, 0.4312, 0.4322, 0.3845, 0.3326, 0.3538, 0.3842, 0.2582, -0.0968, 0.1121, 0.2005, 0.0406, 0.2924, 0.0345, 0.1575, -0.4024, -0.3879, -0.0254, -0.431, -0.5315, 0.8167, 0.8061, 0.8059, 0.8036, 0.8016, 0.7981, 0.7916, 0.7859, 0.7853, 0.7783, 0.7708, 0.7645, 0.7638, 0.7478, 0.7468, 0.7445, 0.7086, 0.6946, 0.6918, 0.6804, 0.6563, 0.6533, 0.641, 0.639, 0.6258, 0.6231, 0.5867, 0.575, 0.5655, 0.5557, 0.5357, 0.4665, 0.3486, 0.2311, 0.3763, 0.4272, 0.3569, 0.5555, 0.193, 0.1305, -0.1122, 0.1073, 0.2767, 0.0883, 0.338, 0.3171, -0.2798, 0.0023, 2.1066, 2.0797, 2.0379, 1.5749, 1.5342, 1.4054, 1.2927, 1.265, 1.2576, 1.2267, 1.1834, 1.1592, 1.1451, 1.1021, 1.0812, 1.049, 1.0461, 1.0406, 1.0364, 1.0333, 1.0255, 1.0121, 1.0067, 0.9641, 0.9611, 0.9605, 0.9273, 0.9221, 0.9214, 0.9147, 0.881, 0.7713, 0.7506, 0.3403, 0.7666, 0.5198, 0.364, 0.3189, 0.1839, -0.2205, -0.0911, -0.87, 0.3012, 0.2119, 0.3981, -0.312]}, \"token.table\": {\"Topic\": [2, 1, 2, 1, 2, 1, 2, 3, 1, 2, 3, 1, 1, 3, 2, 3, 1, 2, 3, 1, 2, 1, 2, 1, 1, 2, 3, 1, 2, 3, 1, 2, 3, 1, 2, 3, 3, 1, 1, 1, 2, 3, 1, 2, 3, 1, 2, 3, 1, 2, 1, 1, 2, 1, 2, 1, 2, 3, 1, 2, 3, 1, 3, 2, 1, 2, 3, 2, 2, 1, 2, 3, 1, 2, 1, 1, 1, 2, 3, 1, 3, 1, 3, 2, 1, 2, 1, 2, 2, 1, 2, 3, 1, 2, 3, 1, 1, 3, 1, 2, 3, 1, 3, 1, 2, 1, 2, 1, 2, 3, 1, 2, 3, 1, 2, 3, 1, 3, 1, 2, 2, 1, 1, 2, 3, 1, 2, 1, 2, 3, 2, 1, 3, 1, 3, 1, 2, 3, 1, 3, 1, 2, 3, 3, 1, 2, 3, 1, 1, 2, 3, 1, 1, 1, 1, 2, 3, 1, 2, 1, 3, 1, 2, 1, 2, 3, 1, 2, 3, 3, 1, 1, 2, 3, 1, 2, 3, 1, 2, 3, 1, 3, 1, 2, 2, 3, 1, 2, 2, 2, 1, 2, 3, 2, 1, 1, 1, 3, 1, 2, 2, 3, 1, 2, 1, 2, 3, 2, 1, 2, 3, 1, 2, 3, 1, 3, 1, 2, 3, 1, 2, 3, 1, 2, 1, 3, 2, 1, 2, 3, 1, 2, 3, 2, 3, 1, 3, 1, 2, 3, 1, 2], \"Freq\": [0.9815927674016399, 0.0973084288741786, 0.8757758598676074, 0.6819179914231716, 0.29833912124763756, 0.9331933641775729, 0.6120537299043479, 0.3672322379426088, 0.31132148361193623, 0.5943410141682419, 0.09905683569470698, 0.9763945680204077, 0.9029138319654152, 0.08208307563321957, 0.6000039094582991, 0.30000195472914953, 0.0774315202542793, 0.774315202542793, 0.1548630405085586, 0.2609371800892873, 0.7116468547889654, 0.8965430477634182, 0.11206788097042727, 0.8899287873507641, 0.36594720577763495, 0.36594720577763495, 0.36594720577763495, 0.47516059323419885, 0.47516059323419885, 0.029697537077137428, 0.46035913602184353, 0.46035913602184353, 0.07672652267030726, 0.48692304970906247, 0.3246153664727083, 0.16230768323635414, 0.9257170304385907, 0.8899351670383232, 0.9685791152199743, 0.10296589521050875, 0.7465027402761885, 0.12870736901313595, 0.2076583189821654, 0.346097198303609, 0.4153166379643308, 0.12204493659645173, 0.4881797463858069, 0.36613480978935514, 0.09735524785502274, 0.8761972306952047, 0.9763326468550558, 0.3416241474090256, 0.640545276391923, 0.1669251845882374, 0.8012408860235396, 0.5959630884923421, 0.09932718141539036, 0.29798154424617107, 0.41817718816783045, 0.5352668008548229, 0.05018126258013965, 0.72829982275857, 0.364149911379285, 0.9525127324290762, 0.31545041514362365, 0.15772520757181183, 0.31545041514362365, 0.9276066909611764, 0.8943093526991227, 0.4298936779943194, 0.23882982110795523, 0.3343617495511373, 0.17880273793682877, 0.7152109517473151, 0.9148076912832961, 0.9146840762840187, 0.36587503996610726, 0.2927000319728858, 0.2927000319728858, 0.3725082057496188, 0.5587623086244281, 0.607480707533014, 0.24299228301320558, 0.8942391107667043, 0.9156254602115544, 0.1526042433685924, 0.9152196860504643, 0.15253661434174406, 0.9736643025428081, 0.29879808432619814, 0.39839744576826414, 0.29879808432619814, 0.36480281236217843, 0.36480281236217843, 0.24320187490811895, 0.9331963771335582, 0.8602180138690362, 0.10752725173362952, 0.3672655858189069, 0.2938124686551255, 0.3672655858189069, 0.7838723061425723, 0.19596807653564308, 0.11897613270363132, 0.8328329289254193, 0.39331760957461, 0.5618822993922999, 0.561014864175261, 0.3020849268636021, 0.1294649686558295, 0.7017013257310576, 0.20638274286207575, 0.0825530971448303, 0.5103706157546571, 0.3827779618159929, 0.10936513194742653, 0.6992898367513966, 0.2797159347005586, 0.4704799868383418, 0.5018453192942313, 0.894336983557711, 0.9332549399837753, 0.22769399307139623, 0.5692349826784906, 0.17077049480354717, 0.15283951504385526, 0.840617332741204, 0.6372772860891833, 0.025491091443567333, 0.3313841887663753, 0.938160731024391, 0.6284622572303178, 0.3142311286151589, 0.8377650566094593, 0.16501432933216623, 0.29480311140315757, 0.4716849782450521, 0.23584248912252606, 0.6134201911649887, 0.36805211469899324, 0.5959422354938607, 0.3277682295216234, 0.0893913353240791, 0.9277074640805463, 0.6869987484627416, 0.16357113058636705, 0.16357113058636705, 0.9765740610015085, 0.21825445780668706, 0.5820118874844988, 0.21825445780668706, 0.9147136467845234, 0.9590958214260901, 0.9391056130601565, 0.3143426751268402, 0.5388731573602975, 0.13471828934007438, 0.9460368501209937, 0.9524752318787612, 0.8915807342061658, 0.059438715613744385, 0.09730975414262398, 0.8757877872836158, 0.21017616909276052, 0.5954991457628215, 0.21017616909276052, 0.45032665021126356, 0.4052939851901372, 0.13509799506337908, 0.8238733210083063, 0.9332781505134917, 0.11038832724119539, 0.44155330896478157, 0.33116498172358616, 0.46977503111080504, 0.15659167703693502, 0.31318335407387005, 0.36483955134778834, 0.36483955134778834, 0.24322636756519223, 0.4733822530463369, 0.4733822530463369, 0.06687884282216695, 0.9363037995103373, 0.6270406327035792, 0.3135203163517896, 0.8296734381663169, 0.11852477688090242, 0.9815364550571042, 0.927651218249594, 0.6663021555491873, 0.26072693043229067, 0.08690897681076355, 0.981601923240523, 0.914661124911719, 0.9591605811095115, 0.6257487130004202, 0.3128743565002101, 0.5740697512301915, 0.41004982230727965, 0.8993390494932101, 0.089933904949321, 0.9229602959959331, 0.07099694584584101, 0.13477073859225336, 0.7412390622573936, 0.13477073859225336, 0.9193771173006078, 0.8016359287051394, 0.13360598811752325, 0.044535329372507745, 0.2883485800142369, 0.6029106673024953, 0.0786405218220646, 0.9071292650295326, 0.08246629682086659, 0.959142021069652, 0.7279283320923858, 0.24264277736412862, 0.31000829971422683, 0.6716846493808247, 0.017222683317457046, 0.13366742854618677, 0.8020045712771207, 0.5554490064484335, 0.5554490064484335, 0.919266931614283, 0.08284141094485796, 0.8284141094485796, 0.08284141094485796, 0.028533192785359953, 0.7989293979900787, 0.1711991567121597, 0.6108175217553584, 0.36649051305321506, 0.3199269976257437, 0.47989049643861553, 0.6425199012759097, 0.32125995063795487, 0.05354332510632581, 0.18866905349604593, 0.8175658984828658], \"Term\": [\"Apache\", \"Jupyter\", \"Jupyter\", \"ML\", \"ML\", \"MLOps\", \"PyData\", \"PyData\", \"Python\", \"Python\", \"Python\", \"Rust\", \"algorithm\", \"algorithm\", \"answer\", \"answer\", \"api\", \"api\", \"api\", \"application\", \"application\", \"approach\", \"approach\", \"art\", \"bring\", \"bring\", \"bring\", \"build\", \"build\", \"build\", \"case\", \"case\", \"case\", \"challenge\", \"challenge\", \"challenge\", \"change\", \"classification\", \"cloud\", \"code\", \"code\", \"code\", \"community\", \"community\", \"community\", \"computing\", \"computing\", \"computing\", \"core\", \"core\", \"cost\", \"create\", \"create\", \"data\", \"data\", \"database\", \"database\", \"database\", \"datum\", \"datum\", \"datum\", \"decision\", \"decision\", \"deep\", \"deployment\", \"deployment\", \"deployment\", \"developer\", \"discover\", \"discuss\", \"discuss\", \"discuss\", \"ease\", \"ease\", \"efficient\", \"effort\", \"experience\", \"experience\", \"experience\", \"face\", \"face\", \"fast\", \"fast\", \"functionality\", \"future\", \"future\", \"gain\", \"gain\", \"hand\", \"help\", \"help\", \"help\", \"idea\", \"idea\", \"idea\", \"implementation\", \"information\", \"information\", \"insight\", \"insight\", \"insight\", \"issue\", \"issue\", \"journey\", \"journey\", \"know\", \"know\", \"language\", \"language\", \"language\", \"large\", \"large\", \"large\", \"learn\", \"learn\", \"learn\", \"learning\", \"learning\", \"library\", \"library\", \"life\", \"lifecycle\", \"look\", \"look\", \"look\", \"lot\", \"lot\", \"machine\", \"machine\", \"machine\", \"memory\", \"metric\", \"metric\", \"model\", \"model\", \"new\", \"new\", \"new\", \"nlp\", \"nlp\", \"open\", \"open\", \"open\", \"panda\", \"performance\", \"performance\", \"performance\", \"pipeline\", \"platform\", \"platform\", \"platform\", \"potential\", \"powerful\", \"present\", \"problem\", \"problem\", \"problem\", \"processing\", \"product\", \"production\", \"production\", \"programming\", \"programming\", \"project\", \"project\", \"project\", \"provide\", \"provide\", \"provide\", \"quality\", \"query\", \"question\", \"question\", \"question\", \"reason\", \"reason\", \"reason\", \"require\", \"require\", \"require\", \"role\", \"role\", \"science\", \"science\", \"scientist\", \"scientist\", \"set\", \"set\", \"software\", \"solve\", \"source\", \"source\", \"source\", \"start\", \"state\", \"step\", \"take\", \"take\", \"task\", \"task\", \"team\", \"team\", \"technique\", \"technique\", \"test\", \"test\", \"test\", \"think\", \"time\", \"time\", \"time\", \"tool\", \"tool\", \"tool\", \"train\", \"train\", \"training\", \"tutorial\", \"tutorial\", \"use\", \"use\", \"use\", \"user\", \"user\", \"value\", \"value\", \"version\", \"want\", \"want\", \"want\", \"work\", \"work\", \"work\", \"workflow\", \"workflow\", \"workshop\", \"workshop\", \"world\", \"world\", \"world\", \"write\", \"write\"]}, \"R\": 30, \"lambda.step\": 0.01, \"plot.opts\": {\"xlab\": \"PC1\", \"ylab\": \"PC2\"}, \"topic.order\": [1, 3, 2]};\n",
       "\n",
       "function LDAvis_load_lib(url, callback){\n",
       "  var s = document.createElement('script');\n",
       "  s.src = url;\n",
       "  s.async = true;\n",
       "  s.onreadystatechange = s.onload = callback;\n",
       "  s.onerror = function(){console.warn(\"failed to load library \" + url);};\n",
       "  document.getElementsByTagName(\"head\")[0].appendChild(s);\n",
       "}\n",
       "\n",
       "if(typeof(LDAvis) !== \"undefined\"){\n",
       "   // already loaded: just create the visualization\n",
       "   !function(LDAvis){\n",
       "       new LDAvis(\"#\" + \"ldavis_el609953748807681682576317\", ldavis_el609953748807681682576317_data);\n",
       "   }(LDAvis);\n",
       "}else if(typeof define === \"function\" && define.amd){\n",
       "   // require.js is available: use it to load d3/LDAvis\n",
       "   require.config({paths: {d3: \"https://d3js.org/d3.v5\"}});\n",
       "   require([\"d3\"], function(d3){\n",
       "      window.d3 = d3;\n",
       "      LDAvis_load_lib(\"https://cdn.jsdelivr.net/gh/bmabey/pyLDAvis@3.4.0/pyLDAvis/js/ldavis.v3.0.0.js\", function(){\n",
       "        new LDAvis(\"#\" + \"ldavis_el609953748807681682576317\", ldavis_el609953748807681682576317_data);\n",
       "      });\n",
       "    });\n",
       "}else{\n",
       "    // require.js not available: dynamically load d3 & LDAvis\n",
       "    LDAvis_load_lib(\"https://d3js.org/d3.v5.js\", function(){\n",
       "         LDAvis_load_lib(\"https://cdn.jsdelivr.net/gh/bmabey/pyLDAvis@3.4.0/pyLDAvis/js/ldavis.v3.0.0.js\", function(){\n",
       "                 new LDAvis(\"#\" + \"ldavis_el609953748807681682576317\", ldavis_el609953748807681682576317_data);\n",
       "            })\n",
       "         });\n",
       "}\n",
       "</script>"
      ],
      "text/plain": [
       "<IPython.core.display.HTML object>"
      ]
     },
     "execution_count": 55,
     "metadata": {},
     "output_type": "execute_result"
    }
   ],
   "source": [
    "# Visualize \n",
    "lda_display = pyLDAvis.gensim_models.prepare(lda_model, BoW, dictionary)\n",
    "pyLDAvis.display(lda_display)"
   ]
  },
  {
   "cell_type": "code",
   "execution_count": null,
   "id": "f79fde2f-1480-493c-bd50-3103d523b5d9",
   "metadata": {},
   "outputs": [],
   "source": [
    "df['topic'] = [sorted(lda_model[BoW][text])[0][0] for text in range(len(df['abstract']))]"
   ]
  },
  {
   "cell_type": "code",
   "execution_count": null,
   "id": "9697771e-2f18-406b-a004-ccbbce4e736e",
   "metadata": {},
   "outputs": [],
   "source": []
  }
 ],
 "metadata": {
  "kernelspec": {
   "display_name": "Python 3 (ipykernel)",
   "language": "python",
   "name": "python3"
  },
  "language_info": {
   "codemirror_mode": {
    "name": "ipython",
    "version": 3
   },
   "file_extension": ".py",
   "mimetype": "text/x-python",
   "name": "python",
   "nbconvert_exporter": "python",
   "pygments_lexer": "ipython3",
   "version": "3.11.3"
  }
 },
 "nbformat": 4,
 "nbformat_minor": 5
}
